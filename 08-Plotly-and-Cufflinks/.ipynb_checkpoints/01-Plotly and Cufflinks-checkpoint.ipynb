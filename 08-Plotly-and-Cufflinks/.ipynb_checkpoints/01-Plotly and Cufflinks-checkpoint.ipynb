{
 "cells": [
  {
   "cell_type": "markdown",
   "metadata": {},
   "source": [
    "___\n",
    "\n",
    "<a href='http://www.pieriandata.com'> <img src='../Pierian_Data_Logo.png' /></a>\n",
    "___\n",
    "# Plotly and Cufflinks"
   ]
  },
  {
   "cell_type": "markdown",
   "metadata": {},
   "source": [
    "Plotly is a library that allows you to create interactive plots that you can use in dashboards or websites (you can save them as html files or static images).\n",
    "\n",
    "## Installation\n",
    "\n",
    "In order for this all to work, you'll need to install plotly and cufflinks to call plots directly off of a pandas dataframe. These libraries are not currently available through **conda** but are available through **pip**. Install the libraries at your command line/terminal using:\n",
    "\n",
    "    pip install plotly\n",
    "    pip install cufflinks\n",
    "\n",
    "** NOTE: Make sure you only have one installation of Python on your computer when you do this, otherwise the installation may not work. **\n",
    "\n",
    "## Imports and Set-up"
   ]
  },
  {
   "cell_type": "code",
   "execution_count": 3,
   "metadata": {},
   "outputs": [],
   "source": [
    "import pandas as pd\n",
    "import numpy as np\n",
    "%matplotlib inline"
   ]
  },
  {
   "cell_type": "code",
   "execution_count": 4,
   "metadata": {},
   "outputs": [
    {
     "name": "stdout",
     "output_type": "stream",
     "text": [
      "5.1.0\n"
     ]
    }
   ],
   "source": [
    "from plotly import __version__\n",
    "from plotly.offline import download_plotlyjs, init_notebook_mode, plot, iplot\n",
    "\n",
    "print(__version__) # requires version >= 1.9.0"
   ]
  },
  {
   "cell_type": "code",
   "execution_count": 5,
   "metadata": {},
   "outputs": [],
   "source": [
    "import cufflinks as cf"
   ]
  },
  {
   "cell_type": "code",
   "execution_count": 6,
   "metadata": {},
   "outputs": [
    {
     "data": {
      "text/html": [
       "        <script type=\"text/javascript\">\n",
       "        window.PlotlyConfig = {MathJaxConfig: 'local'};\n",
       "        if (window.MathJax) {MathJax.Hub.Config({SVG: {font: \"STIX-Web\"}});}\n",
       "        if (typeof require !== 'undefined') {\n",
       "        require.undef(\"plotly\");\n",
       "        requirejs.config({\n",
       "            paths: {\n",
       "                'plotly': ['https://cdn.plot.ly/plotly-2.2.0.min']\n",
       "            }\n",
       "        });\n",
       "        require(['plotly'], function(Plotly) {\n",
       "            window._Plotly = Plotly;\n",
       "        });\n",
       "        }\n",
       "        </script>\n",
       "        "
      ]
     },
     "metadata": {},
     "output_type": "display_data"
    }
   ],
   "source": [
    "# For Notebooks\n",
    "init_notebook_mode(connected=True)"
   ]
  },
  {
   "cell_type": "code",
   "execution_count": 7,
   "metadata": {},
   "outputs": [
    {
     "data": {
      "text/html": [
       "        <script type=\"text/javascript\">\n",
       "        window.PlotlyConfig = {MathJaxConfig: 'local'};\n",
       "        if (window.MathJax) {MathJax.Hub.Config({SVG: {font: \"STIX-Web\"}});}\n",
       "        if (typeof require !== 'undefined') {\n",
       "        require.undef(\"plotly\");\n",
       "        requirejs.config({\n",
       "            paths: {\n",
       "                'plotly': ['https://cdn.plot.ly/plotly-2.2.0.min']\n",
       "            }\n",
       "        });\n",
       "        require(['plotly'], function(Plotly) {\n",
       "            window._Plotly = Plotly;\n",
       "        });\n",
       "        }\n",
       "        </script>\n",
       "        "
      ]
     },
     "metadata": {},
     "output_type": "display_data"
    }
   ],
   "source": [
    "# For offline use\n",
    "cf.go_offline()"
   ]
  },
  {
   "cell_type": "markdown",
   "metadata": {},
   "source": [
    "### Fake Data"
   ]
  },
  {
   "cell_type": "code",
   "execution_count": 8,
   "metadata": {},
   "outputs": [],
   "source": [
    "df = pd.DataFrame(np.random.randn(100,4),columns='A B C D'.split())"
   ]
  },
  {
   "cell_type": "code",
   "execution_count": 17,
   "metadata": {},
   "outputs": [
    {
     "data": {
      "text/html": [
       "<div>\n",
       "<style scoped>\n",
       "    .dataframe tbody tr th:only-of-type {\n",
       "        vertical-align: middle;\n",
       "    }\n",
       "\n",
       "    .dataframe tbody tr th {\n",
       "        vertical-align: top;\n",
       "    }\n",
       "\n",
       "    .dataframe thead th {\n",
       "        text-align: right;\n",
       "    }\n",
       "</style>\n",
       "<table border=\"1\" class=\"dataframe\">\n",
       "  <thead>\n",
       "    <tr style=\"text-align: right;\">\n",
       "      <th></th>\n",
       "      <th>A</th>\n",
       "      <th>B</th>\n",
       "      <th>C</th>\n",
       "      <th>D</th>\n",
       "    </tr>\n",
       "  </thead>\n",
       "  <tbody>\n",
       "    <tr>\n",
       "      <th>0</th>\n",
       "      <td>-0.905995</td>\n",
       "      <td>0.398099</td>\n",
       "      <td>0.889948</td>\n",
       "      <td>-0.361872</td>\n",
       "    </tr>\n",
       "    <tr>\n",
       "      <th>1</th>\n",
       "      <td>-0.422845</td>\n",
       "      <td>-0.146529</td>\n",
       "      <td>-0.487414</td>\n",
       "      <td>-0.406878</td>\n",
       "    </tr>\n",
       "    <tr>\n",
       "      <th>2</th>\n",
       "      <td>0.328237</td>\n",
       "      <td>0.985731</td>\n",
       "      <td>0.122985</td>\n",
       "      <td>0.519563</td>\n",
       "    </tr>\n",
       "    <tr>\n",
       "      <th>3</th>\n",
       "      <td>0.655882</td>\n",
       "      <td>-0.824788</td>\n",
       "      <td>-1.774586</td>\n",
       "      <td>0.139126</td>\n",
       "    </tr>\n",
       "    <tr>\n",
       "      <th>4</th>\n",
       "      <td>-0.232794</td>\n",
       "      <td>-0.717133</td>\n",
       "      <td>0.257888</td>\n",
       "      <td>0.325286</td>\n",
       "    </tr>\n",
       "  </tbody>\n",
       "</table>\n",
       "</div>"
      ],
      "text/plain": [
       "          A         B         C         D\n",
       "0 -0.905995  0.398099  0.889948 -0.361872\n",
       "1 -0.422845 -0.146529 -0.487414 -0.406878\n",
       "2  0.328237  0.985731  0.122985  0.519563\n",
       "3  0.655882 -0.824788 -1.774586  0.139126\n",
       "4 -0.232794 -0.717133  0.257888  0.325286"
      ]
     },
     "execution_count": 17,
     "metadata": {},
     "output_type": "execute_result"
    }
   ],
   "source": [
    "df.head()"
   ]
  },
  {
   "cell_type": "code",
   "execution_count": 10,
   "metadata": {},
   "outputs": [],
   "source": [
    "df2 = pd.DataFrame({'Category':['A','B','C'],'Values':[32,43,50]})"
   ]
  },
  {
   "cell_type": "code",
   "execution_count": 11,
   "metadata": {},
   "outputs": [
    {
     "data": {
      "text/html": [
       "<div>\n",
       "<style scoped>\n",
       "    .dataframe tbody tr th:only-of-type {\n",
       "        vertical-align: middle;\n",
       "    }\n",
       "\n",
       "    .dataframe tbody tr th {\n",
       "        vertical-align: top;\n",
       "    }\n",
       "\n",
       "    .dataframe thead th {\n",
       "        text-align: right;\n",
       "    }\n",
       "</style>\n",
       "<table border=\"1\" class=\"dataframe\">\n",
       "  <thead>\n",
       "    <tr style=\"text-align: right;\">\n",
       "      <th></th>\n",
       "      <th>Category</th>\n",
       "      <th>Values</th>\n",
       "    </tr>\n",
       "  </thead>\n",
       "  <tbody>\n",
       "    <tr>\n",
       "      <th>0</th>\n",
       "      <td>A</td>\n",
       "      <td>32</td>\n",
       "    </tr>\n",
       "    <tr>\n",
       "      <th>1</th>\n",
       "      <td>B</td>\n",
       "      <td>43</td>\n",
       "    </tr>\n",
       "    <tr>\n",
       "      <th>2</th>\n",
       "      <td>C</td>\n",
       "      <td>50</td>\n",
       "    </tr>\n",
       "  </tbody>\n",
       "</table>\n",
       "</div>"
      ],
      "text/plain": [
       "  Category  Values\n",
       "0        A      32\n",
       "1        B      43\n",
       "2        C      50"
      ]
     },
     "execution_count": 11,
     "metadata": {},
     "output_type": "execute_result"
    }
   ],
   "source": [
    "df2.head()"
   ]
  },
  {
   "cell_type": "markdown",
   "metadata": {},
   "source": [
    "## Using Cufflinks and iplot()\n",
    "\n",
    "* scatter\n",
    "* bar\n",
    "* box\n",
    "* spread\n",
    "* ratio\n",
    "* heatmap\n",
    "* surface\n",
    "* histogram\n",
    "* bubble"
   ]
  },
  {
   "cell_type": "code",
   "execution_count": 12,
   "metadata": {},
   "outputs": [
    {
     "data": {
      "text/plain": [
       "<AxesSubplot:>"
      ]
     },
     "execution_count": 12,
     "metadata": {},
     "output_type": "execute_result"
    },
    {
     "data": {
      "image/png": "[encoded data removed]",
      "text/plain": [
       "<Figure size 432x288 with 1 Axes>"
      ]
     },
     "metadata": {
      "needs_background": "light"
     },
     "output_type": "display_data"
    }
   ],
   "source": [
    "df.plot()"
   ]
  },
  {
   "cell_type": "markdown",
   "metadata": {},
   "source": [
    "## Scatter"
   ]
  },
  {
   "cell_type": "code",
   "execution_count": 15,
   "metadata": {},
   "outputs": [
    {
     "data": {
      "application/vnd.plotly.v1+json": {
       "config": {
        "linkText": "Export to plot.ly",
        "plotlyServerURL": "https://plot.ly",
        "showLink": true
       },
       "data": [
        {
         "line": {
          "color": "rgba(255, 153, 51, 1.0)",
          "dash": "solid",
          "shape": "linear",
          "width": 1.3
         },
         "mode": "lines",
         "name": "A",
         "text": "",
         "type": "scatter",
         "x": [
          0,
          1,
          2,
          3,
          4,
          5,
          6,
          7,
          8,
          9,
          10,
          11,
          12,
          13,
          14,
          15,
          16,
          17,
          18,
          19,
          20,
          21,
          22,
          23,
          24,
          25,
          26,
          27,
          28,
          29,
          30,
          31,
          32,
          33,
          34,
          35,
          36,
          37,
          38,
          39,
          40,
          41,
          42,
          43,
          44,
          45,
          46,
          47,
          48,
          49,
          50,
          51,
          52,
          53,
          54,
          55,
          56,
          57,
          58,
          59,
          60,
          61,
          62,
          63,
          64,
          65,
          66,
          67,
          68,
          69,
          70,
          71,
          72,
          73,
          74,
          75,
          76,
          77,
          78,
          79,
          80,
          81,
          82,
          83,
          84,
          85,
          86,
          87,
          88,
          89,
          90,
          91,
          92,
          93,
          94,
          95,
          96,
          97,
          98,
          99
         ],
         "y": [
          -0.9059946344274774,
          -0.4228448892570872,
          0.32823669086437185,
          0.6558818756618977,
          -0.23279394393207223,
          0.6525595480366613,
          -1.6915425316219246,
          0.19774000582771878,
          0.2527613251803961,
          1.2212768041507416,
          -1.0510831617170036,
          -0.7793914985082284,
          0.806056944934075,
          -0.6311019866196699,
          0.934877974567317,
          0.16080341281909977,
          -0.26044787101587635,
          -1.1189492025341188,
          0.9314131210571004,
          1.637803872997042,
          0.6740388916031278,
          1.0131855330251243,
          1.0735801831928784,
          0.937155505884544,
          -0.9383642090609543,
          -1.4125546602473755,
          -1.3961261570716632,
          1.4624065012532907,
          1.5085679801507355,
          0.37384897602131767,
          0.14589136140687492,
          -0.23095768454721793,
          -2.3629173679389783,
          0.25331855988772656,
          -0.3115860491141523,
          -0.3030080296653969,
          0.8976458438423921,
          -0.22670266681646012,
          0.41600691876623586,
          0.44298800896287893,
          0.48238892353758295,
          2.8740147943888767,
          1.2137085672267414,
          -0.5078538839778108,
          0.2712852957322795,
          0.48451943108122075,
          0.7602644879314184,
          1.066266090804438,
          -0.7210114083722396,
          0.32916613351098817,
          0.21287846776990083,
          1.3120634164376894,
          1.4845215944923633,
          1.2118529866244876,
          -0.35062596725697137,
          1.4679054114460215,
          0.5946197808733853,
          0.7653928202932211,
          0.502620298066773,
          -0.4655955727577539,
          -0.7795213169381651,
          -0.5835420380031595,
          0.581868964354893,
          -0.8446734086931094,
          -0.6104474804218408,
          -0.49453527742225606,
          0.03616565350186925,
          1.677717127944498,
          -0.13111115072431645,
          0.35354551803517,
          -1.1395729739401037,
          1.087329072160173,
          1.9901243821040628,
          1.4587485333823857,
          0.5863304514720385,
          -1.72328053440473,
          -0.33482969209209335,
          -0.5675569496541126,
          -0.7552568197099411,
          0.984241478144492,
          0.5130936566082164,
          1.007047428091453,
          -0.25229733785962855,
          -1.0765534930300449,
          -1.0836901842430446,
          1.251316893181913,
          -0.061947611188396756,
          -1.5090608602782263,
          0.5407038713008661,
          -0.7598080181281253,
          -2.24033822867379,
          -1.025455849018686,
          -0.6449593030755074,
          -2.3407345468245557,
          1.9319811029535663,
          0.44323959373215516,
          -0.3715898916904119,
          0.7183414221195205,
          0.9328345702391438,
          0.7111546819960841
         ]
        },
        {
         "line": {
          "color": "rgba(55, 128, 191, 1.0)",
          "dash": "solid",
          "shape": "linear",
          "width": 1.3
         },
         "mode": "lines",
         "name": "B",
         "text": "",
         "type": "scatter",
         "x": [
          0,
          1,
          2,
          3,
          4,
          5,
          6,
          7,
          8,
          9,
          10,
          11,
          12,
          13,
          14,
          15,
          16,
          17,
          18,
          19,
          20,
          21,
          22,
          23,
          24,
          25,
          26,
          27,
          28,
          29,
          30,
          31,
          32,
          33,
          34,
          35,
          36,
          37,
          38,
          39,
          40,
          41,
          42,
          43,
          44,
          45,
          46,
          47,
          48,
          49,
          50,
          51,
          52,
          53,
          54,
          55,
          56,
          57,
          58,
          59,
          60,
          61,
          62,
          63,
          64,
          65,
          66,
          67,
          68,
          69,
          70,
          71,
          72,
          73,
          74,
          75,
          76,
          77,
          78,
          79,
          80,
          81,
          82,
          83,
          84,
          85,
          86,
          87,
          88,
          89,
          90,
          91,
          92,
          93,
          94,
          95,
          96,
          97,
          98,
          99
         ],
         "y": [
          0.39809897088173535,
          -0.14652925480192855,
          0.9857309327643848,
          -0.8247877220344356,
          -0.7171326813869001,
          0.27152193419855913,
          -0.14087040880362503,
          -0.0890924278317126,
          1.3250570353670188,
          0.09866929384221915,
          -1.456511319329652,
          -1.6257292208567193,
          -0.6674107831292494,
          0.3811991927832541,
          -0.5464922895705291,
          -3.162439502735584,
          -0.658820338868281,
          0.7721719856870062,
          -0.3171154031995474,
          -1.0020734777415063,
          -0.02659884375709406,
          1.4254056731396323,
          0.6836421842787477,
          -0.9772538796145454,
          1.179589205909156,
          0.5452437251135169,
          0.9451720539792436,
          -0.5674693547604166,
          -1.9367879178372351,
          0.09939863026944817,
          0.3788358260021555,
          -0.12359656382636455,
          -0.38458928359784156,
          -0.13612423713165192,
          -0.20220123127288567,
          -0.057722094925038374,
          -0.4215960142227496,
          -1.1817887527339672,
          -0.6820955787736707,
          0.54268553457587,
          2.269274538955471,
          1.399616365283778,
          0.39919861740985063,
          -0.7429824032412617,
          -0.5579151083162384,
          0.49856107072948636,
          -0.6122498520456356,
          -0.5196819457867476,
          0.6580335477597211,
          -1.4453404736418463,
          -1.0683326326666698,
          1.7800123892054036,
          0.33842572157581263,
          1.084922008912415,
          0.710339271478755,
          0.12105239058331187,
          -0.8509752427452628,
          -1.3491238864126032,
          -1.8598394510153693,
          -1.0659054118800213,
          1.3236350429577803,
          0.5444277023592253,
          -0.6727411628076259,
          -0.018547264192752825,
          -0.8071229564449062,
          0.33751660203866807,
          0.1881745849663572,
          0.12260492122922247,
          0.30615558365396084,
          1.2458146238905483,
          1.7110470711557848,
          -0.4800976041892355,
          2.221328091101082,
          0.34503964151741096,
          1.3888534612108372,
          -0.6121543897912833,
          1.5135232133398413,
          0.3550466399495089,
          -0.5125535379885994,
          -0.8684090756031528,
          -0.0880389921588798,
          1.5107179811616,
          -0.07874484690047716,
          -0.5389501748212824,
          0.7535046636019881,
          -0.5600026707788827,
          -0.3110571605343825,
          0.6306288933906005,
          -0.12702949524031082,
          -0.5299579481574125,
          -0.2319476324342638,
          1.1584607557786735,
          -1.5686875302712062,
          0.06172482147957937,
          -0.6198455475019047,
          -2.0770439203968674,
          0.09306099403907173,
          -0.45720135238549225,
          -0.30414649191620025,
          0.03513373986031923
         ]
        },
        {
         "line": {
          "color": "rgba(50, 171, 96, 1.0)",
          "dash": "solid",
          "shape": "linear",
          "width": 1.3
         },
         "mode": "lines",
         "name": "C",
         "text": "",
         "type": "scatter",
         "x": [
          0,
          1,
          2,
          3,
          4,
          5,
          6,
          7,
          8,
          9,
          10,
          11,
          12,
          13,
          14,
          15,
          16,
          17,
          18,
          19,
          20,
          21,
          22,
          23,
          24,
          25,
          26,
          27,
          28,
          29,
          30,
          31,
          32,
          33,
          34,
          35,
          36,
          37,
          38,
          39,
          40,
          41,
          42,
          43,
          44,
          45,
          46,
          47,
          48,
          49,
          50,
          51,
          52,
          53,
          54,
          55,
          56,
          57,
          58,
          59,
          60,
          61,
          62,
          63,
          64,
          65,
          66,
          67,
          68,
          69,
          70,
          71,
          72,
          73,
          74,
          75,
          76,
          77,
          78,
          79,
          80,
          81,
          82,
          83,
          84,
          85,
          86,
          87,
          88,
          89,
          90,
          91,
          92,
          93,
          94,
          95,
          96,
          97,
          98,
          99
         ],
         "y": [
          0.8899482647583795,
          -0.48741350404004985,
          0.12298514481001037,
          -1.774585791587798,
          0.25788794441048885,
          -0.06328921642114764,
          0.8651593131570227,
          1.7149994554523373,
          -1.1952944135921917,
          -0.8242523462338697,
          0.2429233089008537,
          1.6624596340506916,
          0.8588193266652456,
          0.9647459497483071,
          -0.23813580241704013,
          -0.6197192913072721,
          0.060568610242076756,
          -1.876027186517289,
          0.686258974074959,
          -0.25673459721631553,
          0.7736769228693611,
          1.3566267794463591,
          0.7542012540572304,
          -0.42162929129487087,
          0.9487015299143998,
          -0.5761302532372644,
          -1.9029464805710632,
          1.0374031915795034,
          -0.7292548442852299,
          0.03334141354571613,
          1.0829223482605501,
          -1.2026214155339074,
          -1.2142580079903607,
          -0.27454086358979896,
          -1.0506533899581663,
          2.1551201246294123,
          -0.7651680756510916,
          -0.4067694711485394,
          0.831261276156096,
          -1.0147510732655431,
          1.0063233197321864,
          0.42723830554873815,
          1.5299200980024585,
          1.2998999231806587,
          1.2912300594676989,
          -1.2458776828641627,
          1.4474451621128004,
          0.15701383133376268,
          0.6814892571980171,
          2.0411505739861866,
          0.9452241695206468,
          0.43338888339608833,
          -0.4394511787806944,
          -0.5067859564033861,
          0.005055738764854608,
          1.474591522563153,
          -0.8629191140490524,
          -1.1874700605179853,
          -0.09757250559983943,
          -0.36828724929648926,
          1.0283783282412238,
          -0.3883995820650151,
          -0.16426441703822522,
          1.4189273452155675,
          -0.11048245401354172,
          0.3940338401538025,
          0.8170583108124951,
          -0.8699307446545328,
          -0.05625756849411813,
          0.5502998160612507,
          -1.6593905590086808,
          -0.08164535796275711,
          -0.7840450616919273,
          -0.5841850807268515,
          1.8086013752422376,
          0.4074760772558162,
          -1.0259072552717319,
          -1.0879739342231223,
          -1.0467410679175666,
          0.8687746229923943,
          0.4870077060513073,
          -1.1891200717940589,
          -0.08436834921922547,
          -0.9195326383906376,
          -0.3415648548625693,
          -0.2794170119234371,
          0.01138761588792133,
          -0.9140522953517211,
          -0.16531178762007206,
          1.7946611443079783,
          -0.051732808917070806,
          0.7789357894976013,
          1.0688045621594884,
          0.11159693286318663,
          0.7512815794487576,
          -0.5802136776239283,
          0.8047680319434942,
          -1.0850259838757654,
          -0.6812093113350112,
          0.38254119848273516
         ]
        },
        {
         "line": {
          "color": "rgba(128, 0, 128, 1.0)",
          "dash": "solid",
          "shape": "linear",
          "width": 1.3
         },
         "mode": "lines",
         "name": "D",
         "text": "",
         "type": "scatter",
         "x": [
          0,
          1,
          2,
          3,
          4,
          5,
          6,
          7,
          8,
          9,
          10,
          11,
          12,
          13,
          14,
          15,
          16,
          17,
          18,
          19,
          20,
          21,
          22,
          23,
          24,
          25,
          26,
          27,
          28,
          29,
          30,
          31,
          32,
          33,
          34,
          35,
          36,
          37,
          38,
          39,
          40,
          41,
          42,
          43,
          44,
          45,
          46,
          47,
          48,
          49,
          50,
          51,
          52,
          53,
          54,
          55,
          56,
          57,
          58,
          59,
          60,
          61,
          62,
          63,
          64,
          65,
          66,
          67,
          68,
          69,
          70,
          71,
          72,
          73,
          74,
          75,
          76,
          77,
          78,
          79,
          80,
          81,
          82,
          83,
          84,
          85,
          86,
          87,
          88,
          89,
          90,
          91,
          92,
          93,
          94,
          95,
          96,
          97,
          98,
          99
         ],
         "y": [
          -0.3618724048781142,
          -0.40687761489980623,
          0.5195626630568237,
          0.13912631703553005,
          0.32528591114126365,
          0.629820985303858,
          -0.17041115083404465,
          -0.23380726018029674,
          0.6930189819079416,
          0.4321523738209809,
          -0.06832956849261512,
          0.7054808326257046,
          0.3925765839568227,
          0.8414122179485375,
          2.7492266137991384,
          2.789035520870783,
          -0.49788911678712844,
          1.0306950917299138,
          -0.6252367154260806,
          -0.04499324689704075,
          -0.7098464166552086,
          1.0913140164808373,
          -0.14937672319567452,
          -0.027169954537775307,
          -0.33327178910759336,
          0.9782141349110773,
          -0.1659250766810504,
          -1.1907971669168738,
          2.4582023742263774,
          -0.19076034535752567,
          -0.263968439562819,
          -1.2131711833684555,
          0.6549835291202654,
          1.761118222522333,
          0.009168450583866327,
          0.27954336114813516,
          0.5133601348779316,
          -0.7185694932596692,
          -1.1793560729556487,
          1.6022489903898194,
          -1.091237147724573,
          1.9403277119055318,
          0.10413118292587473,
          0.14002107064947966,
          -0.5923516210365952,
          0.3798847137907724,
          1.4175155728259794,
          -0.16165530760120006,
          0.45483955058631537,
          -1.7591790350741123,
          -1.9401472052225492,
          -0.9747105857243566,
          0.2097433224401488,
          0.9428628417877921,
          -1.3460870937111664,
          0.3270291246531071,
          0.9388246148042848,
          -0.9354385562636851,
          0.7236083171803579,
          -0.7324644250452019,
          0.8144034408789959,
          -0.29984428088096304,
          -1.2708026061786377,
          0.7791969024999302,
          0.10634367954919603,
          0.8804390908267082,
          -1.3920998512600171,
          -0.7289623760466917,
          1.6324837909472627,
          -2.275718441810622,
          0.6996653927285276,
          1.9021999289395772,
          -0.22496156634148104,
          -1.236445754124931,
          -0.13670267087326995,
          -1.016315959147242,
          -0.39809020253168687,
          -1.9750991406903013,
          -0.6407360151401108,
          -0.4894767126128095,
          -1.0559998264889134,
          0.5287302277768998,
          -0.06599684649481262,
          0.15982134331091033,
          -0.21114957671805018,
          -0.10064997659060733,
          0.10968624643260116,
          0.4904529657311047,
          -1.1501791726685733,
          0.9470020914184902,
          -0.5453496522243801,
          -1.0544030950720638,
          -0.35195965450924055,
          0.6953243269099676,
          -0.7048377964351703,
          0.1343931435270347,
          0.008367024707526283,
          -0.8295441813327156,
          0.8504452543199488,
          0.294786501266867
         ]
        }
       ],
       "layout": {
        "legend": {
         "bgcolor": "#F5F6F9",
         "font": {
          "color": "#4D5663"
         }
        },
        "paper_bgcolor": "#F5F6F9",
        "plot_bgcolor": "#F5F6F9",
        "template": {
         "data": {
          "bar": [
           {
            "error_x": {
             "color": "#2a3f5f"
            },
            "error_y": {
             "color": "#2a3f5f"
            },
            "marker": {
             "line": {
              "color": "#E5ECF6",
              "width": 0.5
             },
             "pattern": {
              "fillmode": "overlay",
              "size": 10,
              "solidity": 0.2
             }
            },
            "type": "bar"
           }
          ],
          "barpolar": [
           {
            "marker": {
             "line": {
              "color": "#E5ECF6",
              "width": 0.5
             },
             "pattern": {
              "fillmode": "overlay",
              "size": 10,
              "solidity": 0.2
             }
            },
            "type": "barpolar"
           }
          ],
          "carpet": [
           {
            "aaxis": {
             "endlinecolor": "#2a3f5f",
             "gridcolor": "white",
             "linecolor": "white",
             "minorgridcolor": "white",
             "startlinecolor": "#2a3f5f"
            },
            "baxis": {
             "endlinecolor": "#2a3f5f",
             "gridcolor": "white",
             "linecolor": "white",
             "minorgridcolor": "white",
             "startlinecolor": "#2a3f5f"
            },
            "type": "carpet"
           }
          ],
          "choropleth": [
           {
            "colorbar": {
             "outlinewidth": 0,
             "ticks": ""
            },
            "type": "choropleth"
           }
          ],
          "contour": [
           {
            "colorbar": {
             "outlinewidth": 0,
             "ticks": ""
            },
            "colorscale": [
             [
              0,
              "#0d0887"
             ],
             [
              0.1111111111111111,
              "#46039f"
             ],
             [
              0.2222222222222222,
              "#7201a8"
             ],
             [
              0.3333333333333333,
              "#9c179e"
             ],
             [
              0.4444444444444444,
              "#bd3786"
             ],
             [
              0.5555555555555556,
              "#d8576b"
             ],
             [
              0.6666666666666666,
              "#ed7953"
             ],
             [
              0.7777777777777778,
              "#fb9f3a"
             ],
             [
              0.8888888888888888,
              "#fdca26"
             ],
             [
              1,
              "#f0f921"
             ]
            ],
            "type": "contour"
           }
          ],
          "contourcarpet": [
           {
            "colorbar": {
             "outlinewidth": 0,
             "ticks": ""
            },
            "type": "contourcarpet"
           }
          ],
          "heatmap": [
           {
            "colorbar": {
             "outlinewidth": 0,
             "ticks": ""
            },
            "colorscale": [
             [
              0,
              "#0d0887"
             ],
             [
              0.1111111111111111,
              "#46039f"
             ],
             [
              0.2222222222222222,
              "#7201a8"
             ],
             [
              0.3333333333333333,
              "#9c179e"
             ],
             [
              0.4444444444444444,
              "#bd3786"
             ],
             [
              0.5555555555555556,
              "#d8576b"
             ],
             [
              0.6666666666666666,
              "#ed7953"
             ],
             [
              0.7777777777777778,
              "#fb9f3a"
             ],
             [
              0.8888888888888888,
              "#fdca26"
             ],
             [
              1,
              "#f0f921"
             ]
            ],
            "type": "heatmap"
           }
          ],
          "heatmapgl": [
           {
            "colorbar": {
             "outlinewidth": 0,
             "ticks": ""
            },
            "colorscale": [
             [
              0,
              "#0d0887"
             ],
             [
              0.1111111111111111,
              "#46039f"
             ],
             [
              0.2222222222222222,
              "#7201a8"
             ],
             [
              0.3333333333333333,
              "#9c179e"
             ],
             [
              0.4444444444444444,
              "#bd3786"
             ],
             [
              0.5555555555555556,
              "#d8576b"
             ],
             [
              0.6666666666666666,
              "#ed7953"
             ],
             [
              0.7777777777777778,
              "#fb9f3a"
             ],
             [
              0.8888888888888888,
              "#fdca26"
             ],
             [
              1,
              "#f0f921"
             ]
            ],
            "type": "heatmapgl"
           }
          ],
          "histogram": [
           {
            "marker": {
             "pattern": {
              "fillmode": "overlay",
              "size": 10,
              "solidity": 0.2
             }
            },
            "type": "histogram"
           }
          ],
          "histogram2d": [
           {
            "colorbar": {
             "outlinewidth": 0,
             "ticks": ""
            },
            "colorscale": [
             [
              0,
              "#0d0887"
             ],
             [
              0.1111111111111111,
              "#46039f"
             ],
             [
              0.2222222222222222,
              "#7201a8"
             ],
             [
              0.3333333333333333,
              "#9c179e"
             ],
             [
              0.4444444444444444,
              "#bd3786"
             ],
             [
              0.5555555555555556,
              "#d8576b"
             ],
             [
              0.6666666666666666,
              "#ed7953"
             ],
             [
              0.7777777777777778,
              "#fb9f3a"
             ],
             [
              0.8888888888888888,
              "#fdca26"
             ],
             [
              1,
              "#f0f921"
             ]
            ],
            "type": "histogram2d"
           }
          ],
          "histogram2dcontour": [
           {
            "colorbar": {
             "outlinewidth": 0,
             "ticks": ""
            },
            "colorscale": [
             [
              0,
              "#0d0887"
             ],
             [
              0.1111111111111111,
              "#46039f"
             ],
             [
              0.2222222222222222,
              "#7201a8"
             ],
             [
              0.3333333333333333,
              "#9c179e"
             ],
             [
              0.4444444444444444,
              "#bd3786"
             ],
             [
              0.5555555555555556,
              "#d8576b"
             ],
             [
              0.6666666666666666,
              "#ed7953"
             ],
             [
              0.7777777777777778,
              "#fb9f3a"
             ],
             [
              0.8888888888888888,
              "#fdca26"
             ],
             [
              1,
              "#f0f921"
             ]
            ],
            "type": "histogram2dcontour"
           }
          ],
          "mesh3d": [
           {
            "colorbar": {
             "outlinewidth": 0,
             "ticks": ""
            },
            "type": "mesh3d"
           }
          ],
          "parcoords": [
           {
            "line": {
             "colorbar": {
              "outlinewidth": 0,
              "ticks": ""
             }
            },
            "type": "parcoords"
           }
          ],
          "pie": [
           {
            "automargin": true,
            "type": "pie"
           }
          ],
          "scatter": [
           {
            "marker": {
             "colorbar": {
              "outlinewidth": 0,
              "ticks": ""
             }
            },
            "type": "scatter"
           }
          ],
          "scatter3d": [
           {
            "line": {
             "colorbar": {
              "outlinewidth": 0,
              "ticks": ""
             }
            },
            "marker": {
             "colorbar": {
              "outlinewidth": 0,
              "ticks": ""
             }
            },
            "type": "scatter3d"
           }
          ],
          "scattercarpet": [
           {
            "marker": {
             "colorbar": {
              "outlinewidth": 0,
              "ticks": ""
             }
            },
            "type": "scattercarpet"
           }
          ],
          "scattergeo": [
           {
            "marker": {
             "colorbar": {
              "outlinewidth": 0,
              "ticks": ""
             }
            },
            "type": "scattergeo"
           }
          ],
          "scattergl": [
           {
            "marker": {
             "colorbar": {
              "outlinewidth": 0,
              "ticks": ""
             }
            },
            "type": "scattergl"
           }
          ],
          "scattermapbox": [
           {
            "marker": {
             "colorbar": {
              "outlinewidth": 0,
              "ticks": ""
             }
            },
            "type": "scattermapbox"
           }
          ],
          "scatterpolar": [
           {
            "marker": {
             "colorbar": {
              "outlinewidth": 0,
              "ticks": ""
             }
            },
            "type": "scatterpolar"
           }
          ],
          "scatterpolargl": [
           {
            "marker": {
             "colorbar": {
              "outlinewidth": 0,
              "ticks": ""
             }
            },
            "type": "scatterpolargl"
           }
          ],
          "scatterternary": [
           {
            "marker": {
             "colorbar": {
              "outlinewidth": 0,
              "ticks": ""
             }
            },
            "type": "scatterternary"
           }
          ],
          "surface": [
           {
            "colorbar": {
             "outlinewidth": 0,
             "ticks": ""
            },
            "colorscale": [
             [
              0,
              "#0d0887"
             ],
             [
              0.1111111111111111,
              "#46039f"
             ],
             [
              0.2222222222222222,
              "#7201a8"
             ],
             [
              0.3333333333333333,
              "#9c179e"
             ],
             [
              0.4444444444444444,
              "#bd3786"
             ],
             [
              0.5555555555555556,
              "#d8576b"
             ],
             [
              0.6666666666666666,
              "#ed7953"
             ],
             [
              0.7777777777777778,
              "#fb9f3a"
             ],
             [
              0.8888888888888888,
              "#fdca26"
             ],
             [
              1,
              "#f0f921"
             ]
            ],
            "type": "surface"
           }
          ],
          "table": [
           {
            "cells": {
             "fill": {
              "color": "#EBF0F8"
             },
             "line": {
              "color": "white"
             }
            },
            "header": {
             "fill": {
              "color": "#C8D4E3"
             },
             "line": {
              "color": "white"
             }
            },
            "type": "table"
           }
          ]
         },
         "layout": {
          "annotationdefaults": {
           "arrowcolor": "#2a3f5f",
           "arrowhead": 0,
           "arrowwidth": 1
          },
          "autotypenumbers": "strict",
          "coloraxis": {
           "colorbar": {
            "outlinewidth": 0,
            "ticks": ""
           }
          },
          "colorscale": {
           "diverging": [
            [
             0,
             "#8e0152"
            ],
            [
             0.1,
             "#c51b7d"
            ],
            [
             0.2,
             "#de77ae"
            ],
            [
             0.3,
             "#f1b6da"
            ],
            [
             0.4,
             "#fde0ef"
            ],
            [
             0.5,
             "#f7f7f7"
            ],
            [
             0.6,
             "#e6f5d0"
            ],
            [
             0.7,
             "#b8e186"
            ],
            [
             0.8,
             "#7fbc41"
            ],
            [
             0.9,
             "#4d9221"
            ],
            [
             1,
             "#276419"
            ]
           ],
           "sequential": [
            [
             0,
             "#0d0887"
            ],
            [
             0.1111111111111111,
             "#46039f"
            ],
            [
             0.2222222222222222,
             "#7201a8"
            ],
            [
             0.3333333333333333,
             "#9c179e"
            ],
            [
             0.4444444444444444,
             "#bd3786"
            ],
            [
             0.5555555555555556,
             "#d8576b"
            ],
            [
             0.6666666666666666,
             "#ed7953"
            ],
            [
             0.7777777777777778,
             "#fb9f3a"
            ],
            [
             0.8888888888888888,
             "#fdca26"
            ],
            [
             1,
             "#f0f921"
            ]
           ],
           "sequentialminus": [
            [
             0,
             "#0d0887"
            ],
            [
             0.1111111111111111,
             "#46039f"
            ],
            [
             0.2222222222222222,
             "#7201a8"
            ],
            [
             0.3333333333333333,
             "#9c179e"
            ],
            [
             0.4444444444444444,
             "#bd3786"
            ],
            [
             0.5555555555555556,
             "#d8576b"
            ],
            [
             0.6666666666666666,
             "#ed7953"
            ],
            [
             0.7777777777777778,
             "#fb9f3a"
            ],
            [
             0.8888888888888888,
             "#fdca26"
            ],
            [
             1,
             "#f0f921"
            ]
           ]
          },
          "colorway": [
           "#636efa",
           "#EF553B",
           "#00cc96",
           "#ab63fa",
           "#FFA15A",
           "#19d3f3",
           "#FF6692",
           "#B6E880",
           "#FF97FF",
           "#FECB52"
          ],
          "font": {
           "color": "#2a3f5f"
          },
          "geo": {
           "bgcolor": "white",
           "lakecolor": "white",
           "landcolor": "#E5ECF6",
           "showlakes": true,
           "showland": true,
           "subunitcolor": "white"
          },
          "hoverlabel": {
           "align": "left"
          },
          "hovermode": "closest",
          "mapbox": {
           "style": "light"
          },
          "paper_bgcolor": "white",
          "plot_bgcolor": "#E5ECF6",
          "polar": {
           "angularaxis": {
            "gridcolor": "white",
            "linecolor": "white",
            "ticks": ""
           },
           "bgcolor": "#E5ECF6",
           "radialaxis": {
            "gridcolor": "white",
            "linecolor": "white",
            "ticks": ""
           }
          },
          "scene": {
           "xaxis": {
            "backgroundcolor": "#E5ECF6",
            "gridcolor": "white",
            "gridwidth": 2,
            "linecolor": "white",
            "showbackground": true,
            "ticks": "",
            "zerolinecolor": "white"
           },
           "yaxis": {
            "backgroundcolor": "#E5ECF6",
            "gridcolor": "white",
            "gridwidth": 2,
            "linecolor": "white",
            "showbackground": true,
            "ticks": "",
            "zerolinecolor": "white"
           },
           "zaxis": {
            "backgroundcolor": "#E5ECF6",
            "gridcolor": "white",
            "gridwidth": 2,
            "linecolor": "white",
            "showbackground": true,
            "ticks": "",
            "zerolinecolor": "white"
           }
          },
          "shapedefaults": {
           "line": {
            "color": "#2a3f5f"
           }
          },
          "ternary": {
           "aaxis": {
            "gridcolor": "white",
            "linecolor": "white",
            "ticks": ""
           },
           "baxis": {
            "gridcolor": "white",
            "linecolor": "white",
            "ticks": ""
           },
           "bgcolor": "#E5ECF6",
           "caxis": {
            "gridcolor": "white",
            "linecolor": "white",
            "ticks": ""
           }
          },
          "title": {
           "x": 0.05
          },
          "xaxis": {
           "automargin": true,
           "gridcolor": "white",
           "linecolor": "white",
           "ticks": "",
           "title": {
            "standoff": 15
           },
           "zerolinecolor": "white",
           "zerolinewidth": 2
          },
          "yaxis": {
           "automargin": true,
           "gridcolor": "white",
           "linecolor": "white",
           "ticks": "",
           "title": {
            "standoff": 15
           },
           "zerolinecolor": "white",
           "zerolinewidth": 2
          }
         }
        },
        "title": {
         "font": {
          "color": "#4D5663"
         }
        },
        "xaxis": {
         "gridcolor": "#E1E5ED",
         "showgrid": true,
         "tickfont": {
          "color": "#4D5663"
         },
         "title": {
          "font": {
           "color": "#4D5663"
          },
          "text": ""
         },
         "zerolinecolor": "#E1E5ED"
        },
        "yaxis": {
         "gridcolor": "#E1E5ED",
         "showgrid": true,
         "tickfont": {
          "color": "#4D5663"
         },
         "title": {
          "font": {
           "color": "#4D5663"
          },
          "text": ""
         },
         "zerolinecolor": "#E1E5ED"
        }
       }
      },
      "text/html": [
       "<div>                            <div id=\"ef7e9a80-2a73-4eb0-a28b-9a4dd9daacda\" class=\"plotly-graph-div\" style=\"height:525px; width:100%;\"></div>            <script type=\"text/javascript\">                require([\"plotly\"], function(Plotly) {                    window.PLOTLYENV=window.PLOTLYENV || {};\n",
       "                    window.PLOTLYENV.BASE_URL='https://plot.ly';                                    if (document.getElementById(\"ef7e9a80-2a73-4eb0-a28b-9a4dd9daacda\")) {                    Plotly.newPlot(                        \"ef7e9a80-2a73-4eb0-a28b-9a4dd9daacda\",                        [{\"line\":{\"color\":\"rgba(255, 153, 51, 1.0)\",\"dash\":\"solid\",\"shape\":\"linear\",\"width\":1.3},\"mode\":\"lines\",\"name\":\"A\",\"text\":\"\",\"type\":\"scatter\",\"x\":[0,1,2,3,4,5,6,7,8,9,10,11,12,13,14,15,16,17,18,19,20,21,22,23,24,25,26,27,28,29,30,31,32,33,34,35,36,37,38,39,40,41,42,43,44,45,46,47,48,49,50,51,52,53,54,55,56,57,58,59,60,61,62,63,64,65,66,67,68,69,70,71,72,73,74,75,76,77,78,79,80,81,82,83,84,85,86,87,88,89,90,91,92,93,94,95,96,97,98,99],\"y\":[-0.9059946344274774,-0.4228448892570872,0.32823669086437185,0.6558818756618977,-0.23279394393207223,0.6525595480366613,-1.6915425316219246,0.19774000582771878,0.2527613251803961,1.2212768041507416,-1.0510831617170036,-0.7793914985082284,0.806056944934075,-0.6311019866196699,0.934877974567317,0.16080341281909977,-0.26044787101587635,-1.1189492025341188,0.9314131210571004,1.637803872997042,0.6740388916031278,1.0131855330251243,1.0735801831928784,0.937155505884544,-0.9383642090609543,-1.4125546602473755,-1.3961261570716632,1.4624065012532907,1.5085679801507355,0.37384897602131767,0.14589136140687492,-0.23095768454721793,-2.3629173679389783,0.25331855988772656,-0.3115860491141523,-0.3030080296653969,0.8976458438423921,-0.22670266681646012,0.41600691876623586,0.44298800896287893,0.48238892353758295,2.8740147943888767,1.2137085672267414,-0.5078538839778108,0.2712852957322795,0.48451943108122075,0.7602644879314184,1.066266090804438,-0.7210114083722396,0.32916613351098817,0.21287846776990083,1.3120634164376894,1.4845215944923633,1.2118529866244876,-0.35062596725697137,1.4679054114460215,0.5946197808733853,0.7653928202932211,0.502620298066773,-0.4655955727577539,-0.7795213169381651,-0.5835420380031595,0.581868964354893,-0.8446734086931094,-0.6104474804218408,-0.49453527742225606,0.03616565350186925,1.677717127944498,-0.13111115072431645,0.35354551803517,-1.1395729739401037,1.087329072160173,1.9901243821040628,1.4587485333823857,0.5863304514720385,-1.72328053440473,-0.33482969209209335,-0.5675569496541126,-0.7552568197099411,0.984241478144492,0.5130936566082164,1.007047428091453,-0.25229733785962855,-1.0765534930300449,-1.0836901842430446,1.251316893181913,-0.061947611188396756,-1.5090608602782263,0.5407038713008661,-0.7598080181281253,-2.24033822867379,-1.025455849018686,-0.6449593030755074,-2.3407345468245557,1.9319811029535663,0.44323959373215516,-0.3715898916904119,0.7183414221195205,0.9328345702391438,0.7111546819960841]},{\"line\":{\"color\":\"rgba(55, 128, 191, 1.0)\",\"dash\":\"solid\",\"shape\":\"linear\",\"width\":1.3},\"mode\":\"lines\",\"name\":\"B\",\"text\":\"\",\"type\":\"scatter\",\"x\":[0,1,2,3,4,5,6,7,8,9,10,11,12,13,14,15,16,17,18,19,20,21,22,23,24,25,26,27,28,29,30,31,32,33,34,35,36,37,38,39,40,41,42,43,44,45,46,47,48,49,50,51,52,53,54,55,56,57,58,59,60,61,62,63,64,65,66,67,68,69,70,71,72,73,74,75,76,77,78,79,80,81,82,83,84,85,86,87,88,89,90,91,92,93,94,95,96,97,98,99],\"y\":[0.39809897088173535,-0.14652925480192855,0.9857309327643848,-0.8247877220344356,-0.7171326813869001,0.27152193419855913,-0.14087040880362503,-0.0890924278317126,1.3250570353670188,0.09866929384221915,-1.456511319329652,-1.6257292208567193,-0.6674107831292494,0.3811991927832541,-0.5464922895705291,-3.162439502735584,-0.658820338868281,0.7721719856870062,-0.3171154031995474,-1.0020734777415063,-0.02659884375709406,1.4254056731396323,0.6836421842787477,-0.9772538796145454,1.179589205909156,0.5452437251135169,0.9451720539792436,-0.5674693547604166,-1.9367879178372351,0.09939863026944817,0.3788358260021555,-0.12359656382636455,-0.38458928359784156,-0.13612423713165192,-0.20220123127288567,-0.057722094925038374,-0.4215960142227496,-1.1817887527339672,-0.6820955787736707,0.54268553457587,2.269274538955471,1.399616365283778,0.39919861740985063,-0.7429824032412617,-0.5579151083162384,0.49856107072948636,-0.6122498520456356,-0.5196819457867476,0.6580335477597211,-1.4453404736418463,-1.0683326326666698,1.7800123892054036,0.33842572157581263,1.084922008912415,0.710339271478755,0.12105239058331187,-0.8509752427452628,-1.3491238864126032,-1.8598394510153693,-1.0659054118800213,1.3236350429577803,0.5444277023592253,-0.6727411628076259,-0.018547264192752825,-0.8071229564449062,0.33751660203866807,0.1881745849663572,0.12260492122922247,0.30615558365396084,1.2458146238905483,1.7110470711557848,-0.4800976041892355,2.221328091101082,0.34503964151741096,1.3888534612108372,-0.6121543897912833,1.5135232133398413,0.3550466399495089,-0.5125535379885994,-0.8684090756031528,-0.0880389921588798,1.5107179811616,-0.07874484690047716,-0.5389501748212824,0.7535046636019881,-0.5600026707788827,-0.3110571605343825,0.6306288933906005,-0.12702949524031082,-0.5299579481574125,-0.2319476324342638,1.1584607557786735,-1.5686875302712062,0.06172482147957937,-0.6198455475019047,-2.0770439203968674,0.09306099403907173,-0.45720135238549225,-0.30414649191620025,0.03513373986031923]},{\"line\":{\"color\":\"rgba(50, 171, 96, 1.0)\",\"dash\":\"solid\",\"shape\":\"linear\",\"width\":1.3},\"mode\":\"lines\",\"name\":\"C\",\"text\":\"\",\"type\":\"scatter\",\"x\":[0,1,2,3,4,5,6,7,8,9,10,11,12,13,14,15,16,17,18,19,20,21,22,23,24,25,26,27,28,29,30,31,32,33,34,35,36,37,38,39,40,41,42,43,44,45,46,47,48,49,50,51,52,53,54,55,56,57,58,59,60,61,62,63,64,65,66,67,68,69,70,71,72,73,74,75,76,77,78,79,80,81,82,83,84,85,86,87,88,89,90,91,92,93,94,95,96,97,98,99],\"y\":[0.8899482647583795,-0.48741350404004985,0.12298514481001037,-1.774585791587798,0.25788794441048885,-0.06328921642114764,0.8651593131570227,1.7149994554523373,-1.1952944135921917,-0.8242523462338697,0.2429233089008537,1.6624596340506916,0.8588193266652456,0.9647459497483071,-0.23813580241704013,-0.6197192913072721,0.060568610242076756,-1.876027186517289,0.686258974074959,-0.25673459721631553,0.7736769228693611,1.3566267794463591,0.7542012540572304,-0.42162929129487087,0.9487015299143998,-0.5761302532372644,-1.9029464805710632,1.0374031915795034,-0.7292548442852299,0.03334141354571613,1.0829223482605501,-1.2026214155339074,-1.2142580079903607,-0.27454086358979896,-1.0506533899581663,2.1551201246294123,-0.7651680756510916,-0.4067694711485394,0.831261276156096,-1.0147510732655431,1.0063233197321864,0.42723830554873815,1.5299200980024585,1.2998999231806587,1.2912300594676989,-1.2458776828641627,1.4474451621128004,0.15701383133376268,0.6814892571980171,2.0411505739861866,0.9452241695206468,0.43338888339608833,-0.4394511787806944,-0.5067859564033861,0.005055738764854608,1.474591522563153,-0.8629191140490524,-1.1874700605179853,-0.09757250559983943,-0.36828724929648926,1.0283783282412238,-0.3883995820650151,-0.16426441703822522,1.4189273452155675,-0.11048245401354172,0.3940338401538025,0.8170583108124951,-0.8699307446545328,-0.05625756849411813,0.5502998160612507,-1.6593905590086808,-0.08164535796275711,-0.7840450616919273,-0.5841850807268515,1.8086013752422376,0.4074760772558162,-1.0259072552717319,-1.0879739342231223,-1.0467410679175666,0.8687746229923943,0.4870077060513073,-1.1891200717940589,-0.08436834921922547,-0.9195326383906376,-0.3415648548625693,-0.2794170119234371,0.01138761588792133,-0.9140522953517211,-0.16531178762007206,1.7946611443079783,-0.051732808917070806,0.7789357894976013,1.0688045621594884,0.11159693286318663,0.7512815794487576,-0.5802136776239283,0.8047680319434942,-1.0850259838757654,-0.6812093113350112,0.38254119848273516]},{\"line\":{\"color\":\"rgba(128, 0, 128, 1.0)\",\"dash\":\"solid\",\"shape\":\"linear\",\"width\":1.3},\"mode\":\"lines\",\"name\":\"D\",\"text\":\"\",\"type\":\"scatter\",\"x\":[0,1,2,3,4,5,6,7,8,9,10,11,12,13,14,15,16,17,18,19,20,21,22,23,24,25,26,27,28,29,30,31,32,33,34,35,36,37,38,39,40,41,42,43,44,45,46,47,48,49,50,51,52,53,54,55,56,57,58,59,60,61,62,63,64,65,66,67,68,69,70,71,72,73,74,75,76,77,78,79,80,81,82,83,84,85,86,87,88,89,90,91,92,93,94,95,96,97,98,99],\"y\":[-0.3618724048781142,-0.40687761489980623,0.5195626630568237,0.13912631703553005,0.32528591114126365,0.629820985303858,-0.17041115083404465,-0.23380726018029674,0.6930189819079416,0.4321523738209809,-0.06832956849261512,0.7054808326257046,0.3925765839568227,0.8414122179485375,2.7492266137991384,2.789035520870783,-0.49788911678712844,1.0306950917299138,-0.6252367154260806,-0.04499324689704075,-0.7098464166552086,1.0913140164808373,-0.14937672319567452,-0.027169954537775307,-0.33327178910759336,0.9782141349110773,-0.1659250766810504,-1.1907971669168738,2.4582023742263774,-0.19076034535752567,-0.263968439562819,-1.2131711833684555,0.6549835291202654,1.761118222522333,0.009168450583866327,0.27954336114813516,0.5133601348779316,-0.7185694932596692,-1.1793560729556487,1.6022489903898194,-1.091237147724573,1.9403277119055318,0.10413118292587473,0.14002107064947966,-0.5923516210365952,0.3798847137907724,1.4175155728259794,-0.16165530760120006,0.45483955058631537,-1.7591790350741123,-1.9401472052225492,-0.9747105857243566,0.2097433224401488,0.9428628417877921,-1.3460870937111664,0.3270291246531071,0.9388246148042848,-0.9354385562636851,0.7236083171803579,-0.7324644250452019,0.8144034408789959,-0.29984428088096304,-1.2708026061786377,0.7791969024999302,0.10634367954919603,0.8804390908267082,-1.3920998512600171,-0.7289623760466917,1.6324837909472627,-2.275718441810622,0.6996653927285276,1.9021999289395772,-0.22496156634148104,-1.236445754124931,-0.13670267087326995,-1.016315959147242,-0.39809020253168687,-1.9750991406903013,-0.6407360151401108,-0.4894767126128095,-1.0559998264889134,0.5287302277768998,-0.06599684649481262,0.15982134331091033,-0.21114957671805018,-0.10064997659060733,0.10968624643260116,0.4904529657311047,-1.1501791726685733,0.9470020914184902,-0.5453496522243801,-1.0544030950720638,-0.35195965450924055,0.6953243269099676,-0.7048377964351703,0.1343931435270347,0.008367024707526283,-0.8295441813327156,0.8504452543199488,0.294786501266867]}],                        {\"legend\":{\"bgcolor\":\"#F5F6F9\",\"font\":{\"color\":\"#4D5663\"}},\"paper_bgcolor\":\"#F5F6F9\",\"plot_bgcolor\":\"#F5F6F9\",\"template\":{\"data\":{\"bar\":[{\"error_x\":{\"color\":\"#2a3f5f\"},\"error_y\":{\"color\":\"#2a3f5f\"},\"marker\":{\"line\":{\"color\":\"#E5ECF6\",\"width\":0.5},\"pattern\":{\"fillmode\":\"overlay\",\"size\":10,\"solidity\":0.2}},\"type\":\"bar\"}],\"barpolar\":[{\"marker\":{\"line\":{\"color\":\"#E5ECF6\",\"width\":0.5},\"pattern\":{\"fillmode\":\"overlay\",\"size\":10,\"solidity\":0.2}},\"type\":\"barpolar\"}],\"carpet\":[{\"aaxis\":{\"endlinecolor\":\"#2a3f5f\",\"gridcolor\":\"white\",\"linecolor\":\"white\",\"minorgridcolor\":\"white\",\"startlinecolor\":\"#2a3f5f\"},\"baxis\":{\"endlinecolor\":\"#2a3f5f\",\"gridcolor\":\"white\",\"linecolor\":\"white\",\"minorgridcolor\":\"white\",\"startlinecolor\":\"#2a3f5f\"},\"type\":\"carpet\"}],\"choropleth\":[{\"colorbar\":{\"outlinewidth\":0,\"ticks\":\"\"},\"type\":\"choropleth\"}],\"contour\":[{\"colorbar\":{\"outlinewidth\":0,\"ticks\":\"\"},\"colorscale\":[[0.0,\"#0d0887\"],[0.1111111111111111,\"#46039f\"],[0.2222222222222222,\"#7201a8\"],[0.3333333333333333,\"#9c179e\"],[0.4444444444444444,\"#bd3786\"],[0.5555555555555556,\"#d8576b\"],[0.6666666666666666,\"#ed7953\"],[0.7777777777777778,\"#fb9f3a\"],[0.8888888888888888,\"#fdca26\"],[1.0,\"#f0f921\"]],\"type\":\"contour\"}],\"contourcarpet\":[{\"colorbar\":{\"outlinewidth\":0,\"ticks\":\"\"},\"type\":\"contourcarpet\"}],\"heatmap\":[{\"colorbar\":{\"outlinewidth\":0,\"ticks\":\"\"},\"colorscale\":[[0.0,\"#0d0887\"],[0.1111111111111111,\"#46039f\"],[0.2222222222222222,\"#7201a8\"],[0.3333333333333333,\"#9c179e\"],[0.4444444444444444,\"#bd3786\"],[0.5555555555555556,\"#d8576b\"],[0.6666666666666666,\"#ed7953\"],[0.7777777777777778,\"#fb9f3a\"],[0.8888888888888888,\"#fdca26\"],[1.0,\"#f0f921\"]],\"type\":\"heatmap\"}],\"heatmapgl\":[{\"colorbar\":{\"outlinewidth\":0,\"ticks\":\"\"},\"colorscale\":[[0.0,\"#0d0887\"],[0.1111111111111111,\"#46039f\"],[0.2222222222222222,\"#7201a8\"],[0.3333333333333333,\"#9c179e\"],[0.4444444444444444,\"#bd3786\"],[0.5555555555555556,\"#d8576b\"],[0.6666666666666666,\"#ed7953\"],[0.7777777777777778,\"#fb9f3a\"],[0.8888888888888888,\"#fdca26\"],[1.0,\"#f0f921\"]],\"type\":\"heatmapgl\"}],\"histogram\":[{\"marker\":{\"pattern\":{\"fillmode\":\"overlay\",\"size\":10,\"solidity\":0.2}},\"type\":\"histogram\"}],\"histogram2d\":[{\"colorbar\":{\"outlinewidth\":0,\"ticks\":\"\"},\"colorscale\":[[0.0,\"#0d0887\"],[0.1111111111111111,\"#46039f\"],[0.2222222222222222,\"#7201a8\"],[0.3333333333333333,\"#9c179e\"],[0.4444444444444444,\"#bd3786\"],[0.5555555555555556,\"#d8576b\"],[0.6666666666666666,\"#ed7953\"],[0.7777777777777778,\"#fb9f3a\"],[0.8888888888888888,\"#fdca26\"],[1.0,\"#f0f921\"]],\"type\":\"histogram2d\"}],\"histogram2dcontour\":[{\"colorbar\":{\"outlinewidth\":0,\"ticks\":\"\"},\"colorscale\":[[0.0,\"#0d0887\"],[0.1111111111111111,\"#46039f\"],[0.2222222222222222,\"#7201a8\"],[0.3333333333333333,\"#9c179e\"],[0.4444444444444444,\"#bd3786\"],[0.5555555555555556,\"#d8576b\"],[0.6666666666666666,\"#ed7953\"],[0.7777777777777778,\"#fb9f3a\"],[0.8888888888888888,\"#fdca26\"],[1.0,\"#f0f921\"]],\"type\":\"histogram2dcontour\"}],\"mesh3d\":[{\"colorbar\":{\"outlinewidth\":0,\"ticks\":\"\"},\"type\":\"mesh3d\"}],\"parcoords\":[{\"line\":{\"colorbar\":{\"outlinewidth\":0,\"ticks\":\"\"}},\"type\":\"parcoords\"}],\"pie\":[{\"automargin\":true,\"type\":\"pie\"}],\"scatter\":[{\"marker\":{\"colorbar\":{\"outlinewidth\":0,\"ticks\":\"\"}},\"type\":\"scatter\"}],\"scatter3d\":[{\"line\":{\"colorbar\":{\"outlinewidth\":0,\"ticks\":\"\"}},\"marker\":{\"colorbar\":{\"outlinewidth\":0,\"ticks\":\"\"}},\"type\":\"scatter3d\"}],\"scattercarpet\":[{\"marker\":{\"colorbar\":{\"outlinewidth\":0,\"ticks\":\"\"}},\"type\":\"scattercarpet\"}],\"scattergeo\":[{\"marker\":{\"colorbar\":{\"outlinewidth\":0,\"ticks\":\"\"}},\"type\":\"scattergeo\"}],\"scattergl\":[{\"marker\":{\"colorbar\":{\"outlinewidth\":0,\"ticks\":\"\"}},\"type\":\"scattergl\"}],\"scattermapbox\":[{\"marker\":{\"colorbar\":{\"outlinewidth\":0,\"ticks\":\"\"}},\"type\":\"scattermapbox\"}],\"scatterpolar\":[{\"marker\":{\"colorbar\":{\"outlinewidth\":0,\"ticks\":\"\"}},\"type\":\"scatterpolar\"}],\"scatterpolargl\":[{\"marker\":{\"colorbar\":{\"outlinewidth\":0,\"ticks\":\"\"}},\"type\":\"scatterpolargl\"}],\"scatterternary\":[{\"marker\":{\"colorbar\":{\"outlinewidth\":0,\"ticks\":\"\"}},\"type\":\"scatterternary\"}],\"surface\":[{\"colorbar\":{\"outlinewidth\":0,\"ticks\":\"\"},\"colorscale\":[[0.0,\"#0d0887\"],[0.1111111111111111,\"#46039f\"],[0.2222222222222222,\"#7201a8\"],[0.3333333333333333,\"#9c179e\"],[0.4444444444444444,\"#bd3786\"],[0.5555555555555556,\"#d8576b\"],[0.6666666666666666,\"#ed7953\"],[0.7777777777777778,\"#fb9f3a\"],[0.8888888888888888,\"#fdca26\"],[1.0,\"#f0f921\"]],\"type\":\"surface\"}],\"table\":[{\"cells\":{\"fill\":{\"color\":\"#EBF0F8\"},\"line\":{\"color\":\"white\"}},\"header\":{\"fill\":{\"color\":\"#C8D4E3\"},\"line\":{\"color\":\"white\"}},\"type\":\"table\"}]},\"layout\":{\"annotationdefaults\":{\"arrowcolor\":\"#2a3f5f\",\"arrowhead\":0,\"arrowwidth\":1},\"autotypenumbers\":\"strict\",\"coloraxis\":{\"colorbar\":{\"outlinewidth\":0,\"ticks\":\"\"}},\"colorscale\":{\"diverging\":[[0,\"#8e0152\"],[0.1,\"#c51b7d\"],[0.2,\"#de77ae\"],[0.3,\"#f1b6da\"],[0.4,\"#fde0ef\"],[0.5,\"#f7f7f7\"],[0.6,\"#e6f5d0\"],[0.7,\"#b8e186\"],[0.8,\"#7fbc41\"],[0.9,\"#4d9221\"],[1,\"#276419\"]],\"sequential\":[[0.0,\"#0d0887\"],[0.1111111111111111,\"#46039f\"],[0.2222222222222222,\"#7201a8\"],[0.3333333333333333,\"#9c179e\"],[0.4444444444444444,\"#bd3786\"],[0.5555555555555556,\"#d8576b\"],[0.6666666666666666,\"#ed7953\"],[0.7777777777777778,\"#fb9f3a\"],[0.8888888888888888,\"#fdca26\"],[1.0,\"#f0f921\"]],\"sequentialminus\":[[0.0,\"#0d0887\"],[0.1111111111111111,\"#46039f\"],[0.2222222222222222,\"#7201a8\"],[0.3333333333333333,\"#9c179e\"],[0.4444444444444444,\"#bd3786\"],[0.5555555555555556,\"#d8576b\"],[0.6666666666666666,\"#ed7953\"],[0.7777777777777778,\"#fb9f3a\"],[0.8888888888888888,\"#fdca26\"],[1.0,\"#f0f921\"]]},\"colorway\":[\"#636efa\",\"#EF553B\",\"#00cc96\",\"#ab63fa\",\"#FFA15A\",\"#19d3f3\",\"#FF6692\",\"#B6E880\",\"#FF97FF\",\"#FECB52\"],\"font\":{\"color\":\"#2a3f5f\"},\"geo\":{\"bgcolor\":\"white\",\"lakecolor\":\"white\",\"landcolor\":\"#E5ECF6\",\"showlakes\":true,\"showland\":true,\"subunitcolor\":\"white\"},\"hoverlabel\":{\"align\":\"left\"},\"hovermode\":\"closest\",\"mapbox\":{\"style\":\"light\"},\"paper_bgcolor\":\"white\",\"plot_bgcolor\":\"#E5ECF6\",\"polar\":{\"angularaxis\":{\"gridcolor\":\"white\",\"linecolor\":\"white\",\"ticks\":\"\"},\"bgcolor\":\"#E5ECF6\",\"radialaxis\":{\"gridcolor\":\"white\",\"linecolor\":\"white\",\"ticks\":\"\"}},\"scene\":{\"xaxis\":{\"backgroundcolor\":\"#E5ECF6\",\"gridcolor\":\"white\",\"gridwidth\":2,\"linecolor\":\"white\",\"showbackground\":true,\"ticks\":\"\",\"zerolinecolor\":\"white\"},\"yaxis\":{\"backgroundcolor\":\"#E5ECF6\",\"gridcolor\":\"white\",\"gridwidth\":2,\"linecolor\":\"white\",\"showbackground\":true,\"ticks\":\"\",\"zerolinecolor\":\"white\"},\"zaxis\":{\"backgroundcolor\":\"#E5ECF6\",\"gridcolor\":\"white\",\"gridwidth\":2,\"linecolor\":\"white\",\"showbackground\":true,\"ticks\":\"\",\"zerolinecolor\":\"white\"}},\"shapedefaults\":{\"line\":{\"color\":\"#2a3f5f\"}},\"ternary\":{\"aaxis\":{\"gridcolor\":\"white\",\"linecolor\":\"white\",\"ticks\":\"\"},\"baxis\":{\"gridcolor\":\"white\",\"linecolor\":\"white\",\"ticks\":\"\"},\"bgcolor\":\"#E5ECF6\",\"caxis\":{\"gridcolor\":\"white\",\"linecolor\":\"white\",\"ticks\":\"\"}},\"title\":{\"x\":0.05},\"xaxis\":{\"automargin\":true,\"gridcolor\":\"white\",\"linecolor\":\"white\",\"ticks\":\"\",\"title\":{\"standoff\":15},\"zerolinecolor\":\"white\",\"zerolinewidth\":2},\"yaxis\":{\"automargin\":true,\"gridcolor\":\"white\",\"linecolor\":\"white\",\"ticks\":\"\",\"title\":{\"standoff\":15},\"zerolinecolor\":\"white\",\"zerolinewidth\":2}}},\"title\":{\"font\":{\"color\":\"#4D5663\"}},\"xaxis\":{\"gridcolor\":\"#E1E5ED\",\"showgrid\":true,\"tickfont\":{\"color\":\"#4D5663\"},\"title\":{\"font\":{\"color\":\"#4D5663\"},\"text\":\"\"},\"zerolinecolor\":\"#E1E5ED\"},\"yaxis\":{\"gridcolor\":\"#E1E5ED\",\"showgrid\":true,\"tickfont\":{\"color\":\"#4D5663\"},\"title\":{\"font\":{\"color\":\"#4D5663\"},\"text\":\"\"},\"zerolinecolor\":\"#E1E5ED\"}},                        {\"showLink\": true, \"linkText\": \"Export to plot.ly\", \"plotlyServerURL\": \"https://plot.ly\", \"responsive\": true}                    ).then(function(){\n",
       "                            \n",
       "var gd = document.getElementById('ef7e9a80-2a73-4eb0-a28b-9a4dd9daacda');\n",
       "var x = new MutationObserver(function (mutations, observer) {{\n",
       "        var display = window.getComputedStyle(gd).display;\n",
       "        if (!display || display === 'none') {{\n",
       "            console.log([gd, 'removed!']);\n",
       "            Plotly.purge(gd);\n",
       "            observer.disconnect();\n",
       "        }}\n",
       "}});\n",
       "\n",
       "// Listen for the removal of the full notebook cells\n",
       "var notebookContainer = gd.closest('#notebook-container');\n",
       "if (notebookContainer) {{\n",
       "    x.observe(notebookContainer, {childList: true});\n",
       "}}\n",
       "\n",
       "// Listen for the clearing of the current output cell\n",
       "var outputEl = gd.closest('.output');\n",
       "if (outputEl) {{\n",
       "    x.observe(outputEl, {childList: true});\n",
       "}}\n",
       "\n",
       "                        })                };                });            </script>        </div>"
      ]
     },
     "metadata": {},
     "output_type": "display_data"
    }
   ],
   "source": [
    "df.iplot()"
   ]
  },
  {
   "cell_type": "code",
   "execution_count": 18,
   "metadata": {},
   "outputs": [
    {
     "data": {
      "application/vnd.plotly.v1+json": {
       "config": {
        "linkText": "Export to plot.ly",
        "plotlyServerURL": "https://plot.ly",
        "showLink": true
       },
       "data": [
        {
         "line": {
          "color": "rgba(255, 153, 51, 1.0)",
          "dash": "solid",
          "shape": "linear",
          "width": 1.3
         },
         "mode": "lines",
         "name": "B",
         "text": "",
         "type": "scatter",
         "x": [
          -0.9059946344274774,
          -0.4228448892570872,
          0.32823669086437185,
          0.6558818756618977,
          -0.23279394393207223,
          0.6525595480366613,
          -1.6915425316219246,
          0.19774000582771878,
          0.2527613251803961,
          1.2212768041507416,
          -1.0510831617170036,
          -0.7793914985082284,
          0.806056944934075,
          -0.6311019866196699,
          0.934877974567317,
          0.16080341281909977,
          -0.26044787101587635,
          -1.1189492025341188,
          0.9314131210571004,
          1.637803872997042,
          0.6740388916031278,
          1.0131855330251243,
          1.0735801831928784,
          0.937155505884544,
          -0.9383642090609543,
          -1.4125546602473755,
          -1.3961261570716632,
          1.4624065012532907,
          1.5085679801507355,
          0.37384897602131767,
          0.14589136140687492,
          -0.23095768454721793,
          -2.3629173679389783,
          0.25331855988772656,
          -0.3115860491141523,
          -0.3030080296653969,
          0.8976458438423921,
          -0.22670266681646012,
          0.41600691876623586,
          0.44298800896287893,
          0.48238892353758295,
          2.8740147943888767,
          1.2137085672267414,
          -0.5078538839778108,
          0.2712852957322795,
          0.48451943108122075,
          0.7602644879314184,
          1.066266090804438,
          -0.7210114083722396,
          0.32916613351098817,
          0.21287846776990083,
          1.3120634164376894,
          1.4845215944923633,
          1.2118529866244876,
          -0.35062596725697137,
          1.4679054114460215,
          0.5946197808733853,
          0.7653928202932211,
          0.502620298066773,
          -0.4655955727577539,
          -0.7795213169381651,
          -0.5835420380031595,
          0.581868964354893,
          -0.8446734086931094,
          -0.6104474804218408,
          -0.49453527742225606,
          0.03616565350186925,
          1.677717127944498,
          -0.13111115072431645,
          0.35354551803517,
          -1.1395729739401037,
          1.087329072160173,
          1.9901243821040628,
          1.4587485333823857,
          0.5863304514720385,
          -1.72328053440473,
          -0.33482969209209335,
          -0.5675569496541126,
          -0.7552568197099411,
          0.984241478144492,
          0.5130936566082164,
          1.007047428091453,
          -0.25229733785962855,
          -1.0765534930300449,
          -1.0836901842430446,
          1.251316893181913,
          -0.061947611188396756,
          -1.5090608602782263,
          0.5407038713008661,
          -0.7598080181281253,
          -2.24033822867379,
          -1.025455849018686,
          -0.6449593030755074,
          -2.3407345468245557,
          1.9319811029535663,
          0.44323959373215516,
          -0.3715898916904119,
          0.7183414221195205,
          0.9328345702391438,
          0.7111546819960841
         ],
         "y": [
          0.39809897088173535,
          -0.14652925480192855,
          0.9857309327643848,
          -0.8247877220344356,
          -0.7171326813869001,
          0.27152193419855913,
          -0.14087040880362503,
          -0.0890924278317126,
          1.3250570353670188,
          0.09866929384221915,
          -1.456511319329652,
          -1.6257292208567193,
          -0.6674107831292494,
          0.3811991927832541,
          -0.5464922895705291,
          -3.162439502735584,
          -0.658820338868281,
          0.7721719856870062,
          -0.3171154031995474,
          -1.0020734777415063,
          -0.02659884375709406,
          1.4254056731396323,
          0.6836421842787477,
          -0.9772538796145454,
          1.179589205909156,
          0.5452437251135169,
          0.9451720539792436,
          -0.5674693547604166,
          -1.9367879178372351,
          0.09939863026944817,
          0.3788358260021555,
          -0.12359656382636455,
          -0.38458928359784156,
          -0.13612423713165192,
          -0.20220123127288567,
          -0.057722094925038374,
          -0.4215960142227496,
          -1.1817887527339672,
          -0.6820955787736707,
          0.54268553457587,
          2.269274538955471,
          1.399616365283778,
          0.39919861740985063,
          -0.7429824032412617,
          -0.5579151083162384,
          0.49856107072948636,
          -0.6122498520456356,
          -0.5196819457867476,
          0.6580335477597211,
          -1.4453404736418463,
          -1.0683326326666698,
          1.7800123892054036,
          0.33842572157581263,
          1.084922008912415,
          0.710339271478755,
          0.12105239058331187,
          -0.8509752427452628,
          -1.3491238864126032,
          -1.8598394510153693,
          -1.0659054118800213,
          1.3236350429577803,
          0.5444277023592253,
          -0.6727411628076259,
          -0.018547264192752825,
          -0.8071229564449062,
          0.33751660203866807,
          0.1881745849663572,
          0.12260492122922247,
          0.30615558365396084,
          1.2458146238905483,
          1.7110470711557848,
          -0.4800976041892355,
          2.221328091101082,
          0.34503964151741096,
          1.3888534612108372,
          -0.6121543897912833,
          1.5135232133398413,
          0.3550466399495089,
          -0.5125535379885994,
          -0.8684090756031528,
          -0.0880389921588798,
          1.5107179811616,
          -0.07874484690047716,
          -0.5389501748212824,
          0.7535046636019881,
          -0.5600026707788827,
          -0.3110571605343825,
          0.6306288933906005,
          -0.12702949524031082,
          -0.5299579481574125,
          -0.2319476324342638,
          1.1584607557786735,
          -1.5686875302712062,
          0.06172482147957937,
          -0.6198455475019047,
          -2.0770439203968674,
          0.09306099403907173,
          -0.45720135238549225,
          -0.30414649191620025,
          0.03513373986031923
         ]
        }
       ],
       "layout": {
        "legend": {
         "bgcolor": "#F5F6F9",
         "font": {
          "color": "#4D5663"
         }
        },
        "paper_bgcolor": "#F5F6F9",
        "plot_bgcolor": "#F5F6F9",
        "template": {
         "data": {
          "bar": [
           {
            "error_x": {
             "color": "#2a3f5f"
            },
            "error_y": {
             "color": "#2a3f5f"
            },
            "marker": {
             "line": {
              "color": "#E5ECF6",
              "width": 0.5
             },
             "pattern": {
              "fillmode": "overlay",
              "size": 10,
              "solidity": 0.2
             }
            },
            "type": "bar"
           }
          ],
          "barpolar": [
           {
            "marker": {
             "line": {
              "color": "#E5ECF6",
              "width": 0.5
             },
             "pattern": {
              "fillmode": "overlay",
              "size": 10,
              "solidity": 0.2
             }
            },
            "type": "barpolar"
           }
          ],
          "carpet": [
           {
            "aaxis": {
             "endlinecolor": "#2a3f5f",
             "gridcolor": "white",
             "linecolor": "white",
             "minorgridcolor": "white",
             "startlinecolor": "#2a3f5f"
            },
            "baxis": {
             "endlinecolor": "#2a3f5f",
             "gridcolor": "white",
             "linecolor": "white",
             "minorgridcolor": "white",
             "startlinecolor": "#2a3f5f"
            },
            "type": "carpet"
           }
          ],
          "choropleth": [
           {
            "colorbar": {
             "outlinewidth": 0,
             "ticks": ""
            },
            "type": "choropleth"
           }
          ],
          "contour": [
           {
            "colorbar": {
             "outlinewidth": 0,
             "ticks": ""
            },
            "colorscale": [
             [
              0,
              "#0d0887"
             ],
             [
              0.1111111111111111,
              "#46039f"
             ],
             [
              0.2222222222222222,
              "#7201a8"
             ],
             [
              0.3333333333333333,
              "#9c179e"
             ],
             [
              0.4444444444444444,
              "#bd3786"
             ],
             [
              0.5555555555555556,
              "#d8576b"
             ],
             [
              0.6666666666666666,
              "#ed7953"
             ],
             [
              0.7777777777777778,
              "#fb9f3a"
             ],
             [
              0.8888888888888888,
              "#fdca26"
             ],
             [
              1,
              "#f0f921"
             ]
            ],
            "type": "contour"
           }
          ],
          "contourcarpet": [
           {
            "colorbar": {
             "outlinewidth": 0,
             "ticks": ""
            },
            "type": "contourcarpet"
           }
          ],
          "heatmap": [
           {
            "colorbar": {
             "outlinewidth": 0,
             "ticks": ""
            },
            "colorscale": [
             [
              0,
              "#0d0887"
             ],
             [
              0.1111111111111111,
              "#46039f"
             ],
             [
              0.2222222222222222,
              "#7201a8"
             ],
             [
              0.3333333333333333,
              "#9c179e"
             ],
             [
              0.4444444444444444,
              "#bd3786"
             ],
             [
              0.5555555555555556,
              "#d8576b"
             ],
             [
              0.6666666666666666,
              "#ed7953"
             ],
             [
              0.7777777777777778,
              "#fb9f3a"
             ],
             [
              0.8888888888888888,
              "#fdca26"
             ],
             [
              1,
              "#f0f921"
             ]
            ],
            "type": "heatmap"
           }
          ],
          "heatmapgl": [
           {
            "colorbar": {
             "outlinewidth": 0,
             "ticks": ""
            },
            "colorscale": [
             [
              0,
              "#0d0887"
             ],
             [
              0.1111111111111111,
              "#46039f"
             ],
             [
              0.2222222222222222,
              "#7201a8"
             ],
             [
              0.3333333333333333,
              "#9c179e"
             ],
             [
              0.4444444444444444,
              "#bd3786"
             ],
             [
              0.5555555555555556,
              "#d8576b"
             ],
             [
              0.6666666666666666,
              "#ed7953"
             ],
             [
              0.7777777777777778,
              "#fb9f3a"
             ],
             [
              0.8888888888888888,
              "#fdca26"
             ],
             [
              1,
              "#f0f921"
             ]
            ],
            "type": "heatmapgl"
           }
          ],
          "histogram": [
           {
            "marker": {
             "pattern": {
              "fillmode": "overlay",
              "size": 10,
              "solidity": 0.2
             }
            },
            "type": "histogram"
           }
          ],
          "histogram2d": [
           {
            "colorbar": {
             "outlinewidth": 0,
             "ticks": ""
            },
            "colorscale": [
             [
              0,
              "#0d0887"
             ],
             [
              0.1111111111111111,
              "#46039f"
             ],
             [
              0.2222222222222222,
              "#7201a8"
             ],
             [
              0.3333333333333333,
              "#9c179e"
             ],
             [
              0.4444444444444444,
              "#bd3786"
             ],
             [
              0.5555555555555556,
              "#d8576b"
             ],
             [
              0.6666666666666666,
              "#ed7953"
             ],
             [
              0.7777777777777778,
              "#fb9f3a"
             ],
             [
              0.8888888888888888,
              "#fdca26"
             ],
             [
              1,
              "#f0f921"
             ]
            ],
            "type": "histogram2d"
           }
          ],
          "histogram2dcontour": [
           {
            "colorbar": {
             "outlinewidth": 0,
             "ticks": ""
            },
            "colorscale": [
             [
              0,
              "#0d0887"
             ],
             [
              0.1111111111111111,
              "#46039f"
             ],
             [
              0.2222222222222222,
              "#7201a8"
             ],
             [
              0.3333333333333333,
              "#9c179e"
             ],
             [
              0.4444444444444444,
              "#bd3786"
             ],
             [
              0.5555555555555556,
              "#d8576b"
             ],
             [
              0.6666666666666666,
              "#ed7953"
             ],
             [
              0.7777777777777778,
              "#fb9f3a"
             ],
             [
              0.8888888888888888,
              "#fdca26"
             ],
             [
              1,
              "#f0f921"
             ]
            ],
            "type": "histogram2dcontour"
           }
          ],
          "mesh3d": [
           {
            "colorbar": {
             "outlinewidth": 0,
             "ticks": ""
            },
            "type": "mesh3d"
           }
          ],
          "parcoords": [
           {
            "line": {
             "colorbar": {
              "outlinewidth": 0,
              "ticks": ""
             }
            },
            "type": "parcoords"
           }
          ],
          "pie": [
           {
            "automargin": true,
            "type": "pie"
           }
          ],
          "scatter": [
           {
            "marker": {
             "colorbar": {
              "outlinewidth": 0,
              "ticks": ""
             }
            },
            "type": "scatter"
           }
          ],
          "scatter3d": [
           {
            "line": {
             "colorbar": {
              "outlinewidth": 0,
              "ticks": ""
             }
            },
            "marker": {
             "colorbar": {
              "outlinewidth": 0,
              "ticks": ""
             }
            },
            "type": "scatter3d"
           }
          ],
          "scattercarpet": [
           {
            "marker": {
             "colorbar": {
              "outlinewidth": 0,
              "ticks": ""
             }
            },
            "type": "scattercarpet"
           }
          ],
          "scattergeo": [
           {
            "marker": {
             "colorbar": {
              "outlinewidth": 0,
              "ticks": ""
             }
            },
            "type": "scattergeo"
           }
          ],
          "scattergl": [
           {
            "marker": {
             "colorbar": {
              "outlinewidth": 0,
              "ticks": ""
             }
            },
            "type": "scattergl"
           }
          ],
          "scattermapbox": [
           {
            "marker": {
             "colorbar": {
              "outlinewidth": 0,
              "ticks": ""
             }
            },
            "type": "scattermapbox"
           }
          ],
          "scatterpolar": [
           {
            "marker": {
             "colorbar": {
              "outlinewidth": 0,
              "ticks": ""
             }
            },
            "type": "scatterpolar"
           }
          ],
          "scatterpolargl": [
           {
            "marker": {
             "colorbar": {
              "outlinewidth": 0,
              "ticks": ""
             }
            },
            "type": "scatterpolargl"
           }
          ],
          "scatterternary": [
           {
            "marker": {
             "colorbar": {
              "outlinewidth": 0,
              "ticks": ""
             }
            },
            "type": "scatterternary"
           }
          ],
          "surface": [
           {
            "colorbar": {
             "outlinewidth": 0,
             "ticks": ""
            },
            "colorscale": [
             [
              0,
              "#0d0887"
             ],
             [
              0.1111111111111111,
              "#46039f"
             ],
             [
              0.2222222222222222,
              "#7201a8"
             ],
             [
              0.3333333333333333,
              "#9c179e"
             ],
             [
              0.4444444444444444,
              "#bd3786"
             ],
             [
              0.5555555555555556,
              "#d8576b"
             ],
             [
              0.6666666666666666,
              "#ed7953"
             ],
             [
              0.7777777777777778,
              "#fb9f3a"
             ],
             [
              0.8888888888888888,
              "#fdca26"
             ],
             [
              1,
              "#f0f921"
             ]
            ],
            "type": "surface"
           }
          ],
          "table": [
           {
            "cells": {
             "fill": {
              "color": "#EBF0F8"
             },
             "line": {
              "color": "white"
             }
            },
            "header": {
             "fill": {
              "color": "#C8D4E3"
             },
             "line": {
              "color": "white"
             }
            },
            "type": "table"
           }
          ]
         },
         "layout": {
          "annotationdefaults": {
           "arrowcolor": "#2a3f5f",
           "arrowhead": 0,
           "arrowwidth": 1
          },
          "autotypenumbers": "strict",
          "coloraxis": {
           "colorbar": {
            "outlinewidth": 0,
            "ticks": ""
           }
          },
          "colorscale": {
           "diverging": [
            [
             0,
             "#8e0152"
            ],
            [
             0.1,
             "#c51b7d"
            ],
            [
             0.2,
             "#de77ae"
            ],
            [
             0.3,
             "#f1b6da"
            ],
            [
             0.4,
             "#fde0ef"
            ],
            [
             0.5,
             "#f7f7f7"
            ],
            [
             0.6,
             "#e6f5d0"
            ],
            [
             0.7,
             "#b8e186"
            ],
            [
             0.8,
             "#7fbc41"
            ],
            [
             0.9,
             "#4d9221"
            ],
            [
             1,
             "#276419"
            ]
           ],
           "sequential": [
            [
             0,
             "#0d0887"
            ],
            [
             0.1111111111111111,
             "#46039f"
            ],
            [
             0.2222222222222222,
             "#7201a8"
            ],
            [
             0.3333333333333333,
             "#9c179e"
            ],
            [
             0.4444444444444444,
             "#bd3786"
            ],
            [
             0.5555555555555556,
             "#d8576b"
            ],
            [
             0.6666666666666666,
             "#ed7953"
            ],
            [
             0.7777777777777778,
             "#fb9f3a"
            ],
            [
             0.8888888888888888,
             "#fdca26"
            ],
            [
             1,
             "#f0f921"
            ]
           ],
           "sequentialminus": [
            [
             0,
             "#0d0887"
            ],
            [
             0.1111111111111111,
             "#46039f"
            ],
            [
             0.2222222222222222,
             "#7201a8"
            ],
            [
             0.3333333333333333,
             "#9c179e"
            ],
            [
             0.4444444444444444,
             "#bd3786"
            ],
            [
             0.5555555555555556,
             "#d8576b"
            ],
            [
             0.6666666666666666,
             "#ed7953"
            ],
            [
             0.7777777777777778,
             "#fb9f3a"
            ],
            [
             0.8888888888888888,
             "#fdca26"
            ],
            [
             1,
             "#f0f921"
            ]
           ]
          },
          "colorway": [
           "#636efa",
           "#EF553B",
           "#00cc96",
           "#ab63fa",
           "#FFA15A",
           "#19d3f3",
           "#FF6692",
           "#B6E880",
           "#FF97FF",
           "#FECB52"
          ],
          "font": {
           "color": "#2a3f5f"
          },
          "geo": {
           "bgcolor": "white",
           "lakecolor": "white",
           "landcolor": "#E5ECF6",
           "showlakes": true,
           "showland": true,
           "subunitcolor": "white"
          },
          "hoverlabel": {
           "align": "left"
          },
          "hovermode": "closest",
          "mapbox": {
           "style": "light"
          },
          "paper_bgcolor": "white",
          "plot_bgcolor": "#E5ECF6",
          "polar": {
           "angularaxis": {
            "gridcolor": "white",
            "linecolor": "white",
            "ticks": ""
           },
           "bgcolor": "#E5ECF6",
           "radialaxis": {
            "gridcolor": "white",
            "linecolor": "white",
            "ticks": ""
           }
          },
          "scene": {
           "xaxis": {
            "backgroundcolor": "#E5ECF6",
            "gridcolor": "white",
            "gridwidth": 2,
            "linecolor": "white",
            "showbackground": true,
            "ticks": "",
            "zerolinecolor": "white"
           },
           "yaxis": {
            "backgroundcolor": "#E5ECF6",
            "gridcolor": "white",
            "gridwidth": 2,
            "linecolor": "white",
            "showbackground": true,
            "ticks": "",
            "zerolinecolor": "white"
           },
           "zaxis": {
            "backgroundcolor": "#E5ECF6",
            "gridcolor": "white",
            "gridwidth": 2,
            "linecolor": "white",
            "showbackground": true,
            "ticks": "",
            "zerolinecolor": "white"
           }
          },
          "shapedefaults": {
           "line": {
            "color": "#2a3f5f"
           }
          },
          "ternary": {
           "aaxis": {
            "gridcolor": "white",
            "linecolor": "white",
            "ticks": ""
           },
           "baxis": {
            "gridcolor": "white",
            "linecolor": "white",
            "ticks": ""
           },
           "bgcolor": "#E5ECF6",
           "caxis": {
            "gridcolor": "white",
            "linecolor": "white",
            "ticks": ""
           }
          },
          "title": {
           "x": 0.05
          },
          "xaxis": {
           "automargin": true,
           "gridcolor": "white",
           "linecolor": "white",
           "ticks": "",
           "title": {
            "standoff": 15
           },
           "zerolinecolor": "white",
           "zerolinewidth": 2
          },
          "yaxis": {
           "automargin": true,
           "gridcolor": "white",
           "linecolor": "white",
           "ticks": "",
           "title": {
            "standoff": 15
           },
           "zerolinecolor": "white",
           "zerolinewidth": 2
          }
         }
        },
        "title": {
         "font": {
          "color": "#4D5663"
         }
        },
        "xaxis": {
         "gridcolor": "#E1E5ED",
         "showgrid": true,
         "tickfont": {
          "color": "#4D5663"
         },
         "title": {
          "font": {
           "color": "#4D5663"
          },
          "text": ""
         },
         "zerolinecolor": "#E1E5ED"
        },
        "yaxis": {
         "gridcolor": "#E1E5ED",
         "showgrid": true,
         "tickfont": {
          "color": "#4D5663"
         },
         "title": {
          "font": {
           "color": "#4D5663"
          },
          "text": ""
         },
         "zerolinecolor": "#E1E5ED"
        }
       }
      },
      "text/html": [
       "<div>                            <div id=\"aa646f28-0772-4ff8-91a3-1a202900dafb\" class=\"plotly-graph-div\" style=\"height:525px; width:100%;\"></div>            <script type=\"text/javascript\">                require([\"plotly\"], function(Plotly) {                    window.PLOTLYENV=window.PLOTLYENV || {};\n",
       "                    window.PLOTLYENV.BASE_URL='https://plot.ly';                                    if (document.getElementById(\"aa646f28-0772-4ff8-91a3-1a202900dafb\")) {                    Plotly.newPlot(                        \"aa646f28-0772-4ff8-91a3-1a202900dafb\",                        [{\"line\":{\"color\":\"rgba(255, 153, 51, 1.0)\",\"dash\":\"solid\",\"shape\":\"linear\",\"width\":1.3},\"mode\":\"lines\",\"name\":\"B\",\"text\":\"\",\"type\":\"scatter\",\"x\":[-0.9059946344274774,-0.4228448892570872,0.32823669086437185,0.6558818756618977,-0.23279394393207223,0.6525595480366613,-1.6915425316219246,0.19774000582771878,0.2527613251803961,1.2212768041507416,-1.0510831617170036,-0.7793914985082284,0.806056944934075,-0.6311019866196699,0.934877974567317,0.16080341281909977,-0.26044787101587635,-1.1189492025341188,0.9314131210571004,1.637803872997042,0.6740388916031278,1.0131855330251243,1.0735801831928784,0.937155505884544,-0.9383642090609543,-1.4125546602473755,-1.3961261570716632,1.4624065012532907,1.5085679801507355,0.37384897602131767,0.14589136140687492,-0.23095768454721793,-2.3629173679389783,0.25331855988772656,-0.3115860491141523,-0.3030080296653969,0.8976458438423921,-0.22670266681646012,0.41600691876623586,0.44298800896287893,0.48238892353758295,2.8740147943888767,1.2137085672267414,-0.5078538839778108,0.2712852957322795,0.48451943108122075,0.7602644879314184,1.066266090804438,-0.7210114083722396,0.32916613351098817,0.21287846776990083,1.3120634164376894,1.4845215944923633,1.2118529866244876,-0.35062596725697137,1.4679054114460215,0.5946197808733853,0.7653928202932211,0.502620298066773,-0.4655955727577539,-0.7795213169381651,-0.5835420380031595,0.581868964354893,-0.8446734086931094,-0.6104474804218408,-0.49453527742225606,0.03616565350186925,1.677717127944498,-0.13111115072431645,0.35354551803517,-1.1395729739401037,1.087329072160173,1.9901243821040628,1.4587485333823857,0.5863304514720385,-1.72328053440473,-0.33482969209209335,-0.5675569496541126,-0.7552568197099411,0.984241478144492,0.5130936566082164,1.007047428091453,-0.25229733785962855,-1.0765534930300449,-1.0836901842430446,1.251316893181913,-0.061947611188396756,-1.5090608602782263,0.5407038713008661,-0.7598080181281253,-2.24033822867379,-1.025455849018686,-0.6449593030755074,-2.3407345468245557,1.9319811029535663,0.44323959373215516,-0.3715898916904119,0.7183414221195205,0.9328345702391438,0.7111546819960841],\"y\":[0.39809897088173535,-0.14652925480192855,0.9857309327643848,-0.8247877220344356,-0.7171326813869001,0.27152193419855913,-0.14087040880362503,-0.0890924278317126,1.3250570353670188,0.09866929384221915,-1.456511319329652,-1.6257292208567193,-0.6674107831292494,0.3811991927832541,-0.5464922895705291,-3.162439502735584,-0.658820338868281,0.7721719856870062,-0.3171154031995474,-1.0020734777415063,-0.02659884375709406,1.4254056731396323,0.6836421842787477,-0.9772538796145454,1.179589205909156,0.5452437251135169,0.9451720539792436,-0.5674693547604166,-1.9367879178372351,0.09939863026944817,0.3788358260021555,-0.12359656382636455,-0.38458928359784156,-0.13612423713165192,-0.20220123127288567,-0.057722094925038374,-0.4215960142227496,-1.1817887527339672,-0.6820955787736707,0.54268553457587,2.269274538955471,1.399616365283778,0.39919861740985063,-0.7429824032412617,-0.5579151083162384,0.49856107072948636,-0.6122498520456356,-0.5196819457867476,0.6580335477597211,-1.4453404736418463,-1.0683326326666698,1.7800123892054036,0.33842572157581263,1.084922008912415,0.710339271478755,0.12105239058331187,-0.8509752427452628,-1.3491238864126032,-1.8598394510153693,-1.0659054118800213,1.3236350429577803,0.5444277023592253,-0.6727411628076259,-0.018547264192752825,-0.8071229564449062,0.33751660203866807,0.1881745849663572,0.12260492122922247,0.30615558365396084,1.2458146238905483,1.7110470711557848,-0.4800976041892355,2.221328091101082,0.34503964151741096,1.3888534612108372,-0.6121543897912833,1.5135232133398413,0.3550466399495089,-0.5125535379885994,-0.8684090756031528,-0.0880389921588798,1.5107179811616,-0.07874484690047716,-0.5389501748212824,0.7535046636019881,-0.5600026707788827,-0.3110571605343825,0.6306288933906005,-0.12702949524031082,-0.5299579481574125,-0.2319476324342638,1.1584607557786735,-1.5686875302712062,0.06172482147957937,-0.6198455475019047,-2.0770439203968674,0.09306099403907173,-0.45720135238549225,-0.30414649191620025,0.03513373986031923]}],                        {\"legend\":{\"bgcolor\":\"#F5F6F9\",\"font\":{\"color\":\"#4D5663\"}},\"paper_bgcolor\":\"#F5F6F9\",\"plot_bgcolor\":\"#F5F6F9\",\"template\":{\"data\":{\"bar\":[{\"error_x\":{\"color\":\"#2a3f5f\"},\"error_y\":{\"color\":\"#2a3f5f\"},\"marker\":{\"line\":{\"color\":\"#E5ECF6\",\"width\":0.5},\"pattern\":{\"fillmode\":\"overlay\",\"size\":10,\"solidity\":0.2}},\"type\":\"bar\"}],\"barpolar\":[{\"marker\":{\"line\":{\"color\":\"#E5ECF6\",\"width\":0.5},\"pattern\":{\"fillmode\":\"overlay\",\"size\":10,\"solidity\":0.2}},\"type\":\"barpolar\"}],\"carpet\":[{\"aaxis\":{\"endlinecolor\":\"#2a3f5f\",\"gridcolor\":\"white\",\"linecolor\":\"white\",\"minorgridcolor\":\"white\",\"startlinecolor\":\"#2a3f5f\"},\"baxis\":{\"endlinecolor\":\"#2a3f5f\",\"gridcolor\":\"white\",\"linecolor\":\"white\",\"minorgridcolor\":\"white\",\"startlinecolor\":\"#2a3f5f\"},\"type\":\"carpet\"}],\"choropleth\":[{\"colorbar\":{\"outlinewidth\":0,\"ticks\":\"\"},\"type\":\"choropleth\"}],\"contour\":[{\"colorbar\":{\"outlinewidth\":0,\"ticks\":\"\"},\"colorscale\":[[0.0,\"#0d0887\"],[0.1111111111111111,\"#46039f\"],[0.2222222222222222,\"#7201a8\"],[0.3333333333333333,\"#9c179e\"],[0.4444444444444444,\"#bd3786\"],[0.5555555555555556,\"#d8576b\"],[0.6666666666666666,\"#ed7953\"],[0.7777777777777778,\"#fb9f3a\"],[0.8888888888888888,\"#fdca26\"],[1.0,\"#f0f921\"]],\"type\":\"contour\"}],\"contourcarpet\":[{\"colorbar\":{\"outlinewidth\":0,\"ticks\":\"\"},\"type\":\"contourcarpet\"}],\"heatmap\":[{\"colorbar\":{\"outlinewidth\":0,\"ticks\":\"\"},\"colorscale\":[[0.0,\"#0d0887\"],[0.1111111111111111,\"#46039f\"],[0.2222222222222222,\"#7201a8\"],[0.3333333333333333,\"#9c179e\"],[0.4444444444444444,\"#bd3786\"],[0.5555555555555556,\"#d8576b\"],[0.6666666666666666,\"#ed7953\"],[0.7777777777777778,\"#fb9f3a\"],[0.8888888888888888,\"#fdca26\"],[1.0,\"#f0f921\"]],\"type\":\"heatmap\"}],\"heatmapgl\":[{\"colorbar\":{\"outlinewidth\":0,\"ticks\":\"\"},\"colorscale\":[[0.0,\"#0d0887\"],[0.1111111111111111,\"#46039f\"],[0.2222222222222222,\"#7201a8\"],[0.3333333333333333,\"#9c179e\"],[0.4444444444444444,\"#bd3786\"],[0.5555555555555556,\"#d8576b\"],[0.6666666666666666,\"#ed7953\"],[0.7777777777777778,\"#fb9f3a\"],[0.8888888888888888,\"#fdca26\"],[1.0,\"#f0f921\"]],\"type\":\"heatmapgl\"}],\"histogram\":[{\"marker\":{\"pattern\":{\"fillmode\":\"overlay\",\"size\":10,\"solidity\":0.2}},\"type\":\"histogram\"}],\"histogram2d\":[{\"colorbar\":{\"outlinewidth\":0,\"ticks\":\"\"},\"colorscale\":[[0.0,\"#0d0887\"],[0.1111111111111111,\"#46039f\"],[0.2222222222222222,\"#7201a8\"],[0.3333333333333333,\"#9c179e\"],[0.4444444444444444,\"#bd3786\"],[0.5555555555555556,\"#d8576b\"],[0.6666666666666666,\"#ed7953\"],[0.7777777777777778,\"#fb9f3a\"],[0.8888888888888888,\"#fdca26\"],[1.0,\"#f0f921\"]],\"type\":\"histogram2d\"}],\"histogram2dcontour\":[{\"colorbar\":{\"outlinewidth\":0,\"ticks\":\"\"},\"colorscale\":[[0.0,\"#0d0887\"],[0.1111111111111111,\"#46039f\"],[0.2222222222222222,\"#7201a8\"],[0.3333333333333333,\"#9c179e\"],[0.4444444444444444,\"#bd3786\"],[0.5555555555555556,\"#d8576b\"],[0.6666666666666666,\"#ed7953\"],[0.7777777777777778,\"#fb9f3a\"],[0.8888888888888888,\"#fdca26\"],[1.0,\"#f0f921\"]],\"type\":\"histogram2dcontour\"}],\"mesh3d\":[{\"colorbar\":{\"outlinewidth\":0,\"ticks\":\"\"},\"type\":\"mesh3d\"}],\"parcoords\":[{\"line\":{\"colorbar\":{\"outlinewidth\":0,\"ticks\":\"\"}},\"type\":\"parcoords\"}],\"pie\":[{\"automargin\":true,\"type\":\"pie\"}],\"scatter\":[{\"marker\":{\"colorbar\":{\"outlinewidth\":0,\"ticks\":\"\"}},\"type\":\"scatter\"}],\"scatter3d\":[{\"line\":{\"colorbar\":{\"outlinewidth\":0,\"ticks\":\"\"}},\"marker\":{\"colorbar\":{\"outlinewidth\":0,\"ticks\":\"\"}},\"type\":\"scatter3d\"}],\"scattercarpet\":[{\"marker\":{\"colorbar\":{\"outlinewidth\":0,\"ticks\":\"\"}},\"type\":\"scattercarpet\"}],\"scattergeo\":[{\"marker\":{\"colorbar\":{\"outlinewidth\":0,\"ticks\":\"\"}},\"type\":\"scattergeo\"}],\"scattergl\":[{\"marker\":{\"colorbar\":{\"outlinewidth\":0,\"ticks\":\"\"}},\"type\":\"scattergl\"}],\"scattermapbox\":[{\"marker\":{\"colorbar\":{\"outlinewidth\":0,\"ticks\":\"\"}},\"type\":\"scattermapbox\"}],\"scatterpolar\":[{\"marker\":{\"colorbar\":{\"outlinewidth\":0,\"ticks\":\"\"}},\"type\":\"scatterpolar\"}],\"scatterpolargl\":[{\"marker\":{\"colorbar\":{\"outlinewidth\":0,\"ticks\":\"\"}},\"type\":\"scatterpolargl\"}],\"scatterternary\":[{\"marker\":{\"colorbar\":{\"outlinewidth\":0,\"ticks\":\"\"}},\"type\":\"scatterternary\"}],\"surface\":[{\"colorbar\":{\"outlinewidth\":0,\"ticks\":\"\"},\"colorscale\":[[0.0,\"#0d0887\"],[0.1111111111111111,\"#46039f\"],[0.2222222222222222,\"#7201a8\"],[0.3333333333333333,\"#9c179e\"],[0.4444444444444444,\"#bd3786\"],[0.5555555555555556,\"#d8576b\"],[0.6666666666666666,\"#ed7953\"],[0.7777777777777778,\"#fb9f3a\"],[0.8888888888888888,\"#fdca26\"],[1.0,\"#f0f921\"]],\"type\":\"surface\"}],\"table\":[{\"cells\":{\"fill\":{\"color\":\"#EBF0F8\"},\"line\":{\"color\":\"white\"}},\"header\":{\"fill\":{\"color\":\"#C8D4E3\"},\"line\":{\"color\":\"white\"}},\"type\":\"table\"}]},\"layout\":{\"annotationdefaults\":{\"arrowcolor\":\"#2a3f5f\",\"arrowhead\":0,\"arrowwidth\":1},\"autotypenumbers\":\"strict\",\"coloraxis\":{\"colorbar\":{\"outlinewidth\":0,\"ticks\":\"\"}},\"colorscale\":{\"diverging\":[[0,\"#8e0152\"],[0.1,\"#c51b7d\"],[0.2,\"#de77ae\"],[0.3,\"#f1b6da\"],[0.4,\"#fde0ef\"],[0.5,\"#f7f7f7\"],[0.6,\"#e6f5d0\"],[0.7,\"#b8e186\"],[0.8,\"#7fbc41\"],[0.9,\"#4d9221\"],[1,\"#276419\"]],\"sequential\":[[0.0,\"#0d0887\"],[0.1111111111111111,\"#46039f\"],[0.2222222222222222,\"#7201a8\"],[0.3333333333333333,\"#9c179e\"],[0.4444444444444444,\"#bd3786\"],[0.5555555555555556,\"#d8576b\"],[0.6666666666666666,\"#ed7953\"],[0.7777777777777778,\"#fb9f3a\"],[0.8888888888888888,\"#fdca26\"],[1.0,\"#f0f921\"]],\"sequentialminus\":[[0.0,\"#0d0887\"],[0.1111111111111111,\"#46039f\"],[0.2222222222222222,\"#7201a8\"],[0.3333333333333333,\"#9c179e\"],[0.4444444444444444,\"#bd3786\"],[0.5555555555555556,\"#d8576b\"],[0.6666666666666666,\"#ed7953\"],[0.7777777777777778,\"#fb9f3a\"],[0.8888888888888888,\"#fdca26\"],[1.0,\"#f0f921\"]]},\"colorway\":[\"#636efa\",\"#EF553B\",\"#00cc96\",\"#ab63fa\",\"#FFA15A\",\"#19d3f3\",\"#FF6692\",\"#B6E880\",\"#FF97FF\",\"#FECB52\"],\"font\":{\"color\":\"#2a3f5f\"},\"geo\":{\"bgcolor\":\"white\",\"lakecolor\":\"white\",\"landcolor\":\"#E5ECF6\",\"showlakes\":true,\"showland\":true,\"subunitcolor\":\"white\"},\"hoverlabel\":{\"align\":\"left\"},\"hovermode\":\"closest\",\"mapbox\":{\"style\":\"light\"},\"paper_bgcolor\":\"white\",\"plot_bgcolor\":\"#E5ECF6\",\"polar\":{\"angularaxis\":{\"gridcolor\":\"white\",\"linecolor\":\"white\",\"ticks\":\"\"},\"bgcolor\":\"#E5ECF6\",\"radialaxis\":{\"gridcolor\":\"white\",\"linecolor\":\"white\",\"ticks\":\"\"}},\"scene\":{\"xaxis\":{\"backgroundcolor\":\"#E5ECF6\",\"gridcolor\":\"white\",\"gridwidth\":2,\"linecolor\":\"white\",\"showbackground\":true,\"ticks\":\"\",\"zerolinecolor\":\"white\"},\"yaxis\":{\"backgroundcolor\":\"#E5ECF6\",\"gridcolor\":\"white\",\"gridwidth\":2,\"linecolor\":\"white\",\"showbackground\":true,\"ticks\":\"\",\"zerolinecolor\":\"white\"},\"zaxis\":{\"backgroundcolor\":\"#E5ECF6\",\"gridcolor\":\"white\",\"gridwidth\":2,\"linecolor\":\"white\",\"showbackground\":true,\"ticks\":\"\",\"zerolinecolor\":\"white\"}},\"shapedefaults\":{\"line\":{\"color\":\"#2a3f5f\"}},\"ternary\":{\"aaxis\":{\"gridcolor\":\"white\",\"linecolor\":\"white\",\"ticks\":\"\"},\"baxis\":{\"gridcolor\":\"white\",\"linecolor\":\"white\",\"ticks\":\"\"},\"bgcolor\":\"#E5ECF6\",\"caxis\":{\"gridcolor\":\"white\",\"linecolor\":\"white\",\"ticks\":\"\"}},\"title\":{\"x\":0.05},\"xaxis\":{\"automargin\":true,\"gridcolor\":\"white\",\"linecolor\":\"white\",\"ticks\":\"\",\"title\":{\"standoff\":15},\"zerolinecolor\":\"white\",\"zerolinewidth\":2},\"yaxis\":{\"automargin\":true,\"gridcolor\":\"white\",\"linecolor\":\"white\",\"ticks\":\"\",\"title\":{\"standoff\":15},\"zerolinecolor\":\"white\",\"zerolinewidth\":2}}},\"title\":{\"font\":{\"color\":\"#4D5663\"}},\"xaxis\":{\"gridcolor\":\"#E1E5ED\",\"showgrid\":true,\"tickfont\":{\"color\":\"#4D5663\"},\"title\":{\"font\":{\"color\":\"#4D5663\"},\"text\":\"\"},\"zerolinecolor\":\"#E1E5ED\"},\"yaxis\":{\"gridcolor\":\"#E1E5ED\",\"showgrid\":true,\"tickfont\":{\"color\":\"#4D5663\"},\"title\":{\"font\":{\"color\":\"#4D5663\"},\"text\":\"\"},\"zerolinecolor\":\"#E1E5ED\"}},                        {\"showLink\": true, \"linkText\": \"Export to plot.ly\", \"plotlyServerURL\": \"https://plot.ly\", \"responsive\": true}                    ).then(function(){\n",
       "                            \n",
       "var gd = document.getElementById('aa646f28-0772-4ff8-91a3-1a202900dafb');\n",
       "var x = new MutationObserver(function (mutations, observer) {{\n",
       "        var display = window.getComputedStyle(gd).display;\n",
       "        if (!display || display === 'none') {{\n",
       "            console.log([gd, 'removed!']);\n",
       "            Plotly.purge(gd);\n",
       "            observer.disconnect();\n",
       "        }}\n",
       "}});\n",
       "\n",
       "// Listen for the removal of the full notebook cells\n",
       "var notebookContainer = gd.closest('#notebook-container');\n",
       "if (notebookContainer) {{\n",
       "    x.observe(notebookContainer, {childList: true});\n",
       "}}\n",
       "\n",
       "// Listen for the clearing of the current output cell\n",
       "var outputEl = gd.closest('.output');\n",
       "if (outputEl) {{\n",
       "    x.observe(outputEl, {childList: true});\n",
       "}}\n",
       "\n",
       "                        })                };                });            </script>        </div>"
      ]
     },
     "metadata": {},
     "output_type": "display_data"
    }
   ],
   "source": [
    "df.iplot(kind=\"scatter\",x=\"A\",y=\"B\")"
   ]
  },
  {
   "cell_type": "code",
   "execution_count": 13,
   "metadata": {},
   "outputs": [
    {
     "data": {
      "application/vnd.plotly.v1+json": {
       "config": {
        "linkText": "Export to plot.ly",
        "plotlyServerURL": "https://plot.ly",
        "showLink": true
       },
       "data": [
        {
         "line": {
          "color": "rgba(255, 153, 51, 1.0)",
          "dash": "solid",
          "shape": "linear",
          "width": 1.3
         },
         "marker": {
          "size": 10,
          "symbol": "circle"
         },
         "mode": "markers",
         "name": "B",
         "text": "",
         "type": "scatter",
         "x": [
          -0.9059946344274774,
          -0.4228448892570872,
          0.32823669086437185,
          0.6558818756618977,
          -0.23279394393207223,
          0.6525595480366613,
          -1.6915425316219246,
          0.19774000582771878,
          0.2527613251803961,
          1.2212768041507416,
          -1.0510831617170036,
          -0.7793914985082284,
          0.806056944934075,
          -0.6311019866196699,
          0.934877974567317,
          0.16080341281909977,
          -0.26044787101587635,
          -1.1189492025341188,
          0.9314131210571004,
          1.637803872997042,
          0.6740388916031278,
          1.0131855330251243,
          1.0735801831928784,
          0.937155505884544,
          -0.9383642090609543,
          -1.4125546602473755,
          -1.3961261570716632,
          1.4624065012532907,
          1.5085679801507355,
          0.37384897602131767,
          0.14589136140687492,
          -0.23095768454721793,
          -2.3629173679389783,
          0.25331855988772656,
          -0.3115860491141523,
          -0.3030080296653969,
          0.8976458438423921,
          -0.22670266681646012,
          0.41600691876623586,
          0.44298800896287893,
          0.48238892353758295,
          2.8740147943888767,
          1.2137085672267414,
          -0.5078538839778108,
          0.2712852957322795,
          0.48451943108122075,
          0.7602644879314184,
          1.066266090804438,
          -0.7210114083722396,
          0.32916613351098817,
          0.21287846776990083,
          1.3120634164376894,
          1.4845215944923633,
          1.2118529866244876,
          -0.35062596725697137,
          1.4679054114460215,
          0.5946197808733853,
          0.7653928202932211,
          0.502620298066773,
          -0.4655955727577539,
          -0.7795213169381651,
          -0.5835420380031595,
          0.581868964354893,
          -0.8446734086931094,
          -0.6104474804218408,
          -0.49453527742225606,
          0.03616565350186925,
          1.677717127944498,
          -0.13111115072431645,
          0.35354551803517,
          -1.1395729739401037,
          1.087329072160173,
          1.9901243821040628,
          1.4587485333823857,
          0.5863304514720385,
          -1.72328053440473,
          -0.33482969209209335,
          -0.5675569496541126,
          -0.7552568197099411,
          0.984241478144492,
          0.5130936566082164,
          1.007047428091453,
          -0.25229733785962855,
          -1.0765534930300449,
          -1.0836901842430446,
          1.251316893181913,
          -0.061947611188396756,
          -1.5090608602782263,
          0.5407038713008661,
          -0.7598080181281253,
          -2.24033822867379,
          -1.025455849018686,
          -0.6449593030755074,
          -2.3407345468245557,
          1.9319811029535663,
          0.44323959373215516,
          -0.3715898916904119,
          0.7183414221195205,
          0.9328345702391438,
          0.7111546819960841
         ],
         "y": [
          0.39809897088173535,
          -0.14652925480192855,
          0.9857309327643848,
          -0.8247877220344356,
          -0.7171326813869001,
          0.27152193419855913,
          -0.14087040880362503,
          -0.0890924278317126,
          1.3250570353670188,
          0.09866929384221915,
          -1.456511319329652,
          -1.6257292208567193,
          -0.6674107831292494,
          0.3811991927832541,
          -0.5464922895705291,
          -3.162439502735584,
          -0.658820338868281,
          0.7721719856870062,
          -0.3171154031995474,
          -1.0020734777415063,
          -0.02659884375709406,
          1.4254056731396323,
          0.6836421842787477,
          -0.9772538796145454,
          1.179589205909156,
          0.5452437251135169,
          0.9451720539792436,
          -0.5674693547604166,
          -1.9367879178372351,
          0.09939863026944817,
          0.3788358260021555,
          -0.12359656382636455,
          -0.38458928359784156,
          -0.13612423713165192,
          -0.20220123127288567,
          -0.057722094925038374,
          -0.4215960142227496,
          -1.1817887527339672,
          -0.6820955787736707,
          0.54268553457587,
          2.269274538955471,
          1.399616365283778,
          0.39919861740985063,
          -0.7429824032412617,
          -0.5579151083162384,
          0.49856107072948636,
          -0.6122498520456356,
          -0.5196819457867476,
          0.6580335477597211,
          -1.4453404736418463,
          -1.0683326326666698,
          1.7800123892054036,
          0.33842572157581263,
          1.084922008912415,
          0.710339271478755,
          0.12105239058331187,
          -0.8509752427452628,
          -1.3491238864126032,
          -1.8598394510153693,
          -1.0659054118800213,
          1.3236350429577803,
          0.5444277023592253,
          -0.6727411628076259,
          -0.018547264192752825,
          -0.8071229564449062,
          0.33751660203866807,
          0.1881745849663572,
          0.12260492122922247,
          0.30615558365396084,
          1.2458146238905483,
          1.7110470711557848,
          -0.4800976041892355,
          2.221328091101082,
          0.34503964151741096,
          1.3888534612108372,
          -0.6121543897912833,
          1.5135232133398413,
          0.3550466399495089,
          -0.5125535379885994,
          -0.8684090756031528,
          -0.0880389921588798,
          1.5107179811616,
          -0.07874484690047716,
          -0.5389501748212824,
          0.7535046636019881,
          -0.5600026707788827,
          -0.3110571605343825,
          0.6306288933906005,
          -0.12702949524031082,
          -0.5299579481574125,
          -0.2319476324342638,
          1.1584607557786735,
          -1.5686875302712062,
          0.06172482147957937,
          -0.6198455475019047,
          -2.0770439203968674,
          0.09306099403907173,
          -0.45720135238549225,
          -0.30414649191620025,
          0.03513373986031923
         ]
        }
       ],
       "layout": {
        "legend": {
         "bgcolor": "#F5F6F9",
         "font": {
          "color": "#4D5663"
         }
        },
        "paper_bgcolor": "#F5F6F9",
        "plot_bgcolor": "#F5F6F9",
        "template": {
         "data": {
          "bar": [
           {
            "error_x": {
             "color": "#2a3f5f"
            },
            "error_y": {
             "color": "#2a3f5f"
            },
            "marker": {
             "line": {
              "color": "#E5ECF6",
              "width": 0.5
             },
             "pattern": {
              "fillmode": "overlay",
              "size": 10,
              "solidity": 0.2
             }
            },
            "type": "bar"
           }
          ],
          "barpolar": [
           {
            "marker": {
             "line": {
              "color": "#E5ECF6",
              "width": 0.5
             },
             "pattern": {
              "fillmode": "overlay",
              "size": 10,
              "solidity": 0.2
             }
            },
            "type": "barpolar"
           }
          ],
          "carpet": [
           {
            "aaxis": {
             "endlinecolor": "#2a3f5f",
             "gridcolor": "white",
             "linecolor": "white",
             "minorgridcolor": "white",
             "startlinecolor": "#2a3f5f"
            },
            "baxis": {
             "endlinecolor": "#2a3f5f",
             "gridcolor": "white",
             "linecolor": "white",
             "minorgridcolor": "white",
             "startlinecolor": "#2a3f5f"
            },
            "type": "carpet"
           }
          ],
          "choropleth": [
           {
            "colorbar": {
             "outlinewidth": 0,
             "ticks": ""
            },
            "type": "choropleth"
           }
          ],
          "contour": [
           {
            "colorbar": {
             "outlinewidth": 0,
             "ticks": ""
            },
            "colorscale": [
             [
              0,
              "#0d0887"
             ],
             [
              0.1111111111111111,
              "#46039f"
             ],
             [
              0.2222222222222222,
              "#7201a8"
             ],
             [
              0.3333333333333333,
              "#9c179e"
             ],
             [
              0.4444444444444444,
              "#bd3786"
             ],
             [
              0.5555555555555556,
              "#d8576b"
             ],
             [
              0.6666666666666666,
              "#ed7953"
             ],
             [
              0.7777777777777778,
              "#fb9f3a"
             ],
             [
              0.8888888888888888,
              "#fdca26"
             ],
             [
              1,
              "#f0f921"
             ]
            ],
            "type": "contour"
           }
          ],
          "contourcarpet": [
           {
            "colorbar": {
             "outlinewidth": 0,
             "ticks": ""
            },
            "type": "contourcarpet"
           }
          ],
          "heatmap": [
           {
            "colorbar": {
             "outlinewidth": 0,
             "ticks": ""
            },
            "colorscale": [
             [
              0,
              "#0d0887"
             ],
             [
              0.1111111111111111,
              "#46039f"
             ],
             [
              0.2222222222222222,
              "#7201a8"
             ],
             [
              0.3333333333333333,
              "#9c179e"
             ],
             [
              0.4444444444444444,
              "#bd3786"
             ],
             [
              0.5555555555555556,
              "#d8576b"
             ],
             [
              0.6666666666666666,
              "#ed7953"
             ],
             [
              0.7777777777777778,
              "#fb9f3a"
             ],
             [
              0.8888888888888888,
              "#fdca26"
             ],
             [
              1,
              "#f0f921"
             ]
            ],
            "type": "heatmap"
           }
          ],
          "heatmapgl": [
           {
            "colorbar": {
             "outlinewidth": 0,
             "ticks": ""
            },
            "colorscale": [
             [
              0,
              "#0d0887"
             ],
             [
              0.1111111111111111,
              "#46039f"
             ],
             [
              0.2222222222222222,
              "#7201a8"
             ],
             [
              0.3333333333333333,
              "#9c179e"
             ],
             [
              0.4444444444444444,
              "#bd3786"
             ],
             [
              0.5555555555555556,
              "#d8576b"
             ],
             [
              0.6666666666666666,
              "#ed7953"
             ],
             [
              0.7777777777777778,
              "#fb9f3a"
             ],
             [
              0.8888888888888888,
              "#fdca26"
             ],
             [
              1,
              "#f0f921"
             ]
            ],
            "type": "heatmapgl"
           }
          ],
          "histogram": [
           {
            "marker": {
             "pattern": {
              "fillmode": "overlay",
              "size": 10,
              "solidity": 0.2
             }
            },
            "type": "histogram"
           }
          ],
          "histogram2d": [
           {
            "colorbar": {
             "outlinewidth": 0,
             "ticks": ""
            },
            "colorscale": [
             [
              0,
              "#0d0887"
             ],
             [
              0.1111111111111111,
              "#46039f"
             ],
             [
              0.2222222222222222,
              "#7201a8"
             ],
             [
              0.3333333333333333,
              "#9c179e"
             ],
             [
              0.4444444444444444,
              "#bd3786"
             ],
             [
              0.5555555555555556,
              "#d8576b"
             ],
             [
              0.6666666666666666,
              "#ed7953"
             ],
             [
              0.7777777777777778,
              "#fb9f3a"
             ],
             [
              0.8888888888888888,
              "#fdca26"
             ],
             [
              1,
              "#f0f921"
             ]
            ],
            "type": "histogram2d"
           }
          ],
          "histogram2dcontour": [
           {
            "colorbar": {
             "outlinewidth": 0,
             "ticks": ""
            },
            "colorscale": [
             [
              0,
              "#0d0887"
             ],
             [
              0.1111111111111111,
              "#46039f"
             ],
             [
              0.2222222222222222,
              "#7201a8"
             ],
             [
              0.3333333333333333,
              "#9c179e"
             ],
             [
              0.4444444444444444,
              "#bd3786"
             ],
             [
              0.5555555555555556,
              "#d8576b"
             ],
             [
              0.6666666666666666,
              "#ed7953"
             ],
             [
              0.7777777777777778,
              "#fb9f3a"
             ],
             [
              0.8888888888888888,
              "#fdca26"
             ],
             [
              1,
              "#f0f921"
             ]
            ],
            "type": "histogram2dcontour"
           }
          ],
          "mesh3d": [
           {
            "colorbar": {
             "outlinewidth": 0,
             "ticks": ""
            },
            "type": "mesh3d"
           }
          ],
          "parcoords": [
           {
            "line": {
             "colorbar": {
              "outlinewidth": 0,
              "ticks": ""
             }
            },
            "type": "parcoords"
           }
          ],
          "pie": [
           {
            "automargin": true,
            "type": "pie"
           }
          ],
          "scatter": [
           {
            "marker": {
             "colorbar": {
              "outlinewidth": 0,
              "ticks": ""
             }
            },
            "type": "scatter"
           }
          ],
          "scatter3d": [
           {
            "line": {
             "colorbar": {
              "outlinewidth": 0,
              "ticks": ""
             }
            },
            "marker": {
             "colorbar": {
              "outlinewidth": 0,
              "ticks": ""
             }
            },
            "type": "scatter3d"
           }
          ],
          "scattercarpet": [
           {
            "marker": {
             "colorbar": {
              "outlinewidth": 0,
              "ticks": ""
             }
            },
            "type": "scattercarpet"
           }
          ],
          "scattergeo": [
           {
            "marker": {
             "colorbar": {
              "outlinewidth": 0,
              "ticks": ""
             }
            },
            "type": "scattergeo"
           }
          ],
          "scattergl": [
           {
            "marker": {
             "colorbar": {
              "outlinewidth": 0,
              "ticks": ""
             }
            },
            "type": "scattergl"
           }
          ],
          "scattermapbox": [
           {
            "marker": {
             "colorbar": {
              "outlinewidth": 0,
              "ticks": ""
             }
            },
            "type": "scattermapbox"
           }
          ],
          "scatterpolar": [
           {
            "marker": {
             "colorbar": {
              "outlinewidth": 0,
              "ticks": ""
             }
            },
            "type": "scatterpolar"
           }
          ],
          "scatterpolargl": [
           {
            "marker": {
             "colorbar": {
              "outlinewidth": 0,
              "ticks": ""
             }
            },
            "type": "scatterpolargl"
           }
          ],
          "scatterternary": [
           {
            "marker": {
             "colorbar": {
              "outlinewidth": 0,
              "ticks": ""
             }
            },
            "type": "scatterternary"
           }
          ],
          "surface": [
           {
            "colorbar": {
             "outlinewidth": 0,
             "ticks": ""
            },
            "colorscale": [
             [
              0,
              "#0d0887"
             ],
             [
              0.1111111111111111,
              "#46039f"
             ],
             [
              0.2222222222222222,
              "#7201a8"
             ],
             [
              0.3333333333333333,
              "#9c179e"
             ],
             [
              0.4444444444444444,
              "#bd3786"
             ],
             [
              0.5555555555555556,
              "#d8576b"
             ],
             [
              0.6666666666666666,
              "#ed7953"
             ],
             [
              0.7777777777777778,
              "#fb9f3a"
             ],
             [
              0.8888888888888888,
              "#fdca26"
             ],
             [
              1,
              "#f0f921"
             ]
            ],
            "type": "surface"
           }
          ],
          "table": [
           {
            "cells": {
             "fill": {
              "color": "#EBF0F8"
             },
             "line": {
              "color": "white"
             }
            },
            "header": {
             "fill": {
              "color": "#C8D4E3"
             },
             "line": {
              "color": "white"
             }
            },
            "type": "table"
           }
          ]
         },
         "layout": {
          "annotationdefaults": {
           "arrowcolor": "#2a3f5f",
           "arrowhead": 0,
           "arrowwidth": 1
          },
          "autotypenumbers": "strict",
          "coloraxis": {
           "colorbar": {
            "outlinewidth": 0,
            "ticks": ""
           }
          },
          "colorscale": {
           "diverging": [
            [
             0,
             "#8e0152"
            ],
            [
             0.1,
             "#c51b7d"
            ],
            [
             0.2,
             "#de77ae"
            ],
            [
             0.3,
             "#f1b6da"
            ],
            [
             0.4,
             "#fde0ef"
            ],
            [
             0.5,
             "#f7f7f7"
            ],
            [
             0.6,
             "#e6f5d0"
            ],
            [
             0.7,
             "#b8e186"
            ],
            [
             0.8,
             "#7fbc41"
            ],
            [
             0.9,
             "#4d9221"
            ],
            [
             1,
             "#276419"
            ]
           ],
           "sequential": [
            [
             0,
             "#0d0887"
            ],
            [
             0.1111111111111111,
             "#46039f"
            ],
            [
             0.2222222222222222,
             "#7201a8"
            ],
            [
             0.3333333333333333,
             "#9c179e"
            ],
            [
             0.4444444444444444,
             "#bd3786"
            ],
            [
             0.5555555555555556,
             "#d8576b"
            ],
            [
             0.6666666666666666,
             "#ed7953"
            ],
            [
             0.7777777777777778,
             "#fb9f3a"
            ],
            [
             0.8888888888888888,
             "#fdca26"
            ],
            [
             1,
             "#f0f921"
            ]
           ],
           "sequentialminus": [
            [
             0,
             "#0d0887"
            ],
            [
             0.1111111111111111,
             "#46039f"
            ],
            [
             0.2222222222222222,
             "#7201a8"
            ],
            [
             0.3333333333333333,
             "#9c179e"
            ],
            [
             0.4444444444444444,
             "#bd3786"
            ],
            [
             0.5555555555555556,
             "#d8576b"
            ],
            [
             0.6666666666666666,
             "#ed7953"
            ],
            [
             0.7777777777777778,
             "#fb9f3a"
            ],
            [
             0.8888888888888888,
             "#fdca26"
            ],
            [
             1,
             "#f0f921"
            ]
           ]
          },
          "colorway": [
           "#636efa",
           "#EF553B",
           "#00cc96",
           "#ab63fa",
           "#FFA15A",
           "#19d3f3",
           "#FF6692",
           "#B6E880",
           "#FF97FF",
           "#FECB52"
          ],
          "font": {
           "color": "#2a3f5f"
          },
          "geo": {
           "bgcolor": "white",
           "lakecolor": "white",
           "landcolor": "#E5ECF6",
           "showlakes": true,
           "showland": true,
           "subunitcolor": "white"
          },
          "hoverlabel": {
           "align": "left"
          },
          "hovermode": "closest",
          "mapbox": {
           "style": "light"
          },
          "paper_bgcolor": "white",
          "plot_bgcolor": "#E5ECF6",
          "polar": {
           "angularaxis": {
            "gridcolor": "white",
            "linecolor": "white",
            "ticks": ""
           },
           "bgcolor": "#E5ECF6",
           "radialaxis": {
            "gridcolor": "white",
            "linecolor": "white",
            "ticks": ""
           }
          },
          "scene": {
           "xaxis": {
            "backgroundcolor": "#E5ECF6",
            "gridcolor": "white",
            "gridwidth": 2,
            "linecolor": "white",
            "showbackground": true,
            "ticks": "",
            "zerolinecolor": "white"
           },
           "yaxis": {
            "backgroundcolor": "#E5ECF6",
            "gridcolor": "white",
            "gridwidth": 2,
            "linecolor": "white",
            "showbackground": true,
            "ticks": "",
            "zerolinecolor": "white"
           },
           "zaxis": {
            "backgroundcolor": "#E5ECF6",
            "gridcolor": "white",
            "gridwidth": 2,
            "linecolor": "white",
            "showbackground": true,
            "ticks": "",
            "zerolinecolor": "white"
           }
          },
          "shapedefaults": {
           "line": {
            "color": "#2a3f5f"
           }
          },
          "ternary": {
           "aaxis": {
            "gridcolor": "white",
            "linecolor": "white",
            "ticks": ""
           },
           "baxis": {
            "gridcolor": "white",
            "linecolor": "white",
            "ticks": ""
           },
           "bgcolor": "#E5ECF6",
           "caxis": {
            "gridcolor": "white",
            "linecolor": "white",
            "ticks": ""
           }
          },
          "title": {
           "x": 0.05
          },
          "xaxis": {
           "automargin": true,
           "gridcolor": "white",
           "linecolor": "white",
           "ticks": "",
           "title": {
            "standoff": 15
           },
           "zerolinecolor": "white",
           "zerolinewidth": 2
          },
          "yaxis": {
           "automargin": true,
           "gridcolor": "white",
           "linecolor": "white",
           "ticks": "",
           "title": {
            "standoff": 15
           },
           "zerolinecolor": "white",
           "zerolinewidth": 2
          }
         }
        },
        "title": {
         "font": {
          "color": "#4D5663"
         }
        },
        "xaxis": {
         "gridcolor": "#E1E5ED",
         "showgrid": true,
         "tickfont": {
          "color": "#4D5663"
         },
         "title": {
          "font": {
           "color": "#4D5663"
          },
          "text": ""
         },
         "zerolinecolor": "#E1E5ED"
        },
        "yaxis": {
         "gridcolor": "#E1E5ED",
         "showgrid": true,
         "tickfont": {
          "color": "#4D5663"
         },
         "title": {
          "font": {
           "color": "#4D5663"
          },
          "text": ""
         },
         "zerolinecolor": "#E1E5ED"
        }
       }
      },
      "text/html": [
       "<div>                            <div id=\"04150646-014f-4374-9fca-bf812cddea29\" class=\"plotly-graph-div\" style=\"height:525px; width:100%;\"></div>            <script type=\"text/javascript\">                require([\"plotly\"], function(Plotly) {                    window.PLOTLYENV=window.PLOTLYENV || {};\n",
       "                    window.PLOTLYENV.BASE_URL='https://plot.ly';                                    if (document.getElementById(\"04150646-014f-4374-9fca-bf812cddea29\")) {                    Plotly.newPlot(                        \"04150646-014f-4374-9fca-bf812cddea29\",                        [{\"line\":{\"color\":\"rgba(255, 153, 51, 1.0)\",\"dash\":\"solid\",\"shape\":\"linear\",\"width\":1.3},\"marker\":{\"size\":10,\"symbol\":\"circle\"},\"mode\":\"markers\",\"name\":\"B\",\"text\":\"\",\"type\":\"scatter\",\"x\":[-0.9059946344274774,-0.4228448892570872,0.32823669086437185,0.6558818756618977,-0.23279394393207223,0.6525595480366613,-1.6915425316219246,0.19774000582771878,0.2527613251803961,1.2212768041507416,-1.0510831617170036,-0.7793914985082284,0.806056944934075,-0.6311019866196699,0.934877974567317,0.16080341281909977,-0.26044787101587635,-1.1189492025341188,0.9314131210571004,1.637803872997042,0.6740388916031278,1.0131855330251243,1.0735801831928784,0.937155505884544,-0.9383642090609543,-1.4125546602473755,-1.3961261570716632,1.4624065012532907,1.5085679801507355,0.37384897602131767,0.14589136140687492,-0.23095768454721793,-2.3629173679389783,0.25331855988772656,-0.3115860491141523,-0.3030080296653969,0.8976458438423921,-0.22670266681646012,0.41600691876623586,0.44298800896287893,0.48238892353758295,2.8740147943888767,1.2137085672267414,-0.5078538839778108,0.2712852957322795,0.48451943108122075,0.7602644879314184,1.066266090804438,-0.7210114083722396,0.32916613351098817,0.21287846776990083,1.3120634164376894,1.4845215944923633,1.2118529866244876,-0.35062596725697137,1.4679054114460215,0.5946197808733853,0.7653928202932211,0.502620298066773,-0.4655955727577539,-0.7795213169381651,-0.5835420380031595,0.581868964354893,-0.8446734086931094,-0.6104474804218408,-0.49453527742225606,0.03616565350186925,1.677717127944498,-0.13111115072431645,0.35354551803517,-1.1395729739401037,1.087329072160173,1.9901243821040628,1.4587485333823857,0.5863304514720385,-1.72328053440473,-0.33482969209209335,-0.5675569496541126,-0.7552568197099411,0.984241478144492,0.5130936566082164,1.007047428091453,-0.25229733785962855,-1.0765534930300449,-1.0836901842430446,1.251316893181913,-0.061947611188396756,-1.5090608602782263,0.5407038713008661,-0.7598080181281253,-2.24033822867379,-1.025455849018686,-0.6449593030755074,-2.3407345468245557,1.9319811029535663,0.44323959373215516,-0.3715898916904119,0.7183414221195205,0.9328345702391438,0.7111546819960841],\"y\":[0.39809897088173535,-0.14652925480192855,0.9857309327643848,-0.8247877220344356,-0.7171326813869001,0.27152193419855913,-0.14087040880362503,-0.0890924278317126,1.3250570353670188,0.09866929384221915,-1.456511319329652,-1.6257292208567193,-0.6674107831292494,0.3811991927832541,-0.5464922895705291,-3.162439502735584,-0.658820338868281,0.7721719856870062,-0.3171154031995474,-1.0020734777415063,-0.02659884375709406,1.4254056731396323,0.6836421842787477,-0.9772538796145454,1.179589205909156,0.5452437251135169,0.9451720539792436,-0.5674693547604166,-1.9367879178372351,0.09939863026944817,0.3788358260021555,-0.12359656382636455,-0.38458928359784156,-0.13612423713165192,-0.20220123127288567,-0.057722094925038374,-0.4215960142227496,-1.1817887527339672,-0.6820955787736707,0.54268553457587,2.269274538955471,1.399616365283778,0.39919861740985063,-0.7429824032412617,-0.5579151083162384,0.49856107072948636,-0.6122498520456356,-0.5196819457867476,0.6580335477597211,-1.4453404736418463,-1.0683326326666698,1.7800123892054036,0.33842572157581263,1.084922008912415,0.710339271478755,0.12105239058331187,-0.8509752427452628,-1.3491238864126032,-1.8598394510153693,-1.0659054118800213,1.3236350429577803,0.5444277023592253,-0.6727411628076259,-0.018547264192752825,-0.8071229564449062,0.33751660203866807,0.1881745849663572,0.12260492122922247,0.30615558365396084,1.2458146238905483,1.7110470711557848,-0.4800976041892355,2.221328091101082,0.34503964151741096,1.3888534612108372,-0.6121543897912833,1.5135232133398413,0.3550466399495089,-0.5125535379885994,-0.8684090756031528,-0.0880389921588798,1.5107179811616,-0.07874484690047716,-0.5389501748212824,0.7535046636019881,-0.5600026707788827,-0.3110571605343825,0.6306288933906005,-0.12702949524031082,-0.5299579481574125,-0.2319476324342638,1.1584607557786735,-1.5686875302712062,0.06172482147957937,-0.6198455475019047,-2.0770439203968674,0.09306099403907173,-0.45720135238549225,-0.30414649191620025,0.03513373986031923]}],                        {\"legend\":{\"bgcolor\":\"#F5F6F9\",\"font\":{\"color\":\"#4D5663\"}},\"paper_bgcolor\":\"#F5F6F9\",\"plot_bgcolor\":\"#F5F6F9\",\"template\":{\"data\":{\"bar\":[{\"error_x\":{\"color\":\"#2a3f5f\"},\"error_y\":{\"color\":\"#2a3f5f\"},\"marker\":{\"line\":{\"color\":\"#E5ECF6\",\"width\":0.5},\"pattern\":{\"fillmode\":\"overlay\",\"size\":10,\"solidity\":0.2}},\"type\":\"bar\"}],\"barpolar\":[{\"marker\":{\"line\":{\"color\":\"#E5ECF6\",\"width\":0.5},\"pattern\":{\"fillmode\":\"overlay\",\"size\":10,\"solidity\":0.2}},\"type\":\"barpolar\"}],\"carpet\":[{\"aaxis\":{\"endlinecolor\":\"#2a3f5f\",\"gridcolor\":\"white\",\"linecolor\":\"white\",\"minorgridcolor\":\"white\",\"startlinecolor\":\"#2a3f5f\"},\"baxis\":{\"endlinecolor\":\"#2a3f5f\",\"gridcolor\":\"white\",\"linecolor\":\"white\",\"minorgridcolor\":\"white\",\"startlinecolor\":\"#2a3f5f\"},\"type\":\"carpet\"}],\"choropleth\":[{\"colorbar\":{\"outlinewidth\":0,\"ticks\":\"\"},\"type\":\"choropleth\"}],\"contour\":[{\"colorbar\":{\"outlinewidth\":0,\"ticks\":\"\"},\"colorscale\":[[0.0,\"#0d0887\"],[0.1111111111111111,\"#46039f\"],[0.2222222222222222,\"#7201a8\"],[0.3333333333333333,\"#9c179e\"],[0.4444444444444444,\"#bd3786\"],[0.5555555555555556,\"#d8576b\"],[0.6666666666666666,\"#ed7953\"],[0.7777777777777778,\"#fb9f3a\"],[0.8888888888888888,\"#fdca26\"],[1.0,\"#f0f921\"]],\"type\":\"contour\"}],\"contourcarpet\":[{\"colorbar\":{\"outlinewidth\":0,\"ticks\":\"\"},\"type\":\"contourcarpet\"}],\"heatmap\":[{\"colorbar\":{\"outlinewidth\":0,\"ticks\":\"\"},\"colorscale\":[[0.0,\"#0d0887\"],[0.1111111111111111,\"#46039f\"],[0.2222222222222222,\"#7201a8\"],[0.3333333333333333,\"#9c179e\"],[0.4444444444444444,\"#bd3786\"],[0.5555555555555556,\"#d8576b\"],[0.6666666666666666,\"#ed7953\"],[0.7777777777777778,\"#fb9f3a\"],[0.8888888888888888,\"#fdca26\"],[1.0,\"#f0f921\"]],\"type\":\"heatmap\"}],\"heatmapgl\":[{\"colorbar\":{\"outlinewidth\":0,\"ticks\":\"\"},\"colorscale\":[[0.0,\"#0d0887\"],[0.1111111111111111,\"#46039f\"],[0.2222222222222222,\"#7201a8\"],[0.3333333333333333,\"#9c179e\"],[0.4444444444444444,\"#bd3786\"],[0.5555555555555556,\"#d8576b\"],[0.6666666666666666,\"#ed7953\"],[0.7777777777777778,\"#fb9f3a\"],[0.8888888888888888,\"#fdca26\"],[1.0,\"#f0f921\"]],\"type\":\"heatmapgl\"}],\"histogram\":[{\"marker\":{\"pattern\":{\"fillmode\":\"overlay\",\"size\":10,\"solidity\":0.2}},\"type\":\"histogram\"}],\"histogram2d\":[{\"colorbar\":{\"outlinewidth\":0,\"ticks\":\"\"},\"colorscale\":[[0.0,\"#0d0887\"],[0.1111111111111111,\"#46039f\"],[0.2222222222222222,\"#7201a8\"],[0.3333333333333333,\"#9c179e\"],[0.4444444444444444,\"#bd3786\"],[0.5555555555555556,\"#d8576b\"],[0.6666666666666666,\"#ed7953\"],[0.7777777777777778,\"#fb9f3a\"],[0.8888888888888888,\"#fdca26\"],[1.0,\"#f0f921\"]],\"type\":\"histogram2d\"}],\"histogram2dcontour\":[{\"colorbar\":{\"outlinewidth\":0,\"ticks\":\"\"},\"colorscale\":[[0.0,\"#0d0887\"],[0.1111111111111111,\"#46039f\"],[0.2222222222222222,\"#7201a8\"],[0.3333333333333333,\"#9c179e\"],[0.4444444444444444,\"#bd3786\"],[0.5555555555555556,\"#d8576b\"],[0.6666666666666666,\"#ed7953\"],[0.7777777777777778,\"#fb9f3a\"],[0.8888888888888888,\"#fdca26\"],[1.0,\"#f0f921\"]],\"type\":\"histogram2dcontour\"}],\"mesh3d\":[{\"colorbar\":{\"outlinewidth\":0,\"ticks\":\"\"},\"type\":\"mesh3d\"}],\"parcoords\":[{\"line\":{\"colorbar\":{\"outlinewidth\":0,\"ticks\":\"\"}},\"type\":\"parcoords\"}],\"pie\":[{\"automargin\":true,\"type\":\"pie\"}],\"scatter\":[{\"marker\":{\"colorbar\":{\"outlinewidth\":0,\"ticks\":\"\"}},\"type\":\"scatter\"}],\"scatter3d\":[{\"line\":{\"colorbar\":{\"outlinewidth\":0,\"ticks\":\"\"}},\"marker\":{\"colorbar\":{\"outlinewidth\":0,\"ticks\":\"\"}},\"type\":\"scatter3d\"}],\"scattercarpet\":[{\"marker\":{\"colorbar\":{\"outlinewidth\":0,\"ticks\":\"\"}},\"type\":\"scattercarpet\"}],\"scattergeo\":[{\"marker\":{\"colorbar\":{\"outlinewidth\":0,\"ticks\":\"\"}},\"type\":\"scattergeo\"}],\"scattergl\":[{\"marker\":{\"colorbar\":{\"outlinewidth\":0,\"ticks\":\"\"}},\"type\":\"scattergl\"}],\"scattermapbox\":[{\"marker\":{\"colorbar\":{\"outlinewidth\":0,\"ticks\":\"\"}},\"type\":\"scattermapbox\"}],\"scatterpolar\":[{\"marker\":{\"colorbar\":{\"outlinewidth\":0,\"ticks\":\"\"}},\"type\":\"scatterpolar\"}],\"scatterpolargl\":[{\"marker\":{\"colorbar\":{\"outlinewidth\":0,\"ticks\":\"\"}},\"type\":\"scatterpolargl\"}],\"scatterternary\":[{\"marker\":{\"colorbar\":{\"outlinewidth\":0,\"ticks\":\"\"}},\"type\":\"scatterternary\"}],\"surface\":[{\"colorbar\":{\"outlinewidth\":0,\"ticks\":\"\"},\"colorscale\":[[0.0,\"#0d0887\"],[0.1111111111111111,\"#46039f\"],[0.2222222222222222,\"#7201a8\"],[0.3333333333333333,\"#9c179e\"],[0.4444444444444444,\"#bd3786\"],[0.5555555555555556,\"#d8576b\"],[0.6666666666666666,\"#ed7953\"],[0.7777777777777778,\"#fb9f3a\"],[0.8888888888888888,\"#fdca26\"],[1.0,\"#f0f921\"]],\"type\":\"surface\"}],\"table\":[{\"cells\":{\"fill\":{\"color\":\"#EBF0F8\"},\"line\":{\"color\":\"white\"}},\"header\":{\"fill\":{\"color\":\"#C8D4E3\"},\"line\":{\"color\":\"white\"}},\"type\":\"table\"}]},\"layout\":{\"annotationdefaults\":{\"arrowcolor\":\"#2a3f5f\",\"arrowhead\":0,\"arrowwidth\":1},\"autotypenumbers\":\"strict\",\"coloraxis\":{\"colorbar\":{\"outlinewidth\":0,\"ticks\":\"\"}},\"colorscale\":{\"diverging\":[[0,\"#8e0152\"],[0.1,\"#c51b7d\"],[0.2,\"#de77ae\"],[0.3,\"#f1b6da\"],[0.4,\"#fde0ef\"],[0.5,\"#f7f7f7\"],[0.6,\"#e6f5d0\"],[0.7,\"#b8e186\"],[0.8,\"#7fbc41\"],[0.9,\"#4d9221\"],[1,\"#276419\"]],\"sequential\":[[0.0,\"#0d0887\"],[0.1111111111111111,\"#46039f\"],[0.2222222222222222,\"#7201a8\"],[0.3333333333333333,\"#9c179e\"],[0.4444444444444444,\"#bd3786\"],[0.5555555555555556,\"#d8576b\"],[0.6666666666666666,\"#ed7953\"],[0.7777777777777778,\"#fb9f3a\"],[0.8888888888888888,\"#fdca26\"],[1.0,\"#f0f921\"]],\"sequentialminus\":[[0.0,\"#0d0887\"],[0.1111111111111111,\"#46039f\"],[0.2222222222222222,\"#7201a8\"],[0.3333333333333333,\"#9c179e\"],[0.4444444444444444,\"#bd3786\"],[0.5555555555555556,\"#d8576b\"],[0.6666666666666666,\"#ed7953\"],[0.7777777777777778,\"#fb9f3a\"],[0.8888888888888888,\"#fdca26\"],[1.0,\"#f0f921\"]]},\"colorway\":[\"#636efa\",\"#EF553B\",\"#00cc96\",\"#ab63fa\",\"#FFA15A\",\"#19d3f3\",\"#FF6692\",\"#B6E880\",\"#FF97FF\",\"#FECB52\"],\"font\":{\"color\":\"#2a3f5f\"},\"geo\":{\"bgcolor\":\"white\",\"lakecolor\":\"white\",\"landcolor\":\"#E5ECF6\",\"showlakes\":true,\"showland\":true,\"subunitcolor\":\"white\"},\"hoverlabel\":{\"align\":\"left\"},\"hovermode\":\"closest\",\"mapbox\":{\"style\":\"light\"},\"paper_bgcolor\":\"white\",\"plot_bgcolor\":\"#E5ECF6\",\"polar\":{\"angularaxis\":{\"gridcolor\":\"white\",\"linecolor\":\"white\",\"ticks\":\"\"},\"bgcolor\":\"#E5ECF6\",\"radialaxis\":{\"gridcolor\":\"white\",\"linecolor\":\"white\",\"ticks\":\"\"}},\"scene\":{\"xaxis\":{\"backgroundcolor\":\"#E5ECF6\",\"gridcolor\":\"white\",\"gridwidth\":2,\"linecolor\":\"white\",\"showbackground\":true,\"ticks\":\"\",\"zerolinecolor\":\"white\"},\"yaxis\":{\"backgroundcolor\":\"#E5ECF6\",\"gridcolor\":\"white\",\"gridwidth\":2,\"linecolor\":\"white\",\"showbackground\":true,\"ticks\":\"\",\"zerolinecolor\":\"white\"},\"zaxis\":{\"backgroundcolor\":\"#E5ECF6\",\"gridcolor\":\"white\",\"gridwidth\":2,\"linecolor\":\"white\",\"showbackground\":true,\"ticks\":\"\",\"zerolinecolor\":\"white\"}},\"shapedefaults\":{\"line\":{\"color\":\"#2a3f5f\"}},\"ternary\":{\"aaxis\":{\"gridcolor\":\"white\",\"linecolor\":\"white\",\"ticks\":\"\"},\"baxis\":{\"gridcolor\":\"white\",\"linecolor\":\"white\",\"ticks\":\"\"},\"bgcolor\":\"#E5ECF6\",\"caxis\":{\"gridcolor\":\"white\",\"linecolor\":\"white\",\"ticks\":\"\"}},\"title\":{\"x\":0.05},\"xaxis\":{\"automargin\":true,\"gridcolor\":\"white\",\"linecolor\":\"white\",\"ticks\":\"\",\"title\":{\"standoff\":15},\"zerolinecolor\":\"white\",\"zerolinewidth\":2},\"yaxis\":{\"automargin\":true,\"gridcolor\":\"white\",\"linecolor\":\"white\",\"ticks\":\"\",\"title\":{\"standoff\":15},\"zerolinecolor\":\"white\",\"zerolinewidth\":2}}},\"title\":{\"font\":{\"color\":\"#4D5663\"}},\"xaxis\":{\"gridcolor\":\"#E1E5ED\",\"showgrid\":true,\"tickfont\":{\"color\":\"#4D5663\"},\"title\":{\"font\":{\"color\":\"#4D5663\"},\"text\":\"\"},\"zerolinecolor\":\"#E1E5ED\"},\"yaxis\":{\"gridcolor\":\"#E1E5ED\",\"showgrid\":true,\"tickfont\":{\"color\":\"#4D5663\"},\"title\":{\"font\":{\"color\":\"#4D5663\"},\"text\":\"\"},\"zerolinecolor\":\"#E1E5ED\"}},                        {\"showLink\": true, \"linkText\": \"Export to plot.ly\", \"plotlyServerURL\": \"https://plot.ly\", \"responsive\": true}                    ).then(function(){\n",
       "                            \n",
       "var gd = document.getElementById('04150646-014f-4374-9fca-bf812cddea29');\n",
       "var x = new MutationObserver(function (mutations, observer) {{\n",
       "        var display = window.getComputedStyle(gd).display;\n",
       "        if (!display || display === 'none') {{\n",
       "            console.log([gd, 'removed!']);\n",
       "            Plotly.purge(gd);\n",
       "            observer.disconnect();\n",
       "        }}\n",
       "}});\n",
       "\n",
       "// Listen for the removal of the full notebook cells\n",
       "var notebookContainer = gd.closest('#notebook-container');\n",
       "if (notebookContainer) {{\n",
       "    x.observe(notebookContainer, {childList: true});\n",
       "}}\n",
       "\n",
       "// Listen for the clearing of the current output cell\n",
       "var outputEl = gd.closest('.output');\n",
       "if (outputEl) {{\n",
       "    x.observe(outputEl, {childList: true});\n",
       "}}\n",
       "\n",
       "                        })                };                });            </script>        </div>"
      ]
     },
     "metadata": {},
     "output_type": "display_data"
    }
   ],
   "source": [
    "df.iplot(kind='scatter',x='A',y='B',mode='markers',size=10)"
   ]
  },
  {
   "cell_type": "markdown",
   "metadata": {},
   "source": [
    "## Bar Plots"
   ]
  },
  {
   "cell_type": "code",
   "execution_count": 19,
   "metadata": {},
   "outputs": [
    {
     "data": {
      "application/vnd.plotly.v1+json": {
       "config": {
        "linkText": "Export to plot.ly",
        "plotlyServerURL": "https://plot.ly",
        "showLink": true
       },
       "data": [
        {
         "marker": {
          "color": "rgba(255, 153, 51, 0.6)",
          "line": {
           "color": "rgba(255, 153, 51, 1.0)",
           "width": 1
          }
         },
         "name": "Values",
         "orientation": "v",
         "text": "",
         "type": "bar",
         "x": [
          "A",
          "B",
          "C"
         ],
         "y": [
          32,
          43,
          50
         ]
        }
       ],
       "layout": {
        "legend": {
         "bgcolor": "#F5F6F9",
         "font": {
          "color": "#4D5663"
         }
        },
        "paper_bgcolor": "#F5F6F9",
        "plot_bgcolor": "#F5F6F9",
        "template": {
         "data": {
          "bar": [
           {
            "error_x": {
             "color": "#2a3f5f"
            },
            "error_y": {
             "color": "#2a3f5f"
            },
            "marker": {
             "line": {
              "color": "#E5ECF6",
              "width": 0.5
             },
             "pattern": {
              "fillmode": "overlay",
              "size": 10,
              "solidity": 0.2
             }
            },
            "type": "bar"
           }
          ],
          "barpolar": [
           {
            "marker": {
             "line": {
              "color": "#E5ECF6",
              "width": 0.5
             },
             "pattern": {
              "fillmode": "overlay",
              "size": 10,
              "solidity": 0.2
             }
            },
            "type": "barpolar"
           }
          ],
          "carpet": [
           {
            "aaxis": {
             "endlinecolor": "#2a3f5f",
             "gridcolor": "white",
             "linecolor": "white",
             "minorgridcolor": "white",
             "startlinecolor": "#2a3f5f"
            },
            "baxis": {
             "endlinecolor": "#2a3f5f",
             "gridcolor": "white",
             "linecolor": "white",
             "minorgridcolor": "white",
             "startlinecolor": "#2a3f5f"
            },
            "type": "carpet"
           }
          ],
          "choropleth": [
           {
            "colorbar": {
             "outlinewidth": 0,
             "ticks": ""
            },
            "type": "choropleth"
           }
          ],
          "contour": [
           {
            "colorbar": {
             "outlinewidth": 0,
             "ticks": ""
            },
            "colorscale": [
             [
              0,
              "#0d0887"
             ],
             [
              0.1111111111111111,
              "#46039f"
             ],
             [
              0.2222222222222222,
              "#7201a8"
             ],
             [
              0.3333333333333333,
              "#9c179e"
             ],
             [
              0.4444444444444444,
              "#bd3786"
             ],
             [
              0.5555555555555556,
              "#d8576b"
             ],
             [
              0.6666666666666666,
              "#ed7953"
             ],
             [
              0.7777777777777778,
              "#fb9f3a"
             ],
             [
              0.8888888888888888,
              "#fdca26"
             ],
             [
              1,
              "#f0f921"
             ]
            ],
            "type": "contour"
           }
          ],
          "contourcarpet": [
           {
            "colorbar": {
             "outlinewidth": 0,
             "ticks": ""
            },
            "type": "contourcarpet"
           }
          ],
          "heatmap": [
           {
            "colorbar": {
             "outlinewidth": 0,
             "ticks": ""
            },
            "colorscale": [
             [
              0,
              "#0d0887"
             ],
             [
              0.1111111111111111,
              "#46039f"
             ],
             [
              0.2222222222222222,
              "#7201a8"
             ],
             [
              0.3333333333333333,
              "#9c179e"
             ],
             [
              0.4444444444444444,
              "#bd3786"
             ],
             [
              0.5555555555555556,
              "#d8576b"
             ],
             [
              0.6666666666666666,
              "#ed7953"
             ],
             [
              0.7777777777777778,
              "#fb9f3a"
             ],
             [
              0.8888888888888888,
              "#fdca26"
             ],
             [
              1,
              "#f0f921"
             ]
            ],
            "type": "heatmap"
           }
          ],
          "heatmapgl": [
           {
            "colorbar": {
             "outlinewidth": 0,
             "ticks": ""
            },
            "colorscale": [
             [
              0,
              "#0d0887"
             ],
             [
              0.1111111111111111,
              "#46039f"
             ],
             [
              0.2222222222222222,
              "#7201a8"
             ],
             [
              0.3333333333333333,
              "#9c179e"
             ],
             [
              0.4444444444444444,
              "#bd3786"
             ],
             [
              0.5555555555555556,
              "#d8576b"
             ],
             [
              0.6666666666666666,
              "#ed7953"
             ],
             [
              0.7777777777777778,
              "#fb9f3a"
             ],
             [
              0.8888888888888888,
              "#fdca26"
             ],
             [
              1,
              "#f0f921"
             ]
            ],
            "type": "heatmapgl"
           }
          ],
          "histogram": [
           {
            "marker": {
             "pattern": {
              "fillmode": "overlay",
              "size": 10,
              "solidity": 0.2
             }
            },
            "type": "histogram"
           }
          ],
          "histogram2d": [
           {
            "colorbar": {
             "outlinewidth": 0,
             "ticks": ""
            },
            "colorscale": [
             [
              0,
              "#0d0887"
             ],
             [
              0.1111111111111111,
              "#46039f"
             ],
             [
              0.2222222222222222,
              "#7201a8"
             ],
             [
              0.3333333333333333,
              "#9c179e"
             ],
             [
              0.4444444444444444,
              "#bd3786"
             ],
             [
              0.5555555555555556,
              "#d8576b"
             ],
             [
              0.6666666666666666,
              "#ed7953"
             ],
             [
              0.7777777777777778,
              "#fb9f3a"
             ],
             [
              0.8888888888888888,
              "#fdca26"
             ],
             [
              1,
              "#f0f921"
             ]
            ],
            "type": "histogram2d"
           }
          ],
          "histogram2dcontour": [
           {
            "colorbar": {
             "outlinewidth": 0,
             "ticks": ""
            },
            "colorscale": [
             [
              0,
              "#0d0887"
             ],
             [
              0.1111111111111111,
              "#46039f"
             ],
             [
              0.2222222222222222,
              "#7201a8"
             ],
             [
              0.3333333333333333,
              "#9c179e"
             ],
             [
              0.4444444444444444,
              "#bd3786"
             ],
             [
              0.5555555555555556,
              "#d8576b"
             ],
             [
              0.6666666666666666,
              "#ed7953"
             ],
             [
              0.7777777777777778,
              "#fb9f3a"
             ],
             [
              0.8888888888888888,
              "#fdca26"
             ],
             [
              1,
              "#f0f921"
             ]
            ],
            "type": "histogram2dcontour"
           }
          ],
          "mesh3d": [
           {
            "colorbar": {
             "outlinewidth": 0,
             "ticks": ""
            },
            "type": "mesh3d"
           }
          ],
          "parcoords": [
           {
            "line": {
             "colorbar": {
              "outlinewidth": 0,
              "ticks": ""
             }
            },
            "type": "parcoords"
           }
          ],
          "pie": [
           {
            "automargin": true,
            "type": "pie"
           }
          ],
          "scatter": [
           {
            "marker": {
             "colorbar": {
              "outlinewidth": 0,
              "ticks": ""
             }
            },
            "type": "scatter"
           }
          ],
          "scatter3d": [
           {
            "line": {
             "colorbar": {
              "outlinewidth": 0,
              "ticks": ""
             }
            },
            "marker": {
             "colorbar": {
              "outlinewidth": 0,
              "ticks": ""
             }
            },
            "type": "scatter3d"
           }
          ],
          "scattercarpet": [
           {
            "marker": {
             "colorbar": {
              "outlinewidth": 0,
              "ticks": ""
             }
            },
            "type": "scattercarpet"
           }
          ],
          "scattergeo": [
           {
            "marker": {
             "colorbar": {
              "outlinewidth": 0,
              "ticks": ""
             }
            },
            "type": "scattergeo"
           }
          ],
          "scattergl": [
           {
            "marker": {
             "colorbar": {
              "outlinewidth": 0,
              "ticks": ""
             }
            },
            "type": "scattergl"
           }
          ],
          "scattermapbox": [
           {
            "marker": {
             "colorbar": {
              "outlinewidth": 0,
              "ticks": ""
             }
            },
            "type": "scattermapbox"
           }
          ],
          "scatterpolar": [
           {
            "marker": {
             "colorbar": {
              "outlinewidth": 0,
              "ticks": ""
             }
            },
            "type": "scatterpolar"
           }
          ],
          "scatterpolargl": [
           {
            "marker": {
             "colorbar": {
              "outlinewidth": 0,
              "ticks": ""
             }
            },
            "type": "scatterpolargl"
           }
          ],
          "scatterternary": [
           {
            "marker": {
             "colorbar": {
              "outlinewidth": 0,
              "ticks": ""
             }
            },
            "type": "scatterternary"
           }
          ],
          "surface": [
           {
            "colorbar": {
             "outlinewidth": 0,
             "ticks": ""
            },
            "colorscale": [
             [
              0,
              "#0d0887"
             ],
             [
              0.1111111111111111,
              "#46039f"
             ],
             [
              0.2222222222222222,
              "#7201a8"
             ],
             [
              0.3333333333333333,
              "#9c179e"
             ],
             [
              0.4444444444444444,
              "#bd3786"
             ],
             [
              0.5555555555555556,
              "#d8576b"
             ],
             [
              0.6666666666666666,
              "#ed7953"
             ],
             [
              0.7777777777777778,
              "#fb9f3a"
             ],
             [
              0.8888888888888888,
              "#fdca26"
             ],
             [
              1,
              "#f0f921"
             ]
            ],
            "type": "surface"
           }
          ],
          "table": [
           {
            "cells": {
             "fill": {
              "color": "#EBF0F8"
             },
             "line": {
              "color": "white"
             }
            },
            "header": {
             "fill": {
              "color": "#C8D4E3"
             },
             "line": {
              "color": "white"
             }
            },
            "type": "table"
           }
          ]
         },
         "layout": {
          "annotationdefaults": {
           "arrowcolor": "#2a3f5f",
           "arrowhead": 0,
           "arrowwidth": 1
          },
          "autotypenumbers": "strict",
          "coloraxis": {
           "colorbar": {
            "outlinewidth": 0,
            "ticks": ""
           }
          },
          "colorscale": {
           "diverging": [
            [
             0,
             "#8e0152"
            ],
            [
             0.1,
             "#c51b7d"
            ],
            [
             0.2,
             "#de77ae"
            ],
            [
             0.3,
             "#f1b6da"
            ],
            [
             0.4,
             "#fde0ef"
            ],
            [
             0.5,
             "#f7f7f7"
            ],
            [
             0.6,
             "#e6f5d0"
            ],
            [
             0.7,
             "#b8e186"
            ],
            [
             0.8,
             "#7fbc41"
            ],
            [
             0.9,
             "#4d9221"
            ],
            [
             1,
             "#276419"
            ]
           ],
           "sequential": [
            [
             0,
             "#0d0887"
            ],
            [
             0.1111111111111111,
             "#46039f"
            ],
            [
             0.2222222222222222,
             "#7201a8"
            ],
            [
             0.3333333333333333,
             "#9c179e"
            ],
            [
             0.4444444444444444,
             "#bd3786"
            ],
            [
             0.5555555555555556,
             "#d8576b"
            ],
            [
             0.6666666666666666,
             "#ed7953"
            ],
            [
             0.7777777777777778,
             "#fb9f3a"
            ],
            [
             0.8888888888888888,
             "#fdca26"
            ],
            [
             1,
             "#f0f921"
            ]
           ],
           "sequentialminus": [
            [
             0,
             "#0d0887"
            ],
            [
             0.1111111111111111,
             "#46039f"
            ],
            [
             0.2222222222222222,
             "#7201a8"
            ],
            [
             0.3333333333333333,
             "#9c179e"
            ],
            [
             0.4444444444444444,
             "#bd3786"
            ],
            [
             0.5555555555555556,
             "#d8576b"
            ],
            [
             0.6666666666666666,
             "#ed7953"
            ],
            [
             0.7777777777777778,
             "#fb9f3a"
            ],
            [
             0.8888888888888888,
             "#fdca26"
            ],
            [
             1,
             "#f0f921"
            ]
           ]
          },
          "colorway": [
           "#636efa",
           "#EF553B",
           "#00cc96",
           "#ab63fa",
           "#FFA15A",
           "#19d3f3",
           "#FF6692",
           "#B6E880",
           "#FF97FF",
           "#FECB52"
          ],
          "font": {
           "color": "#2a3f5f"
          },
          "geo": {
           "bgcolor": "white",
           "lakecolor": "white",
           "landcolor": "#E5ECF6",
           "showlakes": true,
           "showland": true,
           "subunitcolor": "white"
          },
          "hoverlabel": {
           "align": "left"
          },
          "hovermode": "closest",
          "mapbox": {
           "style": "light"
          },
          "paper_bgcolor": "white",
          "plot_bgcolor": "#E5ECF6",
          "polar": {
           "angularaxis": {
            "gridcolor": "white",
            "linecolor": "white",
            "ticks": ""
           },
           "bgcolor": "#E5ECF6",
           "radialaxis": {
            "gridcolor": "white",
            "linecolor": "white",
            "ticks": ""
           }
          },
          "scene": {
           "xaxis": {
            "backgroundcolor": "#E5ECF6",
            "gridcolor": "white",
            "gridwidth": 2,
            "linecolor": "white",
            "showbackground": true,
            "ticks": "",
            "zerolinecolor": "white"
           },
           "yaxis": {
            "backgroundcolor": "#E5ECF6",
            "gridcolor": "white",
            "gridwidth": 2,
            "linecolor": "white",
            "showbackground": true,
            "ticks": "",
            "zerolinecolor": "white"
           },
           "zaxis": {
            "backgroundcolor": "#E5ECF6",
            "gridcolor": "white",
            "gridwidth": 2,
            "linecolor": "white",
            "showbackground": true,
            "ticks": "",
            "zerolinecolor": "white"
           }
          },
          "shapedefaults": {
           "line": {
            "color": "#2a3f5f"
           }
          },
          "ternary": {
           "aaxis": {
            "gridcolor": "white",
            "linecolor": "white",
            "ticks": ""
           },
           "baxis": {
            "gridcolor": "white",
            "linecolor": "white",
            "ticks": ""
           },
           "bgcolor": "#E5ECF6",
           "caxis": {
            "gridcolor": "white",
            "linecolor": "white",
            "ticks": ""
           }
          },
          "title": {
           "x": 0.05
          },
          "xaxis": {
           "automargin": true,
           "gridcolor": "white",
           "linecolor": "white",
           "ticks": "",
           "title": {
            "standoff": 15
           },
           "zerolinecolor": "white",
           "zerolinewidth": 2
          },
          "yaxis": {
           "automargin": true,
           "gridcolor": "white",
           "linecolor": "white",
           "ticks": "",
           "title": {
            "standoff": 15
           },
           "zerolinecolor": "white",
           "zerolinewidth": 2
          }
         }
        },
        "title": {
         "font": {
          "color": "#4D5663"
         }
        },
        "xaxis": {
         "gridcolor": "#E1E5ED",
         "showgrid": true,
         "tickfont": {
          "color": "#4D5663"
         },
         "title": {
          "font": {
           "color": "#4D5663"
          },
          "text": ""
         },
         "zerolinecolor": "#E1E5ED"
        },
        "yaxis": {
         "gridcolor": "#E1E5ED",
         "showgrid": true,
         "tickfont": {
          "color": "#4D5663"
         },
         "title": {
          "font": {
           "color": "#4D5663"
          },
          "text": ""
         },
         "zerolinecolor": "#E1E5ED"
        }
       }
      },
      "text/html": [
       "<div>                            <div id=\"922ac7ec-8318-4e01-953c-89ca33f26567\" class=\"plotly-graph-div\" style=\"height:525px; width:100%;\"></div>            <script type=\"text/javascript\">                require([\"plotly\"], function(Plotly) {                    window.PLOTLYENV=window.PLOTLYENV || {};\n",
       "                    window.PLOTLYENV.BASE_URL='https://plot.ly';                                    if (document.getElementById(\"922ac7ec-8318-4e01-953c-89ca33f26567\")) {                    Plotly.newPlot(                        \"922ac7ec-8318-4e01-953c-89ca33f26567\",                        [{\"marker\":{\"color\":\"rgba(255, 153, 51, 0.6)\",\"line\":{\"color\":\"rgba(255, 153, 51, 1.0)\",\"width\":1}},\"name\":\"Values\",\"orientation\":\"v\",\"text\":\"\",\"type\":\"bar\",\"x\":[\"A\",\"B\",\"C\"],\"y\":[32,43,50]}],                        {\"legend\":{\"bgcolor\":\"#F5F6F9\",\"font\":{\"color\":\"#4D5663\"}},\"paper_bgcolor\":\"#F5F6F9\",\"plot_bgcolor\":\"#F5F6F9\",\"template\":{\"data\":{\"bar\":[{\"error_x\":{\"color\":\"#2a3f5f\"},\"error_y\":{\"color\":\"#2a3f5f\"},\"marker\":{\"line\":{\"color\":\"#E5ECF6\",\"width\":0.5},\"pattern\":{\"fillmode\":\"overlay\",\"size\":10,\"solidity\":0.2}},\"type\":\"bar\"}],\"barpolar\":[{\"marker\":{\"line\":{\"color\":\"#E5ECF6\",\"width\":0.5},\"pattern\":{\"fillmode\":\"overlay\",\"size\":10,\"solidity\":0.2}},\"type\":\"barpolar\"}],\"carpet\":[{\"aaxis\":{\"endlinecolor\":\"#2a3f5f\",\"gridcolor\":\"white\",\"linecolor\":\"white\",\"minorgridcolor\":\"white\",\"startlinecolor\":\"#2a3f5f\"},\"baxis\":{\"endlinecolor\":\"#2a3f5f\",\"gridcolor\":\"white\",\"linecolor\":\"white\",\"minorgridcolor\":\"white\",\"startlinecolor\":\"#2a3f5f\"},\"type\":\"carpet\"}],\"choropleth\":[{\"colorbar\":{\"outlinewidth\":0,\"ticks\":\"\"},\"type\":\"choropleth\"}],\"contour\":[{\"colorbar\":{\"outlinewidth\":0,\"ticks\":\"\"},\"colorscale\":[[0.0,\"#0d0887\"],[0.1111111111111111,\"#46039f\"],[0.2222222222222222,\"#7201a8\"],[0.3333333333333333,\"#9c179e\"],[0.4444444444444444,\"#bd3786\"],[0.5555555555555556,\"#d8576b\"],[0.6666666666666666,\"#ed7953\"],[0.7777777777777778,\"#fb9f3a\"],[0.8888888888888888,\"#fdca26\"],[1.0,\"#f0f921\"]],\"type\":\"contour\"}],\"contourcarpet\":[{\"colorbar\":{\"outlinewidth\":0,\"ticks\":\"\"},\"type\":\"contourcarpet\"}],\"heatmap\":[{\"colorbar\":{\"outlinewidth\":0,\"ticks\":\"\"},\"colorscale\":[[0.0,\"#0d0887\"],[0.1111111111111111,\"#46039f\"],[0.2222222222222222,\"#7201a8\"],[0.3333333333333333,\"#9c179e\"],[0.4444444444444444,\"#bd3786\"],[0.5555555555555556,\"#d8576b\"],[0.6666666666666666,\"#ed7953\"],[0.7777777777777778,\"#fb9f3a\"],[0.8888888888888888,\"#fdca26\"],[1.0,\"#f0f921\"]],\"type\":\"heatmap\"}],\"heatmapgl\":[{\"colorbar\":{\"outlinewidth\":0,\"ticks\":\"\"},\"colorscale\":[[0.0,\"#0d0887\"],[0.1111111111111111,\"#46039f\"],[0.2222222222222222,\"#7201a8\"],[0.3333333333333333,\"#9c179e\"],[0.4444444444444444,\"#bd3786\"],[0.5555555555555556,\"#d8576b\"],[0.6666666666666666,\"#ed7953\"],[0.7777777777777778,\"#fb9f3a\"],[0.8888888888888888,\"#fdca26\"],[1.0,\"#f0f921\"]],\"type\":\"heatmapgl\"}],\"histogram\":[{\"marker\":{\"pattern\":{\"fillmode\":\"overlay\",\"size\":10,\"solidity\":0.2}},\"type\":\"histogram\"}],\"histogram2d\":[{\"colorbar\":{\"outlinewidth\":0,\"ticks\":\"\"},\"colorscale\":[[0.0,\"#0d0887\"],[0.1111111111111111,\"#46039f\"],[0.2222222222222222,\"#7201a8\"],[0.3333333333333333,\"#9c179e\"],[0.4444444444444444,\"#bd3786\"],[0.5555555555555556,\"#d8576b\"],[0.6666666666666666,\"#ed7953\"],[0.7777777777777778,\"#fb9f3a\"],[0.8888888888888888,\"#fdca26\"],[1.0,\"#f0f921\"]],\"type\":\"histogram2d\"}],\"histogram2dcontour\":[{\"colorbar\":{\"outlinewidth\":0,\"ticks\":\"\"},\"colorscale\":[[0.0,\"#0d0887\"],[0.1111111111111111,\"#46039f\"],[0.2222222222222222,\"#7201a8\"],[0.3333333333333333,\"#9c179e\"],[0.4444444444444444,\"#bd3786\"],[0.5555555555555556,\"#d8576b\"],[0.6666666666666666,\"#ed7953\"],[0.7777777777777778,\"#fb9f3a\"],[0.8888888888888888,\"#fdca26\"],[1.0,\"#f0f921\"]],\"type\":\"histogram2dcontour\"}],\"mesh3d\":[{\"colorbar\":{\"outlinewidth\":0,\"ticks\":\"\"},\"type\":\"mesh3d\"}],\"parcoords\":[{\"line\":{\"colorbar\":{\"outlinewidth\":0,\"ticks\":\"\"}},\"type\":\"parcoords\"}],\"pie\":[{\"automargin\":true,\"type\":\"pie\"}],\"scatter\":[{\"marker\":{\"colorbar\":{\"outlinewidth\":0,\"ticks\":\"\"}},\"type\":\"scatter\"}],\"scatter3d\":[{\"line\":{\"colorbar\":{\"outlinewidth\":0,\"ticks\":\"\"}},\"marker\":{\"colorbar\":{\"outlinewidth\":0,\"ticks\":\"\"}},\"type\":\"scatter3d\"}],\"scattercarpet\":[{\"marker\":{\"colorbar\":{\"outlinewidth\":0,\"ticks\":\"\"}},\"type\":\"scattercarpet\"}],\"scattergeo\":[{\"marker\":{\"colorbar\":{\"outlinewidth\":0,\"ticks\":\"\"}},\"type\":\"scattergeo\"}],\"scattergl\":[{\"marker\":{\"colorbar\":{\"outlinewidth\":0,\"ticks\":\"\"}},\"type\":\"scattergl\"}],\"scattermapbox\":[{\"marker\":{\"colorbar\":{\"outlinewidth\":0,\"ticks\":\"\"}},\"type\":\"scattermapbox\"}],\"scatterpolar\":[{\"marker\":{\"colorbar\":{\"outlinewidth\":0,\"ticks\":\"\"}},\"type\":\"scatterpolar\"}],\"scatterpolargl\":[{\"marker\":{\"colorbar\":{\"outlinewidth\":0,\"ticks\":\"\"}},\"type\":\"scatterpolargl\"}],\"scatterternary\":[{\"marker\":{\"colorbar\":{\"outlinewidth\":0,\"ticks\":\"\"}},\"type\":\"scatterternary\"}],\"surface\":[{\"colorbar\":{\"outlinewidth\":0,\"ticks\":\"\"},\"colorscale\":[[0.0,\"#0d0887\"],[0.1111111111111111,\"#46039f\"],[0.2222222222222222,\"#7201a8\"],[0.3333333333333333,\"#9c179e\"],[0.4444444444444444,\"#bd3786\"],[0.5555555555555556,\"#d8576b\"],[0.6666666666666666,\"#ed7953\"],[0.7777777777777778,\"#fb9f3a\"],[0.8888888888888888,\"#fdca26\"],[1.0,\"#f0f921\"]],\"type\":\"surface\"}],\"table\":[{\"cells\":{\"fill\":{\"color\":\"#EBF0F8\"},\"line\":{\"color\":\"white\"}},\"header\":{\"fill\":{\"color\":\"#C8D4E3\"},\"line\":{\"color\":\"white\"}},\"type\":\"table\"}]},\"layout\":{\"annotationdefaults\":{\"arrowcolor\":\"#2a3f5f\",\"arrowhead\":0,\"arrowwidth\":1},\"autotypenumbers\":\"strict\",\"coloraxis\":{\"colorbar\":{\"outlinewidth\":0,\"ticks\":\"\"}},\"colorscale\":{\"diverging\":[[0,\"#8e0152\"],[0.1,\"#c51b7d\"],[0.2,\"#de77ae\"],[0.3,\"#f1b6da\"],[0.4,\"#fde0ef\"],[0.5,\"#f7f7f7\"],[0.6,\"#e6f5d0\"],[0.7,\"#b8e186\"],[0.8,\"#7fbc41\"],[0.9,\"#4d9221\"],[1,\"#276419\"]],\"sequential\":[[0.0,\"#0d0887\"],[0.1111111111111111,\"#46039f\"],[0.2222222222222222,\"#7201a8\"],[0.3333333333333333,\"#9c179e\"],[0.4444444444444444,\"#bd3786\"],[0.5555555555555556,\"#d8576b\"],[0.6666666666666666,\"#ed7953\"],[0.7777777777777778,\"#fb9f3a\"],[0.8888888888888888,\"#fdca26\"],[1.0,\"#f0f921\"]],\"sequentialminus\":[[0.0,\"#0d0887\"],[0.1111111111111111,\"#46039f\"],[0.2222222222222222,\"#7201a8\"],[0.3333333333333333,\"#9c179e\"],[0.4444444444444444,\"#bd3786\"],[0.5555555555555556,\"#d8576b\"],[0.6666666666666666,\"#ed7953\"],[0.7777777777777778,\"#fb9f3a\"],[0.8888888888888888,\"#fdca26\"],[1.0,\"#f0f921\"]]},\"colorway\":[\"#636efa\",\"#EF553B\",\"#00cc96\",\"#ab63fa\",\"#FFA15A\",\"#19d3f3\",\"#FF6692\",\"#B6E880\",\"#FF97FF\",\"#FECB52\"],\"font\":{\"color\":\"#2a3f5f\"},\"geo\":{\"bgcolor\":\"white\",\"lakecolor\":\"white\",\"landcolor\":\"#E5ECF6\",\"showlakes\":true,\"showland\":true,\"subunitcolor\":\"white\"},\"hoverlabel\":{\"align\":\"left\"},\"hovermode\":\"closest\",\"mapbox\":{\"style\":\"light\"},\"paper_bgcolor\":\"white\",\"plot_bgcolor\":\"#E5ECF6\",\"polar\":{\"angularaxis\":{\"gridcolor\":\"white\",\"linecolor\":\"white\",\"ticks\":\"\"},\"bgcolor\":\"#E5ECF6\",\"radialaxis\":{\"gridcolor\":\"white\",\"linecolor\":\"white\",\"ticks\":\"\"}},\"scene\":{\"xaxis\":{\"backgroundcolor\":\"#E5ECF6\",\"gridcolor\":\"white\",\"gridwidth\":2,\"linecolor\":\"white\",\"showbackground\":true,\"ticks\":\"\",\"zerolinecolor\":\"white\"},\"yaxis\":{\"backgroundcolor\":\"#E5ECF6\",\"gridcolor\":\"white\",\"gridwidth\":2,\"linecolor\":\"white\",\"showbackground\":true,\"ticks\":\"\",\"zerolinecolor\":\"white\"},\"zaxis\":{\"backgroundcolor\":\"#E5ECF6\",\"gridcolor\":\"white\",\"gridwidth\":2,\"linecolor\":\"white\",\"showbackground\":true,\"ticks\":\"\",\"zerolinecolor\":\"white\"}},\"shapedefaults\":{\"line\":{\"color\":\"#2a3f5f\"}},\"ternary\":{\"aaxis\":{\"gridcolor\":\"white\",\"linecolor\":\"white\",\"ticks\":\"\"},\"baxis\":{\"gridcolor\":\"white\",\"linecolor\":\"white\",\"ticks\":\"\"},\"bgcolor\":\"#E5ECF6\",\"caxis\":{\"gridcolor\":\"white\",\"linecolor\":\"white\",\"ticks\":\"\"}},\"title\":{\"x\":0.05},\"xaxis\":{\"automargin\":true,\"gridcolor\":\"white\",\"linecolor\":\"white\",\"ticks\":\"\",\"title\":{\"standoff\":15},\"zerolinecolor\":\"white\",\"zerolinewidth\":2},\"yaxis\":{\"automargin\":true,\"gridcolor\":\"white\",\"linecolor\":\"white\",\"ticks\":\"\",\"title\":{\"standoff\":15},\"zerolinecolor\":\"white\",\"zerolinewidth\":2}}},\"title\":{\"font\":{\"color\":\"#4D5663\"}},\"xaxis\":{\"gridcolor\":\"#E1E5ED\",\"showgrid\":true,\"tickfont\":{\"color\":\"#4D5663\"},\"title\":{\"font\":{\"color\":\"#4D5663\"},\"text\":\"\"},\"zerolinecolor\":\"#E1E5ED\"},\"yaxis\":{\"gridcolor\":\"#E1E5ED\",\"showgrid\":true,\"tickfont\":{\"color\":\"#4D5663\"},\"title\":{\"font\":{\"color\":\"#4D5663\"},\"text\":\"\"},\"zerolinecolor\":\"#E1E5ED\"}},                        {\"showLink\": true, \"linkText\": \"Export to plot.ly\", \"plotlyServerURL\": \"https://plot.ly\", \"responsive\": true}                    ).then(function(){\n",
       "                            \n",
       "var gd = document.getElementById('922ac7ec-8318-4e01-953c-89ca33f26567');\n",
       "var x = new MutationObserver(function (mutations, observer) {{\n",
       "        var display = window.getComputedStyle(gd).display;\n",
       "        if (!display || display === 'none') {{\n",
       "            console.log([gd, 'removed!']);\n",
       "            Plotly.purge(gd);\n",
       "            observer.disconnect();\n",
       "        }}\n",
       "}});\n",
       "\n",
       "// Listen for the removal of the full notebook cells\n",
       "var notebookContainer = gd.closest('#notebook-container');\n",
       "if (notebookContainer) {{\n",
       "    x.observe(notebookContainer, {childList: true});\n",
       "}}\n",
       "\n",
       "// Listen for the clearing of the current output cell\n",
       "var outputEl = gd.closest('.output');\n",
       "if (outputEl) {{\n",
       "    x.observe(outputEl, {childList: true});\n",
       "}}\n",
       "\n",
       "                        })                };                });            </script>        </div>"
      ]
     },
     "metadata": {},
     "output_type": "display_data"
    }
   ],
   "source": [
    "df2.iplot(kind='bar',x='Category',y='Values')"
   ]
  },
  {
   "cell_type": "code",
   "execution_count": 21,
   "metadata": {},
   "outputs": [
    {
     "data": {
      "application/vnd.plotly.v1+json": {
       "config": {
        "linkText": "Export to plot.ly",
        "plotlyServerURL": "https://plot.ly",
        "showLink": true
       },
       "data": [
        {
         "marker": {
          "color": "rgba(255, 153, 51, 0.6)",
          "line": {
           "color": "rgba(255, 153, 51, 1.0)",
           "width": 1
          }
         },
         "name": "A",
         "orientation": "v",
         "text": "",
         "type": "bar",
         "x": [
          0,
          1,
          2,
          3,
          4,
          5,
          6,
          7,
          8,
          9,
          10,
          11,
          12,
          13,
          14,
          15,
          16,
          17,
          18,
          19,
          20,
          21,
          22,
          23,
          24,
          25,
          26,
          27,
          28,
          29,
          30,
          31,
          32,
          33,
          34,
          35,
          36,
          37,
          38,
          39,
          40,
          41,
          42,
          43,
          44,
          45,
          46,
          47,
          48,
          49,
          50,
          51,
          52,
          53,
          54,
          55,
          56,
          57,
          58,
          59,
          60,
          61,
          62,
          63,
          64,
          65,
          66,
          67,
          68,
          69,
          70,
          71,
          72,
          73,
          74,
          75,
          76,
          77,
          78,
          79,
          80,
          81,
          82,
          83,
          84,
          85,
          86,
          87,
          88,
          89,
          90,
          91,
          92,
          93,
          94,
          95,
          96,
          97,
          98,
          99
         ],
         "y": [
          -0.9059946344274774,
          -0.4228448892570872,
          0.32823669086437185,
          0.6558818756618977,
          -0.23279394393207223,
          0.6525595480366613,
          -1.6915425316219246,
          0.19774000582771878,
          0.2527613251803961,
          1.2212768041507416,
          -1.0510831617170036,
          -0.7793914985082284,
          0.806056944934075,
          -0.6311019866196699,
          0.934877974567317,
          0.16080341281909977,
          -0.26044787101587635,
          -1.1189492025341188,
          0.9314131210571004,
          1.637803872997042,
          0.6740388916031278,
          1.0131855330251243,
          1.0735801831928784,
          0.937155505884544,
          -0.9383642090609543,
          -1.4125546602473755,
          -1.3961261570716632,
          1.4624065012532907,
          1.5085679801507355,
          0.37384897602131767,
          0.14589136140687492,
          -0.23095768454721793,
          -2.3629173679389783,
          0.25331855988772656,
          -0.3115860491141523,
          -0.3030080296653969,
          0.8976458438423921,
          -0.22670266681646012,
          0.41600691876623586,
          0.44298800896287893,
          0.48238892353758295,
          2.8740147943888767,
          1.2137085672267414,
          -0.5078538839778108,
          0.2712852957322795,
          0.48451943108122075,
          0.7602644879314184,
          1.066266090804438,
          -0.7210114083722396,
          0.32916613351098817,
          0.21287846776990083,
          1.3120634164376894,
          1.4845215944923633,
          1.2118529866244876,
          -0.35062596725697137,
          1.4679054114460215,
          0.5946197808733853,
          0.7653928202932211,
          0.502620298066773,
          -0.4655955727577539,
          -0.7795213169381651,
          -0.5835420380031595,
          0.581868964354893,
          -0.8446734086931094,
          -0.6104474804218408,
          -0.49453527742225606,
          0.03616565350186925,
          1.677717127944498,
          -0.13111115072431645,
          0.35354551803517,
          -1.1395729739401037,
          1.087329072160173,
          1.9901243821040628,
          1.4587485333823857,
          0.5863304514720385,
          -1.72328053440473,
          -0.33482969209209335,
          -0.5675569496541126,
          -0.7552568197099411,
          0.984241478144492,
          0.5130936566082164,
          1.007047428091453,
          -0.25229733785962855,
          -1.0765534930300449,
          -1.0836901842430446,
          1.251316893181913,
          -0.061947611188396756,
          -1.5090608602782263,
          0.5407038713008661,
          -0.7598080181281253,
          -2.24033822867379,
          -1.025455849018686,
          -0.6449593030755074,
          -2.3407345468245557,
          1.9319811029535663,
          0.44323959373215516,
          -0.3715898916904119,
          0.7183414221195205,
          0.9328345702391438,
          0.7111546819960841
         ]
        },
        {
         "marker": {
          "color": "rgba(55, 128, 191, 0.6)",
          "line": {
           "color": "rgba(55, 128, 191, 1.0)",
           "width": 1
          }
         },
         "name": "B",
         "orientation": "v",
         "text": "",
         "type": "bar",
         "x": [
          0,
          1,
          2,
          3,
          4,
          5,
          6,
          7,
          8,
          9,
          10,
          11,
          12,
          13,
          14,
          15,
          16,
          17,
          18,
          19,
          20,
          21,
          22,
          23,
          24,
          25,
          26,
          27,
          28,
          29,
          30,
          31,
          32,
          33,
          34,
          35,
          36,
          37,
          38,
          39,
          40,
          41,
          42,
          43,
          44,
          45,
          46,
          47,
          48,
          49,
          50,
          51,
          52,
          53,
          54,
          55,
          56,
          57,
          58,
          59,
          60,
          61,
          62,
          63,
          64,
          65,
          66,
          67,
          68,
          69,
          70,
          71,
          72,
          73,
          74,
          75,
          76,
          77,
          78,
          79,
          80,
          81,
          82,
          83,
          84,
          85,
          86,
          87,
          88,
          89,
          90,
          91,
          92,
          93,
          94,
          95,
          96,
          97,
          98,
          99
         ],
         "y": [
          0.39809897088173535,
          -0.14652925480192855,
          0.9857309327643848,
          -0.8247877220344356,
          -0.7171326813869001,
          0.27152193419855913,
          -0.14087040880362503,
          -0.0890924278317126,
          1.3250570353670188,
          0.09866929384221915,
          -1.456511319329652,
          -1.6257292208567193,
          -0.6674107831292494,
          0.3811991927832541,
          -0.5464922895705291,
          -3.162439502735584,
          -0.658820338868281,
          0.7721719856870062,
          -0.3171154031995474,
          -1.0020734777415063,
          -0.02659884375709406,
          1.4254056731396323,
          0.6836421842787477,
          -0.9772538796145454,
          1.179589205909156,
          0.5452437251135169,
          0.9451720539792436,
          -0.5674693547604166,
          -1.9367879178372351,
          0.09939863026944817,
          0.3788358260021555,
          -0.12359656382636455,
          -0.38458928359784156,
          -0.13612423713165192,
          -0.20220123127288567,
          -0.057722094925038374,
          -0.4215960142227496,
          -1.1817887527339672,
          -0.6820955787736707,
          0.54268553457587,
          2.269274538955471,
          1.399616365283778,
          0.39919861740985063,
          -0.7429824032412617,
          -0.5579151083162384,
          0.49856107072948636,
          -0.6122498520456356,
          -0.5196819457867476,
          0.6580335477597211,
          -1.4453404736418463,
          -1.0683326326666698,
          1.7800123892054036,
          0.33842572157581263,
          1.084922008912415,
          0.710339271478755,
          0.12105239058331187,
          -0.8509752427452628,
          -1.3491238864126032,
          -1.8598394510153693,
          -1.0659054118800213,
          1.3236350429577803,
          0.5444277023592253,
          -0.6727411628076259,
          -0.018547264192752825,
          -0.8071229564449062,
          0.33751660203866807,
          0.1881745849663572,
          0.12260492122922247,
          0.30615558365396084,
          1.2458146238905483,
          1.7110470711557848,
          -0.4800976041892355,
          2.221328091101082,
          0.34503964151741096,
          1.3888534612108372,
          -0.6121543897912833,
          1.5135232133398413,
          0.3550466399495089,
          -0.5125535379885994,
          -0.8684090756031528,
          -0.0880389921588798,
          1.5107179811616,
          -0.07874484690047716,
          -0.5389501748212824,
          0.7535046636019881,
          -0.5600026707788827,
          -0.3110571605343825,
          0.6306288933906005,
          -0.12702949524031082,
          -0.5299579481574125,
          -0.2319476324342638,
          1.1584607557786735,
          -1.5686875302712062,
          0.06172482147957937,
          -0.6198455475019047,
          -2.0770439203968674,
          0.09306099403907173,
          -0.45720135238549225,
          -0.30414649191620025,
          0.03513373986031923
         ]
        },
        {
         "marker": {
          "color": "rgba(50, 171, 96, 0.6)",
          "line": {
           "color": "rgba(50, 171, 96, 1.0)",
           "width": 1
          }
         },
         "name": "C",
         "orientation": "v",
         "text": "",
         "type": "bar",
         "x": [
          0,
          1,
          2,
          3,
          4,
          5,
          6,
          7,
          8,
          9,
          10,
          11,
          12,
          13,
          14,
          15,
          16,
          17,
          18,
          19,
          20,
          21,
          22,
          23,
          24,
          25,
          26,
          27,
          28,
          29,
          30,
          31,
          32,
          33,
          34,
          35,
          36,
          37,
          38,
          39,
          40,
          41,
          42,
          43,
          44,
          45,
          46,
          47,
          48,
          49,
          50,
          51,
          52,
          53,
          54,
          55,
          56,
          57,
          58,
          59,
          60,
          61,
          62,
          63,
          64,
          65,
          66,
          67,
          68,
          69,
          70,
          71,
          72,
          73,
          74,
          75,
          76,
          77,
          78,
          79,
          80,
          81,
          82,
          83,
          84,
          85,
          86,
          87,
          88,
          89,
          90,
          91,
          92,
          93,
          94,
          95,
          96,
          97,
          98,
          99
         ],
         "y": [
          0.8899482647583795,
          -0.48741350404004985,
          0.12298514481001037,
          -1.774585791587798,
          0.25788794441048885,
          -0.06328921642114764,
          0.8651593131570227,
          1.7149994554523373,
          -1.1952944135921917,
          -0.8242523462338697,
          0.2429233089008537,
          1.6624596340506916,
          0.8588193266652456,
          0.9647459497483071,
          -0.23813580241704013,
          -0.6197192913072721,
          0.060568610242076756,
          -1.876027186517289,
          0.686258974074959,
          -0.25673459721631553,
          0.7736769228693611,
          1.3566267794463591,
          0.7542012540572304,
          -0.42162929129487087,
          0.9487015299143998,
          -0.5761302532372644,
          -1.9029464805710632,
          1.0374031915795034,
          -0.7292548442852299,
          0.03334141354571613,
          1.0829223482605501,
          -1.2026214155339074,
          -1.2142580079903607,
          -0.27454086358979896,
          -1.0506533899581663,
          2.1551201246294123,
          -0.7651680756510916,
          -0.4067694711485394,
          0.831261276156096,
          -1.0147510732655431,
          1.0063233197321864,
          0.42723830554873815,
          1.5299200980024585,
          1.2998999231806587,
          1.2912300594676989,
          -1.2458776828641627,
          1.4474451621128004,
          0.15701383133376268,
          0.6814892571980171,
          2.0411505739861866,
          0.9452241695206468,
          0.43338888339608833,
          -0.4394511787806944,
          -0.5067859564033861,
          0.005055738764854608,
          1.474591522563153,
          -0.8629191140490524,
          -1.1874700605179853,
          -0.09757250559983943,
          -0.36828724929648926,
          1.0283783282412238,
          -0.3883995820650151,
          -0.16426441703822522,
          1.4189273452155675,
          -0.11048245401354172,
          0.3940338401538025,
          0.8170583108124951,
          -0.8699307446545328,
          -0.05625756849411813,
          0.5502998160612507,
          -1.6593905590086808,
          -0.08164535796275711,
          -0.7840450616919273,
          -0.5841850807268515,
          1.8086013752422376,
          0.4074760772558162,
          -1.0259072552717319,
          -1.0879739342231223,
          -1.0467410679175666,
          0.8687746229923943,
          0.4870077060513073,
          -1.1891200717940589,
          -0.08436834921922547,
          -0.9195326383906376,
          -0.3415648548625693,
          -0.2794170119234371,
          0.01138761588792133,
          -0.9140522953517211,
          -0.16531178762007206,
          1.7946611443079783,
          -0.051732808917070806,
          0.7789357894976013,
          1.0688045621594884,
          0.11159693286318663,
          0.7512815794487576,
          -0.5802136776239283,
          0.8047680319434942,
          -1.0850259838757654,
          -0.6812093113350112,
          0.38254119848273516
         ]
        },
        {
         "marker": {
          "color": "rgba(128, 0, 128, 0.6)",
          "line": {
           "color": "rgba(128, 0, 128, 1.0)",
           "width": 1
          }
         },
         "name": "D",
         "orientation": "v",
         "text": "",
         "type": "bar",
         "x": [
          0,
          1,
          2,
          3,
          4,
          5,
          6,
          7,
          8,
          9,
          10,
          11,
          12,
          13,
          14,
          15,
          16,
          17,
          18,
          19,
          20,
          21,
          22,
          23,
          24,
          25,
          26,
          27,
          28,
          29,
          30,
          31,
          32,
          33,
          34,
          35,
          36,
          37,
          38,
          39,
          40,
          41,
          42,
          43,
          44,
          45,
          46,
          47,
          48,
          49,
          50,
          51,
          52,
          53,
          54,
          55,
          56,
          57,
          58,
          59,
          60,
          61,
          62,
          63,
          64,
          65,
          66,
          67,
          68,
          69,
          70,
          71,
          72,
          73,
          74,
          75,
          76,
          77,
          78,
          79,
          80,
          81,
          82,
          83,
          84,
          85,
          86,
          87,
          88,
          89,
          90,
          91,
          92,
          93,
          94,
          95,
          96,
          97,
          98,
          99
         ],
         "y": [
          -0.3618724048781142,
          -0.40687761489980623,
          0.5195626630568237,
          0.13912631703553005,
          0.32528591114126365,
          0.629820985303858,
          -0.17041115083404465,
          -0.23380726018029674,
          0.6930189819079416,
          0.4321523738209809,
          -0.06832956849261512,
          0.7054808326257046,
          0.3925765839568227,
          0.8414122179485375,
          2.7492266137991384,
          2.789035520870783,
          -0.49788911678712844,
          1.0306950917299138,
          -0.6252367154260806,
          -0.04499324689704075,
          -0.7098464166552086,
          1.0913140164808373,
          -0.14937672319567452,
          -0.027169954537775307,
          -0.33327178910759336,
          0.9782141349110773,
          -0.1659250766810504,
          -1.1907971669168738,
          2.4582023742263774,
          -0.19076034535752567,
          -0.263968439562819,
          -1.2131711833684555,
          0.6549835291202654,
          1.761118222522333,
          0.009168450583866327,
          0.27954336114813516,
          0.5133601348779316,
          -0.7185694932596692,
          -1.1793560729556487,
          1.6022489903898194,
          -1.091237147724573,
          1.9403277119055318,
          0.10413118292587473,
          0.14002107064947966,
          -0.5923516210365952,
          0.3798847137907724,
          1.4175155728259794,
          -0.16165530760120006,
          0.45483955058631537,
          -1.7591790350741123,
          -1.9401472052225492,
          -0.9747105857243566,
          0.2097433224401488,
          0.9428628417877921,
          -1.3460870937111664,
          0.3270291246531071,
          0.9388246148042848,
          -0.9354385562636851,
          0.7236083171803579,
          -0.7324644250452019,
          0.8144034408789959,
          -0.29984428088096304,
          -1.2708026061786377,
          0.7791969024999302,
          0.10634367954919603,
          0.8804390908267082,
          -1.3920998512600171,
          -0.7289623760466917,
          1.6324837909472627,
          -2.275718441810622,
          0.6996653927285276,
          1.9021999289395772,
          -0.22496156634148104,
          -1.236445754124931,
          -0.13670267087326995,
          -1.016315959147242,
          -0.39809020253168687,
          -1.9750991406903013,
          -0.6407360151401108,
          -0.4894767126128095,
          -1.0559998264889134,
          0.5287302277768998,
          -0.06599684649481262,
          0.15982134331091033,
          -0.21114957671805018,
          -0.10064997659060733,
          0.10968624643260116,
          0.4904529657311047,
          -1.1501791726685733,
          0.9470020914184902,
          -0.5453496522243801,
          -1.0544030950720638,
          -0.35195965450924055,
          0.6953243269099676,
          -0.7048377964351703,
          0.1343931435270347,
          0.008367024707526283,
          -0.8295441813327156,
          0.8504452543199488,
          0.294786501266867
         ]
        }
       ],
       "layout": {
        "legend": {
         "bgcolor": "#F5F6F9",
         "font": {
          "color": "#4D5663"
         }
        },
        "paper_bgcolor": "#F5F6F9",
        "plot_bgcolor": "#F5F6F9",
        "template": {
         "data": {
          "bar": [
           {
            "error_x": {
             "color": "#2a3f5f"
            },
            "error_y": {
             "color": "#2a3f5f"
            },
            "marker": {
             "line": {
              "color": "#E5ECF6",
              "width": 0.5
             },
             "pattern": {
              "fillmode": "overlay",
              "size": 10,
              "solidity": 0.2
             }
            },
            "type": "bar"
           }
          ],
          "barpolar": [
           {
            "marker": {
             "line": {
              "color": "#E5ECF6",
              "width": 0.5
             },
             "pattern": {
              "fillmode": "overlay",
              "size": 10,
              "solidity": 0.2
             }
            },
            "type": "barpolar"
           }
          ],
          "carpet": [
           {
            "aaxis": {
             "endlinecolor": "#2a3f5f",
             "gridcolor": "white",
             "linecolor": "white",
             "minorgridcolor": "white",
             "startlinecolor": "#2a3f5f"
            },
            "baxis": {
             "endlinecolor": "#2a3f5f",
             "gridcolor": "white",
             "linecolor": "white",
             "minorgridcolor": "white",
             "startlinecolor": "#2a3f5f"
            },
            "type": "carpet"
           }
          ],
          "choropleth": [
           {
            "colorbar": {
             "outlinewidth": 0,
             "ticks": ""
            },
            "type": "choropleth"
           }
          ],
          "contour": [
           {
            "colorbar": {
             "outlinewidth": 0,
             "ticks": ""
            },
            "colorscale": [
             [
              0,
              "#0d0887"
             ],
             [
              0.1111111111111111,
              "#46039f"
             ],
             [
              0.2222222222222222,
              "#7201a8"
             ],
             [
              0.3333333333333333,
              "#9c179e"
             ],
             [
              0.4444444444444444,
              "#bd3786"
             ],
             [
              0.5555555555555556,
              "#d8576b"
             ],
             [
              0.6666666666666666,
              "#ed7953"
             ],
             [
              0.7777777777777778,
              "#fb9f3a"
             ],
             [
              0.8888888888888888,
              "#fdca26"
             ],
             [
              1,
              "#f0f921"
             ]
            ],
            "type": "contour"
           }
          ],
          "contourcarpet": [
           {
            "colorbar": {
             "outlinewidth": 0,
             "ticks": ""
            },
            "type": "contourcarpet"
           }
          ],
          "heatmap": [
           {
            "colorbar": {
             "outlinewidth": 0,
             "ticks": ""
            },
            "colorscale": [
             [
              0,
              "#0d0887"
             ],
             [
              0.1111111111111111,
              "#46039f"
             ],
             [
              0.2222222222222222,
              "#7201a8"
             ],
             [
              0.3333333333333333,
              "#9c179e"
             ],
             [
              0.4444444444444444,
              "#bd3786"
             ],
             [
              0.5555555555555556,
              "#d8576b"
             ],
             [
              0.6666666666666666,
              "#ed7953"
             ],
             [
              0.7777777777777778,
              "#fb9f3a"
             ],
             [
              0.8888888888888888,
              "#fdca26"
             ],
             [
              1,
              "#f0f921"
             ]
            ],
            "type": "heatmap"
           }
          ],
          "heatmapgl": [
           {
            "colorbar": {
             "outlinewidth": 0,
             "ticks": ""
            },
            "colorscale": [
             [
              0,
              "#0d0887"
             ],
             [
              0.1111111111111111,
              "#46039f"
             ],
             [
              0.2222222222222222,
              "#7201a8"
             ],
             [
              0.3333333333333333,
              "#9c179e"
             ],
             [
              0.4444444444444444,
              "#bd3786"
             ],
             [
              0.5555555555555556,
              "#d8576b"
             ],
             [
              0.6666666666666666,
              "#ed7953"
             ],
             [
              0.7777777777777778,
              "#fb9f3a"
             ],
             [
              0.8888888888888888,
              "#fdca26"
             ],
             [
              1,
              "#f0f921"
             ]
            ],
            "type": "heatmapgl"
           }
          ],
          "histogram": [
           {
            "marker": {
             "pattern": {
              "fillmode": "overlay",
              "size": 10,
              "solidity": 0.2
             }
            },
            "type": "histogram"
           }
          ],
          "histogram2d": [
           {
            "colorbar": {
             "outlinewidth": 0,
             "ticks": ""
            },
            "colorscale": [
             [
              0,
              "#0d0887"
             ],
             [
              0.1111111111111111,
              "#46039f"
             ],
             [
              0.2222222222222222,
              "#7201a8"
             ],
             [
              0.3333333333333333,
              "#9c179e"
             ],
             [
              0.4444444444444444,
              "#bd3786"
             ],
             [
              0.5555555555555556,
              "#d8576b"
             ],
             [
              0.6666666666666666,
              "#ed7953"
             ],
             [
              0.7777777777777778,
              "#fb9f3a"
             ],
             [
              0.8888888888888888,
              "#fdca26"
             ],
             [
              1,
              "#f0f921"
             ]
            ],
            "type": "histogram2d"
           }
          ],
          "histogram2dcontour": [
           {
            "colorbar": {
             "outlinewidth": 0,
             "ticks": ""
            },
            "colorscale": [
             [
              0,
              "#0d0887"
             ],
             [
              0.1111111111111111,
              "#46039f"
             ],
             [
              0.2222222222222222,
              "#7201a8"
             ],
             [
              0.3333333333333333,
              "#9c179e"
             ],
             [
              0.4444444444444444,
              "#bd3786"
             ],
             [
              0.5555555555555556,
              "#d8576b"
             ],
             [
              0.6666666666666666,
              "#ed7953"
             ],
             [
              0.7777777777777778,
              "#fb9f3a"
             ],
             [
              0.8888888888888888,
              "#fdca26"
             ],
             [
              1,
              "#f0f921"
             ]
            ],
            "type": "histogram2dcontour"
           }
          ],
          "mesh3d": [
           {
            "colorbar": {
             "outlinewidth": 0,
             "ticks": ""
            },
            "type": "mesh3d"
           }
          ],
          "parcoords": [
           {
            "line": {
             "colorbar": {
              "outlinewidth": 0,
              "ticks": ""
             }
            },
            "type": "parcoords"
           }
          ],
          "pie": [
           {
            "automargin": true,
            "type": "pie"
           }
          ],
          "scatter": [
           {
            "marker": {
             "colorbar": {
              "outlinewidth": 0,
              "ticks": ""
             }
            },
            "type": "scatter"
           }
          ],
          "scatter3d": [
           {
            "line": {
             "colorbar": {
              "outlinewidth": 0,
              "ticks": ""
             }
            },
            "marker": {
             "colorbar": {
              "outlinewidth": 0,
              "ticks": ""
             }
            },
            "type": "scatter3d"
           }
          ],
          "scattercarpet": [
           {
            "marker": {
             "colorbar": {
              "outlinewidth": 0,
              "ticks": ""
             }
            },
            "type": "scattercarpet"
           }
          ],
          "scattergeo": [
           {
            "marker": {
             "colorbar": {
              "outlinewidth": 0,
              "ticks": ""
             }
            },
            "type": "scattergeo"
           }
          ],
          "scattergl": [
           {
            "marker": {
             "colorbar": {
              "outlinewidth": 0,
              "ticks": ""
             }
            },
            "type": "scattergl"
           }
          ],
          "scattermapbox": [
           {
            "marker": {
             "colorbar": {
              "outlinewidth": 0,
              "ticks": ""
             }
            },
            "type": "scattermapbox"
           }
          ],
          "scatterpolar": [
           {
            "marker": {
             "colorbar": {
              "outlinewidth": 0,
              "ticks": ""
             }
            },
            "type": "scatterpolar"
           }
          ],
          "scatterpolargl": [
           {
            "marker": {
             "colorbar": {
              "outlinewidth": 0,
              "ticks": ""
             }
            },
            "type": "scatterpolargl"
           }
          ],
          "scatterternary": [
           {
            "marker": {
             "colorbar": {
              "outlinewidth": 0,
              "ticks": ""
             }
            },
            "type": "scatterternary"
           }
          ],
          "surface": [
           {
            "colorbar": {
             "outlinewidth": 0,
             "ticks": ""
            },
            "colorscale": [
             [
              0,
              "#0d0887"
             ],
             [
              0.1111111111111111,
              "#46039f"
             ],
             [
              0.2222222222222222,
              "#7201a8"
             ],
             [
              0.3333333333333333,
              "#9c179e"
             ],
             [
              0.4444444444444444,
              "#bd3786"
             ],
             [
              0.5555555555555556,
              "#d8576b"
             ],
             [
              0.6666666666666666,
              "#ed7953"
             ],
             [
              0.7777777777777778,
              "#fb9f3a"
             ],
             [
              0.8888888888888888,
              "#fdca26"
             ],
             [
              1,
              "#f0f921"
             ]
            ],
            "type": "surface"
           }
          ],
          "table": [
           {
            "cells": {
             "fill": {
              "color": "#EBF0F8"
             },
             "line": {
              "color": "white"
             }
            },
            "header": {
             "fill": {
              "color": "#C8D4E3"
             },
             "line": {
              "color": "white"
             }
            },
            "type": "table"
           }
          ]
         },
         "layout": {
          "annotationdefaults": {
           "arrowcolor": "#2a3f5f",
           "arrowhead": 0,
           "arrowwidth": 1
          },
          "autotypenumbers": "strict",
          "coloraxis": {
           "colorbar": {
            "outlinewidth": 0,
            "ticks": ""
           }
          },
          "colorscale": {
           "diverging": [
            [
             0,
             "#8e0152"
            ],
            [
             0.1,
             "#c51b7d"
            ],
            [
             0.2,
             "#de77ae"
            ],
            [
             0.3,
             "#f1b6da"
            ],
            [
             0.4,
             "#fde0ef"
            ],
            [
             0.5,
             "#f7f7f7"
            ],
            [
             0.6,
             "#e6f5d0"
            ],
            [
             0.7,
             "#b8e186"
            ],
            [
             0.8,
             "#7fbc41"
            ],
            [
             0.9,
             "#4d9221"
            ],
            [
             1,
             "#276419"
            ]
           ],
           "sequential": [
            [
             0,
             "#0d0887"
            ],
            [
             0.1111111111111111,
             "#46039f"
            ],
            [
             0.2222222222222222,
             "#7201a8"
            ],
            [
             0.3333333333333333,
             "#9c179e"
            ],
            [
             0.4444444444444444,
             "#bd3786"
            ],
            [
             0.5555555555555556,
             "#d8576b"
            ],
            [
             0.6666666666666666,
             "#ed7953"
            ],
            [
             0.7777777777777778,
             "#fb9f3a"
            ],
            [
             0.8888888888888888,
             "#fdca26"
            ],
            [
             1,
             "#f0f921"
            ]
           ],
           "sequentialminus": [
            [
             0,
             "#0d0887"
            ],
            [
             0.1111111111111111,
             "#46039f"
            ],
            [
             0.2222222222222222,
             "#7201a8"
            ],
            [
             0.3333333333333333,
             "#9c179e"
            ],
            [
             0.4444444444444444,
             "#bd3786"
            ],
            [
             0.5555555555555556,
             "#d8576b"
            ],
            [
             0.6666666666666666,
             "#ed7953"
            ],
            [
             0.7777777777777778,
             "#fb9f3a"
            ],
            [
             0.8888888888888888,
             "#fdca26"
            ],
            [
             1,
             "#f0f921"
            ]
           ]
          },
          "colorway": [
           "#636efa",
           "#EF553B",
           "#00cc96",
           "#ab63fa",
           "#FFA15A",
           "#19d3f3",
           "#FF6692",
           "#B6E880",
           "#FF97FF",
           "#FECB52"
          ],
          "font": {
           "color": "#2a3f5f"
          },
          "geo": {
           "bgcolor": "white",
           "lakecolor": "white",
           "landcolor": "#E5ECF6",
           "showlakes": true,
           "showland": true,
           "subunitcolor": "white"
          },
          "hoverlabel": {
           "align": "left"
          },
          "hovermode": "closest",
          "mapbox": {
           "style": "light"
          },
          "paper_bgcolor": "white",
          "plot_bgcolor": "#E5ECF6",
          "polar": {
           "angularaxis": {
            "gridcolor": "white",
            "linecolor": "white",
            "ticks": ""
           },
           "bgcolor": "#E5ECF6",
           "radialaxis": {
            "gridcolor": "white",
            "linecolor": "white",
            "ticks": ""
           }
          },
          "scene": {
           "xaxis": {
            "backgroundcolor": "#E5ECF6",
            "gridcolor": "white",
            "gridwidth": 2,
            "linecolor": "white",
            "showbackground": true,
            "ticks": "",
            "zerolinecolor": "white"
           },
           "yaxis": {
            "backgroundcolor": "#E5ECF6",
            "gridcolor": "white",
            "gridwidth": 2,
            "linecolor": "white",
            "showbackground": true,
            "ticks": "",
            "zerolinecolor": "white"
           },
           "zaxis": {
            "backgroundcolor": "#E5ECF6",
            "gridcolor": "white",
            "gridwidth": 2,
            "linecolor": "white",
            "showbackground": true,
            "ticks": "",
            "zerolinecolor": "white"
           }
          },
          "shapedefaults": {
           "line": {
            "color": "#2a3f5f"
           }
          },
          "ternary": {
           "aaxis": {
            "gridcolor": "white",
            "linecolor": "white",
            "ticks": ""
           },
           "baxis": {
            "gridcolor": "white",
            "linecolor": "white",
            "ticks": ""
           },
           "bgcolor": "#E5ECF6",
           "caxis": {
            "gridcolor": "white",
            "linecolor": "white",
            "ticks": ""
           }
          },
          "title": {
           "x": 0.05
          },
          "xaxis": {
           "automargin": true,
           "gridcolor": "white",
           "linecolor": "white",
           "ticks": "",
           "title": {
            "standoff": 15
           },
           "zerolinecolor": "white",
           "zerolinewidth": 2
          },
          "yaxis": {
           "automargin": true,
           "gridcolor": "white",
           "linecolor": "white",
           "ticks": "",
           "title": {
            "standoff": 15
           },
           "zerolinecolor": "white",
           "zerolinewidth": 2
          }
         }
        },
        "title": {
         "font": {
          "color": "#4D5663"
         }
        },
        "xaxis": {
         "gridcolor": "#E1E5ED",
         "showgrid": true,
         "tickfont": {
          "color": "#4D5663"
         },
         "title": {
          "font": {
           "color": "#4D5663"
          },
          "text": ""
         },
         "zerolinecolor": "#E1E5ED"
        },
        "yaxis": {
         "gridcolor": "#E1E5ED",
         "showgrid": true,
         "tickfont": {
          "color": "#4D5663"
         },
         "title": {
          "font": {
           "color": "#4D5663"
          },
          "text": ""
         },
         "zerolinecolor": "#E1E5ED"
        }
       }
      },
      "text/html": [
       "<div>                            <div id=\"b7904a27-77a5-4b5a-a914-35520cb946c5\" class=\"plotly-graph-div\" style=\"height:525px; width:100%;\"></div>            <script type=\"text/javascript\">                require([\"plotly\"], function(Plotly) {                    window.PLOTLYENV=window.PLOTLYENV || {};\n",
       "                    window.PLOTLYENV.BASE_URL='https://plot.ly';                                    if (document.getElementById(\"b7904a27-77a5-4b5a-a914-35520cb946c5\")) {                    Plotly.newPlot(                        \"b7904a27-77a5-4b5a-a914-35520cb946c5\",                        [{\"marker\":{\"color\":\"rgba(255, 153, 51, 0.6)\",\"line\":{\"color\":\"rgba(255, 153, 51, 1.0)\",\"width\":1}},\"name\":\"A\",\"orientation\":\"v\",\"text\":\"\",\"type\":\"bar\",\"x\":[0,1,2,3,4,5,6,7,8,9,10,11,12,13,14,15,16,17,18,19,20,21,22,23,24,25,26,27,28,29,30,31,32,33,34,35,36,37,38,39,40,41,42,43,44,45,46,47,48,49,50,51,52,53,54,55,56,57,58,59,60,61,62,63,64,65,66,67,68,69,70,71,72,73,74,75,76,77,78,79,80,81,82,83,84,85,86,87,88,89,90,91,92,93,94,95,96,97,98,99],\"y\":[-0.9059946344274774,-0.4228448892570872,0.32823669086437185,0.6558818756618977,-0.23279394393207223,0.6525595480366613,-1.6915425316219246,0.19774000582771878,0.2527613251803961,1.2212768041507416,-1.0510831617170036,-0.7793914985082284,0.806056944934075,-0.6311019866196699,0.934877974567317,0.16080341281909977,-0.26044787101587635,-1.1189492025341188,0.9314131210571004,1.637803872997042,0.6740388916031278,1.0131855330251243,1.0735801831928784,0.937155505884544,-0.9383642090609543,-1.4125546602473755,-1.3961261570716632,1.4624065012532907,1.5085679801507355,0.37384897602131767,0.14589136140687492,-0.23095768454721793,-2.3629173679389783,0.25331855988772656,-0.3115860491141523,-0.3030080296653969,0.8976458438423921,-0.22670266681646012,0.41600691876623586,0.44298800896287893,0.48238892353758295,2.8740147943888767,1.2137085672267414,-0.5078538839778108,0.2712852957322795,0.48451943108122075,0.7602644879314184,1.066266090804438,-0.7210114083722396,0.32916613351098817,0.21287846776990083,1.3120634164376894,1.4845215944923633,1.2118529866244876,-0.35062596725697137,1.4679054114460215,0.5946197808733853,0.7653928202932211,0.502620298066773,-0.4655955727577539,-0.7795213169381651,-0.5835420380031595,0.581868964354893,-0.8446734086931094,-0.6104474804218408,-0.49453527742225606,0.03616565350186925,1.677717127944498,-0.13111115072431645,0.35354551803517,-1.1395729739401037,1.087329072160173,1.9901243821040628,1.4587485333823857,0.5863304514720385,-1.72328053440473,-0.33482969209209335,-0.5675569496541126,-0.7552568197099411,0.984241478144492,0.5130936566082164,1.007047428091453,-0.25229733785962855,-1.0765534930300449,-1.0836901842430446,1.251316893181913,-0.061947611188396756,-1.5090608602782263,0.5407038713008661,-0.7598080181281253,-2.24033822867379,-1.025455849018686,-0.6449593030755074,-2.3407345468245557,1.9319811029535663,0.44323959373215516,-0.3715898916904119,0.7183414221195205,0.9328345702391438,0.7111546819960841]},{\"marker\":{\"color\":\"rgba(55, 128, 191, 0.6)\",\"line\":{\"color\":\"rgba(55, 128, 191, 1.0)\",\"width\":1}},\"name\":\"B\",\"orientation\":\"v\",\"text\":\"\",\"type\":\"bar\",\"x\":[0,1,2,3,4,5,6,7,8,9,10,11,12,13,14,15,16,17,18,19,20,21,22,23,24,25,26,27,28,29,30,31,32,33,34,35,36,37,38,39,40,41,42,43,44,45,46,47,48,49,50,51,52,53,54,55,56,57,58,59,60,61,62,63,64,65,66,67,68,69,70,71,72,73,74,75,76,77,78,79,80,81,82,83,84,85,86,87,88,89,90,91,92,93,94,95,96,97,98,99],\"y\":[0.39809897088173535,-0.14652925480192855,0.9857309327643848,-0.8247877220344356,-0.7171326813869001,0.27152193419855913,-0.14087040880362503,-0.0890924278317126,1.3250570353670188,0.09866929384221915,-1.456511319329652,-1.6257292208567193,-0.6674107831292494,0.3811991927832541,-0.5464922895705291,-3.162439502735584,-0.658820338868281,0.7721719856870062,-0.3171154031995474,-1.0020734777415063,-0.02659884375709406,1.4254056731396323,0.6836421842787477,-0.9772538796145454,1.179589205909156,0.5452437251135169,0.9451720539792436,-0.5674693547604166,-1.9367879178372351,0.09939863026944817,0.3788358260021555,-0.12359656382636455,-0.38458928359784156,-0.13612423713165192,-0.20220123127288567,-0.057722094925038374,-0.4215960142227496,-1.1817887527339672,-0.6820955787736707,0.54268553457587,2.269274538955471,1.399616365283778,0.39919861740985063,-0.7429824032412617,-0.5579151083162384,0.49856107072948636,-0.6122498520456356,-0.5196819457867476,0.6580335477597211,-1.4453404736418463,-1.0683326326666698,1.7800123892054036,0.33842572157581263,1.084922008912415,0.710339271478755,0.12105239058331187,-0.8509752427452628,-1.3491238864126032,-1.8598394510153693,-1.0659054118800213,1.3236350429577803,0.5444277023592253,-0.6727411628076259,-0.018547264192752825,-0.8071229564449062,0.33751660203866807,0.1881745849663572,0.12260492122922247,0.30615558365396084,1.2458146238905483,1.7110470711557848,-0.4800976041892355,2.221328091101082,0.34503964151741096,1.3888534612108372,-0.6121543897912833,1.5135232133398413,0.3550466399495089,-0.5125535379885994,-0.8684090756031528,-0.0880389921588798,1.5107179811616,-0.07874484690047716,-0.5389501748212824,0.7535046636019881,-0.5600026707788827,-0.3110571605343825,0.6306288933906005,-0.12702949524031082,-0.5299579481574125,-0.2319476324342638,1.1584607557786735,-1.5686875302712062,0.06172482147957937,-0.6198455475019047,-2.0770439203968674,0.09306099403907173,-0.45720135238549225,-0.30414649191620025,0.03513373986031923]},{\"marker\":{\"color\":\"rgba(50, 171, 96, 0.6)\",\"line\":{\"color\":\"rgba(50, 171, 96, 1.0)\",\"width\":1}},\"name\":\"C\",\"orientation\":\"v\",\"text\":\"\",\"type\":\"bar\",\"x\":[0,1,2,3,4,5,6,7,8,9,10,11,12,13,14,15,16,17,18,19,20,21,22,23,24,25,26,27,28,29,30,31,32,33,34,35,36,37,38,39,40,41,42,43,44,45,46,47,48,49,50,51,52,53,54,55,56,57,58,59,60,61,62,63,64,65,66,67,68,69,70,71,72,73,74,75,76,77,78,79,80,81,82,83,84,85,86,87,88,89,90,91,92,93,94,95,96,97,98,99],\"y\":[0.8899482647583795,-0.48741350404004985,0.12298514481001037,-1.774585791587798,0.25788794441048885,-0.06328921642114764,0.8651593131570227,1.7149994554523373,-1.1952944135921917,-0.8242523462338697,0.2429233089008537,1.6624596340506916,0.8588193266652456,0.9647459497483071,-0.23813580241704013,-0.6197192913072721,0.060568610242076756,-1.876027186517289,0.686258974074959,-0.25673459721631553,0.7736769228693611,1.3566267794463591,0.7542012540572304,-0.42162929129487087,0.9487015299143998,-0.5761302532372644,-1.9029464805710632,1.0374031915795034,-0.7292548442852299,0.03334141354571613,1.0829223482605501,-1.2026214155339074,-1.2142580079903607,-0.27454086358979896,-1.0506533899581663,2.1551201246294123,-0.7651680756510916,-0.4067694711485394,0.831261276156096,-1.0147510732655431,1.0063233197321864,0.42723830554873815,1.5299200980024585,1.2998999231806587,1.2912300594676989,-1.2458776828641627,1.4474451621128004,0.15701383133376268,0.6814892571980171,2.0411505739861866,0.9452241695206468,0.43338888339608833,-0.4394511787806944,-0.5067859564033861,0.005055738764854608,1.474591522563153,-0.8629191140490524,-1.1874700605179853,-0.09757250559983943,-0.36828724929648926,1.0283783282412238,-0.3883995820650151,-0.16426441703822522,1.4189273452155675,-0.11048245401354172,0.3940338401538025,0.8170583108124951,-0.8699307446545328,-0.05625756849411813,0.5502998160612507,-1.6593905590086808,-0.08164535796275711,-0.7840450616919273,-0.5841850807268515,1.8086013752422376,0.4074760772558162,-1.0259072552717319,-1.0879739342231223,-1.0467410679175666,0.8687746229923943,0.4870077060513073,-1.1891200717940589,-0.08436834921922547,-0.9195326383906376,-0.3415648548625693,-0.2794170119234371,0.01138761588792133,-0.9140522953517211,-0.16531178762007206,1.7946611443079783,-0.051732808917070806,0.7789357894976013,1.0688045621594884,0.11159693286318663,0.7512815794487576,-0.5802136776239283,0.8047680319434942,-1.0850259838757654,-0.6812093113350112,0.38254119848273516]},{\"marker\":{\"color\":\"rgba(128, 0, 128, 0.6)\",\"line\":{\"color\":\"rgba(128, 0, 128, 1.0)\",\"width\":1}},\"name\":\"D\",\"orientation\":\"v\",\"text\":\"\",\"type\":\"bar\",\"x\":[0,1,2,3,4,5,6,7,8,9,10,11,12,13,14,15,16,17,18,19,20,21,22,23,24,25,26,27,28,29,30,31,32,33,34,35,36,37,38,39,40,41,42,43,44,45,46,47,48,49,50,51,52,53,54,55,56,57,58,59,60,61,62,63,64,65,66,67,68,69,70,71,72,73,74,75,76,77,78,79,80,81,82,83,84,85,86,87,88,89,90,91,92,93,94,95,96,97,98,99],\"y\":[-0.3618724048781142,-0.40687761489980623,0.5195626630568237,0.13912631703553005,0.32528591114126365,0.629820985303858,-0.17041115083404465,-0.23380726018029674,0.6930189819079416,0.4321523738209809,-0.06832956849261512,0.7054808326257046,0.3925765839568227,0.8414122179485375,2.7492266137991384,2.789035520870783,-0.49788911678712844,1.0306950917299138,-0.6252367154260806,-0.04499324689704075,-0.7098464166552086,1.0913140164808373,-0.14937672319567452,-0.027169954537775307,-0.33327178910759336,0.9782141349110773,-0.1659250766810504,-1.1907971669168738,2.4582023742263774,-0.19076034535752567,-0.263968439562819,-1.2131711833684555,0.6549835291202654,1.761118222522333,0.009168450583866327,0.27954336114813516,0.5133601348779316,-0.7185694932596692,-1.1793560729556487,1.6022489903898194,-1.091237147724573,1.9403277119055318,0.10413118292587473,0.14002107064947966,-0.5923516210365952,0.3798847137907724,1.4175155728259794,-0.16165530760120006,0.45483955058631537,-1.7591790350741123,-1.9401472052225492,-0.9747105857243566,0.2097433224401488,0.9428628417877921,-1.3460870937111664,0.3270291246531071,0.9388246148042848,-0.9354385562636851,0.7236083171803579,-0.7324644250452019,0.8144034408789959,-0.29984428088096304,-1.2708026061786377,0.7791969024999302,0.10634367954919603,0.8804390908267082,-1.3920998512600171,-0.7289623760466917,1.6324837909472627,-2.275718441810622,0.6996653927285276,1.9021999289395772,-0.22496156634148104,-1.236445754124931,-0.13670267087326995,-1.016315959147242,-0.39809020253168687,-1.9750991406903013,-0.6407360151401108,-0.4894767126128095,-1.0559998264889134,0.5287302277768998,-0.06599684649481262,0.15982134331091033,-0.21114957671805018,-0.10064997659060733,0.10968624643260116,0.4904529657311047,-1.1501791726685733,0.9470020914184902,-0.5453496522243801,-1.0544030950720638,-0.35195965450924055,0.6953243269099676,-0.7048377964351703,0.1343931435270347,0.008367024707526283,-0.8295441813327156,0.8504452543199488,0.294786501266867]}],                        {\"legend\":{\"bgcolor\":\"#F5F6F9\",\"font\":{\"color\":\"#4D5663\"}},\"paper_bgcolor\":\"#F5F6F9\",\"plot_bgcolor\":\"#F5F6F9\",\"template\":{\"data\":{\"bar\":[{\"error_x\":{\"color\":\"#2a3f5f\"},\"error_y\":{\"color\":\"#2a3f5f\"},\"marker\":{\"line\":{\"color\":\"#E5ECF6\",\"width\":0.5},\"pattern\":{\"fillmode\":\"overlay\",\"size\":10,\"solidity\":0.2}},\"type\":\"bar\"}],\"barpolar\":[{\"marker\":{\"line\":{\"color\":\"#E5ECF6\",\"width\":0.5},\"pattern\":{\"fillmode\":\"overlay\",\"size\":10,\"solidity\":0.2}},\"type\":\"barpolar\"}],\"carpet\":[{\"aaxis\":{\"endlinecolor\":\"#2a3f5f\",\"gridcolor\":\"white\",\"linecolor\":\"white\",\"minorgridcolor\":\"white\",\"startlinecolor\":\"#2a3f5f\"},\"baxis\":{\"endlinecolor\":\"#2a3f5f\",\"gridcolor\":\"white\",\"linecolor\":\"white\",\"minorgridcolor\":\"white\",\"startlinecolor\":\"#2a3f5f\"},\"type\":\"carpet\"}],\"choropleth\":[{\"colorbar\":{\"outlinewidth\":0,\"ticks\":\"\"},\"type\":\"choropleth\"}],\"contour\":[{\"colorbar\":{\"outlinewidth\":0,\"ticks\":\"\"},\"colorscale\":[[0.0,\"#0d0887\"],[0.1111111111111111,\"#46039f\"],[0.2222222222222222,\"#7201a8\"],[0.3333333333333333,\"#9c179e\"],[0.4444444444444444,\"#bd3786\"],[0.5555555555555556,\"#d8576b\"],[0.6666666666666666,\"#ed7953\"],[0.7777777777777778,\"#fb9f3a\"],[0.8888888888888888,\"#fdca26\"],[1.0,\"#f0f921\"]],\"type\":\"contour\"}],\"contourcarpet\":[{\"colorbar\":{\"outlinewidth\":0,\"ticks\":\"\"},\"type\":\"contourcarpet\"}],\"heatmap\":[{\"colorbar\":{\"outlinewidth\":0,\"ticks\":\"\"},\"colorscale\":[[0.0,\"#0d0887\"],[0.1111111111111111,\"#46039f\"],[0.2222222222222222,\"#7201a8\"],[0.3333333333333333,\"#9c179e\"],[0.4444444444444444,\"#bd3786\"],[0.5555555555555556,\"#d8576b\"],[0.6666666666666666,\"#ed7953\"],[0.7777777777777778,\"#fb9f3a\"],[0.8888888888888888,\"#fdca26\"],[1.0,\"#f0f921\"]],\"type\":\"heatmap\"}],\"heatmapgl\":[{\"colorbar\":{\"outlinewidth\":0,\"ticks\":\"\"},\"colorscale\":[[0.0,\"#0d0887\"],[0.1111111111111111,\"#46039f\"],[0.2222222222222222,\"#7201a8\"],[0.3333333333333333,\"#9c179e\"],[0.4444444444444444,\"#bd3786\"],[0.5555555555555556,\"#d8576b\"],[0.6666666666666666,\"#ed7953\"],[0.7777777777777778,\"#fb9f3a\"],[0.8888888888888888,\"#fdca26\"],[1.0,\"#f0f921\"]],\"type\":\"heatmapgl\"}],\"histogram\":[{\"marker\":{\"pattern\":{\"fillmode\":\"overlay\",\"size\":10,\"solidity\":0.2}},\"type\":\"histogram\"}],\"histogram2d\":[{\"colorbar\":{\"outlinewidth\":0,\"ticks\":\"\"},\"colorscale\":[[0.0,\"#0d0887\"],[0.1111111111111111,\"#46039f\"],[0.2222222222222222,\"#7201a8\"],[0.3333333333333333,\"#9c179e\"],[0.4444444444444444,\"#bd3786\"],[0.5555555555555556,\"#d8576b\"],[0.6666666666666666,\"#ed7953\"],[0.7777777777777778,\"#fb9f3a\"],[0.8888888888888888,\"#fdca26\"],[1.0,\"#f0f921\"]],\"type\":\"histogram2d\"}],\"histogram2dcontour\":[{\"colorbar\":{\"outlinewidth\":0,\"ticks\":\"\"},\"colorscale\":[[0.0,\"#0d0887\"],[0.1111111111111111,\"#46039f\"],[0.2222222222222222,\"#7201a8\"],[0.3333333333333333,\"#9c179e\"],[0.4444444444444444,\"#bd3786\"],[0.5555555555555556,\"#d8576b\"],[0.6666666666666666,\"#ed7953\"],[0.7777777777777778,\"#fb9f3a\"],[0.8888888888888888,\"#fdca26\"],[1.0,\"#f0f921\"]],\"type\":\"histogram2dcontour\"}],\"mesh3d\":[{\"colorbar\":{\"outlinewidth\":0,\"ticks\":\"\"},\"type\":\"mesh3d\"}],\"parcoords\":[{\"line\":{\"colorbar\":{\"outlinewidth\":0,\"ticks\":\"\"}},\"type\":\"parcoords\"}],\"pie\":[{\"automargin\":true,\"type\":\"pie\"}],\"scatter\":[{\"marker\":{\"colorbar\":{\"outlinewidth\":0,\"ticks\":\"\"}},\"type\":\"scatter\"}],\"scatter3d\":[{\"line\":{\"colorbar\":{\"outlinewidth\":0,\"ticks\":\"\"}},\"marker\":{\"colorbar\":{\"outlinewidth\":0,\"ticks\":\"\"}},\"type\":\"scatter3d\"}],\"scattercarpet\":[{\"marker\":{\"colorbar\":{\"outlinewidth\":0,\"ticks\":\"\"}},\"type\":\"scattercarpet\"}],\"scattergeo\":[{\"marker\":{\"colorbar\":{\"outlinewidth\":0,\"ticks\":\"\"}},\"type\":\"scattergeo\"}],\"scattergl\":[{\"marker\":{\"colorbar\":{\"outlinewidth\":0,\"ticks\":\"\"}},\"type\":\"scattergl\"}],\"scattermapbox\":[{\"marker\":{\"colorbar\":{\"outlinewidth\":0,\"ticks\":\"\"}},\"type\":\"scattermapbox\"}],\"scatterpolar\":[{\"marker\":{\"colorbar\":{\"outlinewidth\":0,\"ticks\":\"\"}},\"type\":\"scatterpolar\"}],\"scatterpolargl\":[{\"marker\":{\"colorbar\":{\"outlinewidth\":0,\"ticks\":\"\"}},\"type\":\"scatterpolargl\"}],\"scatterternary\":[{\"marker\":{\"colorbar\":{\"outlinewidth\":0,\"ticks\":\"\"}},\"type\":\"scatterternary\"}],\"surface\":[{\"colorbar\":{\"outlinewidth\":0,\"ticks\":\"\"},\"colorscale\":[[0.0,\"#0d0887\"],[0.1111111111111111,\"#46039f\"],[0.2222222222222222,\"#7201a8\"],[0.3333333333333333,\"#9c179e\"],[0.4444444444444444,\"#bd3786\"],[0.5555555555555556,\"#d8576b\"],[0.6666666666666666,\"#ed7953\"],[0.7777777777777778,\"#fb9f3a\"],[0.8888888888888888,\"#fdca26\"],[1.0,\"#f0f921\"]],\"type\":\"surface\"}],\"table\":[{\"cells\":{\"fill\":{\"color\":\"#EBF0F8\"},\"line\":{\"color\":\"white\"}},\"header\":{\"fill\":{\"color\":\"#C8D4E3\"},\"line\":{\"color\":\"white\"}},\"type\":\"table\"}]},\"layout\":{\"annotationdefaults\":{\"arrowcolor\":\"#2a3f5f\",\"arrowhead\":0,\"arrowwidth\":1},\"autotypenumbers\":\"strict\",\"coloraxis\":{\"colorbar\":{\"outlinewidth\":0,\"ticks\":\"\"}},\"colorscale\":{\"diverging\":[[0,\"#8e0152\"],[0.1,\"#c51b7d\"],[0.2,\"#de77ae\"],[0.3,\"#f1b6da\"],[0.4,\"#fde0ef\"],[0.5,\"#f7f7f7\"],[0.6,\"#e6f5d0\"],[0.7,\"#b8e186\"],[0.8,\"#7fbc41\"],[0.9,\"#4d9221\"],[1,\"#276419\"]],\"sequential\":[[0.0,\"#0d0887\"],[0.1111111111111111,\"#46039f\"],[0.2222222222222222,\"#7201a8\"],[0.3333333333333333,\"#9c179e\"],[0.4444444444444444,\"#bd3786\"],[0.5555555555555556,\"#d8576b\"],[0.6666666666666666,\"#ed7953\"],[0.7777777777777778,\"#fb9f3a\"],[0.8888888888888888,\"#fdca26\"],[1.0,\"#f0f921\"]],\"sequentialminus\":[[0.0,\"#0d0887\"],[0.1111111111111111,\"#46039f\"],[0.2222222222222222,\"#7201a8\"],[0.3333333333333333,\"#9c179e\"],[0.4444444444444444,\"#bd3786\"],[0.5555555555555556,\"#d8576b\"],[0.6666666666666666,\"#ed7953\"],[0.7777777777777778,\"#fb9f3a\"],[0.8888888888888888,\"#fdca26\"],[1.0,\"#f0f921\"]]},\"colorway\":[\"#636efa\",\"#EF553B\",\"#00cc96\",\"#ab63fa\",\"#FFA15A\",\"#19d3f3\",\"#FF6692\",\"#B6E880\",\"#FF97FF\",\"#FECB52\"],\"font\":{\"color\":\"#2a3f5f\"},\"geo\":{\"bgcolor\":\"white\",\"lakecolor\":\"white\",\"landcolor\":\"#E5ECF6\",\"showlakes\":true,\"showland\":true,\"subunitcolor\":\"white\"},\"hoverlabel\":{\"align\":\"left\"},\"hovermode\":\"closest\",\"mapbox\":{\"style\":\"light\"},\"paper_bgcolor\":\"white\",\"plot_bgcolor\":\"#E5ECF6\",\"polar\":{\"angularaxis\":{\"gridcolor\":\"white\",\"linecolor\":\"white\",\"ticks\":\"\"},\"bgcolor\":\"#E5ECF6\",\"radialaxis\":{\"gridcolor\":\"white\",\"linecolor\":\"white\",\"ticks\":\"\"}},\"scene\":{\"xaxis\":{\"backgroundcolor\":\"#E5ECF6\",\"gridcolor\":\"white\",\"gridwidth\":2,\"linecolor\":\"white\",\"showbackground\":true,\"ticks\":\"\",\"zerolinecolor\":\"white\"},\"yaxis\":{\"backgroundcolor\":\"#E5ECF6\",\"gridcolor\":\"white\",\"gridwidth\":2,\"linecolor\":\"white\",\"showbackground\":true,\"ticks\":\"\",\"zerolinecolor\":\"white\"},\"zaxis\":{\"backgroundcolor\":\"#E5ECF6\",\"gridcolor\":\"white\",\"gridwidth\":2,\"linecolor\":\"white\",\"showbackground\":true,\"ticks\":\"\",\"zerolinecolor\":\"white\"}},\"shapedefaults\":{\"line\":{\"color\":\"#2a3f5f\"}},\"ternary\":{\"aaxis\":{\"gridcolor\":\"white\",\"linecolor\":\"white\",\"ticks\":\"\"},\"baxis\":{\"gridcolor\":\"white\",\"linecolor\":\"white\",\"ticks\":\"\"},\"bgcolor\":\"#E5ECF6\",\"caxis\":{\"gridcolor\":\"white\",\"linecolor\":\"white\",\"ticks\":\"\"}},\"title\":{\"x\":0.05},\"xaxis\":{\"automargin\":true,\"gridcolor\":\"white\",\"linecolor\":\"white\",\"ticks\":\"\",\"title\":{\"standoff\":15},\"zerolinecolor\":\"white\",\"zerolinewidth\":2},\"yaxis\":{\"automargin\":true,\"gridcolor\":\"white\",\"linecolor\":\"white\",\"ticks\":\"\",\"title\":{\"standoff\":15},\"zerolinecolor\":\"white\",\"zerolinewidth\":2}}},\"title\":{\"font\":{\"color\":\"#4D5663\"}},\"xaxis\":{\"gridcolor\":\"#E1E5ED\",\"showgrid\":true,\"tickfont\":{\"color\":\"#4D5663\"},\"title\":{\"font\":{\"color\":\"#4D5663\"},\"text\":\"\"},\"zerolinecolor\":\"#E1E5ED\"},\"yaxis\":{\"gridcolor\":\"#E1E5ED\",\"showgrid\":true,\"tickfont\":{\"color\":\"#4D5663\"},\"title\":{\"font\":{\"color\":\"#4D5663\"},\"text\":\"\"},\"zerolinecolor\":\"#E1E5ED\"}},                        {\"showLink\": true, \"linkText\": \"Export to plot.ly\", \"plotlyServerURL\": \"https://plot.ly\", \"responsive\": true}                    ).then(function(){\n",
       "                            \n",
       "var gd = document.getElementById('b7904a27-77a5-4b5a-a914-35520cb946c5');\n",
       "var x = new MutationObserver(function (mutations, observer) {{\n",
       "        var display = window.getComputedStyle(gd).display;\n",
       "        if (!display || display === 'none') {{\n",
       "            console.log([gd, 'removed!']);\n",
       "            Plotly.purge(gd);\n",
       "            observer.disconnect();\n",
       "        }}\n",
       "}});\n",
       "\n",
       "// Listen for the removal of the full notebook cells\n",
       "var notebookContainer = gd.closest('#notebook-container');\n",
       "if (notebookContainer) {{\n",
       "    x.observe(notebookContainer, {childList: true});\n",
       "}}\n",
       "\n",
       "// Listen for the clearing of the current output cell\n",
       "var outputEl = gd.closest('.output');\n",
       "if (outputEl) {{\n",
       "    x.observe(outputEl, {childList: true});\n",
       "}}\n",
       "\n",
       "                        })                };                });            </script>        </div>"
      ]
     },
     "metadata": {},
     "output_type": "display_data"
    }
   ],
   "source": [
    "df.iplot(kind=\"bar\")"
   ]
  },
  {
   "cell_type": "code",
   "execution_count": 24,
   "metadata": {},
   "outputs": [
    {
     "data": {
      "application/vnd.plotly.v1+json": {
       "config": {
        "linkText": "Export to plot.ly",
        "plotlyServerURL": "https://plot.ly",
        "showLink": true
       },
       "data": [
        {
         "marker": {
          "color": "rgba(255, 153, 51, 0.6)",
          "line": {
           "color": "rgba(255, 153, 51, 1.0)",
           "width": 1
          }
         },
         "name": "None",
         "orientation": "v",
         "text": "",
         "type": "bar",
         "x": [
          "A",
          "B",
          "C",
          "D"
         ],
         "y": [
          13.165082399158766,
          -4.451197615641891,
          7.771204950801524,
          2.9678506092089845
         ]
        }
       ],
       "layout": {
        "legend": {
         "bgcolor": "#F5F6F9",
         "font": {
          "color": "#4D5663"
         }
        },
        "paper_bgcolor": "#F5F6F9",
        "plot_bgcolor": "#F5F6F9",
        "template": {
         "data": {
          "bar": [
           {
            "error_x": {
             "color": "#2a3f5f"
            },
            "error_y": {
             "color": "#2a3f5f"
            },
            "marker": {
             "line": {
              "color": "#E5ECF6",
              "width": 0.5
             },
             "pattern": {
              "fillmode": "overlay",
              "size": 10,
              "solidity": 0.2
             }
            },
            "type": "bar"
           }
          ],
          "barpolar": [
           {
            "marker": {
             "line": {
              "color": "#E5ECF6",
              "width": 0.5
             },
             "pattern": {
              "fillmode": "overlay",
              "size": 10,
              "solidity": 0.2
             }
            },
            "type": "barpolar"
           }
          ],
          "carpet": [
           {
            "aaxis": {
             "endlinecolor": "#2a3f5f",
             "gridcolor": "white",
             "linecolor": "white",
             "minorgridcolor": "white",
             "startlinecolor": "#2a3f5f"
            },
            "baxis": {
             "endlinecolor": "#2a3f5f",
             "gridcolor": "white",
             "linecolor": "white",
             "minorgridcolor": "white",
             "startlinecolor": "#2a3f5f"
            },
            "type": "carpet"
           }
          ],
          "choropleth": [
           {
            "colorbar": {
             "outlinewidth": 0,
             "ticks": ""
            },
            "type": "choropleth"
           }
          ],
          "contour": [
           {
            "colorbar": {
             "outlinewidth": 0,
             "ticks": ""
            },
            "colorscale": [
             [
              0,
              "#0d0887"
             ],
             [
              0.1111111111111111,
              "#46039f"
             ],
             [
              0.2222222222222222,
              "#7201a8"
             ],
             [
              0.3333333333333333,
              "#9c179e"
             ],
             [
              0.4444444444444444,
              "#bd3786"
             ],
             [
              0.5555555555555556,
              "#d8576b"
             ],
             [
              0.6666666666666666,
              "#ed7953"
             ],
             [
              0.7777777777777778,
              "#fb9f3a"
             ],
             [
              0.8888888888888888,
              "#fdca26"
             ],
             [
              1,
              "#f0f921"
             ]
            ],
            "type": "contour"
           }
          ],
          "contourcarpet": [
           {
            "colorbar": {
             "outlinewidth": 0,
             "ticks": ""
            },
            "type": "contourcarpet"
           }
          ],
          "heatmap": [
           {
            "colorbar": {
             "outlinewidth": 0,
             "ticks": ""
            },
            "colorscale": [
             [
              0,
              "#0d0887"
             ],
             [
              0.1111111111111111,
              "#46039f"
             ],
             [
              0.2222222222222222,
              "#7201a8"
             ],
             [
              0.3333333333333333,
              "#9c179e"
             ],
             [
              0.4444444444444444,
              "#bd3786"
             ],
             [
              0.5555555555555556,
              "#d8576b"
             ],
             [
              0.6666666666666666,
              "#ed7953"
             ],
             [
              0.7777777777777778,
              "#fb9f3a"
             ],
             [
              0.8888888888888888,
              "#fdca26"
             ],
             [
              1,
              "#f0f921"
             ]
            ],
            "type": "heatmap"
           }
          ],
          "heatmapgl": [
           {
            "colorbar": {
             "outlinewidth": 0,
             "ticks": ""
            },
            "colorscale": [
             [
              0,
              "#0d0887"
             ],
             [
              0.1111111111111111,
              "#46039f"
             ],
             [
              0.2222222222222222,
              "#7201a8"
             ],
             [
              0.3333333333333333,
              "#9c179e"
             ],
             [
              0.4444444444444444,
              "#bd3786"
             ],
             [
              0.5555555555555556,
              "#d8576b"
             ],
             [
              0.6666666666666666,
              "#ed7953"
             ],
             [
              0.7777777777777778,
              "#fb9f3a"
             ],
             [
              0.8888888888888888,
              "#fdca26"
             ],
             [
              1,
              "#f0f921"
             ]
            ],
            "type": "heatmapgl"
           }
          ],
          "histogram": [
           {
            "marker": {
             "pattern": {
              "fillmode": "overlay",
              "size": 10,
              "solidity": 0.2
             }
            },
            "type": "histogram"
           }
          ],
          "histogram2d": [
           {
            "colorbar": {
             "outlinewidth": 0,
             "ticks": ""
            },
            "colorscale": [
             [
              0,
              "#0d0887"
             ],
             [
              0.1111111111111111,
              "#46039f"
             ],
             [
              0.2222222222222222,
              "#7201a8"
             ],
             [
              0.3333333333333333,
              "#9c179e"
             ],
             [
              0.4444444444444444,
              "#bd3786"
             ],
             [
              0.5555555555555556,
              "#d8576b"
             ],
             [
              0.6666666666666666,
              "#ed7953"
             ],
             [
              0.7777777777777778,
              "#fb9f3a"
             ],
             [
              0.8888888888888888,
              "#fdca26"
             ],
             [
              1,
              "#f0f921"
             ]
            ],
            "type": "histogram2d"
           }
          ],
          "histogram2dcontour": [
           {
            "colorbar": {
             "outlinewidth": 0,
             "ticks": ""
            },
            "colorscale": [
             [
              0,
              "#0d0887"
             ],
             [
              0.1111111111111111,
              "#46039f"
             ],
             [
              0.2222222222222222,
              "#7201a8"
             ],
             [
              0.3333333333333333,
              "#9c179e"
             ],
             [
              0.4444444444444444,
              "#bd3786"
             ],
             [
              0.5555555555555556,
              "#d8576b"
             ],
             [
              0.6666666666666666,
              "#ed7953"
             ],
             [
              0.7777777777777778,
              "#fb9f3a"
             ],
             [
              0.8888888888888888,
              "#fdca26"
             ],
             [
              1,
              "#f0f921"
             ]
            ],
            "type": "histogram2dcontour"
           }
          ],
          "mesh3d": [
           {
            "colorbar": {
             "outlinewidth": 0,
             "ticks": ""
            },
            "type": "mesh3d"
           }
          ],
          "parcoords": [
           {
            "line": {
             "colorbar": {
              "outlinewidth": 0,
              "ticks": ""
             }
            },
            "type": "parcoords"
           }
          ],
          "pie": [
           {
            "automargin": true,
            "type": "pie"
           }
          ],
          "scatter": [
           {
            "marker": {
             "colorbar": {
              "outlinewidth": 0,
              "ticks": ""
             }
            },
            "type": "scatter"
           }
          ],
          "scatter3d": [
           {
            "line": {
             "colorbar": {
              "outlinewidth": 0,
              "ticks": ""
             }
            },
            "marker": {
             "colorbar": {
              "outlinewidth": 0,
              "ticks": ""
             }
            },
            "type": "scatter3d"
           }
          ],
          "scattercarpet": [
           {
            "marker": {
             "colorbar": {
              "outlinewidth": 0,
              "ticks": ""
             }
            },
            "type": "scattercarpet"
           }
          ],
          "scattergeo": [
           {
            "marker": {
             "colorbar": {
              "outlinewidth": 0,
              "ticks": ""
             }
            },
            "type": "scattergeo"
           }
          ],
          "scattergl": [
           {
            "marker": {
             "colorbar": {
              "outlinewidth": 0,
              "ticks": ""
             }
            },
            "type": "scattergl"
           }
          ],
          "scattermapbox": [
           {
            "marker": {
             "colorbar": {
              "outlinewidth": 0,
              "ticks": ""
             }
            },
            "type": "scattermapbox"
           }
          ],
          "scatterpolar": [
           {
            "marker": {
             "colorbar": {
              "outlinewidth": 0,
              "ticks": ""
             }
            },
            "type": "scatterpolar"
           }
          ],
          "scatterpolargl": [
           {
            "marker": {
             "colorbar": {
              "outlinewidth": 0,
              "ticks": ""
             }
            },
            "type": "scatterpolargl"
           }
          ],
          "scatterternary": [
           {
            "marker": {
             "colorbar": {
              "outlinewidth": 0,
              "ticks": ""
             }
            },
            "type": "scatterternary"
           }
          ],
          "surface": [
           {
            "colorbar": {
             "outlinewidth": 0,
             "ticks": ""
            },
            "colorscale": [
             [
              0,
              "#0d0887"
             ],
             [
              0.1111111111111111,
              "#46039f"
             ],
             [
              0.2222222222222222,
              "#7201a8"
             ],
             [
              0.3333333333333333,
              "#9c179e"
             ],
             [
              0.4444444444444444,
              "#bd3786"
             ],
             [
              0.5555555555555556,
              "#d8576b"
             ],
             [
              0.6666666666666666,
              "#ed7953"
             ],
             [
              0.7777777777777778,
              "#fb9f3a"
             ],
             [
              0.8888888888888888,
              "#fdca26"
             ],
             [
              1,
              "#f0f921"
             ]
            ],
            "type": "surface"
           }
          ],
          "table": [
           {
            "cells": {
             "fill": {
              "color": "#EBF0F8"
             },
             "line": {
              "color": "white"
             }
            },
            "header": {
             "fill": {
              "color": "#C8D4E3"
             },
             "line": {
              "color": "white"
             }
            },
            "type": "table"
           }
          ]
         },
         "layout": {
          "annotationdefaults": {
           "arrowcolor": "#2a3f5f",
           "arrowhead": 0,
           "arrowwidth": 1
          },
          "autotypenumbers": "strict",
          "coloraxis": {
           "colorbar": {
            "outlinewidth": 0,
            "ticks": ""
           }
          },
          "colorscale": {
           "diverging": [
            [
             0,
             "#8e0152"
            ],
            [
             0.1,
             "#c51b7d"
            ],
            [
             0.2,
             "#de77ae"
            ],
            [
             0.3,
             "#f1b6da"
            ],
            [
             0.4,
             "#fde0ef"
            ],
            [
             0.5,
             "#f7f7f7"
            ],
            [
             0.6,
             "#e6f5d0"
            ],
            [
             0.7,
             "#b8e186"
            ],
            [
             0.8,
             "#7fbc41"
            ],
            [
             0.9,
             "#4d9221"
            ],
            [
             1,
             "#276419"
            ]
           ],
           "sequential": [
            [
             0,
             "#0d0887"
            ],
            [
             0.1111111111111111,
             "#46039f"
            ],
            [
             0.2222222222222222,
             "#7201a8"
            ],
            [
             0.3333333333333333,
             "#9c179e"
            ],
            [
             0.4444444444444444,
             "#bd3786"
            ],
            [
             0.5555555555555556,
             "#d8576b"
            ],
            [
             0.6666666666666666,
             "#ed7953"
            ],
            [
             0.7777777777777778,
             "#fb9f3a"
            ],
            [
             0.8888888888888888,
             "#fdca26"
            ],
            [
             1,
             "#f0f921"
            ]
           ],
           "sequentialminus": [
            [
             0,
             "#0d0887"
            ],
            [
             0.1111111111111111,
             "#46039f"
            ],
            [
             0.2222222222222222,
             "#7201a8"
            ],
            [
             0.3333333333333333,
             "#9c179e"
            ],
            [
             0.4444444444444444,
             "#bd3786"
            ],
            [
             0.5555555555555556,
             "#d8576b"
            ],
            [
             0.6666666666666666,
             "#ed7953"
            ],
            [
             0.7777777777777778,
             "#fb9f3a"
            ],
            [
             0.8888888888888888,
             "#fdca26"
            ],
            [
             1,
             "#f0f921"
            ]
           ]
          },
          "colorway": [
           "#636efa",
           "#EF553B",
           "#00cc96",
           "#ab63fa",
           "#FFA15A",
           "#19d3f3",
           "#FF6692",
           "#B6E880",
           "#FF97FF",
           "#FECB52"
          ],
          "font": {
           "color": "#2a3f5f"
          },
          "geo": {
           "bgcolor": "white",
           "lakecolor": "white",
           "landcolor": "#E5ECF6",
           "showlakes": true,
           "showland": true,
           "subunitcolor": "white"
          },
          "hoverlabel": {
           "align": "left"
          },
          "hovermode": "closest",
          "mapbox": {
           "style": "light"
          },
          "paper_bgcolor": "white",
          "plot_bgcolor": "#E5ECF6",
          "polar": {
           "angularaxis": {
            "gridcolor": "white",
            "linecolor": "white",
            "ticks": ""
           },
           "bgcolor": "#E5ECF6",
           "radialaxis": {
            "gridcolor": "white",
            "linecolor": "white",
            "ticks": ""
           }
          },
          "scene": {
           "xaxis": {
            "backgroundcolor": "#E5ECF6",
            "gridcolor": "white",
            "gridwidth": 2,
            "linecolor": "white",
            "showbackground": true,
            "ticks": "",
            "zerolinecolor": "white"
           },
           "yaxis": {
            "backgroundcolor": "#E5ECF6",
            "gridcolor": "white",
            "gridwidth": 2,
            "linecolor": "white",
            "showbackground": true,
            "ticks": "",
            "zerolinecolor": "white"
           },
           "zaxis": {
            "backgroundcolor": "#E5ECF6",
            "gridcolor": "white",
            "gridwidth": 2,
            "linecolor": "white",
            "showbackground": true,
            "ticks": "",
            "zerolinecolor": "white"
           }
          },
          "shapedefaults": {
           "line": {
            "color": "#2a3f5f"
           }
          },
          "ternary": {
           "aaxis": {
            "gridcolor": "white",
            "linecolor": "white",
            "ticks": ""
           },
           "baxis": {
            "gridcolor": "white",
            "linecolor": "white",
            "ticks": ""
           },
           "bgcolor": "#E5ECF6",
           "caxis": {
            "gridcolor": "white",
            "linecolor": "white",
            "ticks": ""
           }
          },
          "title": {
           "x": 0.05
          },
          "xaxis": {
           "automargin": true,
           "gridcolor": "white",
           "linecolor": "white",
           "ticks": "",
           "title": {
            "standoff": 15
           },
           "zerolinecolor": "white",
           "zerolinewidth": 2
          },
          "yaxis": {
           "automargin": true,
           "gridcolor": "white",
           "linecolor": "white",
           "ticks": "",
           "title": {
            "standoff": 15
           },
           "zerolinecolor": "white",
           "zerolinewidth": 2
          }
         }
        },
        "title": {
         "font": {
          "color": "#4D5663"
         }
        },
        "xaxis": {
         "gridcolor": "#E1E5ED",
         "showgrid": true,
         "tickfont": {
          "color": "#4D5663"
         },
         "title": {
          "font": {
           "color": "#4D5663"
          },
          "text": ""
         },
         "zerolinecolor": "#E1E5ED"
        },
        "yaxis": {
         "gridcolor": "#E1E5ED",
         "showgrid": true,
         "tickfont": {
          "color": "#4D5663"
         },
         "title": {
          "font": {
           "color": "#4D5663"
          },
          "text": ""
         },
         "zerolinecolor": "#E1E5ED"
        }
       }
      },
      "text/html": [
       "<div>                            <div id=\"db8c31e4-717b-4e0d-9d48-821d783481bc\" class=\"plotly-graph-div\" style=\"height:525px; width:100%;\"></div>            <script type=\"text/javascript\">                require([\"plotly\"], function(Plotly) {                    window.PLOTLYENV=window.PLOTLYENV || {};\n",
       "                    window.PLOTLYENV.BASE_URL='https://plot.ly';                                    if (document.getElementById(\"db8c31e4-717b-4e0d-9d48-821d783481bc\")) {                    Plotly.newPlot(                        \"db8c31e4-717b-4e0d-9d48-821d783481bc\",                        [{\"marker\":{\"color\":\"rgba(255, 153, 51, 0.6)\",\"line\":{\"color\":\"rgba(255, 153, 51, 1.0)\",\"width\":1}},\"name\":\"None\",\"orientation\":\"v\",\"text\":\"\",\"type\":\"bar\",\"x\":[\"A\",\"B\",\"C\",\"D\"],\"y\":[13.165082399158766,-4.451197615641891,7.771204950801524,2.9678506092089845]}],                        {\"legend\":{\"bgcolor\":\"#F5F6F9\",\"font\":{\"color\":\"#4D5663\"}},\"paper_bgcolor\":\"#F5F6F9\",\"plot_bgcolor\":\"#F5F6F9\",\"template\":{\"data\":{\"bar\":[{\"error_x\":{\"color\":\"#2a3f5f\"},\"error_y\":{\"color\":\"#2a3f5f\"},\"marker\":{\"line\":{\"color\":\"#E5ECF6\",\"width\":0.5},\"pattern\":{\"fillmode\":\"overlay\",\"size\":10,\"solidity\":0.2}},\"type\":\"bar\"}],\"barpolar\":[{\"marker\":{\"line\":{\"color\":\"#E5ECF6\",\"width\":0.5},\"pattern\":{\"fillmode\":\"overlay\",\"size\":10,\"solidity\":0.2}},\"type\":\"barpolar\"}],\"carpet\":[{\"aaxis\":{\"endlinecolor\":\"#2a3f5f\",\"gridcolor\":\"white\",\"linecolor\":\"white\",\"minorgridcolor\":\"white\",\"startlinecolor\":\"#2a3f5f\"},\"baxis\":{\"endlinecolor\":\"#2a3f5f\",\"gridcolor\":\"white\",\"linecolor\":\"white\",\"minorgridcolor\":\"white\",\"startlinecolor\":\"#2a3f5f\"},\"type\":\"carpet\"}],\"choropleth\":[{\"colorbar\":{\"outlinewidth\":0,\"ticks\":\"\"},\"type\":\"choropleth\"}],\"contour\":[{\"colorbar\":{\"outlinewidth\":0,\"ticks\":\"\"},\"colorscale\":[[0.0,\"#0d0887\"],[0.1111111111111111,\"#46039f\"],[0.2222222222222222,\"#7201a8\"],[0.3333333333333333,\"#9c179e\"],[0.4444444444444444,\"#bd3786\"],[0.5555555555555556,\"#d8576b\"],[0.6666666666666666,\"#ed7953\"],[0.7777777777777778,\"#fb9f3a\"],[0.8888888888888888,\"#fdca26\"],[1.0,\"#f0f921\"]],\"type\":\"contour\"}],\"contourcarpet\":[{\"colorbar\":{\"outlinewidth\":0,\"ticks\":\"\"},\"type\":\"contourcarpet\"}],\"heatmap\":[{\"colorbar\":{\"outlinewidth\":0,\"ticks\":\"\"},\"colorscale\":[[0.0,\"#0d0887\"],[0.1111111111111111,\"#46039f\"],[0.2222222222222222,\"#7201a8\"],[0.3333333333333333,\"#9c179e\"],[0.4444444444444444,\"#bd3786\"],[0.5555555555555556,\"#d8576b\"],[0.6666666666666666,\"#ed7953\"],[0.7777777777777778,\"#fb9f3a\"],[0.8888888888888888,\"#fdca26\"],[1.0,\"#f0f921\"]],\"type\":\"heatmap\"}],\"heatmapgl\":[{\"colorbar\":{\"outlinewidth\":0,\"ticks\":\"\"},\"colorscale\":[[0.0,\"#0d0887\"],[0.1111111111111111,\"#46039f\"],[0.2222222222222222,\"#7201a8\"],[0.3333333333333333,\"#9c179e\"],[0.4444444444444444,\"#bd3786\"],[0.5555555555555556,\"#d8576b\"],[0.6666666666666666,\"#ed7953\"],[0.7777777777777778,\"#fb9f3a\"],[0.8888888888888888,\"#fdca26\"],[1.0,\"#f0f921\"]],\"type\":\"heatmapgl\"}],\"histogram\":[{\"marker\":{\"pattern\":{\"fillmode\":\"overlay\",\"size\":10,\"solidity\":0.2}},\"type\":\"histogram\"}],\"histogram2d\":[{\"colorbar\":{\"outlinewidth\":0,\"ticks\":\"\"},\"colorscale\":[[0.0,\"#0d0887\"],[0.1111111111111111,\"#46039f\"],[0.2222222222222222,\"#7201a8\"],[0.3333333333333333,\"#9c179e\"],[0.4444444444444444,\"#bd3786\"],[0.5555555555555556,\"#d8576b\"],[0.6666666666666666,\"#ed7953\"],[0.7777777777777778,\"#fb9f3a\"],[0.8888888888888888,\"#fdca26\"],[1.0,\"#f0f921\"]],\"type\":\"histogram2d\"}],\"histogram2dcontour\":[{\"colorbar\":{\"outlinewidth\":0,\"ticks\":\"\"},\"colorscale\":[[0.0,\"#0d0887\"],[0.1111111111111111,\"#46039f\"],[0.2222222222222222,\"#7201a8\"],[0.3333333333333333,\"#9c179e\"],[0.4444444444444444,\"#bd3786\"],[0.5555555555555556,\"#d8576b\"],[0.6666666666666666,\"#ed7953\"],[0.7777777777777778,\"#fb9f3a\"],[0.8888888888888888,\"#fdca26\"],[1.0,\"#f0f921\"]],\"type\":\"histogram2dcontour\"}],\"mesh3d\":[{\"colorbar\":{\"outlinewidth\":0,\"ticks\":\"\"},\"type\":\"mesh3d\"}],\"parcoords\":[{\"line\":{\"colorbar\":{\"outlinewidth\":0,\"ticks\":\"\"}},\"type\":\"parcoords\"}],\"pie\":[{\"automargin\":true,\"type\":\"pie\"}],\"scatter\":[{\"marker\":{\"colorbar\":{\"outlinewidth\":0,\"ticks\":\"\"}},\"type\":\"scatter\"}],\"scatter3d\":[{\"line\":{\"colorbar\":{\"outlinewidth\":0,\"ticks\":\"\"}},\"marker\":{\"colorbar\":{\"outlinewidth\":0,\"ticks\":\"\"}},\"type\":\"scatter3d\"}],\"scattercarpet\":[{\"marker\":{\"colorbar\":{\"outlinewidth\":0,\"ticks\":\"\"}},\"type\":\"scattercarpet\"}],\"scattergeo\":[{\"marker\":{\"colorbar\":{\"outlinewidth\":0,\"ticks\":\"\"}},\"type\":\"scattergeo\"}],\"scattergl\":[{\"marker\":{\"colorbar\":{\"outlinewidth\":0,\"ticks\":\"\"}},\"type\":\"scattergl\"}],\"scattermapbox\":[{\"marker\":{\"colorbar\":{\"outlinewidth\":0,\"ticks\":\"\"}},\"type\":\"scattermapbox\"}],\"scatterpolar\":[{\"marker\":{\"colorbar\":{\"outlinewidth\":0,\"ticks\":\"\"}},\"type\":\"scatterpolar\"}],\"scatterpolargl\":[{\"marker\":{\"colorbar\":{\"outlinewidth\":0,\"ticks\":\"\"}},\"type\":\"scatterpolargl\"}],\"scatterternary\":[{\"marker\":{\"colorbar\":{\"outlinewidth\":0,\"ticks\":\"\"}},\"type\":\"scatterternary\"}],\"surface\":[{\"colorbar\":{\"outlinewidth\":0,\"ticks\":\"\"},\"colorscale\":[[0.0,\"#0d0887\"],[0.1111111111111111,\"#46039f\"],[0.2222222222222222,\"#7201a8\"],[0.3333333333333333,\"#9c179e\"],[0.4444444444444444,\"#bd3786\"],[0.5555555555555556,\"#d8576b\"],[0.6666666666666666,\"#ed7953\"],[0.7777777777777778,\"#fb9f3a\"],[0.8888888888888888,\"#fdca26\"],[1.0,\"#f0f921\"]],\"type\":\"surface\"}],\"table\":[{\"cells\":{\"fill\":{\"color\":\"#EBF0F8\"},\"line\":{\"color\":\"white\"}},\"header\":{\"fill\":{\"color\":\"#C8D4E3\"},\"line\":{\"color\":\"white\"}},\"type\":\"table\"}]},\"layout\":{\"annotationdefaults\":{\"arrowcolor\":\"#2a3f5f\",\"arrowhead\":0,\"arrowwidth\":1},\"autotypenumbers\":\"strict\",\"coloraxis\":{\"colorbar\":{\"outlinewidth\":0,\"ticks\":\"\"}},\"colorscale\":{\"diverging\":[[0,\"#8e0152\"],[0.1,\"#c51b7d\"],[0.2,\"#de77ae\"],[0.3,\"#f1b6da\"],[0.4,\"#fde0ef\"],[0.5,\"#f7f7f7\"],[0.6,\"#e6f5d0\"],[0.7,\"#b8e186\"],[0.8,\"#7fbc41\"],[0.9,\"#4d9221\"],[1,\"#276419\"]],\"sequential\":[[0.0,\"#0d0887\"],[0.1111111111111111,\"#46039f\"],[0.2222222222222222,\"#7201a8\"],[0.3333333333333333,\"#9c179e\"],[0.4444444444444444,\"#bd3786\"],[0.5555555555555556,\"#d8576b\"],[0.6666666666666666,\"#ed7953\"],[0.7777777777777778,\"#fb9f3a\"],[0.8888888888888888,\"#fdca26\"],[1.0,\"#f0f921\"]],\"sequentialminus\":[[0.0,\"#0d0887\"],[0.1111111111111111,\"#46039f\"],[0.2222222222222222,\"#7201a8\"],[0.3333333333333333,\"#9c179e\"],[0.4444444444444444,\"#bd3786\"],[0.5555555555555556,\"#d8576b\"],[0.6666666666666666,\"#ed7953\"],[0.7777777777777778,\"#fb9f3a\"],[0.8888888888888888,\"#fdca26\"],[1.0,\"#f0f921\"]]},\"colorway\":[\"#636efa\",\"#EF553B\",\"#00cc96\",\"#ab63fa\",\"#FFA15A\",\"#19d3f3\",\"#FF6692\",\"#B6E880\",\"#FF97FF\",\"#FECB52\"],\"font\":{\"color\":\"#2a3f5f\"},\"geo\":{\"bgcolor\":\"white\",\"lakecolor\":\"white\",\"landcolor\":\"#E5ECF6\",\"showlakes\":true,\"showland\":true,\"subunitcolor\":\"white\"},\"hoverlabel\":{\"align\":\"left\"},\"hovermode\":\"closest\",\"mapbox\":{\"style\":\"light\"},\"paper_bgcolor\":\"white\",\"plot_bgcolor\":\"#E5ECF6\",\"polar\":{\"angularaxis\":{\"gridcolor\":\"white\",\"linecolor\":\"white\",\"ticks\":\"\"},\"bgcolor\":\"#E5ECF6\",\"radialaxis\":{\"gridcolor\":\"white\",\"linecolor\":\"white\",\"ticks\":\"\"}},\"scene\":{\"xaxis\":{\"backgroundcolor\":\"#E5ECF6\",\"gridcolor\":\"white\",\"gridwidth\":2,\"linecolor\":\"white\",\"showbackground\":true,\"ticks\":\"\",\"zerolinecolor\":\"white\"},\"yaxis\":{\"backgroundcolor\":\"#E5ECF6\",\"gridcolor\":\"white\",\"gridwidth\":2,\"linecolor\":\"white\",\"showbackground\":true,\"ticks\":\"\",\"zerolinecolor\":\"white\"},\"zaxis\":{\"backgroundcolor\":\"#E5ECF6\",\"gridcolor\":\"white\",\"gridwidth\":2,\"linecolor\":\"white\",\"showbackground\":true,\"ticks\":\"\",\"zerolinecolor\":\"white\"}},\"shapedefaults\":{\"line\":{\"color\":\"#2a3f5f\"}},\"ternary\":{\"aaxis\":{\"gridcolor\":\"white\",\"linecolor\":\"white\",\"ticks\":\"\"},\"baxis\":{\"gridcolor\":\"white\",\"linecolor\":\"white\",\"ticks\":\"\"},\"bgcolor\":\"#E5ECF6\",\"caxis\":{\"gridcolor\":\"white\",\"linecolor\":\"white\",\"ticks\":\"\"}},\"title\":{\"x\":0.05},\"xaxis\":{\"automargin\":true,\"gridcolor\":\"white\",\"linecolor\":\"white\",\"ticks\":\"\",\"title\":{\"standoff\":15},\"zerolinecolor\":\"white\",\"zerolinewidth\":2},\"yaxis\":{\"automargin\":true,\"gridcolor\":\"white\",\"linecolor\":\"white\",\"ticks\":\"\",\"title\":{\"standoff\":15},\"zerolinecolor\":\"white\",\"zerolinewidth\":2}}},\"title\":{\"font\":{\"color\":\"#4D5663\"}},\"xaxis\":{\"gridcolor\":\"#E1E5ED\",\"showgrid\":true,\"tickfont\":{\"color\":\"#4D5663\"},\"title\":{\"font\":{\"color\":\"#4D5663\"},\"text\":\"\"},\"zerolinecolor\":\"#E1E5ED\"},\"yaxis\":{\"gridcolor\":\"#E1E5ED\",\"showgrid\":true,\"tickfont\":{\"color\":\"#4D5663\"},\"title\":{\"font\":{\"color\":\"#4D5663\"},\"text\":\"\"},\"zerolinecolor\":\"#E1E5ED\"}},                        {\"showLink\": true, \"linkText\": \"Export to plot.ly\", \"plotlyServerURL\": \"https://plot.ly\", \"responsive\": true}                    ).then(function(){\n",
       "                            \n",
       "var gd = document.getElementById('db8c31e4-717b-4e0d-9d48-821d783481bc');\n",
       "var x = new MutationObserver(function (mutations, observer) {{\n",
       "        var display = window.getComputedStyle(gd).display;\n",
       "        if (!display || display === 'none') {{\n",
       "            console.log([gd, 'removed!']);\n",
       "            Plotly.purge(gd);\n",
       "            observer.disconnect();\n",
       "        }}\n",
       "}});\n",
       "\n",
       "// Listen for the removal of the full notebook cells\n",
       "var notebookContainer = gd.closest('#notebook-container');\n",
       "if (notebookContainer) {{\n",
       "    x.observe(notebookContainer, {childList: true});\n",
       "}}\n",
       "\n",
       "// Listen for the clearing of the current output cell\n",
       "var outputEl = gd.closest('.output');\n",
       "if (outputEl) {{\n",
       "    x.observe(outputEl, {childList: true});\n",
       "}}\n",
       "\n",
       "                        })                };                });            </script>        </div>"
      ]
     },
     "metadata": {},
     "output_type": "display_data"
    }
   ],
   "source": [
    "df.sum().iplot(kind='bar')"
   ]
  },
  {
   "cell_type": "markdown",
   "metadata": {},
   "source": [
    "## Boxplots"
   ]
  },
  {
   "cell_type": "code",
   "execution_count": 25,
   "metadata": {},
   "outputs": [
    {
     "data": {
      "application/vnd.plotly.v1+json": {
       "config": {
        "linkText": "Export to plot.ly",
        "plotlyServerURL": "https://plot.ly",
        "showLink": true
       },
       "data": [
        {
         "boxpoints": false,
         "line": {
          "width": 1.3
         },
         "marker": {
          "color": "rgba(255, 153, 51, 1.0)"
         },
         "name": "A",
         "orientation": "v",
         "type": "box",
         "y": [
          -0.9059946344274774,
          -0.4228448892570872,
          0.32823669086437185,
          0.6558818756618977,
          -0.23279394393207223,
          0.6525595480366613,
          -1.6915425316219246,
          0.19774000582771878,
          0.2527613251803961,
          1.2212768041507416,
          -1.0510831617170036,
          -0.7793914985082284,
          0.806056944934075,
          -0.6311019866196699,
          0.934877974567317,
          0.16080341281909977,
          -0.26044787101587635,
          -1.1189492025341188,
          0.9314131210571004,
          1.637803872997042,
          0.6740388916031278,
          1.0131855330251243,
          1.0735801831928784,
          0.937155505884544,
          -0.9383642090609543,
          -1.4125546602473755,
          -1.3961261570716632,
          1.4624065012532907,
          1.5085679801507355,
          0.37384897602131767,
          0.14589136140687492,
          -0.23095768454721793,
          -2.3629173679389783,
          0.25331855988772656,
          -0.3115860491141523,
          -0.3030080296653969,
          0.8976458438423921,
          -0.22670266681646012,
          0.41600691876623586,
          0.44298800896287893,
          0.48238892353758295,
          2.8740147943888767,
          1.2137085672267414,
          -0.5078538839778108,
          0.2712852957322795,
          0.48451943108122075,
          0.7602644879314184,
          1.066266090804438,
          -0.7210114083722396,
          0.32916613351098817,
          0.21287846776990083,
          1.3120634164376894,
          1.4845215944923633,
          1.2118529866244876,
          -0.35062596725697137,
          1.4679054114460215,
          0.5946197808733853,
          0.7653928202932211,
          0.502620298066773,
          -0.4655955727577539,
          -0.7795213169381651,
          -0.5835420380031595,
          0.581868964354893,
          -0.8446734086931094,
          -0.6104474804218408,
          -0.49453527742225606,
          0.03616565350186925,
          1.677717127944498,
          -0.13111115072431645,
          0.35354551803517,
          -1.1395729739401037,
          1.087329072160173,
          1.9901243821040628,
          1.4587485333823857,
          0.5863304514720385,
          -1.72328053440473,
          -0.33482969209209335,
          -0.5675569496541126,
          -0.7552568197099411,
          0.984241478144492,
          0.5130936566082164,
          1.007047428091453,
          -0.25229733785962855,
          -1.0765534930300449,
          -1.0836901842430446,
          1.251316893181913,
          -0.061947611188396756,
          -1.5090608602782263,
          0.5407038713008661,
          -0.7598080181281253,
          -2.24033822867379,
          -1.025455849018686,
          -0.6449593030755074,
          -2.3407345468245557,
          1.9319811029535663,
          0.44323959373215516,
          -0.3715898916904119,
          0.7183414221195205,
          0.9328345702391438,
          0.7111546819960841
         ]
        },
        {
         "boxpoints": false,
         "line": {
          "width": 1.3
         },
         "marker": {
          "color": "rgba(55, 128, 191, 1.0)"
         },
         "name": "B",
         "orientation": "v",
         "type": "box",
         "y": [
          0.39809897088173535,
          -0.14652925480192855,
          0.9857309327643848,
          -0.8247877220344356,
          -0.7171326813869001,
          0.27152193419855913,
          -0.14087040880362503,
          -0.0890924278317126,
          1.3250570353670188,
          0.09866929384221915,
          -1.456511319329652,
          -1.6257292208567193,
          -0.6674107831292494,
          0.3811991927832541,
          -0.5464922895705291,
          -3.162439502735584,
          -0.658820338868281,
          0.7721719856870062,
          -0.3171154031995474,
          -1.0020734777415063,
          -0.02659884375709406,
          1.4254056731396323,
          0.6836421842787477,
          -0.9772538796145454,
          1.179589205909156,
          0.5452437251135169,
          0.9451720539792436,
          -0.5674693547604166,
          -1.9367879178372351,
          0.09939863026944817,
          0.3788358260021555,
          -0.12359656382636455,
          -0.38458928359784156,
          -0.13612423713165192,
          -0.20220123127288567,
          -0.057722094925038374,
          -0.4215960142227496,
          -1.1817887527339672,
          -0.6820955787736707,
          0.54268553457587,
          2.269274538955471,
          1.399616365283778,
          0.39919861740985063,
          -0.7429824032412617,
          -0.5579151083162384,
          0.49856107072948636,
          -0.6122498520456356,
          -0.5196819457867476,
          0.6580335477597211,
          -1.4453404736418463,
          -1.0683326326666698,
          1.7800123892054036,
          0.33842572157581263,
          1.084922008912415,
          0.710339271478755,
          0.12105239058331187,
          -0.8509752427452628,
          -1.3491238864126032,
          -1.8598394510153693,
          -1.0659054118800213,
          1.3236350429577803,
          0.5444277023592253,
          -0.6727411628076259,
          -0.018547264192752825,
          -0.8071229564449062,
          0.33751660203866807,
          0.1881745849663572,
          0.12260492122922247,
          0.30615558365396084,
          1.2458146238905483,
          1.7110470711557848,
          -0.4800976041892355,
          2.221328091101082,
          0.34503964151741096,
          1.3888534612108372,
          -0.6121543897912833,
          1.5135232133398413,
          0.3550466399495089,
          -0.5125535379885994,
          -0.8684090756031528,
          -0.0880389921588798,
          1.5107179811616,
          -0.07874484690047716,
          -0.5389501748212824,
          0.7535046636019881,
          -0.5600026707788827,
          -0.3110571605343825,
          0.6306288933906005,
          -0.12702949524031082,
          -0.5299579481574125,
          -0.2319476324342638,
          1.1584607557786735,
          -1.5686875302712062,
          0.06172482147957937,
          -0.6198455475019047,
          -2.0770439203968674,
          0.09306099403907173,
          -0.45720135238549225,
          -0.30414649191620025,
          0.03513373986031923
         ]
        },
        {
         "boxpoints": false,
         "line": {
          "width": 1.3
         },
         "marker": {
          "color": "rgba(50, 171, 96, 1.0)"
         },
         "name": "C",
         "orientation": "v",
         "type": "box",
         "y": [
          0.8899482647583795,
          -0.48741350404004985,
          0.12298514481001037,
          -1.774585791587798,
          0.25788794441048885,
          -0.06328921642114764,
          0.8651593131570227,
          1.7149994554523373,
          -1.1952944135921917,
          -0.8242523462338697,
          0.2429233089008537,
          1.6624596340506916,
          0.8588193266652456,
          0.9647459497483071,
          -0.23813580241704013,
          -0.6197192913072721,
          0.060568610242076756,
          -1.876027186517289,
          0.686258974074959,
          -0.25673459721631553,
          0.7736769228693611,
          1.3566267794463591,
          0.7542012540572304,
          -0.42162929129487087,
          0.9487015299143998,
          -0.5761302532372644,
          -1.9029464805710632,
          1.0374031915795034,
          -0.7292548442852299,
          0.03334141354571613,
          1.0829223482605501,
          -1.2026214155339074,
          -1.2142580079903607,
          -0.27454086358979896,
          -1.0506533899581663,
          2.1551201246294123,
          -0.7651680756510916,
          -0.4067694711485394,
          0.831261276156096,
          -1.0147510732655431,
          1.0063233197321864,
          0.42723830554873815,
          1.5299200980024585,
          1.2998999231806587,
          1.2912300594676989,
          -1.2458776828641627,
          1.4474451621128004,
          0.15701383133376268,
          0.6814892571980171,
          2.0411505739861866,
          0.9452241695206468,
          0.43338888339608833,
          -0.4394511787806944,
          -0.5067859564033861,
          0.005055738764854608,
          1.474591522563153,
          -0.8629191140490524,
          -1.1874700605179853,
          -0.09757250559983943,
          -0.36828724929648926,
          1.0283783282412238,
          -0.3883995820650151,
          -0.16426441703822522,
          1.4189273452155675,
          -0.11048245401354172,
          0.3940338401538025,
          0.8170583108124951,
          -0.8699307446545328,
          -0.05625756849411813,
          0.5502998160612507,
          -1.6593905590086808,
          -0.08164535796275711,
          -0.7840450616919273,
          -0.5841850807268515,
          1.8086013752422376,
          0.4074760772558162,
          -1.0259072552717319,
          -1.0879739342231223,
          -1.0467410679175666,
          0.8687746229923943,
          0.4870077060513073,
          -1.1891200717940589,
          -0.08436834921922547,
          -0.9195326383906376,
          -0.3415648548625693,
          -0.2794170119234371,
          0.01138761588792133,
          -0.9140522953517211,
          -0.16531178762007206,
          1.7946611443079783,
          -0.051732808917070806,
          0.7789357894976013,
          1.0688045621594884,
          0.11159693286318663,
          0.7512815794487576,
          -0.5802136776239283,
          0.8047680319434942,
          -1.0850259838757654,
          -0.6812093113350112,
          0.38254119848273516
         ]
        },
        {
         "boxpoints": false,
         "line": {
          "width": 1.3
         },
         "marker": {
          "color": "rgba(128, 0, 128, 1.0)"
         },
         "name": "D",
         "orientation": "v",
         "type": "box",
         "y": [
          -0.3618724048781142,
          -0.40687761489980623,
          0.5195626630568237,
          0.13912631703553005,
          0.32528591114126365,
          0.629820985303858,
          -0.17041115083404465,
          -0.23380726018029674,
          0.6930189819079416,
          0.4321523738209809,
          -0.06832956849261512,
          0.7054808326257046,
          0.3925765839568227,
          0.8414122179485375,
          2.7492266137991384,
          2.789035520870783,
          -0.49788911678712844,
          1.0306950917299138,
          -0.6252367154260806,
          -0.04499324689704075,
          -0.7098464166552086,
          1.0913140164808373,
          -0.14937672319567452,
          -0.027169954537775307,
          -0.33327178910759336,
          0.9782141349110773,
          -0.1659250766810504,
          -1.1907971669168738,
          2.4582023742263774,
          -0.19076034535752567,
          -0.263968439562819,
          -1.2131711833684555,
          0.6549835291202654,
          1.761118222522333,
          0.009168450583866327,
          0.27954336114813516,
          0.5133601348779316,
          -0.7185694932596692,
          -1.1793560729556487,
          1.6022489903898194,
          -1.091237147724573,
          1.9403277119055318,
          0.10413118292587473,
          0.14002107064947966,
          -0.5923516210365952,
          0.3798847137907724,
          1.4175155728259794,
          -0.16165530760120006,
          0.45483955058631537,
          -1.7591790350741123,
          -1.9401472052225492,
          -0.9747105857243566,
          0.2097433224401488,
          0.9428628417877921,
          -1.3460870937111664,
          0.3270291246531071,
          0.9388246148042848,
          -0.9354385562636851,
          0.7236083171803579,
          -0.7324644250452019,
          0.8144034408789959,
          -0.29984428088096304,
          -1.2708026061786377,
          0.7791969024999302,
          0.10634367954919603,
          0.8804390908267082,
          -1.3920998512600171,
          -0.7289623760466917,
          1.6324837909472627,
          -2.275718441810622,
          0.6996653927285276,
          1.9021999289395772,
          -0.22496156634148104,
          -1.236445754124931,
          -0.13670267087326995,
          -1.016315959147242,
          -0.39809020253168687,
          -1.9750991406903013,
          -0.6407360151401108,
          -0.4894767126128095,
          -1.0559998264889134,
          0.5287302277768998,
          -0.06599684649481262,
          0.15982134331091033,
          -0.21114957671805018,
          -0.10064997659060733,
          0.10968624643260116,
          0.4904529657311047,
          -1.1501791726685733,
          0.9470020914184902,
          -0.5453496522243801,
          -1.0544030950720638,
          -0.35195965450924055,
          0.6953243269099676,
          -0.7048377964351703,
          0.1343931435270347,
          0.008367024707526283,
          -0.8295441813327156,
          0.8504452543199488,
          0.294786501266867
         ]
        }
       ],
       "layout": {
        "legend": {
         "bgcolor": "#F5F6F9",
         "font": {
          "color": "#4D5663"
         }
        },
        "paper_bgcolor": "#F5F6F9",
        "plot_bgcolor": "#F5F6F9",
        "template": {
         "data": {
          "bar": [
           {
            "error_x": {
             "color": "#2a3f5f"
            },
            "error_y": {
             "color": "#2a3f5f"
            },
            "marker": {
             "line": {
              "color": "#E5ECF6",
              "width": 0.5
             },
             "pattern": {
              "fillmode": "overlay",
              "size": 10,
              "solidity": 0.2
             }
            },
            "type": "bar"
           }
          ],
          "barpolar": [
           {
            "marker": {
             "line": {
              "color": "#E5ECF6",
              "width": 0.5
             },
             "pattern": {
              "fillmode": "overlay",
              "size": 10,
              "solidity": 0.2
             }
            },
            "type": "barpolar"
           }
          ],
          "carpet": [
           {
            "aaxis": {
             "endlinecolor": "#2a3f5f",
             "gridcolor": "white",
             "linecolor": "white",
             "minorgridcolor": "white",
             "startlinecolor": "#2a3f5f"
            },
            "baxis": {
             "endlinecolor": "#2a3f5f",
             "gridcolor": "white",
             "linecolor": "white",
             "minorgridcolor": "white",
             "startlinecolor": "#2a3f5f"
            },
            "type": "carpet"
           }
          ],
          "choropleth": [
           {
            "colorbar": {
             "outlinewidth": 0,
             "ticks": ""
            },
            "type": "choropleth"
           }
          ],
          "contour": [
           {
            "colorbar": {
             "outlinewidth": 0,
             "ticks": ""
            },
            "colorscale": [
             [
              0,
              "#0d0887"
             ],
             [
              0.1111111111111111,
              "#46039f"
             ],
             [
              0.2222222222222222,
              "#7201a8"
             ],
             [
              0.3333333333333333,
              "#9c179e"
             ],
             [
              0.4444444444444444,
              "#bd3786"
             ],
             [
              0.5555555555555556,
              "#d8576b"
             ],
             [
              0.6666666666666666,
              "#ed7953"
             ],
             [
              0.7777777777777778,
              "#fb9f3a"
             ],
             [
              0.8888888888888888,
              "#fdca26"
             ],
             [
              1,
              "#f0f921"
             ]
            ],
            "type": "contour"
           }
          ],
          "contourcarpet": [
           {
            "colorbar": {
             "outlinewidth": 0,
             "ticks": ""
            },
            "type": "contourcarpet"
           }
          ],
          "heatmap": [
           {
            "colorbar": {
             "outlinewidth": 0,
             "ticks": ""
            },
            "colorscale": [
             [
              0,
              "#0d0887"
             ],
             [
              0.1111111111111111,
              "#46039f"
             ],
             [
              0.2222222222222222,
              "#7201a8"
             ],
             [
              0.3333333333333333,
              "#9c179e"
             ],
             [
              0.4444444444444444,
              "#bd3786"
             ],
             [
              0.5555555555555556,
              "#d8576b"
             ],
             [
              0.6666666666666666,
              "#ed7953"
             ],
             [
              0.7777777777777778,
              "#fb9f3a"
             ],
             [
              0.8888888888888888,
              "#fdca26"
             ],
             [
              1,
              "#f0f921"
             ]
            ],
            "type": "heatmap"
           }
          ],
          "heatmapgl": [
           {
            "colorbar": {
             "outlinewidth": 0,
             "ticks": ""
            },
            "colorscale": [
             [
              0,
              "#0d0887"
             ],
             [
              0.1111111111111111,
              "#46039f"
             ],
             [
              0.2222222222222222,
              "#7201a8"
             ],
             [
              0.3333333333333333,
              "#9c179e"
             ],
             [
              0.4444444444444444,
              "#bd3786"
             ],
             [
              0.5555555555555556,
              "#d8576b"
             ],
             [
              0.6666666666666666,
              "#ed7953"
             ],
             [
              0.7777777777777778,
              "#fb9f3a"
             ],
             [
              0.8888888888888888,
              "#fdca26"
             ],
             [
              1,
              "#f0f921"
             ]
            ],
            "type": "heatmapgl"
           }
          ],
          "histogram": [
           {
            "marker": {
             "pattern": {
              "fillmode": "overlay",
              "size": 10,
              "solidity": 0.2
             }
            },
            "type": "histogram"
           }
          ],
          "histogram2d": [
           {
            "colorbar": {
             "outlinewidth": 0,
             "ticks": ""
            },
            "colorscale": [
             [
              0,
              "#0d0887"
             ],
             [
              0.1111111111111111,
              "#46039f"
             ],
             [
              0.2222222222222222,
              "#7201a8"
             ],
             [
              0.3333333333333333,
              "#9c179e"
             ],
             [
              0.4444444444444444,
              "#bd3786"
             ],
             [
              0.5555555555555556,
              "#d8576b"
             ],
             [
              0.6666666666666666,
              "#ed7953"
             ],
             [
              0.7777777777777778,
              "#fb9f3a"
             ],
             [
              0.8888888888888888,
              "#fdca26"
             ],
             [
              1,
              "#f0f921"
             ]
            ],
            "type": "histogram2d"
           }
          ],
          "histogram2dcontour": [
           {
            "colorbar": {
             "outlinewidth": 0,
             "ticks": ""
            },
            "colorscale": [
             [
              0,
              "#0d0887"
             ],
             [
              0.1111111111111111,
              "#46039f"
             ],
             [
              0.2222222222222222,
              "#7201a8"
             ],
             [
              0.3333333333333333,
              "#9c179e"
             ],
             [
              0.4444444444444444,
              "#bd3786"
             ],
             [
              0.5555555555555556,
              "#d8576b"
             ],
             [
              0.6666666666666666,
              "#ed7953"
             ],
             [
              0.7777777777777778,
              "#fb9f3a"
             ],
             [
              0.8888888888888888,
              "#fdca26"
             ],
             [
              1,
              "#f0f921"
             ]
            ],
            "type": "histogram2dcontour"
           }
          ],
          "mesh3d": [
           {
            "colorbar": {
             "outlinewidth": 0,
             "ticks": ""
            },
            "type": "mesh3d"
           }
          ],
          "parcoords": [
           {
            "line": {
             "colorbar": {
              "outlinewidth": 0,
              "ticks": ""
             }
            },
            "type": "parcoords"
           }
          ],
          "pie": [
           {
            "automargin": true,
            "type": "pie"
           }
          ],
          "scatter": [
           {
            "marker": {
             "colorbar": {
              "outlinewidth": 0,
              "ticks": ""
             }
            },
            "type": "scatter"
           }
          ],
          "scatter3d": [
           {
            "line": {
             "colorbar": {
              "outlinewidth": 0,
              "ticks": ""
             }
            },
            "marker": {
             "colorbar": {
              "outlinewidth": 0,
              "ticks": ""
             }
            },
            "type": "scatter3d"
           }
          ],
          "scattercarpet": [
           {
            "marker": {
             "colorbar": {
              "outlinewidth": 0,
              "ticks": ""
             }
            },
            "type": "scattercarpet"
           }
          ],
          "scattergeo": [
           {
            "marker": {
             "colorbar": {
              "outlinewidth": 0,
              "ticks": ""
             }
            },
            "type": "scattergeo"
           }
          ],
          "scattergl": [
           {
            "marker": {
             "colorbar": {
              "outlinewidth": 0,
              "ticks": ""
             }
            },
            "type": "scattergl"
           }
          ],
          "scattermapbox": [
           {
            "marker": {
             "colorbar": {
              "outlinewidth": 0,
              "ticks": ""
             }
            },
            "type": "scattermapbox"
           }
          ],
          "scatterpolar": [
           {
            "marker": {
             "colorbar": {
              "outlinewidth": 0,
              "ticks": ""
             }
            },
            "type": "scatterpolar"
           }
          ],
          "scatterpolargl": [
           {
            "marker": {
             "colorbar": {
              "outlinewidth": 0,
              "ticks": ""
             }
            },
            "type": "scatterpolargl"
           }
          ],
          "scatterternary": [
           {
            "marker": {
             "colorbar": {
              "outlinewidth": 0,
              "ticks": ""
             }
            },
            "type": "scatterternary"
           }
          ],
          "surface": [
           {
            "colorbar": {
             "outlinewidth": 0,
             "ticks": ""
            },
            "colorscale": [
             [
              0,
              "#0d0887"
             ],
             [
              0.1111111111111111,
              "#46039f"
             ],
             [
              0.2222222222222222,
              "#7201a8"
             ],
             [
              0.3333333333333333,
              "#9c179e"
             ],
             [
              0.4444444444444444,
              "#bd3786"
             ],
             [
              0.5555555555555556,
              "#d8576b"
             ],
             [
              0.6666666666666666,
              "#ed7953"
             ],
             [
              0.7777777777777778,
              "#fb9f3a"
             ],
             [
              0.8888888888888888,
              "#fdca26"
             ],
             [
              1,
              "#f0f921"
             ]
            ],
            "type": "surface"
           }
          ],
          "table": [
           {
            "cells": {
             "fill": {
              "color": "#EBF0F8"
             },
             "line": {
              "color": "white"
             }
            },
            "header": {
             "fill": {
              "color": "#C8D4E3"
             },
             "line": {
              "color": "white"
             }
            },
            "type": "table"
           }
          ]
         },
         "layout": {
          "annotationdefaults": {
           "arrowcolor": "#2a3f5f",
           "arrowhead": 0,
           "arrowwidth": 1
          },
          "autotypenumbers": "strict",
          "coloraxis": {
           "colorbar": {
            "outlinewidth": 0,
            "ticks": ""
           }
          },
          "colorscale": {
           "diverging": [
            [
             0,
             "#8e0152"
            ],
            [
             0.1,
             "#c51b7d"
            ],
            [
             0.2,
             "#de77ae"
            ],
            [
             0.3,
             "#f1b6da"
            ],
            [
             0.4,
             "#fde0ef"
            ],
            [
             0.5,
             "#f7f7f7"
            ],
            [
             0.6,
             "#e6f5d0"
            ],
            [
             0.7,
             "#b8e186"
            ],
            [
             0.8,
             "#7fbc41"
            ],
            [
             0.9,
             "#4d9221"
            ],
            [
             1,
             "#276419"
            ]
           ],
           "sequential": [
            [
             0,
             "#0d0887"
            ],
            [
             0.1111111111111111,
             "#46039f"
            ],
            [
             0.2222222222222222,
             "#7201a8"
            ],
            [
             0.3333333333333333,
             "#9c179e"
            ],
            [
             0.4444444444444444,
             "#bd3786"
            ],
            [
             0.5555555555555556,
             "#d8576b"
            ],
            [
             0.6666666666666666,
             "#ed7953"
            ],
            [
             0.7777777777777778,
             "#fb9f3a"
            ],
            [
             0.8888888888888888,
             "#fdca26"
            ],
            [
             1,
             "#f0f921"
            ]
           ],
           "sequentialminus": [
            [
             0,
             "#0d0887"
            ],
            [
             0.1111111111111111,
             "#46039f"
            ],
            [
             0.2222222222222222,
             "#7201a8"
            ],
            [
             0.3333333333333333,
             "#9c179e"
            ],
            [
             0.4444444444444444,
             "#bd3786"
            ],
            [
             0.5555555555555556,
             "#d8576b"
            ],
            [
             0.6666666666666666,
             "#ed7953"
            ],
            [
             0.7777777777777778,
             "#fb9f3a"
            ],
            [
             0.8888888888888888,
             "#fdca26"
            ],
            [
             1,
             "#f0f921"
            ]
           ]
          },
          "colorway": [
           "#636efa",
           "#EF553B",
           "#00cc96",
           "#ab63fa",
           "#FFA15A",
           "#19d3f3",
           "#FF6692",
           "#B6E880",
           "#FF97FF",
           "#FECB52"
          ],
          "font": {
           "color": "#2a3f5f"
          },
          "geo": {
           "bgcolor": "white",
           "lakecolor": "white",
           "landcolor": "#E5ECF6",
           "showlakes": true,
           "showland": true,
           "subunitcolor": "white"
          },
          "hoverlabel": {
           "align": "left"
          },
          "hovermode": "closest",
          "mapbox": {
           "style": "light"
          },
          "paper_bgcolor": "white",
          "plot_bgcolor": "#E5ECF6",
          "polar": {
           "angularaxis": {
            "gridcolor": "white",
            "linecolor": "white",
            "ticks": ""
           },
           "bgcolor": "#E5ECF6",
           "radialaxis": {
            "gridcolor": "white",
            "linecolor": "white",
            "ticks": ""
           }
          },
          "scene": {
           "xaxis": {
            "backgroundcolor": "#E5ECF6",
            "gridcolor": "white",
            "gridwidth": 2,
            "linecolor": "white",
            "showbackground": true,
            "ticks": "",
            "zerolinecolor": "white"
           },
           "yaxis": {
            "backgroundcolor": "#E5ECF6",
            "gridcolor": "white",
            "gridwidth": 2,
            "linecolor": "white",
            "showbackground": true,
            "ticks": "",
            "zerolinecolor": "white"
           },
           "zaxis": {
            "backgroundcolor": "#E5ECF6",
            "gridcolor": "white",
            "gridwidth": 2,
            "linecolor": "white",
            "showbackground": true,
            "ticks": "",
            "zerolinecolor": "white"
           }
          },
          "shapedefaults": {
           "line": {
            "color": "#2a3f5f"
           }
          },
          "ternary": {
           "aaxis": {
            "gridcolor": "white",
            "linecolor": "white",
            "ticks": ""
           },
           "baxis": {
            "gridcolor": "white",
            "linecolor": "white",
            "ticks": ""
           },
           "bgcolor": "#E5ECF6",
           "caxis": {
            "gridcolor": "white",
            "linecolor": "white",
            "ticks": ""
           }
          },
          "title": {
           "x": 0.05
          },
          "xaxis": {
           "automargin": true,
           "gridcolor": "white",
           "linecolor": "white",
           "ticks": "",
           "title": {
            "standoff": 15
           },
           "zerolinecolor": "white",
           "zerolinewidth": 2
          },
          "yaxis": {
           "automargin": true,
           "gridcolor": "white",
           "linecolor": "white",
           "ticks": "",
           "title": {
            "standoff": 15
           },
           "zerolinecolor": "white",
           "zerolinewidth": 2
          }
         }
        },
        "title": {
         "font": {
          "color": "#4D5663"
         }
        },
        "xaxis": {
         "gridcolor": "#E1E5ED",
         "showgrid": true,
         "tickfont": {
          "color": "#4D5663"
         },
         "title": {
          "font": {
           "color": "#4D5663"
          },
          "text": ""
         },
         "zerolinecolor": "#E1E5ED"
        },
        "yaxis": {
         "gridcolor": "#E1E5ED",
         "showgrid": true,
         "tickfont": {
          "color": "#4D5663"
         },
         "title": {
          "font": {
           "color": "#4D5663"
          },
          "text": ""
         },
         "zerolinecolor": "#E1E5ED"
        }
       }
      },
      "text/html": [
       "<div>                            <div id=\"eb310bd8-f8f0-4334-bfef-19234ffdbdf3\" class=\"plotly-graph-div\" style=\"height:525px; width:100%;\"></div>            <script type=\"text/javascript\">                require([\"plotly\"], function(Plotly) {                    window.PLOTLYENV=window.PLOTLYENV || {};\n",
       "                    window.PLOTLYENV.BASE_URL='https://plot.ly';                                    if (document.getElementById(\"eb310bd8-f8f0-4334-bfef-19234ffdbdf3\")) {                    Plotly.newPlot(                        \"eb310bd8-f8f0-4334-bfef-19234ffdbdf3\",                        [{\"boxpoints\":false,\"line\":{\"width\":1.3},\"marker\":{\"color\":\"rgba(255, 153, 51, 1.0)\"},\"name\":\"A\",\"orientation\":\"v\",\"type\":\"box\",\"y\":[-0.9059946344274774,-0.4228448892570872,0.32823669086437185,0.6558818756618977,-0.23279394393207223,0.6525595480366613,-1.6915425316219246,0.19774000582771878,0.2527613251803961,1.2212768041507416,-1.0510831617170036,-0.7793914985082284,0.806056944934075,-0.6311019866196699,0.934877974567317,0.16080341281909977,-0.26044787101587635,-1.1189492025341188,0.9314131210571004,1.637803872997042,0.6740388916031278,1.0131855330251243,1.0735801831928784,0.937155505884544,-0.9383642090609543,-1.4125546602473755,-1.3961261570716632,1.4624065012532907,1.5085679801507355,0.37384897602131767,0.14589136140687492,-0.23095768454721793,-2.3629173679389783,0.25331855988772656,-0.3115860491141523,-0.3030080296653969,0.8976458438423921,-0.22670266681646012,0.41600691876623586,0.44298800896287893,0.48238892353758295,2.8740147943888767,1.2137085672267414,-0.5078538839778108,0.2712852957322795,0.48451943108122075,0.7602644879314184,1.066266090804438,-0.7210114083722396,0.32916613351098817,0.21287846776990083,1.3120634164376894,1.4845215944923633,1.2118529866244876,-0.35062596725697137,1.4679054114460215,0.5946197808733853,0.7653928202932211,0.502620298066773,-0.4655955727577539,-0.7795213169381651,-0.5835420380031595,0.581868964354893,-0.8446734086931094,-0.6104474804218408,-0.49453527742225606,0.03616565350186925,1.677717127944498,-0.13111115072431645,0.35354551803517,-1.1395729739401037,1.087329072160173,1.9901243821040628,1.4587485333823857,0.5863304514720385,-1.72328053440473,-0.33482969209209335,-0.5675569496541126,-0.7552568197099411,0.984241478144492,0.5130936566082164,1.007047428091453,-0.25229733785962855,-1.0765534930300449,-1.0836901842430446,1.251316893181913,-0.061947611188396756,-1.5090608602782263,0.5407038713008661,-0.7598080181281253,-2.24033822867379,-1.025455849018686,-0.6449593030755074,-2.3407345468245557,1.9319811029535663,0.44323959373215516,-0.3715898916904119,0.7183414221195205,0.9328345702391438,0.7111546819960841]},{\"boxpoints\":false,\"line\":{\"width\":1.3},\"marker\":{\"color\":\"rgba(55, 128, 191, 1.0)\"},\"name\":\"B\",\"orientation\":\"v\",\"type\":\"box\",\"y\":[0.39809897088173535,-0.14652925480192855,0.9857309327643848,-0.8247877220344356,-0.7171326813869001,0.27152193419855913,-0.14087040880362503,-0.0890924278317126,1.3250570353670188,0.09866929384221915,-1.456511319329652,-1.6257292208567193,-0.6674107831292494,0.3811991927832541,-0.5464922895705291,-3.162439502735584,-0.658820338868281,0.7721719856870062,-0.3171154031995474,-1.0020734777415063,-0.02659884375709406,1.4254056731396323,0.6836421842787477,-0.9772538796145454,1.179589205909156,0.5452437251135169,0.9451720539792436,-0.5674693547604166,-1.9367879178372351,0.09939863026944817,0.3788358260021555,-0.12359656382636455,-0.38458928359784156,-0.13612423713165192,-0.20220123127288567,-0.057722094925038374,-0.4215960142227496,-1.1817887527339672,-0.6820955787736707,0.54268553457587,2.269274538955471,1.399616365283778,0.39919861740985063,-0.7429824032412617,-0.5579151083162384,0.49856107072948636,-0.6122498520456356,-0.5196819457867476,0.6580335477597211,-1.4453404736418463,-1.0683326326666698,1.7800123892054036,0.33842572157581263,1.084922008912415,0.710339271478755,0.12105239058331187,-0.8509752427452628,-1.3491238864126032,-1.8598394510153693,-1.0659054118800213,1.3236350429577803,0.5444277023592253,-0.6727411628076259,-0.018547264192752825,-0.8071229564449062,0.33751660203866807,0.1881745849663572,0.12260492122922247,0.30615558365396084,1.2458146238905483,1.7110470711557848,-0.4800976041892355,2.221328091101082,0.34503964151741096,1.3888534612108372,-0.6121543897912833,1.5135232133398413,0.3550466399495089,-0.5125535379885994,-0.8684090756031528,-0.0880389921588798,1.5107179811616,-0.07874484690047716,-0.5389501748212824,0.7535046636019881,-0.5600026707788827,-0.3110571605343825,0.6306288933906005,-0.12702949524031082,-0.5299579481574125,-0.2319476324342638,1.1584607557786735,-1.5686875302712062,0.06172482147957937,-0.6198455475019047,-2.0770439203968674,0.09306099403907173,-0.45720135238549225,-0.30414649191620025,0.03513373986031923]},{\"boxpoints\":false,\"line\":{\"width\":1.3},\"marker\":{\"color\":\"rgba(50, 171, 96, 1.0)\"},\"name\":\"C\",\"orientation\":\"v\",\"type\":\"box\",\"y\":[0.8899482647583795,-0.48741350404004985,0.12298514481001037,-1.774585791587798,0.25788794441048885,-0.06328921642114764,0.8651593131570227,1.7149994554523373,-1.1952944135921917,-0.8242523462338697,0.2429233089008537,1.6624596340506916,0.8588193266652456,0.9647459497483071,-0.23813580241704013,-0.6197192913072721,0.060568610242076756,-1.876027186517289,0.686258974074959,-0.25673459721631553,0.7736769228693611,1.3566267794463591,0.7542012540572304,-0.42162929129487087,0.9487015299143998,-0.5761302532372644,-1.9029464805710632,1.0374031915795034,-0.7292548442852299,0.03334141354571613,1.0829223482605501,-1.2026214155339074,-1.2142580079903607,-0.27454086358979896,-1.0506533899581663,2.1551201246294123,-0.7651680756510916,-0.4067694711485394,0.831261276156096,-1.0147510732655431,1.0063233197321864,0.42723830554873815,1.5299200980024585,1.2998999231806587,1.2912300594676989,-1.2458776828641627,1.4474451621128004,0.15701383133376268,0.6814892571980171,2.0411505739861866,0.9452241695206468,0.43338888339608833,-0.4394511787806944,-0.5067859564033861,0.005055738764854608,1.474591522563153,-0.8629191140490524,-1.1874700605179853,-0.09757250559983943,-0.36828724929648926,1.0283783282412238,-0.3883995820650151,-0.16426441703822522,1.4189273452155675,-0.11048245401354172,0.3940338401538025,0.8170583108124951,-0.8699307446545328,-0.05625756849411813,0.5502998160612507,-1.6593905590086808,-0.08164535796275711,-0.7840450616919273,-0.5841850807268515,1.8086013752422376,0.4074760772558162,-1.0259072552717319,-1.0879739342231223,-1.0467410679175666,0.8687746229923943,0.4870077060513073,-1.1891200717940589,-0.08436834921922547,-0.9195326383906376,-0.3415648548625693,-0.2794170119234371,0.01138761588792133,-0.9140522953517211,-0.16531178762007206,1.7946611443079783,-0.051732808917070806,0.7789357894976013,1.0688045621594884,0.11159693286318663,0.7512815794487576,-0.5802136776239283,0.8047680319434942,-1.0850259838757654,-0.6812093113350112,0.38254119848273516]},{\"boxpoints\":false,\"line\":{\"width\":1.3},\"marker\":{\"color\":\"rgba(128, 0, 128, 1.0)\"},\"name\":\"D\",\"orientation\":\"v\",\"type\":\"box\",\"y\":[-0.3618724048781142,-0.40687761489980623,0.5195626630568237,0.13912631703553005,0.32528591114126365,0.629820985303858,-0.17041115083404465,-0.23380726018029674,0.6930189819079416,0.4321523738209809,-0.06832956849261512,0.7054808326257046,0.3925765839568227,0.8414122179485375,2.7492266137991384,2.789035520870783,-0.49788911678712844,1.0306950917299138,-0.6252367154260806,-0.04499324689704075,-0.7098464166552086,1.0913140164808373,-0.14937672319567452,-0.027169954537775307,-0.33327178910759336,0.9782141349110773,-0.1659250766810504,-1.1907971669168738,2.4582023742263774,-0.19076034535752567,-0.263968439562819,-1.2131711833684555,0.6549835291202654,1.761118222522333,0.009168450583866327,0.27954336114813516,0.5133601348779316,-0.7185694932596692,-1.1793560729556487,1.6022489903898194,-1.091237147724573,1.9403277119055318,0.10413118292587473,0.14002107064947966,-0.5923516210365952,0.3798847137907724,1.4175155728259794,-0.16165530760120006,0.45483955058631537,-1.7591790350741123,-1.9401472052225492,-0.9747105857243566,0.2097433224401488,0.9428628417877921,-1.3460870937111664,0.3270291246531071,0.9388246148042848,-0.9354385562636851,0.7236083171803579,-0.7324644250452019,0.8144034408789959,-0.29984428088096304,-1.2708026061786377,0.7791969024999302,0.10634367954919603,0.8804390908267082,-1.3920998512600171,-0.7289623760466917,1.6324837909472627,-2.275718441810622,0.6996653927285276,1.9021999289395772,-0.22496156634148104,-1.236445754124931,-0.13670267087326995,-1.016315959147242,-0.39809020253168687,-1.9750991406903013,-0.6407360151401108,-0.4894767126128095,-1.0559998264889134,0.5287302277768998,-0.06599684649481262,0.15982134331091033,-0.21114957671805018,-0.10064997659060733,0.10968624643260116,0.4904529657311047,-1.1501791726685733,0.9470020914184902,-0.5453496522243801,-1.0544030950720638,-0.35195965450924055,0.6953243269099676,-0.7048377964351703,0.1343931435270347,0.008367024707526283,-0.8295441813327156,0.8504452543199488,0.294786501266867]}],                        {\"legend\":{\"bgcolor\":\"#F5F6F9\",\"font\":{\"color\":\"#4D5663\"}},\"paper_bgcolor\":\"#F5F6F9\",\"plot_bgcolor\":\"#F5F6F9\",\"template\":{\"data\":{\"bar\":[{\"error_x\":{\"color\":\"#2a3f5f\"},\"error_y\":{\"color\":\"#2a3f5f\"},\"marker\":{\"line\":{\"color\":\"#E5ECF6\",\"width\":0.5},\"pattern\":{\"fillmode\":\"overlay\",\"size\":10,\"solidity\":0.2}},\"type\":\"bar\"}],\"barpolar\":[{\"marker\":{\"line\":{\"color\":\"#E5ECF6\",\"width\":0.5},\"pattern\":{\"fillmode\":\"overlay\",\"size\":10,\"solidity\":0.2}},\"type\":\"barpolar\"}],\"carpet\":[{\"aaxis\":{\"endlinecolor\":\"#2a3f5f\",\"gridcolor\":\"white\",\"linecolor\":\"white\",\"minorgridcolor\":\"white\",\"startlinecolor\":\"#2a3f5f\"},\"baxis\":{\"endlinecolor\":\"#2a3f5f\",\"gridcolor\":\"white\",\"linecolor\":\"white\",\"minorgridcolor\":\"white\",\"startlinecolor\":\"#2a3f5f\"},\"type\":\"carpet\"}],\"choropleth\":[{\"colorbar\":{\"outlinewidth\":0,\"ticks\":\"\"},\"type\":\"choropleth\"}],\"contour\":[{\"colorbar\":{\"outlinewidth\":0,\"ticks\":\"\"},\"colorscale\":[[0.0,\"#0d0887\"],[0.1111111111111111,\"#46039f\"],[0.2222222222222222,\"#7201a8\"],[0.3333333333333333,\"#9c179e\"],[0.4444444444444444,\"#bd3786\"],[0.5555555555555556,\"#d8576b\"],[0.6666666666666666,\"#ed7953\"],[0.7777777777777778,\"#fb9f3a\"],[0.8888888888888888,\"#fdca26\"],[1.0,\"#f0f921\"]],\"type\":\"contour\"}],\"contourcarpet\":[{\"colorbar\":{\"outlinewidth\":0,\"ticks\":\"\"},\"type\":\"contourcarpet\"}],\"heatmap\":[{\"colorbar\":{\"outlinewidth\":0,\"ticks\":\"\"},\"colorscale\":[[0.0,\"#0d0887\"],[0.1111111111111111,\"#46039f\"],[0.2222222222222222,\"#7201a8\"],[0.3333333333333333,\"#9c179e\"],[0.4444444444444444,\"#bd3786\"],[0.5555555555555556,\"#d8576b\"],[0.6666666666666666,\"#ed7953\"],[0.7777777777777778,\"#fb9f3a\"],[0.8888888888888888,\"#fdca26\"],[1.0,\"#f0f921\"]],\"type\":\"heatmap\"}],\"heatmapgl\":[{\"colorbar\":{\"outlinewidth\":0,\"ticks\":\"\"},\"colorscale\":[[0.0,\"#0d0887\"],[0.1111111111111111,\"#46039f\"],[0.2222222222222222,\"#7201a8\"],[0.3333333333333333,\"#9c179e\"],[0.4444444444444444,\"#bd3786\"],[0.5555555555555556,\"#d8576b\"],[0.6666666666666666,\"#ed7953\"],[0.7777777777777778,\"#fb9f3a\"],[0.8888888888888888,\"#fdca26\"],[1.0,\"#f0f921\"]],\"type\":\"heatmapgl\"}],\"histogram\":[{\"marker\":{\"pattern\":{\"fillmode\":\"overlay\",\"size\":10,\"solidity\":0.2}},\"type\":\"histogram\"}],\"histogram2d\":[{\"colorbar\":{\"outlinewidth\":0,\"ticks\":\"\"},\"colorscale\":[[0.0,\"#0d0887\"],[0.1111111111111111,\"#46039f\"],[0.2222222222222222,\"#7201a8\"],[0.3333333333333333,\"#9c179e\"],[0.4444444444444444,\"#bd3786\"],[0.5555555555555556,\"#d8576b\"],[0.6666666666666666,\"#ed7953\"],[0.7777777777777778,\"#fb9f3a\"],[0.8888888888888888,\"#fdca26\"],[1.0,\"#f0f921\"]],\"type\":\"histogram2d\"}],\"histogram2dcontour\":[{\"colorbar\":{\"outlinewidth\":0,\"ticks\":\"\"},\"colorscale\":[[0.0,\"#0d0887\"],[0.1111111111111111,\"#46039f\"],[0.2222222222222222,\"#7201a8\"],[0.3333333333333333,\"#9c179e\"],[0.4444444444444444,\"#bd3786\"],[0.5555555555555556,\"#d8576b\"],[0.6666666666666666,\"#ed7953\"],[0.7777777777777778,\"#fb9f3a\"],[0.8888888888888888,\"#fdca26\"],[1.0,\"#f0f921\"]],\"type\":\"histogram2dcontour\"}],\"mesh3d\":[{\"colorbar\":{\"outlinewidth\":0,\"ticks\":\"\"},\"type\":\"mesh3d\"}],\"parcoords\":[{\"line\":{\"colorbar\":{\"outlinewidth\":0,\"ticks\":\"\"}},\"type\":\"parcoords\"}],\"pie\":[{\"automargin\":true,\"type\":\"pie\"}],\"scatter\":[{\"marker\":{\"colorbar\":{\"outlinewidth\":0,\"ticks\":\"\"}},\"type\":\"scatter\"}],\"scatter3d\":[{\"line\":{\"colorbar\":{\"outlinewidth\":0,\"ticks\":\"\"}},\"marker\":{\"colorbar\":{\"outlinewidth\":0,\"ticks\":\"\"}},\"type\":\"scatter3d\"}],\"scattercarpet\":[{\"marker\":{\"colorbar\":{\"outlinewidth\":0,\"ticks\":\"\"}},\"type\":\"scattercarpet\"}],\"scattergeo\":[{\"marker\":{\"colorbar\":{\"outlinewidth\":0,\"ticks\":\"\"}},\"type\":\"scattergeo\"}],\"scattergl\":[{\"marker\":{\"colorbar\":{\"outlinewidth\":0,\"ticks\":\"\"}},\"type\":\"scattergl\"}],\"scattermapbox\":[{\"marker\":{\"colorbar\":{\"outlinewidth\":0,\"ticks\":\"\"}},\"type\":\"scattermapbox\"}],\"scatterpolar\":[{\"marker\":{\"colorbar\":{\"outlinewidth\":0,\"ticks\":\"\"}},\"type\":\"scatterpolar\"}],\"scatterpolargl\":[{\"marker\":{\"colorbar\":{\"outlinewidth\":0,\"ticks\":\"\"}},\"type\":\"scatterpolargl\"}],\"scatterternary\":[{\"marker\":{\"colorbar\":{\"outlinewidth\":0,\"ticks\":\"\"}},\"type\":\"scatterternary\"}],\"surface\":[{\"colorbar\":{\"outlinewidth\":0,\"ticks\":\"\"},\"colorscale\":[[0.0,\"#0d0887\"],[0.1111111111111111,\"#46039f\"],[0.2222222222222222,\"#7201a8\"],[0.3333333333333333,\"#9c179e\"],[0.4444444444444444,\"#bd3786\"],[0.5555555555555556,\"#d8576b\"],[0.6666666666666666,\"#ed7953\"],[0.7777777777777778,\"#fb9f3a\"],[0.8888888888888888,\"#fdca26\"],[1.0,\"#f0f921\"]],\"type\":\"surface\"}],\"table\":[{\"cells\":{\"fill\":{\"color\":\"#EBF0F8\"},\"line\":{\"color\":\"white\"}},\"header\":{\"fill\":{\"color\":\"#C8D4E3\"},\"line\":{\"color\":\"white\"}},\"type\":\"table\"}]},\"layout\":{\"annotationdefaults\":{\"arrowcolor\":\"#2a3f5f\",\"arrowhead\":0,\"arrowwidth\":1},\"autotypenumbers\":\"strict\",\"coloraxis\":{\"colorbar\":{\"outlinewidth\":0,\"ticks\":\"\"}},\"colorscale\":{\"diverging\":[[0,\"#8e0152\"],[0.1,\"#c51b7d\"],[0.2,\"#de77ae\"],[0.3,\"#f1b6da\"],[0.4,\"#fde0ef\"],[0.5,\"#f7f7f7\"],[0.6,\"#e6f5d0\"],[0.7,\"#b8e186\"],[0.8,\"#7fbc41\"],[0.9,\"#4d9221\"],[1,\"#276419\"]],\"sequential\":[[0.0,\"#0d0887\"],[0.1111111111111111,\"#46039f\"],[0.2222222222222222,\"#7201a8\"],[0.3333333333333333,\"#9c179e\"],[0.4444444444444444,\"#bd3786\"],[0.5555555555555556,\"#d8576b\"],[0.6666666666666666,\"#ed7953\"],[0.7777777777777778,\"#fb9f3a\"],[0.8888888888888888,\"#fdca26\"],[1.0,\"#f0f921\"]],\"sequentialminus\":[[0.0,\"#0d0887\"],[0.1111111111111111,\"#46039f\"],[0.2222222222222222,\"#7201a8\"],[0.3333333333333333,\"#9c179e\"],[0.4444444444444444,\"#bd3786\"],[0.5555555555555556,\"#d8576b\"],[0.6666666666666666,\"#ed7953\"],[0.7777777777777778,\"#fb9f3a\"],[0.8888888888888888,\"#fdca26\"],[1.0,\"#f0f921\"]]},\"colorway\":[\"#636efa\",\"#EF553B\",\"#00cc96\",\"#ab63fa\",\"#FFA15A\",\"#19d3f3\",\"#FF6692\",\"#B6E880\",\"#FF97FF\",\"#FECB52\"],\"font\":{\"color\":\"#2a3f5f\"},\"geo\":{\"bgcolor\":\"white\",\"lakecolor\":\"white\",\"landcolor\":\"#E5ECF6\",\"showlakes\":true,\"showland\":true,\"subunitcolor\":\"white\"},\"hoverlabel\":{\"align\":\"left\"},\"hovermode\":\"closest\",\"mapbox\":{\"style\":\"light\"},\"paper_bgcolor\":\"white\",\"plot_bgcolor\":\"#E5ECF6\",\"polar\":{\"angularaxis\":{\"gridcolor\":\"white\",\"linecolor\":\"white\",\"ticks\":\"\"},\"bgcolor\":\"#E5ECF6\",\"radialaxis\":{\"gridcolor\":\"white\",\"linecolor\":\"white\",\"ticks\":\"\"}},\"scene\":{\"xaxis\":{\"backgroundcolor\":\"#E5ECF6\",\"gridcolor\":\"white\",\"gridwidth\":2,\"linecolor\":\"white\",\"showbackground\":true,\"ticks\":\"\",\"zerolinecolor\":\"white\"},\"yaxis\":{\"backgroundcolor\":\"#E5ECF6\",\"gridcolor\":\"white\",\"gridwidth\":2,\"linecolor\":\"white\",\"showbackground\":true,\"ticks\":\"\",\"zerolinecolor\":\"white\"},\"zaxis\":{\"backgroundcolor\":\"#E5ECF6\",\"gridcolor\":\"white\",\"gridwidth\":2,\"linecolor\":\"white\",\"showbackground\":true,\"ticks\":\"\",\"zerolinecolor\":\"white\"}},\"shapedefaults\":{\"line\":{\"color\":\"#2a3f5f\"}},\"ternary\":{\"aaxis\":{\"gridcolor\":\"white\",\"linecolor\":\"white\",\"ticks\":\"\"},\"baxis\":{\"gridcolor\":\"white\",\"linecolor\":\"white\",\"ticks\":\"\"},\"bgcolor\":\"#E5ECF6\",\"caxis\":{\"gridcolor\":\"white\",\"linecolor\":\"white\",\"ticks\":\"\"}},\"title\":{\"x\":0.05},\"xaxis\":{\"automargin\":true,\"gridcolor\":\"white\",\"linecolor\":\"white\",\"ticks\":\"\",\"title\":{\"standoff\":15},\"zerolinecolor\":\"white\",\"zerolinewidth\":2},\"yaxis\":{\"automargin\":true,\"gridcolor\":\"white\",\"linecolor\":\"white\",\"ticks\":\"\",\"title\":{\"standoff\":15},\"zerolinecolor\":\"white\",\"zerolinewidth\":2}}},\"title\":{\"font\":{\"color\":\"#4D5663\"}},\"xaxis\":{\"gridcolor\":\"#E1E5ED\",\"showgrid\":true,\"tickfont\":{\"color\":\"#4D5663\"},\"title\":{\"font\":{\"color\":\"#4D5663\"},\"text\":\"\"},\"zerolinecolor\":\"#E1E5ED\"},\"yaxis\":{\"gridcolor\":\"#E1E5ED\",\"showgrid\":true,\"tickfont\":{\"color\":\"#4D5663\"},\"title\":{\"font\":{\"color\":\"#4D5663\"},\"text\":\"\"},\"zerolinecolor\":\"#E1E5ED\"}},                        {\"showLink\": true, \"linkText\": \"Export to plot.ly\", \"plotlyServerURL\": \"https://plot.ly\", \"responsive\": true}                    ).then(function(){\n",
       "                            \n",
       "var gd = document.getElementById('eb310bd8-f8f0-4334-bfef-19234ffdbdf3');\n",
       "var x = new MutationObserver(function (mutations, observer) {{\n",
       "        var display = window.getComputedStyle(gd).display;\n",
       "        if (!display || display === 'none') {{\n",
       "            console.log([gd, 'removed!']);\n",
       "            Plotly.purge(gd);\n",
       "            observer.disconnect();\n",
       "        }}\n",
       "}});\n",
       "\n",
       "// Listen for the removal of the full notebook cells\n",
       "var notebookContainer = gd.closest('#notebook-container');\n",
       "if (notebookContainer) {{\n",
       "    x.observe(notebookContainer, {childList: true});\n",
       "}}\n",
       "\n",
       "// Listen for the clearing of the current output cell\n",
       "var outputEl = gd.closest('.output');\n",
       "if (outputEl) {{\n",
       "    x.observe(outputEl, {childList: true});\n",
       "}}\n",
       "\n",
       "                        })                };                });            </script>        </div>"
      ]
     },
     "metadata": {},
     "output_type": "display_data"
    }
   ],
   "source": [
    "df.iplot(kind='box')"
   ]
  },
  {
   "cell_type": "markdown",
   "metadata": {},
   "source": [
    "## 3d Surface"
   ]
  },
  {
   "cell_type": "code",
   "execution_count": 26,
   "metadata": {},
   "outputs": [
    {
     "data": {
      "application/vnd.plotly.v1+json": {
       "config": {
        "linkText": "Export to plot.ly",
        "plotlyServerURL": "https://plot.ly",
        "showLink": true
       },
       "data": [
        {
         "colorscale": [
          [
           0,
           "rgb(165,0,38)"
          ],
          [
           0.1,
           "rgb(215,48,39)"
          ],
          [
           0.2,
           "rgb(244,109,67)"
          ],
          [
           0.3,
           "rgb(253,174,97)"
          ],
          [
           0.4,
           "rgb(254,224,144)"
          ],
          [
           0.5,
           "rgb(255,255,191)"
          ],
          [
           0.6,
           "rgb(224,243,248)"
          ],
          [
           0.7,
           "rgb(171,217,233)"
          ],
          [
           0.8,
           "rgb(116,173,209)"
          ],
          [
           0.9,
           "rgb(69,117,180)"
          ],
          [
           1,
           "rgb(49,54,149)"
          ]
         ],
         "type": "surface",
         "x": [
          0,
          1,
          2,
          3,
          4
         ],
         "y": [
          "x",
          "y",
          "z"
         ],
         "z": [
          [
           1,
           2,
           3,
           4,
           5
          ],
          [
           10,
           20,
           30,
           20,
           10
          ],
          [
           5,
           4,
           3,
           2,
           1
          ]
         ]
        }
       ],
       "layout": {
        "legend": {
         "bgcolor": "#F5F6F9",
         "font": {
          "color": "#4D5663"
         }
        },
        "paper_bgcolor": "#F5F6F9",
        "plot_bgcolor": "#F5F6F9",
        "template": {
         "data": {
          "bar": [
           {
            "error_x": {
             "color": "#2a3f5f"
            },
            "error_y": {
             "color": "#2a3f5f"
            },
            "marker": {
             "line": {
              "color": "#E5ECF6",
              "width": 0.5
             },
             "pattern": {
              "fillmode": "overlay",
              "size": 10,
              "solidity": 0.2
             }
            },
            "type": "bar"
           }
          ],
          "barpolar": [
           {
            "marker": {
             "line": {
              "color": "#E5ECF6",
              "width": 0.5
             },
             "pattern": {
              "fillmode": "overlay",
              "size": 10,
              "solidity": 0.2
             }
            },
            "type": "barpolar"
           }
          ],
          "carpet": [
           {
            "aaxis": {
             "endlinecolor": "#2a3f5f",
             "gridcolor": "white",
             "linecolor": "white",
             "minorgridcolor": "white",
             "startlinecolor": "#2a3f5f"
            },
            "baxis": {
             "endlinecolor": "#2a3f5f",
             "gridcolor": "white",
             "linecolor": "white",
             "minorgridcolor": "white",
             "startlinecolor": "#2a3f5f"
            },
            "type": "carpet"
           }
          ],
          "choropleth": [
           {
            "colorbar": {
             "outlinewidth": 0,
             "ticks": ""
            },
            "type": "choropleth"
           }
          ],
          "contour": [
           {
            "colorbar": {
             "outlinewidth": 0,
             "ticks": ""
            },
            "colorscale": [
             [
              0,
              "#0d0887"
             ],
             [
              0.1111111111111111,
              "#46039f"
             ],
             [
              0.2222222222222222,
              "#7201a8"
             ],
             [
              0.3333333333333333,
              "#9c179e"
             ],
             [
              0.4444444444444444,
              "#bd3786"
             ],
             [
              0.5555555555555556,
              "#d8576b"
             ],
             [
              0.6666666666666666,
              "#ed7953"
             ],
             [
              0.7777777777777778,
              "#fb9f3a"
             ],
             [
              0.8888888888888888,
              "#fdca26"
             ],
             [
              1,
              "#f0f921"
             ]
            ],
            "type": "contour"
           }
          ],
          "contourcarpet": [
           {
            "colorbar": {
             "outlinewidth": 0,
             "ticks": ""
            },
            "type": "contourcarpet"
           }
          ],
          "heatmap": [
           {
            "colorbar": {
             "outlinewidth": 0,
             "ticks": ""
            },
            "colorscale": [
             [
              0,
              "#0d0887"
             ],
             [
              0.1111111111111111,
              "#46039f"
             ],
             [
              0.2222222222222222,
              "#7201a8"
             ],
             [
              0.3333333333333333,
              "#9c179e"
             ],
             [
              0.4444444444444444,
              "#bd3786"
             ],
             [
              0.5555555555555556,
              "#d8576b"
             ],
             [
              0.6666666666666666,
              "#ed7953"
             ],
             [
              0.7777777777777778,
              "#fb9f3a"
             ],
             [
              0.8888888888888888,
              "#fdca26"
             ],
             [
              1,
              "#f0f921"
             ]
            ],
            "type": "heatmap"
           }
          ],
          "heatmapgl": [
           {
            "colorbar": {
             "outlinewidth": 0,
             "ticks": ""
            },
            "colorscale": [
             [
              0,
              "#0d0887"
             ],
             [
              0.1111111111111111,
              "#46039f"
             ],
             [
              0.2222222222222222,
              "#7201a8"
             ],
             [
              0.3333333333333333,
              "#9c179e"
             ],
             [
              0.4444444444444444,
              "#bd3786"
             ],
             [
              0.5555555555555556,
              "#d8576b"
             ],
             [
              0.6666666666666666,
              "#ed7953"
             ],
             [
              0.7777777777777778,
              "#fb9f3a"
             ],
             [
              0.8888888888888888,
              "#fdca26"
             ],
             [
              1,
              "#f0f921"
             ]
            ],
            "type": "heatmapgl"
           }
          ],
          "histogram": [
           {
            "marker": {
             "pattern": {
              "fillmode": "overlay",
              "size": 10,
              "solidity": 0.2
             }
            },
            "type": "histogram"
           }
          ],
          "histogram2d": [
           {
            "colorbar": {
             "outlinewidth": 0,
             "ticks": ""
            },
            "colorscale": [
             [
              0,
              "#0d0887"
             ],
             [
              0.1111111111111111,
              "#46039f"
             ],
             [
              0.2222222222222222,
              "#7201a8"
             ],
             [
              0.3333333333333333,
              "#9c179e"
             ],
             [
              0.4444444444444444,
              "#bd3786"
             ],
             [
              0.5555555555555556,
              "#d8576b"
             ],
             [
              0.6666666666666666,
              "#ed7953"
             ],
             [
              0.7777777777777778,
              "#fb9f3a"
             ],
             [
              0.8888888888888888,
              "#fdca26"
             ],
             [
              1,
              "#f0f921"
             ]
            ],
            "type": "histogram2d"
           }
          ],
          "histogram2dcontour": [
           {
            "colorbar": {
             "outlinewidth": 0,
             "ticks": ""
            },
            "colorscale": [
             [
              0,
              "#0d0887"
             ],
             [
              0.1111111111111111,
              "#46039f"
             ],
             [
              0.2222222222222222,
              "#7201a8"
             ],
             [
              0.3333333333333333,
              "#9c179e"
             ],
             [
              0.4444444444444444,
              "#bd3786"
             ],
             [
              0.5555555555555556,
              "#d8576b"
             ],
             [
              0.6666666666666666,
              "#ed7953"
             ],
             [
              0.7777777777777778,
              "#fb9f3a"
             ],
             [
              0.8888888888888888,
              "#fdca26"
             ],
             [
              1,
              "#f0f921"
             ]
            ],
            "type": "histogram2dcontour"
           }
          ],
          "mesh3d": [
           {
            "colorbar": {
             "outlinewidth": 0,
             "ticks": ""
            },
            "type": "mesh3d"
           }
          ],
          "parcoords": [
           {
            "line": {
             "colorbar": {
              "outlinewidth": 0,
              "ticks": ""
             }
            },
            "type": "parcoords"
           }
          ],
          "pie": [
           {
            "automargin": true,
            "type": "pie"
           }
          ],
          "scatter": [
           {
            "marker": {
             "colorbar": {
              "outlinewidth": 0,
              "ticks": ""
             }
            },
            "type": "scatter"
           }
          ],
          "scatter3d": [
           {
            "line": {
             "colorbar": {
              "outlinewidth": 0,
              "ticks": ""
             }
            },
            "marker": {
             "colorbar": {
              "outlinewidth": 0,
              "ticks": ""
             }
            },
            "type": "scatter3d"
           }
          ],
          "scattercarpet": [
           {
            "marker": {
             "colorbar": {
              "outlinewidth": 0,
              "ticks": ""
             }
            },
            "type": "scattercarpet"
           }
          ],
          "scattergeo": [
           {
            "marker": {
             "colorbar": {
              "outlinewidth": 0,
              "ticks": ""
             }
            },
            "type": "scattergeo"
           }
          ],
          "scattergl": [
           {
            "marker": {
             "colorbar": {
              "outlinewidth": 0,
              "ticks": ""
             }
            },
            "type": "scattergl"
           }
          ],
          "scattermapbox": [
           {
            "marker": {
             "colorbar": {
              "outlinewidth": 0,
              "ticks": ""
             }
            },
            "type": "scattermapbox"
           }
          ],
          "scatterpolar": [
           {
            "marker": {
             "colorbar": {
              "outlinewidth": 0,
              "ticks": ""
             }
            },
            "type": "scatterpolar"
           }
          ],
          "scatterpolargl": [
           {
            "marker": {
             "colorbar": {
              "outlinewidth": 0,
              "ticks": ""
             }
            },
            "type": "scatterpolargl"
           }
          ],
          "scatterternary": [
           {
            "marker": {
             "colorbar": {
              "outlinewidth": 0,
              "ticks": ""
             }
            },
            "type": "scatterternary"
           }
          ],
          "surface": [
           {
            "colorbar": {
             "outlinewidth": 0,
             "ticks": ""
            },
            "colorscale": [
             [
              0,
              "#0d0887"
             ],
             [
              0.1111111111111111,
              "#46039f"
             ],
             [
              0.2222222222222222,
              "#7201a8"
             ],
             [
              0.3333333333333333,
              "#9c179e"
             ],
             [
              0.4444444444444444,
              "#bd3786"
             ],
             [
              0.5555555555555556,
              "#d8576b"
             ],
             [
              0.6666666666666666,
              "#ed7953"
             ],
             [
              0.7777777777777778,
              "#fb9f3a"
             ],
             [
              0.8888888888888888,
              "#fdca26"
             ],
             [
              1,
              "#f0f921"
             ]
            ],
            "type": "surface"
           }
          ],
          "table": [
           {
            "cells": {
             "fill": {
              "color": "#EBF0F8"
             },
             "line": {
              "color": "white"
             }
            },
            "header": {
             "fill": {
              "color": "#C8D4E3"
             },
             "line": {
              "color": "white"
             }
            },
            "type": "table"
           }
          ]
         },
         "layout": {
          "annotationdefaults": {
           "arrowcolor": "#2a3f5f",
           "arrowhead": 0,
           "arrowwidth": 1
          },
          "autotypenumbers": "strict",
          "coloraxis": {
           "colorbar": {
            "outlinewidth": 0,
            "ticks": ""
           }
          },
          "colorscale": {
           "diverging": [
            [
             0,
             "#8e0152"
            ],
            [
             0.1,
             "#c51b7d"
            ],
            [
             0.2,
             "#de77ae"
            ],
            [
             0.3,
             "#f1b6da"
            ],
            [
             0.4,
             "#fde0ef"
            ],
            [
             0.5,
             "#f7f7f7"
            ],
            [
             0.6,
             "#e6f5d0"
            ],
            [
             0.7,
             "#b8e186"
            ],
            [
             0.8,
             "#7fbc41"
            ],
            [
             0.9,
             "#4d9221"
            ],
            [
             1,
             "#276419"
            ]
           ],
           "sequential": [
            [
             0,
             "#0d0887"
            ],
            [
             0.1111111111111111,
             "#46039f"
            ],
            [
             0.2222222222222222,
             "#7201a8"
            ],
            [
             0.3333333333333333,
             "#9c179e"
            ],
            [
             0.4444444444444444,
             "#bd3786"
            ],
            [
             0.5555555555555556,
             "#d8576b"
            ],
            [
             0.6666666666666666,
             "#ed7953"
            ],
            [
             0.7777777777777778,
             "#fb9f3a"
            ],
            [
             0.8888888888888888,
             "#fdca26"
            ],
            [
             1,
             "#f0f921"
            ]
           ],
           "sequentialminus": [
            [
             0,
             "#0d0887"
            ],
            [
             0.1111111111111111,
             "#46039f"
            ],
            [
             0.2222222222222222,
             "#7201a8"
            ],
            [
             0.3333333333333333,
             "#9c179e"
            ],
            [
             0.4444444444444444,
             "#bd3786"
            ],
            [
             0.5555555555555556,
             "#d8576b"
            ],
            [
             0.6666666666666666,
             "#ed7953"
            ],
            [
             0.7777777777777778,
             "#fb9f3a"
            ],
            [
             0.8888888888888888,
             "#fdca26"
            ],
            [
             1,
             "#f0f921"
            ]
           ]
          },
          "colorway": [
           "#636efa",
           "#EF553B",
           "#00cc96",
           "#ab63fa",
           "#FFA15A",
           "#19d3f3",
           "#FF6692",
           "#B6E880",
           "#FF97FF",
           "#FECB52"
          ],
          "font": {
           "color": "#2a3f5f"
          },
          "geo": {
           "bgcolor": "white",
           "lakecolor": "white",
           "landcolor": "#E5ECF6",
           "showlakes": true,
           "showland": true,
           "subunitcolor": "white"
          },
          "hoverlabel": {
           "align": "left"
          },
          "hovermode": "closest",
          "mapbox": {
           "style": "light"
          },
          "paper_bgcolor": "white",
          "plot_bgcolor": "#E5ECF6",
          "polar": {
           "angularaxis": {
            "gridcolor": "white",
            "linecolor": "white",
            "ticks": ""
           },
           "bgcolor": "#E5ECF6",
           "radialaxis": {
            "gridcolor": "white",
            "linecolor": "white",
            "ticks": ""
           }
          },
          "scene": {
           "xaxis": {
            "backgroundcolor": "#E5ECF6",
            "gridcolor": "white",
            "gridwidth": 2,
            "linecolor": "white",
            "showbackground": true,
            "ticks": "",
            "zerolinecolor": "white"
           },
           "yaxis": {
            "backgroundcolor": "#E5ECF6",
            "gridcolor": "white",
            "gridwidth": 2,
            "linecolor": "white",
            "showbackground": true,
            "ticks": "",
            "zerolinecolor": "white"
           },
           "zaxis": {
            "backgroundcolor": "#E5ECF6",
            "gridcolor": "white",
            "gridwidth": 2,
            "linecolor": "white",
            "showbackground": true,
            "ticks": "",
            "zerolinecolor": "white"
           }
          },
          "shapedefaults": {
           "line": {
            "color": "#2a3f5f"
           }
          },
          "ternary": {
           "aaxis": {
            "gridcolor": "white",
            "linecolor": "white",
            "ticks": ""
           },
           "baxis": {
            "gridcolor": "white",
            "linecolor": "white",
            "ticks": ""
           },
           "bgcolor": "#E5ECF6",
           "caxis": {
            "gridcolor": "white",
            "linecolor": "white",
            "ticks": ""
           }
          },
          "title": {
           "x": 0.05
          },
          "xaxis": {
           "automargin": true,
           "gridcolor": "white",
           "linecolor": "white",
           "ticks": "",
           "title": {
            "standoff": 15
           },
           "zerolinecolor": "white",
           "zerolinewidth": 2
          },
          "yaxis": {
           "automargin": true,
           "gridcolor": "white",
           "linecolor": "white",
           "ticks": "",
           "title": {
            "standoff": 15
           },
           "zerolinecolor": "white",
           "zerolinewidth": 2
          }
         }
        },
        "title": {
         "font": {
          "color": "#4D5663"
         }
        },
        "xaxis": {
         "gridcolor": "#E1E5ED",
         "showgrid": true,
         "tickfont": {
          "color": "#4D5663"
         },
         "title": {
          "font": {
           "color": "#4D5663"
          },
          "text": ""
         },
         "zerolinecolor": "#E1E5ED"
        },
        "yaxis": {
         "gridcolor": "#E1E5ED",
         "showgrid": true,
         "tickfont": {
          "color": "#4D5663"
         },
         "title": {
          "font": {
           "color": "#4D5663"
          },
          "text": ""
         },
         "zerolinecolor": "#E1E5ED"
        }
       }
      },
      "text/html": [
       "<div>                            <div id=\"39d891b7-075a-43eb-9dd5-4585287dbd16\" class=\"plotly-graph-div\" style=\"height:525px; width:100%;\"></div>            <script type=\"text/javascript\">                require([\"plotly\"], function(Plotly) {                    window.PLOTLYENV=window.PLOTLYENV || {};\n",
       "                    window.PLOTLYENV.BASE_URL='https://plot.ly';                                    if (document.getElementById(\"39d891b7-075a-43eb-9dd5-4585287dbd16\")) {                    Plotly.newPlot(                        \"39d891b7-075a-43eb-9dd5-4585287dbd16\",                        [{\"colorscale\":[[0.0,\"rgb(165,0,38)\"],[0.1,\"rgb(215,48,39)\"],[0.2,\"rgb(244,109,67)\"],[0.3,\"rgb(253,174,97)\"],[0.4,\"rgb(254,224,144)\"],[0.5,\"rgb(255,255,191)\"],[0.6,\"rgb(224,243,248)\"],[0.7,\"rgb(171,217,233)\"],[0.8,\"rgb(116,173,209)\"],[0.9,\"rgb(69,117,180)\"],[1.0,\"rgb(49,54,149)\"]],\"type\":\"surface\",\"x\":[0,1,2,3,4],\"y\":[\"x\",\"y\",\"z\"],\"z\":[[1,2,3,4,5],[10,20,30,20,10],[5,4,3,2,1]]}],                        {\"legend\":{\"bgcolor\":\"#F5F6F9\",\"font\":{\"color\":\"#4D5663\"}},\"paper_bgcolor\":\"#F5F6F9\",\"plot_bgcolor\":\"#F5F6F9\",\"template\":{\"data\":{\"bar\":[{\"error_x\":{\"color\":\"#2a3f5f\"},\"error_y\":{\"color\":\"#2a3f5f\"},\"marker\":{\"line\":{\"color\":\"#E5ECF6\",\"width\":0.5},\"pattern\":{\"fillmode\":\"overlay\",\"size\":10,\"solidity\":0.2}},\"type\":\"bar\"}],\"barpolar\":[{\"marker\":{\"line\":{\"color\":\"#E5ECF6\",\"width\":0.5},\"pattern\":{\"fillmode\":\"overlay\",\"size\":10,\"solidity\":0.2}},\"type\":\"barpolar\"}],\"carpet\":[{\"aaxis\":{\"endlinecolor\":\"#2a3f5f\",\"gridcolor\":\"white\",\"linecolor\":\"white\",\"minorgridcolor\":\"white\",\"startlinecolor\":\"#2a3f5f\"},\"baxis\":{\"endlinecolor\":\"#2a3f5f\",\"gridcolor\":\"white\",\"linecolor\":\"white\",\"minorgridcolor\":\"white\",\"startlinecolor\":\"#2a3f5f\"},\"type\":\"carpet\"}],\"choropleth\":[{\"colorbar\":{\"outlinewidth\":0,\"ticks\":\"\"},\"type\":\"choropleth\"}],\"contour\":[{\"colorbar\":{\"outlinewidth\":0,\"ticks\":\"\"},\"colorscale\":[[0.0,\"#0d0887\"],[0.1111111111111111,\"#46039f\"],[0.2222222222222222,\"#7201a8\"],[0.3333333333333333,\"#9c179e\"],[0.4444444444444444,\"#bd3786\"],[0.5555555555555556,\"#d8576b\"],[0.6666666666666666,\"#ed7953\"],[0.7777777777777778,\"#fb9f3a\"],[0.8888888888888888,\"#fdca26\"],[1.0,\"#f0f921\"]],\"type\":\"contour\"}],\"contourcarpet\":[{\"colorbar\":{\"outlinewidth\":0,\"ticks\":\"\"},\"type\":\"contourcarpet\"}],\"heatmap\":[{\"colorbar\":{\"outlinewidth\":0,\"ticks\":\"\"},\"colorscale\":[[0.0,\"#0d0887\"],[0.1111111111111111,\"#46039f\"],[0.2222222222222222,\"#7201a8\"],[0.3333333333333333,\"#9c179e\"],[0.4444444444444444,\"#bd3786\"],[0.5555555555555556,\"#d8576b\"],[0.6666666666666666,\"#ed7953\"],[0.7777777777777778,\"#fb9f3a\"],[0.8888888888888888,\"#fdca26\"],[1.0,\"#f0f921\"]],\"type\":\"heatmap\"}],\"heatmapgl\":[{\"colorbar\":{\"outlinewidth\":0,\"ticks\":\"\"},\"colorscale\":[[0.0,\"#0d0887\"],[0.1111111111111111,\"#46039f\"],[0.2222222222222222,\"#7201a8\"],[0.3333333333333333,\"#9c179e\"],[0.4444444444444444,\"#bd3786\"],[0.5555555555555556,\"#d8576b\"],[0.6666666666666666,\"#ed7953\"],[0.7777777777777778,\"#fb9f3a\"],[0.8888888888888888,\"#fdca26\"],[1.0,\"#f0f921\"]],\"type\":\"heatmapgl\"}],\"histogram\":[{\"marker\":{\"pattern\":{\"fillmode\":\"overlay\",\"size\":10,\"solidity\":0.2}},\"type\":\"histogram\"}],\"histogram2d\":[{\"colorbar\":{\"outlinewidth\":0,\"ticks\":\"\"},\"colorscale\":[[0.0,\"#0d0887\"],[0.1111111111111111,\"#46039f\"],[0.2222222222222222,\"#7201a8\"],[0.3333333333333333,\"#9c179e\"],[0.4444444444444444,\"#bd3786\"],[0.5555555555555556,\"#d8576b\"],[0.6666666666666666,\"#ed7953\"],[0.7777777777777778,\"#fb9f3a\"],[0.8888888888888888,\"#fdca26\"],[1.0,\"#f0f921\"]],\"type\":\"histogram2d\"}],\"histogram2dcontour\":[{\"colorbar\":{\"outlinewidth\":0,\"ticks\":\"\"},\"colorscale\":[[0.0,\"#0d0887\"],[0.1111111111111111,\"#46039f\"],[0.2222222222222222,\"#7201a8\"],[0.3333333333333333,\"#9c179e\"],[0.4444444444444444,\"#bd3786\"],[0.5555555555555556,\"#d8576b\"],[0.6666666666666666,\"#ed7953\"],[0.7777777777777778,\"#fb9f3a\"],[0.8888888888888888,\"#fdca26\"],[1.0,\"#f0f921\"]],\"type\":\"histogram2dcontour\"}],\"mesh3d\":[{\"colorbar\":{\"outlinewidth\":0,\"ticks\":\"\"},\"type\":\"mesh3d\"}],\"parcoords\":[{\"line\":{\"colorbar\":{\"outlinewidth\":0,\"ticks\":\"\"}},\"type\":\"parcoords\"}],\"pie\":[{\"automargin\":true,\"type\":\"pie\"}],\"scatter\":[{\"marker\":{\"colorbar\":{\"outlinewidth\":0,\"ticks\":\"\"}},\"type\":\"scatter\"}],\"scatter3d\":[{\"line\":{\"colorbar\":{\"outlinewidth\":0,\"ticks\":\"\"}},\"marker\":{\"colorbar\":{\"outlinewidth\":0,\"ticks\":\"\"}},\"type\":\"scatter3d\"}],\"scattercarpet\":[{\"marker\":{\"colorbar\":{\"outlinewidth\":0,\"ticks\":\"\"}},\"type\":\"scattercarpet\"}],\"scattergeo\":[{\"marker\":{\"colorbar\":{\"outlinewidth\":0,\"ticks\":\"\"}},\"type\":\"scattergeo\"}],\"scattergl\":[{\"marker\":{\"colorbar\":{\"outlinewidth\":0,\"ticks\":\"\"}},\"type\":\"scattergl\"}],\"scattermapbox\":[{\"marker\":{\"colorbar\":{\"outlinewidth\":0,\"ticks\":\"\"}},\"type\":\"scattermapbox\"}],\"scatterpolar\":[{\"marker\":{\"colorbar\":{\"outlinewidth\":0,\"ticks\":\"\"}},\"type\":\"scatterpolar\"}],\"scatterpolargl\":[{\"marker\":{\"colorbar\":{\"outlinewidth\":0,\"ticks\":\"\"}},\"type\":\"scatterpolargl\"}],\"scatterternary\":[{\"marker\":{\"colorbar\":{\"outlinewidth\":0,\"ticks\":\"\"}},\"type\":\"scatterternary\"}],\"surface\":[{\"colorbar\":{\"outlinewidth\":0,\"ticks\":\"\"},\"colorscale\":[[0.0,\"#0d0887\"],[0.1111111111111111,\"#46039f\"],[0.2222222222222222,\"#7201a8\"],[0.3333333333333333,\"#9c179e\"],[0.4444444444444444,\"#bd3786\"],[0.5555555555555556,\"#d8576b\"],[0.6666666666666666,\"#ed7953\"],[0.7777777777777778,\"#fb9f3a\"],[0.8888888888888888,\"#fdca26\"],[1.0,\"#f0f921\"]],\"type\":\"surface\"}],\"table\":[{\"cells\":{\"fill\":{\"color\":\"#EBF0F8\"},\"line\":{\"color\":\"white\"}},\"header\":{\"fill\":{\"color\":\"#C8D4E3\"},\"line\":{\"color\":\"white\"}},\"type\":\"table\"}]},\"layout\":{\"annotationdefaults\":{\"arrowcolor\":\"#2a3f5f\",\"arrowhead\":0,\"arrowwidth\":1},\"autotypenumbers\":\"strict\",\"coloraxis\":{\"colorbar\":{\"outlinewidth\":0,\"ticks\":\"\"}},\"colorscale\":{\"diverging\":[[0,\"#8e0152\"],[0.1,\"#c51b7d\"],[0.2,\"#de77ae\"],[0.3,\"#f1b6da\"],[0.4,\"#fde0ef\"],[0.5,\"#f7f7f7\"],[0.6,\"#e6f5d0\"],[0.7,\"#b8e186\"],[0.8,\"#7fbc41\"],[0.9,\"#4d9221\"],[1,\"#276419\"]],\"sequential\":[[0.0,\"#0d0887\"],[0.1111111111111111,\"#46039f\"],[0.2222222222222222,\"#7201a8\"],[0.3333333333333333,\"#9c179e\"],[0.4444444444444444,\"#bd3786\"],[0.5555555555555556,\"#d8576b\"],[0.6666666666666666,\"#ed7953\"],[0.7777777777777778,\"#fb9f3a\"],[0.8888888888888888,\"#fdca26\"],[1.0,\"#f0f921\"]],\"sequentialminus\":[[0.0,\"#0d0887\"],[0.1111111111111111,\"#46039f\"],[0.2222222222222222,\"#7201a8\"],[0.3333333333333333,\"#9c179e\"],[0.4444444444444444,\"#bd3786\"],[0.5555555555555556,\"#d8576b\"],[0.6666666666666666,\"#ed7953\"],[0.7777777777777778,\"#fb9f3a\"],[0.8888888888888888,\"#fdca26\"],[1.0,\"#f0f921\"]]},\"colorway\":[\"#636efa\",\"#EF553B\",\"#00cc96\",\"#ab63fa\",\"#FFA15A\",\"#19d3f3\",\"#FF6692\",\"#B6E880\",\"#FF97FF\",\"#FECB52\"],\"font\":{\"color\":\"#2a3f5f\"},\"geo\":{\"bgcolor\":\"white\",\"lakecolor\":\"white\",\"landcolor\":\"#E5ECF6\",\"showlakes\":true,\"showland\":true,\"subunitcolor\":\"white\"},\"hoverlabel\":{\"align\":\"left\"},\"hovermode\":\"closest\",\"mapbox\":{\"style\":\"light\"},\"paper_bgcolor\":\"white\",\"plot_bgcolor\":\"#E5ECF6\",\"polar\":{\"angularaxis\":{\"gridcolor\":\"white\",\"linecolor\":\"white\",\"ticks\":\"\"},\"bgcolor\":\"#E5ECF6\",\"radialaxis\":{\"gridcolor\":\"white\",\"linecolor\":\"white\",\"ticks\":\"\"}},\"scene\":{\"xaxis\":{\"backgroundcolor\":\"#E5ECF6\",\"gridcolor\":\"white\",\"gridwidth\":2,\"linecolor\":\"white\",\"showbackground\":true,\"ticks\":\"\",\"zerolinecolor\":\"white\"},\"yaxis\":{\"backgroundcolor\":\"#E5ECF6\",\"gridcolor\":\"white\",\"gridwidth\":2,\"linecolor\":\"white\",\"showbackground\":true,\"ticks\":\"\",\"zerolinecolor\":\"white\"},\"zaxis\":{\"backgroundcolor\":\"#E5ECF6\",\"gridcolor\":\"white\",\"gridwidth\":2,\"linecolor\":\"white\",\"showbackground\":true,\"ticks\":\"\",\"zerolinecolor\":\"white\"}},\"shapedefaults\":{\"line\":{\"color\":\"#2a3f5f\"}},\"ternary\":{\"aaxis\":{\"gridcolor\":\"white\",\"linecolor\":\"white\",\"ticks\":\"\"},\"baxis\":{\"gridcolor\":\"white\",\"linecolor\":\"white\",\"ticks\":\"\"},\"bgcolor\":\"#E5ECF6\",\"caxis\":{\"gridcolor\":\"white\",\"linecolor\":\"white\",\"ticks\":\"\"}},\"title\":{\"x\":0.05},\"xaxis\":{\"automargin\":true,\"gridcolor\":\"white\",\"linecolor\":\"white\",\"ticks\":\"\",\"title\":{\"standoff\":15},\"zerolinecolor\":\"white\",\"zerolinewidth\":2},\"yaxis\":{\"automargin\":true,\"gridcolor\":\"white\",\"linecolor\":\"white\",\"ticks\":\"\",\"title\":{\"standoff\":15},\"zerolinecolor\":\"white\",\"zerolinewidth\":2}}},\"title\":{\"font\":{\"color\":\"#4D5663\"}},\"xaxis\":{\"gridcolor\":\"#E1E5ED\",\"showgrid\":true,\"tickfont\":{\"color\":\"#4D5663\"},\"title\":{\"font\":{\"color\":\"#4D5663\"},\"text\":\"\"},\"zerolinecolor\":\"#E1E5ED\"},\"yaxis\":{\"gridcolor\":\"#E1E5ED\",\"showgrid\":true,\"tickfont\":{\"color\":\"#4D5663\"},\"title\":{\"font\":{\"color\":\"#4D5663\"},\"text\":\"\"},\"zerolinecolor\":\"#E1E5ED\"}},                        {\"showLink\": true, \"linkText\": \"Export to plot.ly\", \"plotlyServerURL\": \"https://plot.ly\", \"responsive\": true}                    ).then(function(){\n",
       "                            \n",
       "var gd = document.getElementById('39d891b7-075a-43eb-9dd5-4585287dbd16');\n",
       "var x = new MutationObserver(function (mutations, observer) {{\n",
       "        var display = window.getComputedStyle(gd).display;\n",
       "        if (!display || display === 'none') {{\n",
       "            console.log([gd, 'removed!']);\n",
       "            Plotly.purge(gd);\n",
       "            observer.disconnect();\n",
       "        }}\n",
       "}});\n",
       "\n",
       "// Listen for the removal of the full notebook cells\n",
       "var notebookContainer = gd.closest('#notebook-container');\n",
       "if (notebookContainer) {{\n",
       "    x.observe(notebookContainer, {childList: true});\n",
       "}}\n",
       "\n",
       "// Listen for the clearing of the current output cell\n",
       "var outputEl = gd.closest('.output');\n",
       "if (outputEl) {{\n",
       "    x.observe(outputEl, {childList: true});\n",
       "}}\n",
       "\n",
       "                        })                };                });            </script>        </div>"
      ]
     },
     "metadata": {},
     "output_type": "display_data"
    }
   ],
   "source": [
    "df3 = pd.DataFrame({'x':[1,2,3,4,5],'y':[10,20,30,20,10],'z':[5,4,3,2,1]})\n",
    "df3.iplot(kind='surface',colorscale='rdylbu')"
   ]
  },
  {
   "cell_type": "markdown",
   "metadata": {},
   "source": [
    "## Spread"
   ]
  },
  {
   "cell_type": "code",
   "execution_count": 27,
   "metadata": {},
   "outputs": [
    {
     "name": "stderr",
     "output_type": "stream",
     "text": [
      "/home/huuthang_at/.local/lib/python3.9/site-packages/cufflinks/plotlytools.py:849: FutureWarning:\n",
      "\n",
      "The pandas.np module is deprecated and will be removed from pandas in a future version. Import numpy directly instead\n",
      "\n",
      "/home/huuthang_at/.local/lib/python3.9/site-packages/cufflinks/plotlytools.py:850: FutureWarning:\n",
      "\n",
      "The pandas.np module is deprecated and will be removed from pandas in a future version. Import numpy directly instead\n",
      "\n"
     ]
    },
    {
     "data": {
      "application/vnd.plotly.v1+json": {
       "config": {
        "linkText": "Export to plot.ly",
        "plotlyServerURL": "https://plot.ly",
        "showLink": true
       },
       "data": [
        {
         "line": {
          "color": "rgba(255, 153, 51, 1.0)",
          "dash": "solid",
          "shape": "linear",
          "width": 1.3
         },
         "mode": "lines",
         "name": "A",
         "text": "",
         "type": "scatter",
         "x": [
          0,
          1,
          2,
          3,
          4,
          5,
          6,
          7,
          8,
          9,
          10,
          11,
          12,
          13,
          14,
          15,
          16,
          17,
          18,
          19,
          20,
          21,
          22,
          23,
          24,
          25,
          26,
          27,
          28,
          29,
          30,
          31,
          32,
          33,
          34,
          35,
          36,
          37,
          38,
          39,
          40,
          41,
          42,
          43,
          44,
          45,
          46,
          47,
          48,
          49,
          50,
          51,
          52,
          53,
          54,
          55,
          56,
          57,
          58,
          59,
          60,
          61,
          62,
          63,
          64,
          65,
          66,
          67,
          68,
          69,
          70,
          71,
          72,
          73,
          74,
          75,
          76,
          77,
          78,
          79,
          80,
          81,
          82,
          83,
          84,
          85,
          86,
          87,
          88,
          89,
          90,
          91,
          92,
          93,
          94,
          95,
          96,
          97,
          98,
          99
         ],
         "y": [
          -0.9059946344274774,
          -0.4228448892570872,
          0.32823669086437185,
          0.6558818756618977,
          -0.23279394393207223,
          0.6525595480366613,
          -1.6915425316219246,
          0.19774000582771878,
          0.2527613251803961,
          1.2212768041507416,
          -1.0510831617170036,
          -0.7793914985082284,
          0.806056944934075,
          -0.6311019866196699,
          0.934877974567317,
          0.16080341281909977,
          -0.26044787101587635,
          -1.1189492025341188,
          0.9314131210571004,
          1.637803872997042,
          0.6740388916031278,
          1.0131855330251243,
          1.0735801831928784,
          0.937155505884544,
          -0.9383642090609543,
          -1.4125546602473755,
          -1.3961261570716632,
          1.4624065012532907,
          1.5085679801507355,
          0.37384897602131767,
          0.14589136140687492,
          -0.23095768454721793,
          -2.3629173679389783,
          0.25331855988772656,
          -0.3115860491141523,
          -0.3030080296653969,
          0.8976458438423921,
          -0.22670266681646012,
          0.41600691876623586,
          0.44298800896287893,
          0.48238892353758295,
          2.8740147943888767,
          1.2137085672267414,
          -0.5078538839778108,
          0.2712852957322795,
          0.48451943108122075,
          0.7602644879314184,
          1.066266090804438,
          -0.7210114083722396,
          0.32916613351098817,
          0.21287846776990083,
          1.3120634164376894,
          1.4845215944923633,
          1.2118529866244876,
          -0.35062596725697137,
          1.4679054114460215,
          0.5946197808733853,
          0.7653928202932211,
          0.502620298066773,
          -0.4655955727577539,
          -0.7795213169381651,
          -0.5835420380031595,
          0.581868964354893,
          -0.8446734086931094,
          -0.6104474804218408,
          -0.49453527742225606,
          0.03616565350186925,
          1.677717127944498,
          -0.13111115072431645,
          0.35354551803517,
          -1.1395729739401037,
          1.087329072160173,
          1.9901243821040628,
          1.4587485333823857,
          0.5863304514720385,
          -1.72328053440473,
          -0.33482969209209335,
          -0.5675569496541126,
          -0.7552568197099411,
          0.984241478144492,
          0.5130936566082164,
          1.007047428091453,
          -0.25229733785962855,
          -1.0765534930300449,
          -1.0836901842430446,
          1.251316893181913,
          -0.061947611188396756,
          -1.5090608602782263,
          0.5407038713008661,
          -0.7598080181281253,
          -2.24033822867379,
          -1.025455849018686,
          -0.6449593030755074,
          -2.3407345468245557,
          1.9319811029535663,
          0.44323959373215516,
          -0.3715898916904119,
          0.7183414221195205,
          0.9328345702391438,
          0.7111546819960841
         ]
        },
        {
         "line": {
          "color": "rgba(55, 128, 191, 1.0)",
          "dash": "solid",
          "shape": "linear",
          "width": 1.3
         },
         "mode": "lines",
         "name": "B",
         "text": "",
         "type": "scatter",
         "x": [
          0,
          1,
          2,
          3,
          4,
          5,
          6,
          7,
          8,
          9,
          10,
          11,
          12,
          13,
          14,
          15,
          16,
          17,
          18,
          19,
          20,
          21,
          22,
          23,
          24,
          25,
          26,
          27,
          28,
          29,
          30,
          31,
          32,
          33,
          34,
          35,
          36,
          37,
          38,
          39,
          40,
          41,
          42,
          43,
          44,
          45,
          46,
          47,
          48,
          49,
          50,
          51,
          52,
          53,
          54,
          55,
          56,
          57,
          58,
          59,
          60,
          61,
          62,
          63,
          64,
          65,
          66,
          67,
          68,
          69,
          70,
          71,
          72,
          73,
          74,
          75,
          76,
          77,
          78,
          79,
          80,
          81,
          82,
          83,
          84,
          85,
          86,
          87,
          88,
          89,
          90,
          91,
          92,
          93,
          94,
          95,
          96,
          97,
          98,
          99
         ],
         "y": [
          0.39809897088173535,
          -0.14652925480192855,
          0.9857309327643848,
          -0.8247877220344356,
          -0.7171326813869001,
          0.27152193419855913,
          -0.14087040880362503,
          -0.0890924278317126,
          1.3250570353670188,
          0.09866929384221915,
          -1.456511319329652,
          -1.6257292208567193,
          -0.6674107831292494,
          0.3811991927832541,
          -0.5464922895705291,
          -3.162439502735584,
          -0.658820338868281,
          0.7721719856870062,
          -0.3171154031995474,
          -1.0020734777415063,
          -0.02659884375709406,
          1.4254056731396323,
          0.6836421842787477,
          -0.9772538796145454,
          1.179589205909156,
          0.5452437251135169,
          0.9451720539792436,
          -0.5674693547604166,
          -1.9367879178372351,
          0.09939863026944817,
          0.3788358260021555,
          -0.12359656382636455,
          -0.38458928359784156,
          -0.13612423713165192,
          -0.20220123127288567,
          -0.057722094925038374,
          -0.4215960142227496,
          -1.1817887527339672,
          -0.6820955787736707,
          0.54268553457587,
          2.269274538955471,
          1.399616365283778,
          0.39919861740985063,
          -0.7429824032412617,
          -0.5579151083162384,
          0.49856107072948636,
          -0.6122498520456356,
          -0.5196819457867476,
          0.6580335477597211,
          -1.4453404736418463,
          -1.0683326326666698,
          1.7800123892054036,
          0.33842572157581263,
          1.084922008912415,
          0.710339271478755,
          0.12105239058331187,
          -0.8509752427452628,
          -1.3491238864126032,
          -1.8598394510153693,
          -1.0659054118800213,
          1.3236350429577803,
          0.5444277023592253,
          -0.6727411628076259,
          -0.018547264192752825,
          -0.8071229564449062,
          0.33751660203866807,
          0.1881745849663572,
          0.12260492122922247,
          0.30615558365396084,
          1.2458146238905483,
          1.7110470711557848,
          -0.4800976041892355,
          2.221328091101082,
          0.34503964151741096,
          1.3888534612108372,
          -0.6121543897912833,
          1.5135232133398413,
          0.3550466399495089,
          -0.5125535379885994,
          -0.8684090756031528,
          -0.0880389921588798,
          1.5107179811616,
          -0.07874484690047716,
          -0.5389501748212824,
          0.7535046636019881,
          -0.5600026707788827,
          -0.3110571605343825,
          0.6306288933906005,
          -0.12702949524031082,
          -0.5299579481574125,
          -0.2319476324342638,
          1.1584607557786735,
          -1.5686875302712062,
          0.06172482147957937,
          -0.6198455475019047,
          -2.0770439203968674,
          0.09306099403907173,
          -0.45720135238549225,
          -0.30414649191620025,
          0.03513373986031923
         ]
        },
        {
         "connectgaps": false,
         "fill": "tozeroy",
         "line": {
          "color": "green",
          "dash": "solid",
          "shape": "linear",
          "width": 0.5
         },
         "mode": "lines",
         "name": "Spread",
         "showlegend": false,
         "type": "scatter",
         "x": [
          0,
          1,
          2,
          3,
          4,
          5,
          6,
          7,
          8,
          9,
          10,
          11,
          12,
          13,
          14,
          15,
          16,
          17,
          18,
          19,
          20,
          21,
          22,
          23,
          24,
          25,
          26,
          27,
          28,
          29,
          30,
          31,
          32,
          33,
          34,
          35,
          36,
          37,
          38,
          39,
          40,
          41,
          42,
          43,
          44,
          45,
          46,
          47,
          48,
          49,
          50,
          51,
          52,
          53,
          54,
          55,
          56,
          57,
          58,
          59,
          60,
          61,
          62,
          63,
          64,
          65,
          66,
          67,
          68,
          69,
          70,
          71,
          72,
          73,
          74,
          75,
          76,
          77,
          78,
          79,
          80,
          81,
          82,
          83,
          84,
          85,
          86,
          87,
          88,
          89,
          90,
          91,
          92,
          93,
          94,
          95,
          96,
          97,
          98,
          99
         ],
         "xaxis": "x2",
         "y": [
          "",
          "",
          "",
          1.4806695976963333,
          0.4843387374548279,
          0.38103761383810214,
          "",
          0.2868324336594314,
          "",
          1.1226075103085225,
          0.4054281576126484,
          0.8463377223484909,
          1.4734677280633244,
          "",
          1.4813702641378461,
          3.3232429155546837,
          0.3983724678524046,
          "",
          1.2485285242566477,
          2.6398773507385487,
          0.7006377353602219,
          "",
          0.3899379989141307,
          1.9144093854990893,
          "",
          "",
          "",
          2.0298758560137076,
          3.4453558979879704,
          0.2744503457518695,
          "",
          "",
          "",
          0.38944279701937845,
          "",
          "",
          1.3192418580651417,
          0.9550860859175071,
          1.0981024975399065,
          "",
          "",
          1.4743984291050987,
          0.8145099498168907,
          0.2351285192634509,
          0.8292004040485179,
          "",
          1.372514339977054,
          1.5859480365911856,
          "",
          1.7745066071528344,
          1.2812111004365705,
          "",
          1.1460958729165507,
          0.12693097771207262,
          "",
          1.3468530208627096,
          1.4455950236186481,
          2.114516706705824,
          2.3624597490821424,
          0.6003098391222674,
          "",
          "",
          1.2546101271625187,
          "",
          0.19667547602306534,
          "",
          "",
          1.5551122067152756,
          "",
          "",
          "",
          1.5674266763494085,
          "",
          1.1137088918649747,
          "",
          "",
          "",
          "",
          "",
          1.8526505537476448,
          0.6011326487670962,
          "",
          "",
          "",
          "",
          1.8113195639607955,
          0.24910954934598573,
          "",
          0.6677333665411769,
          "",
          "",
          "",
          0.9237282271956988,
          "",
          2.551826650455471,
          2.5202835141290225,
          "",
          1.1755427745050127,
          1.236981062155344,
          0.6760209421357649
         ],
         "yaxis": "y2"
        },
        {
         "connectgaps": false,
         "fill": "tozeroy",
         "line": {
          "color": "red",
          "dash": "solid",
          "shape": "linear",
          "width": 0.5
         },
         "mode": "lines",
         "name": "Spread",
         "showlegend": false,
         "type": "scatter",
         "x": [
          0,
          1,
          2,
          3,
          4,
          5,
          6,
          7,
          8,
          9,
          10,
          11,
          12,
          13,
          14,
          15,
          16,
          17,
          18,
          19,
          20,
          21,
          22,
          23,
          24,
          25,
          26,
          27,
          28,
          29,
          30,
          31,
          32,
          33,
          34,
          35,
          36,
          37,
          38,
          39,
          40,
          41,
          42,
          43,
          44,
          45,
          46,
          47,
          48,
          49,
          50,
          51,
          52,
          53,
          54,
          55,
          56,
          57,
          58,
          59,
          60,
          61,
          62,
          63,
          64,
          65,
          66,
          67,
          68,
          69,
          70,
          71,
          72,
          73,
          74,
          75,
          76,
          77,
          78,
          79,
          80,
          81,
          82,
          83,
          84,
          85,
          86,
          87,
          88,
          89,
          90,
          91,
          92,
          93,
          94,
          95,
          96,
          97,
          98,
          99
         ],
         "xaxis": "x2",
         "y": [
          -1.3040936053092127,
          -0.2763156344551586,
          -0.6574942419000129,
          "",
          "",
          "",
          -1.5506721228182996,
          "",
          -1.0722957101866226,
          "",
          "",
          "",
          "",
          -1.012301179402924,
          "",
          "",
          "",
          -1.891121188221125,
          "",
          "",
          "",
          -0.412220140114508,
          "",
          "",
          -2.1179534149701102,
          -1.9577983853608925,
          -2.3412982110509066,
          "",
          "",
          "",
          -0.23294446459528056,
          -0.10736112072085338,
          -1.9783280843411368,
          "",
          -0.10938481784126661,
          -0.24528593474035854,
          "",
          "",
          "",
          -0.09969752561299106,
          -1.7868856154178883,
          "",
          "",
          "",
          "",
          -0.014041639648265603,
          "",
          "",
          -1.3790449561319607,
          "",
          "",
          -0.4679489727677142,
          "",
          "",
          -1.0609652387357262,
          "",
          "",
          "",
          "",
          "",
          -2.1031563598959453,
          -1.127969740362385,
          "",
          -0.8261261445003565,
          "",
          -0.8320518794609242,
          -0.15200893146448796,
          "",
          -0.4372667343782773,
          -0.8922691058553783,
          -2.8506200450958885,
          "",
          -0.23120370899701914,
          "",
          -0.8025230097387986,
          -1.1111261446134466,
          -1.8483529054319345,
          -0.9226035896036215,
          -0.2427032817213417,
          "",
          "",
          -0.5036705530701471,
          -0.17355249095915137,
          -0.5376033182087625,
          -1.8371948478450326,
          "",
          "",
          -2.1396897536688266,
          "",
          -0.22985006997071278,
          -2.008390596239526,
          -2.1839166047973597,
          "",
          -2.402459368304135,
          "",
          "",
          -0.46465088572948365,
          "",
          "",
          ""
         ],
         "yaxis": "y2"
        }
       ],
       "layout": {
        "hovermode": "x",
        "legend": {
         "bgcolor": "#F5F6F9",
         "font": {
          "color": "#4D5663"
         }
        },
        "paper_bgcolor": "#F5F6F9",
        "plot_bgcolor": "#F5F6F9",
        "template": {
         "data": {
          "bar": [
           {
            "error_x": {
             "color": "#2a3f5f"
            },
            "error_y": {
             "color": "#2a3f5f"
            },
            "marker": {
             "line": {
              "color": "#E5ECF6",
              "width": 0.5
             },
             "pattern": {
              "fillmode": "overlay",
              "size": 10,
              "solidity": 0.2
             }
            },
            "type": "bar"
           }
          ],
          "barpolar": [
           {
            "marker": {
             "line": {
              "color": "#E5ECF6",
              "width": 0.5
             },
             "pattern": {
              "fillmode": "overlay",
              "size": 10,
              "solidity": 0.2
             }
            },
            "type": "barpolar"
           }
          ],
          "carpet": [
           {
            "aaxis": {
             "endlinecolor": "#2a3f5f",
             "gridcolor": "white",
             "linecolor": "white",
             "minorgridcolor": "white",
             "startlinecolor": "#2a3f5f"
            },
            "baxis": {
             "endlinecolor": "#2a3f5f",
             "gridcolor": "white",
             "linecolor": "white",
             "minorgridcolor": "white",
             "startlinecolor": "#2a3f5f"
            },
            "type": "carpet"
           }
          ],
          "choropleth": [
           {
            "colorbar": {
             "outlinewidth": 0,
             "ticks": ""
            },
            "type": "choropleth"
           }
          ],
          "contour": [
           {
            "colorbar": {
             "outlinewidth": 0,
             "ticks": ""
            },
            "colorscale": [
             [
              0,
              "#0d0887"
             ],
             [
              0.1111111111111111,
              "#46039f"
             ],
             [
              0.2222222222222222,
              "#7201a8"
             ],
             [
              0.3333333333333333,
              "#9c179e"
             ],
             [
              0.4444444444444444,
              "#bd3786"
             ],
             [
              0.5555555555555556,
              "#d8576b"
             ],
             [
              0.6666666666666666,
              "#ed7953"
             ],
             [
              0.7777777777777778,
              "#fb9f3a"
             ],
             [
              0.8888888888888888,
              "#fdca26"
             ],
             [
              1,
              "#f0f921"
             ]
            ],
            "type": "contour"
           }
          ],
          "contourcarpet": [
           {
            "colorbar": {
             "outlinewidth": 0,
             "ticks": ""
            },
            "type": "contourcarpet"
           }
          ],
          "heatmap": [
           {
            "colorbar": {
             "outlinewidth": 0,
             "ticks": ""
            },
            "colorscale": [
             [
              0,
              "#0d0887"
             ],
             [
              0.1111111111111111,
              "#46039f"
             ],
             [
              0.2222222222222222,
              "#7201a8"
             ],
             [
              0.3333333333333333,
              "#9c179e"
             ],
             [
              0.4444444444444444,
              "#bd3786"
             ],
             [
              0.5555555555555556,
              "#d8576b"
             ],
             [
              0.6666666666666666,
              "#ed7953"
             ],
             [
              0.7777777777777778,
              "#fb9f3a"
             ],
             [
              0.8888888888888888,
              "#fdca26"
             ],
             [
              1,
              "#f0f921"
             ]
            ],
            "type": "heatmap"
           }
          ],
          "heatmapgl": [
           {
            "colorbar": {
             "outlinewidth": 0,
             "ticks": ""
            },
            "colorscale": [
             [
              0,
              "#0d0887"
             ],
             [
              0.1111111111111111,
              "#46039f"
             ],
             [
              0.2222222222222222,
              "#7201a8"
             ],
             [
              0.3333333333333333,
              "#9c179e"
             ],
             [
              0.4444444444444444,
              "#bd3786"
             ],
             [
              0.5555555555555556,
              "#d8576b"
             ],
             [
              0.6666666666666666,
              "#ed7953"
             ],
             [
              0.7777777777777778,
              "#fb9f3a"
             ],
             [
              0.8888888888888888,
              "#fdca26"
             ],
             [
              1,
              "#f0f921"
             ]
            ],
            "type": "heatmapgl"
           }
          ],
          "histogram": [
           {
            "marker": {
             "pattern": {
              "fillmode": "overlay",
              "size": 10,
              "solidity": 0.2
             }
            },
            "type": "histogram"
           }
          ],
          "histogram2d": [
           {
            "colorbar": {
             "outlinewidth": 0,
             "ticks": ""
            },
            "colorscale": [
             [
              0,
              "#0d0887"
             ],
             [
              0.1111111111111111,
              "#46039f"
             ],
             [
              0.2222222222222222,
              "#7201a8"
             ],
             [
              0.3333333333333333,
              "#9c179e"
             ],
             [
              0.4444444444444444,
              "#bd3786"
             ],
             [
              0.5555555555555556,
              "#d8576b"
             ],
             [
              0.6666666666666666,
              "#ed7953"
             ],
             [
              0.7777777777777778,
              "#fb9f3a"
             ],
             [
              0.8888888888888888,
              "#fdca26"
             ],
             [
              1,
              "#f0f921"
             ]
            ],
            "type": "histogram2d"
           }
          ],
          "histogram2dcontour": [
           {
            "colorbar": {
             "outlinewidth": 0,
             "ticks": ""
            },
            "colorscale": [
             [
              0,
              "#0d0887"
             ],
             [
              0.1111111111111111,
              "#46039f"
             ],
             [
              0.2222222222222222,
              "#7201a8"
             ],
             [
              0.3333333333333333,
              "#9c179e"
             ],
             [
              0.4444444444444444,
              "#bd3786"
             ],
             [
              0.5555555555555556,
              "#d8576b"
             ],
             [
              0.6666666666666666,
              "#ed7953"
             ],
             [
              0.7777777777777778,
              "#fb9f3a"
             ],
             [
              0.8888888888888888,
              "#fdca26"
             ],
             [
              1,
              "#f0f921"
             ]
            ],
            "type": "histogram2dcontour"
           }
          ],
          "mesh3d": [
           {
            "colorbar": {
             "outlinewidth": 0,
             "ticks": ""
            },
            "type": "mesh3d"
           }
          ],
          "parcoords": [
           {
            "line": {
             "colorbar": {
              "outlinewidth": 0,
              "ticks": ""
             }
            },
            "type": "parcoords"
           }
          ],
          "pie": [
           {
            "automargin": true,
            "type": "pie"
           }
          ],
          "scatter": [
           {
            "marker": {
             "colorbar": {
              "outlinewidth": 0,
              "ticks": ""
             }
            },
            "type": "scatter"
           }
          ],
          "scatter3d": [
           {
            "line": {
             "colorbar": {
              "outlinewidth": 0,
              "ticks": ""
             }
            },
            "marker": {
             "colorbar": {
              "outlinewidth": 0,
              "ticks": ""
             }
            },
            "type": "scatter3d"
           }
          ],
          "scattercarpet": [
           {
            "marker": {
             "colorbar": {
              "outlinewidth": 0,
              "ticks": ""
             }
            },
            "type": "scattercarpet"
           }
          ],
          "scattergeo": [
           {
            "marker": {
             "colorbar": {
              "outlinewidth": 0,
              "ticks": ""
             }
            },
            "type": "scattergeo"
           }
          ],
          "scattergl": [
           {
            "marker": {
             "colorbar": {
              "outlinewidth": 0,
              "ticks": ""
             }
            },
            "type": "scattergl"
           }
          ],
          "scattermapbox": [
           {
            "marker": {
             "colorbar": {
              "outlinewidth": 0,
              "ticks": ""
             }
            },
            "type": "scattermapbox"
           }
          ],
          "scatterpolar": [
           {
            "marker": {
             "colorbar": {
              "outlinewidth": 0,
              "ticks": ""
             }
            },
            "type": "scatterpolar"
           }
          ],
          "scatterpolargl": [
           {
            "marker": {
             "colorbar": {
              "outlinewidth": 0,
              "ticks": ""
             }
            },
            "type": "scatterpolargl"
           }
          ],
          "scatterternary": [
           {
            "marker": {
             "colorbar": {
              "outlinewidth": 0,
              "ticks": ""
             }
            },
            "type": "scatterternary"
           }
          ],
          "surface": [
           {
            "colorbar": {
             "outlinewidth": 0,
             "ticks": ""
            },
            "colorscale": [
             [
              0,
              "#0d0887"
             ],
             [
              0.1111111111111111,
              "#46039f"
             ],
             [
              0.2222222222222222,
              "#7201a8"
             ],
             [
              0.3333333333333333,
              "#9c179e"
             ],
             [
              0.4444444444444444,
              "#bd3786"
             ],
             [
              0.5555555555555556,
              "#d8576b"
             ],
             [
              0.6666666666666666,
              "#ed7953"
             ],
             [
              0.7777777777777778,
              "#fb9f3a"
             ],
             [
              0.8888888888888888,
              "#fdca26"
             ],
             [
              1,
              "#f0f921"
             ]
            ],
            "type": "surface"
           }
          ],
          "table": [
           {
            "cells": {
             "fill": {
              "color": "#EBF0F8"
             },
             "line": {
              "color": "white"
             }
            },
            "header": {
             "fill": {
              "color": "#C8D4E3"
             },
             "line": {
              "color": "white"
             }
            },
            "type": "table"
           }
          ]
         },
         "layout": {
          "annotationdefaults": {
           "arrowcolor": "#2a3f5f",
           "arrowhead": 0,
           "arrowwidth": 1
          },
          "autotypenumbers": "strict",
          "coloraxis": {
           "colorbar": {
            "outlinewidth": 0,
            "ticks": ""
           }
          },
          "colorscale": {
           "diverging": [
            [
             0,
             "#8e0152"
            ],
            [
             0.1,
             "#c51b7d"
            ],
            [
             0.2,
             "#de77ae"
            ],
            [
             0.3,
             "#f1b6da"
            ],
            [
             0.4,
             "#fde0ef"
            ],
            [
             0.5,
             "#f7f7f7"
            ],
            [
             0.6,
             "#e6f5d0"
            ],
            [
             0.7,
             "#b8e186"
            ],
            [
             0.8,
             "#7fbc41"
            ],
            [
             0.9,
             "#4d9221"
            ],
            [
             1,
             "#276419"
            ]
           ],
           "sequential": [
            [
             0,
             "#0d0887"
            ],
            [
             0.1111111111111111,
             "#46039f"
            ],
            [
             0.2222222222222222,
             "#7201a8"
            ],
            [
             0.3333333333333333,
             "#9c179e"
            ],
            [
             0.4444444444444444,
             "#bd3786"
            ],
            [
             0.5555555555555556,
             "#d8576b"
            ],
            [
             0.6666666666666666,
             "#ed7953"
            ],
            [
             0.7777777777777778,
             "#fb9f3a"
            ],
            [
             0.8888888888888888,
             "#fdca26"
            ],
            [
             1,
             "#f0f921"
            ]
           ],
           "sequentialminus": [
            [
             0,
             "#0d0887"
            ],
            [
             0.1111111111111111,
             "#46039f"
            ],
            [
             0.2222222222222222,
             "#7201a8"
            ],
            [
             0.3333333333333333,
             "#9c179e"
            ],
            [
             0.4444444444444444,
             "#bd3786"
            ],
            [
             0.5555555555555556,
             "#d8576b"
            ],
            [
             0.6666666666666666,
             "#ed7953"
            ],
            [
             0.7777777777777778,
             "#fb9f3a"
            ],
            [
             0.8888888888888888,
             "#fdca26"
            ],
            [
             1,
             "#f0f921"
            ]
           ]
          },
          "colorway": [
           "#636efa",
           "#EF553B",
           "#00cc96",
           "#ab63fa",
           "#FFA15A",
           "#19d3f3",
           "#FF6692",
           "#B6E880",
           "#FF97FF",
           "#FECB52"
          ],
          "font": {
           "color": "#2a3f5f"
          },
          "geo": {
           "bgcolor": "white",
           "lakecolor": "white",
           "landcolor": "#E5ECF6",
           "showlakes": true,
           "showland": true,
           "subunitcolor": "white"
          },
          "hoverlabel": {
           "align": "left"
          },
          "hovermode": "closest",
          "mapbox": {
           "style": "light"
          },
          "paper_bgcolor": "white",
          "plot_bgcolor": "#E5ECF6",
          "polar": {
           "angularaxis": {
            "gridcolor": "white",
            "linecolor": "white",
            "ticks": ""
           },
           "bgcolor": "#E5ECF6",
           "radialaxis": {
            "gridcolor": "white",
            "linecolor": "white",
            "ticks": ""
           }
          },
          "scene": {
           "xaxis": {
            "backgroundcolor": "#E5ECF6",
            "gridcolor": "white",
            "gridwidth": 2,
            "linecolor": "white",
            "showbackground": true,
            "ticks": "",
            "zerolinecolor": "white"
           },
           "yaxis": {
            "backgroundcolor": "#E5ECF6",
            "gridcolor": "white",
            "gridwidth": 2,
            "linecolor": "white",
            "showbackground": true,
            "ticks": "",
            "zerolinecolor": "white"
           },
           "zaxis": {
            "backgroundcolor": "#E5ECF6",
            "gridcolor": "white",
            "gridwidth": 2,
            "linecolor": "white",
            "showbackground": true,
            "ticks": "",
            "zerolinecolor": "white"
           }
          },
          "shapedefaults": {
           "line": {
            "color": "#2a3f5f"
           }
          },
          "ternary": {
           "aaxis": {
            "gridcolor": "white",
            "linecolor": "white",
            "ticks": ""
           },
           "baxis": {
            "gridcolor": "white",
            "linecolor": "white",
            "ticks": ""
           },
           "bgcolor": "#E5ECF6",
           "caxis": {
            "gridcolor": "white",
            "linecolor": "white",
            "ticks": ""
           }
          },
          "title": {
           "x": 0.05
          },
          "xaxis": {
           "automargin": true,
           "gridcolor": "white",
           "linecolor": "white",
           "ticks": "",
           "title": {
            "standoff": 15
           },
           "zerolinecolor": "white",
           "zerolinewidth": 2
          },
          "yaxis": {
           "automargin": true,
           "gridcolor": "white",
           "linecolor": "white",
           "ticks": "",
           "title": {
            "standoff": 15
           },
           "zerolinecolor": "white",
           "zerolinewidth": 2
          }
         }
        },
        "title": {
         "font": {
          "color": "#4D5663"
         }
        },
        "xaxis": {
         "gridcolor": "#E1E5ED",
         "showgrid": true,
         "tickfont": {
          "color": "#4D5663"
         },
         "title": {
          "font": {
           "color": "#4D5663"
          },
          "text": ""
         },
         "zerolinecolor": "#E1E5ED"
        },
        "xaxis2": {
         "anchor": "y2",
         "gridcolor": "#E1E5ED",
         "showgrid": true,
         "showticklabels": false,
         "tickfont": {
          "color": "#4D5663"
         },
         "title": {
          "font": {
           "color": "#4D5663"
          },
          "text": ""
         },
         "zerolinecolor": "#E1E5ED"
        },
        "yaxis": {
         "domain": [
          0.3,
          1
         ],
         "gridcolor": "#E1E5ED",
         "showgrid": true,
         "tickfont": {
          "color": "#4D5663"
         },
         "title": {
          "font": {
           "color": "#4D5663"
          },
          "text": ""
         },
         "zerolinecolor": "#E1E5ED"
        },
        "yaxis2": {
         "domain": [
          0,
          0.25
         ],
         "gridcolor": "#E1E5ED",
         "showgrid": true,
         "tickfont": {
          "color": "#4D5663"
         },
         "title": {
          "font": {
           "color": "#4D5663"
          },
          "text": "Spread"
         },
         "zerolinecolor": "#E1E5ED"
        }
       }
      },
      "text/html": [
       "<div>                            <div id=\"71f7a95d-a637-4d81-ab58-f1a577d748ee\" class=\"plotly-graph-div\" style=\"height:525px; width:100%;\"></div>            <script type=\"text/javascript\">                require([\"plotly\"], function(Plotly) {                    window.PLOTLYENV=window.PLOTLYENV || {};\n",
       "                    window.PLOTLYENV.BASE_URL='https://plot.ly';                                    if (document.getElementById(\"71f7a95d-a637-4d81-ab58-f1a577d748ee\")) {                    Plotly.newPlot(                        \"71f7a95d-a637-4d81-ab58-f1a577d748ee\",                        [{\"line\":{\"color\":\"rgba(255, 153, 51, 1.0)\",\"dash\":\"solid\",\"shape\":\"linear\",\"width\":1.3},\"mode\":\"lines\",\"name\":\"A\",\"text\":\"\",\"type\":\"scatter\",\"x\":[0,1,2,3,4,5,6,7,8,9,10,11,12,13,14,15,16,17,18,19,20,21,22,23,24,25,26,27,28,29,30,31,32,33,34,35,36,37,38,39,40,41,42,43,44,45,46,47,48,49,50,51,52,53,54,55,56,57,58,59,60,61,62,63,64,65,66,67,68,69,70,71,72,73,74,75,76,77,78,79,80,81,82,83,84,85,86,87,88,89,90,91,92,93,94,95,96,97,98,99],\"y\":[-0.9059946344274774,-0.4228448892570872,0.32823669086437185,0.6558818756618977,-0.23279394393207223,0.6525595480366613,-1.6915425316219246,0.19774000582771878,0.2527613251803961,1.2212768041507416,-1.0510831617170036,-0.7793914985082284,0.806056944934075,-0.6311019866196699,0.934877974567317,0.16080341281909977,-0.26044787101587635,-1.1189492025341188,0.9314131210571004,1.637803872997042,0.6740388916031278,1.0131855330251243,1.0735801831928784,0.937155505884544,-0.9383642090609543,-1.4125546602473755,-1.3961261570716632,1.4624065012532907,1.5085679801507355,0.37384897602131767,0.14589136140687492,-0.23095768454721793,-2.3629173679389783,0.25331855988772656,-0.3115860491141523,-0.3030080296653969,0.8976458438423921,-0.22670266681646012,0.41600691876623586,0.44298800896287893,0.48238892353758295,2.8740147943888767,1.2137085672267414,-0.5078538839778108,0.2712852957322795,0.48451943108122075,0.7602644879314184,1.066266090804438,-0.7210114083722396,0.32916613351098817,0.21287846776990083,1.3120634164376894,1.4845215944923633,1.2118529866244876,-0.35062596725697137,1.4679054114460215,0.5946197808733853,0.7653928202932211,0.502620298066773,-0.4655955727577539,-0.7795213169381651,-0.5835420380031595,0.581868964354893,-0.8446734086931094,-0.6104474804218408,-0.49453527742225606,0.03616565350186925,1.677717127944498,-0.13111115072431645,0.35354551803517,-1.1395729739401037,1.087329072160173,1.9901243821040628,1.4587485333823857,0.5863304514720385,-1.72328053440473,-0.33482969209209335,-0.5675569496541126,-0.7552568197099411,0.984241478144492,0.5130936566082164,1.007047428091453,-0.25229733785962855,-1.0765534930300449,-1.0836901842430446,1.251316893181913,-0.061947611188396756,-1.5090608602782263,0.5407038713008661,-0.7598080181281253,-2.24033822867379,-1.025455849018686,-0.6449593030755074,-2.3407345468245557,1.9319811029535663,0.44323959373215516,-0.3715898916904119,0.7183414221195205,0.9328345702391438,0.7111546819960841]},{\"line\":{\"color\":\"rgba(55, 128, 191, 1.0)\",\"dash\":\"solid\",\"shape\":\"linear\",\"width\":1.3},\"mode\":\"lines\",\"name\":\"B\",\"text\":\"\",\"type\":\"scatter\",\"x\":[0,1,2,3,4,5,6,7,8,9,10,11,12,13,14,15,16,17,18,19,20,21,22,23,24,25,26,27,28,29,30,31,32,33,34,35,36,37,38,39,40,41,42,43,44,45,46,47,48,49,50,51,52,53,54,55,56,57,58,59,60,61,62,63,64,65,66,67,68,69,70,71,72,73,74,75,76,77,78,79,80,81,82,83,84,85,86,87,88,89,90,91,92,93,94,95,96,97,98,99],\"y\":[0.39809897088173535,-0.14652925480192855,0.9857309327643848,-0.8247877220344356,-0.7171326813869001,0.27152193419855913,-0.14087040880362503,-0.0890924278317126,1.3250570353670188,0.09866929384221915,-1.456511319329652,-1.6257292208567193,-0.6674107831292494,0.3811991927832541,-0.5464922895705291,-3.162439502735584,-0.658820338868281,0.7721719856870062,-0.3171154031995474,-1.0020734777415063,-0.02659884375709406,1.4254056731396323,0.6836421842787477,-0.9772538796145454,1.179589205909156,0.5452437251135169,0.9451720539792436,-0.5674693547604166,-1.9367879178372351,0.09939863026944817,0.3788358260021555,-0.12359656382636455,-0.38458928359784156,-0.13612423713165192,-0.20220123127288567,-0.057722094925038374,-0.4215960142227496,-1.1817887527339672,-0.6820955787736707,0.54268553457587,2.269274538955471,1.399616365283778,0.39919861740985063,-0.7429824032412617,-0.5579151083162384,0.49856107072948636,-0.6122498520456356,-0.5196819457867476,0.6580335477597211,-1.4453404736418463,-1.0683326326666698,1.7800123892054036,0.33842572157581263,1.084922008912415,0.710339271478755,0.12105239058331187,-0.8509752427452628,-1.3491238864126032,-1.8598394510153693,-1.0659054118800213,1.3236350429577803,0.5444277023592253,-0.6727411628076259,-0.018547264192752825,-0.8071229564449062,0.33751660203866807,0.1881745849663572,0.12260492122922247,0.30615558365396084,1.2458146238905483,1.7110470711557848,-0.4800976041892355,2.221328091101082,0.34503964151741096,1.3888534612108372,-0.6121543897912833,1.5135232133398413,0.3550466399495089,-0.5125535379885994,-0.8684090756031528,-0.0880389921588798,1.5107179811616,-0.07874484690047716,-0.5389501748212824,0.7535046636019881,-0.5600026707788827,-0.3110571605343825,0.6306288933906005,-0.12702949524031082,-0.5299579481574125,-0.2319476324342638,1.1584607557786735,-1.5686875302712062,0.06172482147957937,-0.6198455475019047,-2.0770439203968674,0.09306099403907173,-0.45720135238549225,-0.30414649191620025,0.03513373986031923]},{\"connectgaps\":false,\"fill\":\"tozeroy\",\"line\":{\"color\":\"green\",\"dash\":\"solid\",\"shape\":\"linear\",\"width\":0.5},\"mode\":\"lines\",\"name\":\"Spread\",\"showlegend\":false,\"type\":\"scatter\",\"x\":[0,1,2,3,4,5,6,7,8,9,10,11,12,13,14,15,16,17,18,19,20,21,22,23,24,25,26,27,28,29,30,31,32,33,34,35,36,37,38,39,40,41,42,43,44,45,46,47,48,49,50,51,52,53,54,55,56,57,58,59,60,61,62,63,64,65,66,67,68,69,70,71,72,73,74,75,76,77,78,79,80,81,82,83,84,85,86,87,88,89,90,91,92,93,94,95,96,97,98,99],\"xaxis\":\"x2\",\"y\":[\"\",\"\",\"\",1.4806695976963333,0.4843387374548279,0.38103761383810214,\"\",0.2868324336594314,\"\",1.1226075103085225,0.4054281576126484,0.8463377223484909,1.4734677280633244,\"\",1.4813702641378461,3.3232429155546837,0.3983724678524046,\"\",1.2485285242566477,2.6398773507385487,0.7006377353602219,\"\",0.3899379989141307,1.9144093854990893,\"\",\"\",\"\",2.0298758560137076,3.4453558979879704,0.2744503457518695,\"\",\"\",\"\",0.38944279701937845,\"\",\"\",1.3192418580651417,0.9550860859175071,1.0981024975399065,\"\",\"\",1.4743984291050987,0.8145099498168907,0.2351285192634509,0.8292004040485179,\"\",1.372514339977054,1.5859480365911856,\"\",1.7745066071528344,1.2812111004365705,\"\",1.1460958729165507,0.12693097771207262,\"\",1.3468530208627096,1.4455950236186481,2.114516706705824,2.3624597490821424,0.6003098391222674,\"\",\"\",1.2546101271625187,\"\",0.19667547602306534,\"\",\"\",1.5551122067152756,\"\",\"\",\"\",1.5674266763494085,\"\",1.1137088918649747,\"\",\"\",\"\",\"\",\"\",1.8526505537476448,0.6011326487670962,\"\",\"\",\"\",\"\",1.8113195639607955,0.24910954934598573,\"\",0.6677333665411769,\"\",\"\",\"\",0.9237282271956988,\"\",2.551826650455471,2.5202835141290225,\"\",1.1755427745050127,1.236981062155344,0.6760209421357649],\"yaxis\":\"y2\"},{\"connectgaps\":false,\"fill\":\"tozeroy\",\"line\":{\"color\":\"red\",\"dash\":\"solid\",\"shape\":\"linear\",\"width\":0.5},\"mode\":\"lines\",\"name\":\"Spread\",\"showlegend\":false,\"type\":\"scatter\",\"x\":[0,1,2,3,4,5,6,7,8,9,10,11,12,13,14,15,16,17,18,19,20,21,22,23,24,25,26,27,28,29,30,31,32,33,34,35,36,37,38,39,40,41,42,43,44,45,46,47,48,49,50,51,52,53,54,55,56,57,58,59,60,61,62,63,64,65,66,67,68,69,70,71,72,73,74,75,76,77,78,79,80,81,82,83,84,85,86,87,88,89,90,91,92,93,94,95,96,97,98,99],\"xaxis\":\"x2\",\"y\":[-1.3040936053092127,-0.2763156344551586,-0.6574942419000129,\"\",\"\",\"\",-1.5506721228182996,\"\",-1.0722957101866226,\"\",\"\",\"\",\"\",-1.012301179402924,\"\",\"\",\"\",-1.891121188221125,\"\",\"\",\"\",-0.412220140114508,\"\",\"\",-2.1179534149701102,-1.9577983853608925,-2.3412982110509066,\"\",\"\",\"\",-0.23294446459528056,-0.10736112072085338,-1.9783280843411368,\"\",-0.10938481784126661,-0.24528593474035854,\"\",\"\",\"\",-0.09969752561299106,-1.7868856154178883,\"\",\"\",\"\",\"\",-0.014041639648265603,\"\",\"\",-1.3790449561319607,\"\",\"\",-0.4679489727677142,\"\",\"\",-1.0609652387357262,\"\",\"\",\"\",\"\",\"\",-2.1031563598959453,-1.127969740362385,\"\",-0.8261261445003565,\"\",-0.8320518794609242,-0.15200893146448796,\"\",-0.4372667343782773,-0.8922691058553783,-2.8506200450958885,\"\",-0.23120370899701914,\"\",-0.8025230097387986,-1.1111261446134466,-1.8483529054319345,-0.9226035896036215,-0.2427032817213417,\"\",\"\",-0.5036705530701471,-0.17355249095915137,-0.5376033182087625,-1.8371948478450326,\"\",\"\",-2.1396897536688266,\"\",-0.22985006997071278,-2.008390596239526,-2.1839166047973597,\"\",-2.402459368304135,\"\",\"\",-0.46465088572948365,\"\",\"\",\"\"],\"yaxis\":\"y2\"}],                        {\"hovermode\":\"x\",\"legend\":{\"bgcolor\":\"#F5F6F9\",\"font\":{\"color\":\"#4D5663\"}},\"paper_bgcolor\":\"#F5F6F9\",\"plot_bgcolor\":\"#F5F6F9\",\"template\":{\"data\":{\"bar\":[{\"error_x\":{\"color\":\"#2a3f5f\"},\"error_y\":{\"color\":\"#2a3f5f\"},\"marker\":{\"line\":{\"color\":\"#E5ECF6\",\"width\":0.5},\"pattern\":{\"fillmode\":\"overlay\",\"size\":10,\"solidity\":0.2}},\"type\":\"bar\"}],\"barpolar\":[{\"marker\":{\"line\":{\"color\":\"#E5ECF6\",\"width\":0.5},\"pattern\":{\"fillmode\":\"overlay\",\"size\":10,\"solidity\":0.2}},\"type\":\"barpolar\"}],\"carpet\":[{\"aaxis\":{\"endlinecolor\":\"#2a3f5f\",\"gridcolor\":\"white\",\"linecolor\":\"white\",\"minorgridcolor\":\"white\",\"startlinecolor\":\"#2a3f5f\"},\"baxis\":{\"endlinecolor\":\"#2a3f5f\",\"gridcolor\":\"white\",\"linecolor\":\"white\",\"minorgridcolor\":\"white\",\"startlinecolor\":\"#2a3f5f\"},\"type\":\"carpet\"}],\"choropleth\":[{\"colorbar\":{\"outlinewidth\":0,\"ticks\":\"\"},\"type\":\"choropleth\"}],\"contour\":[{\"colorbar\":{\"outlinewidth\":0,\"ticks\":\"\"},\"colorscale\":[[0.0,\"#0d0887\"],[0.1111111111111111,\"#46039f\"],[0.2222222222222222,\"#7201a8\"],[0.3333333333333333,\"#9c179e\"],[0.4444444444444444,\"#bd3786\"],[0.5555555555555556,\"#d8576b\"],[0.6666666666666666,\"#ed7953\"],[0.7777777777777778,\"#fb9f3a\"],[0.8888888888888888,\"#fdca26\"],[1.0,\"#f0f921\"]],\"type\":\"contour\"}],\"contourcarpet\":[{\"colorbar\":{\"outlinewidth\":0,\"ticks\":\"\"},\"type\":\"contourcarpet\"}],\"heatmap\":[{\"colorbar\":{\"outlinewidth\":0,\"ticks\":\"\"},\"colorscale\":[[0.0,\"#0d0887\"],[0.1111111111111111,\"#46039f\"],[0.2222222222222222,\"#7201a8\"],[0.3333333333333333,\"#9c179e\"],[0.4444444444444444,\"#bd3786\"],[0.5555555555555556,\"#d8576b\"],[0.6666666666666666,\"#ed7953\"],[0.7777777777777778,\"#fb9f3a\"],[0.8888888888888888,\"#fdca26\"],[1.0,\"#f0f921\"]],\"type\":\"heatmap\"}],\"heatmapgl\":[{\"colorbar\":{\"outlinewidth\":0,\"ticks\":\"\"},\"colorscale\":[[0.0,\"#0d0887\"],[0.1111111111111111,\"#46039f\"],[0.2222222222222222,\"#7201a8\"],[0.3333333333333333,\"#9c179e\"],[0.4444444444444444,\"#bd3786\"],[0.5555555555555556,\"#d8576b\"],[0.6666666666666666,\"#ed7953\"],[0.7777777777777778,\"#fb9f3a\"],[0.8888888888888888,\"#fdca26\"],[1.0,\"#f0f921\"]],\"type\":\"heatmapgl\"}],\"histogram\":[{\"marker\":{\"pattern\":{\"fillmode\":\"overlay\",\"size\":10,\"solidity\":0.2}},\"type\":\"histogram\"}],\"histogram2d\":[{\"colorbar\":{\"outlinewidth\":0,\"ticks\":\"\"},\"colorscale\":[[0.0,\"#0d0887\"],[0.1111111111111111,\"#46039f\"],[0.2222222222222222,\"#7201a8\"],[0.3333333333333333,\"#9c179e\"],[0.4444444444444444,\"#bd3786\"],[0.5555555555555556,\"#d8576b\"],[0.6666666666666666,\"#ed7953\"],[0.7777777777777778,\"#fb9f3a\"],[0.8888888888888888,\"#fdca26\"],[1.0,\"#f0f921\"]],\"type\":\"histogram2d\"}],\"histogram2dcontour\":[{\"colorbar\":{\"outlinewidth\":0,\"ticks\":\"\"},\"colorscale\":[[0.0,\"#0d0887\"],[0.1111111111111111,\"#46039f\"],[0.2222222222222222,\"#7201a8\"],[0.3333333333333333,\"#9c179e\"],[0.4444444444444444,\"#bd3786\"],[0.5555555555555556,\"#d8576b\"],[0.6666666666666666,\"#ed7953\"],[0.7777777777777778,\"#fb9f3a\"],[0.8888888888888888,\"#fdca26\"],[1.0,\"#f0f921\"]],\"type\":\"histogram2dcontour\"}],\"mesh3d\":[{\"colorbar\":{\"outlinewidth\":0,\"ticks\":\"\"},\"type\":\"mesh3d\"}],\"parcoords\":[{\"line\":{\"colorbar\":{\"outlinewidth\":0,\"ticks\":\"\"}},\"type\":\"parcoords\"}],\"pie\":[{\"automargin\":true,\"type\":\"pie\"}],\"scatter\":[{\"marker\":{\"colorbar\":{\"outlinewidth\":0,\"ticks\":\"\"}},\"type\":\"scatter\"}],\"scatter3d\":[{\"line\":{\"colorbar\":{\"outlinewidth\":0,\"ticks\":\"\"}},\"marker\":{\"colorbar\":{\"outlinewidth\":0,\"ticks\":\"\"}},\"type\":\"scatter3d\"}],\"scattercarpet\":[{\"marker\":{\"colorbar\":{\"outlinewidth\":0,\"ticks\":\"\"}},\"type\":\"scattercarpet\"}],\"scattergeo\":[{\"marker\":{\"colorbar\":{\"outlinewidth\":0,\"ticks\":\"\"}},\"type\":\"scattergeo\"}],\"scattergl\":[{\"marker\":{\"colorbar\":{\"outlinewidth\":0,\"ticks\":\"\"}},\"type\":\"scattergl\"}],\"scattermapbox\":[{\"marker\":{\"colorbar\":{\"outlinewidth\":0,\"ticks\":\"\"}},\"type\":\"scattermapbox\"}],\"scatterpolar\":[{\"marker\":{\"colorbar\":{\"outlinewidth\":0,\"ticks\":\"\"}},\"type\":\"scatterpolar\"}],\"scatterpolargl\":[{\"marker\":{\"colorbar\":{\"outlinewidth\":0,\"ticks\":\"\"}},\"type\":\"scatterpolargl\"}],\"scatterternary\":[{\"marker\":{\"colorbar\":{\"outlinewidth\":0,\"ticks\":\"\"}},\"type\":\"scatterternary\"}],\"surface\":[{\"colorbar\":{\"outlinewidth\":0,\"ticks\":\"\"},\"colorscale\":[[0.0,\"#0d0887\"],[0.1111111111111111,\"#46039f\"],[0.2222222222222222,\"#7201a8\"],[0.3333333333333333,\"#9c179e\"],[0.4444444444444444,\"#bd3786\"],[0.5555555555555556,\"#d8576b\"],[0.6666666666666666,\"#ed7953\"],[0.7777777777777778,\"#fb9f3a\"],[0.8888888888888888,\"#fdca26\"],[1.0,\"#f0f921\"]],\"type\":\"surface\"}],\"table\":[{\"cells\":{\"fill\":{\"color\":\"#EBF0F8\"},\"line\":{\"color\":\"white\"}},\"header\":{\"fill\":{\"color\":\"#C8D4E3\"},\"line\":{\"color\":\"white\"}},\"type\":\"table\"}]},\"layout\":{\"annotationdefaults\":{\"arrowcolor\":\"#2a3f5f\",\"arrowhead\":0,\"arrowwidth\":1},\"autotypenumbers\":\"strict\",\"coloraxis\":{\"colorbar\":{\"outlinewidth\":0,\"ticks\":\"\"}},\"colorscale\":{\"diverging\":[[0,\"#8e0152\"],[0.1,\"#c51b7d\"],[0.2,\"#de77ae\"],[0.3,\"#f1b6da\"],[0.4,\"#fde0ef\"],[0.5,\"#f7f7f7\"],[0.6,\"#e6f5d0\"],[0.7,\"#b8e186\"],[0.8,\"#7fbc41\"],[0.9,\"#4d9221\"],[1,\"#276419\"]],\"sequential\":[[0.0,\"#0d0887\"],[0.1111111111111111,\"#46039f\"],[0.2222222222222222,\"#7201a8\"],[0.3333333333333333,\"#9c179e\"],[0.4444444444444444,\"#bd3786\"],[0.5555555555555556,\"#d8576b\"],[0.6666666666666666,\"#ed7953\"],[0.7777777777777778,\"#fb9f3a\"],[0.8888888888888888,\"#fdca26\"],[1.0,\"#f0f921\"]],\"sequentialminus\":[[0.0,\"#0d0887\"],[0.1111111111111111,\"#46039f\"],[0.2222222222222222,\"#7201a8\"],[0.3333333333333333,\"#9c179e\"],[0.4444444444444444,\"#bd3786\"],[0.5555555555555556,\"#d8576b\"],[0.6666666666666666,\"#ed7953\"],[0.7777777777777778,\"#fb9f3a\"],[0.8888888888888888,\"#fdca26\"],[1.0,\"#f0f921\"]]},\"colorway\":[\"#636efa\",\"#EF553B\",\"#00cc96\",\"#ab63fa\",\"#FFA15A\",\"#19d3f3\",\"#FF6692\",\"#B6E880\",\"#FF97FF\",\"#FECB52\"],\"font\":{\"color\":\"#2a3f5f\"},\"geo\":{\"bgcolor\":\"white\",\"lakecolor\":\"white\",\"landcolor\":\"#E5ECF6\",\"showlakes\":true,\"showland\":true,\"subunitcolor\":\"white\"},\"hoverlabel\":{\"align\":\"left\"},\"hovermode\":\"closest\",\"mapbox\":{\"style\":\"light\"},\"paper_bgcolor\":\"white\",\"plot_bgcolor\":\"#E5ECF6\",\"polar\":{\"angularaxis\":{\"gridcolor\":\"white\",\"linecolor\":\"white\",\"ticks\":\"\"},\"bgcolor\":\"#E5ECF6\",\"radialaxis\":{\"gridcolor\":\"white\",\"linecolor\":\"white\",\"ticks\":\"\"}},\"scene\":{\"xaxis\":{\"backgroundcolor\":\"#E5ECF6\",\"gridcolor\":\"white\",\"gridwidth\":2,\"linecolor\":\"white\",\"showbackground\":true,\"ticks\":\"\",\"zerolinecolor\":\"white\"},\"yaxis\":{\"backgroundcolor\":\"#E5ECF6\",\"gridcolor\":\"white\",\"gridwidth\":2,\"linecolor\":\"white\",\"showbackground\":true,\"ticks\":\"\",\"zerolinecolor\":\"white\"},\"zaxis\":{\"backgroundcolor\":\"#E5ECF6\",\"gridcolor\":\"white\",\"gridwidth\":2,\"linecolor\":\"white\",\"showbackground\":true,\"ticks\":\"\",\"zerolinecolor\":\"white\"}},\"shapedefaults\":{\"line\":{\"color\":\"#2a3f5f\"}},\"ternary\":{\"aaxis\":{\"gridcolor\":\"white\",\"linecolor\":\"white\",\"ticks\":\"\"},\"baxis\":{\"gridcolor\":\"white\",\"linecolor\":\"white\",\"ticks\":\"\"},\"bgcolor\":\"#E5ECF6\",\"caxis\":{\"gridcolor\":\"white\",\"linecolor\":\"white\",\"ticks\":\"\"}},\"title\":{\"x\":0.05},\"xaxis\":{\"automargin\":true,\"gridcolor\":\"white\",\"linecolor\":\"white\",\"ticks\":\"\",\"title\":{\"standoff\":15},\"zerolinecolor\":\"white\",\"zerolinewidth\":2},\"yaxis\":{\"automargin\":true,\"gridcolor\":\"white\",\"linecolor\":\"white\",\"ticks\":\"\",\"title\":{\"standoff\":15},\"zerolinecolor\":\"white\",\"zerolinewidth\":2}}},\"title\":{\"font\":{\"color\":\"#4D5663\"}},\"xaxis\":{\"gridcolor\":\"#E1E5ED\",\"showgrid\":true,\"tickfont\":{\"color\":\"#4D5663\"},\"title\":{\"font\":{\"color\":\"#4D5663\"},\"text\":\"\"},\"zerolinecolor\":\"#E1E5ED\"},\"xaxis2\":{\"anchor\":\"y2\",\"gridcolor\":\"#E1E5ED\",\"showgrid\":true,\"showticklabels\":false,\"tickfont\":{\"color\":\"#4D5663\"},\"title\":{\"font\":{\"color\":\"#4D5663\"},\"text\":\"\"},\"zerolinecolor\":\"#E1E5ED\"},\"yaxis\":{\"domain\":[0.3,1],\"gridcolor\":\"#E1E5ED\",\"showgrid\":true,\"tickfont\":{\"color\":\"#4D5663\"},\"title\":{\"font\":{\"color\":\"#4D5663\"},\"text\":\"\"},\"zerolinecolor\":\"#E1E5ED\"},\"yaxis2\":{\"domain\":[0,0.25],\"gridcolor\":\"#E1E5ED\",\"showgrid\":true,\"tickfont\":{\"color\":\"#4D5663\"},\"title\":{\"font\":{\"color\":\"#4D5663\"},\"text\":\"Spread\"},\"zerolinecolor\":\"#E1E5ED\"}},                        {\"showLink\": true, \"linkText\": \"Export to plot.ly\", \"plotlyServerURL\": \"https://plot.ly\", \"responsive\": true}                    ).then(function(){\n",
       "                            \n",
       "var gd = document.getElementById('71f7a95d-a637-4d81-ab58-f1a577d748ee');\n",
       "var x = new MutationObserver(function (mutations, observer) {{\n",
       "        var display = window.getComputedStyle(gd).display;\n",
       "        if (!display || display === 'none') {{\n",
       "            console.log([gd, 'removed!']);\n",
       "            Plotly.purge(gd);\n",
       "            observer.disconnect();\n",
       "        }}\n",
       "}});\n",
       "\n",
       "// Listen for the removal of the full notebook cells\n",
       "var notebookContainer = gd.closest('#notebook-container');\n",
       "if (notebookContainer) {{\n",
       "    x.observe(notebookContainer, {childList: true});\n",
       "}}\n",
       "\n",
       "// Listen for the clearing of the current output cell\n",
       "var outputEl = gd.closest('.output');\n",
       "if (outputEl) {{\n",
       "    x.observe(outputEl, {childList: true});\n",
       "}}\n",
       "\n",
       "                        })                };                });            </script>        </div>"
      ]
     },
     "metadata": {},
     "output_type": "display_data"
    }
   ],
   "source": [
    "df[['A','B']].iplot(kind='spread')"
   ]
  },
  {
   "cell_type": "markdown",
   "metadata": {},
   "source": [
    "## histogram"
   ]
  },
  {
   "cell_type": "code",
   "execution_count": 28,
   "metadata": {},
   "outputs": [
    {
     "data": {
      "application/vnd.plotly.v1+json": {
       "config": {
        "linkText": "Export to plot.ly",
        "plotlyServerURL": "https://plot.ly",
        "showLink": true
       },
       "data": [
        {
         "histfunc": "count",
         "histnorm": "",
         "marker": {
          "color": "rgba(255, 153, 51, 1.0)",
          "line": {
           "color": "#4D5663",
           "width": 1.3
          }
         },
         "name": "A",
         "nbinsx": 25,
         "opacity": 0.8,
         "orientation": "v",
         "type": "histogram",
         "x": [
          -0.9059946344274774,
          -0.4228448892570872,
          0.32823669086437185,
          0.6558818756618977,
          -0.23279394393207223,
          0.6525595480366613,
          -1.6915425316219246,
          0.19774000582771878,
          0.2527613251803961,
          1.2212768041507416,
          -1.0510831617170036,
          -0.7793914985082284,
          0.806056944934075,
          -0.6311019866196699,
          0.934877974567317,
          0.16080341281909977,
          -0.26044787101587635,
          -1.1189492025341188,
          0.9314131210571004,
          1.637803872997042,
          0.6740388916031278,
          1.0131855330251243,
          1.0735801831928784,
          0.937155505884544,
          -0.9383642090609543,
          -1.4125546602473755,
          -1.3961261570716632,
          1.4624065012532907,
          1.5085679801507355,
          0.37384897602131767,
          0.14589136140687492,
          -0.23095768454721793,
          -2.3629173679389783,
          0.25331855988772656,
          -0.3115860491141523,
          -0.3030080296653969,
          0.8976458438423921,
          -0.22670266681646012,
          0.41600691876623586,
          0.44298800896287893,
          0.48238892353758295,
          2.8740147943888767,
          1.2137085672267414,
          -0.5078538839778108,
          0.2712852957322795,
          0.48451943108122075,
          0.7602644879314184,
          1.066266090804438,
          -0.7210114083722396,
          0.32916613351098817,
          0.21287846776990083,
          1.3120634164376894,
          1.4845215944923633,
          1.2118529866244876,
          -0.35062596725697137,
          1.4679054114460215,
          0.5946197808733853,
          0.7653928202932211,
          0.502620298066773,
          -0.4655955727577539,
          -0.7795213169381651,
          -0.5835420380031595,
          0.581868964354893,
          -0.8446734086931094,
          -0.6104474804218408,
          -0.49453527742225606,
          0.03616565350186925,
          1.677717127944498,
          -0.13111115072431645,
          0.35354551803517,
          -1.1395729739401037,
          1.087329072160173,
          1.9901243821040628,
          1.4587485333823857,
          0.5863304514720385,
          -1.72328053440473,
          -0.33482969209209335,
          -0.5675569496541126,
          -0.7552568197099411,
          0.984241478144492,
          0.5130936566082164,
          1.007047428091453,
          -0.25229733785962855,
          -1.0765534930300449,
          -1.0836901842430446,
          1.251316893181913,
          -0.061947611188396756,
          -1.5090608602782263,
          0.5407038713008661,
          -0.7598080181281253,
          -2.24033822867379,
          -1.025455849018686,
          -0.6449593030755074,
          -2.3407345468245557,
          1.9319811029535663,
          0.44323959373215516,
          -0.3715898916904119,
          0.7183414221195205,
          0.9328345702391438,
          0.7111546819960841
         ]
        }
       ],
       "layout": {
        "barmode": "overlay",
        "legend": {
         "bgcolor": "#F5F6F9",
         "font": {
          "color": "#4D5663"
         }
        },
        "paper_bgcolor": "#F5F6F9",
        "plot_bgcolor": "#F5F6F9",
        "template": {
         "data": {
          "bar": [
           {
            "error_x": {
             "color": "#2a3f5f"
            },
            "error_y": {
             "color": "#2a3f5f"
            },
            "marker": {
             "line": {
              "color": "#E5ECF6",
              "width": 0.5
             },
             "pattern": {
              "fillmode": "overlay",
              "size": 10,
              "solidity": 0.2
             }
            },
            "type": "bar"
           }
          ],
          "barpolar": [
           {
            "marker": {
             "line": {
              "color": "#E5ECF6",
              "width": 0.5
             },
             "pattern": {
              "fillmode": "overlay",
              "size": 10,
              "solidity": 0.2
             }
            },
            "type": "barpolar"
           }
          ],
          "carpet": [
           {
            "aaxis": {
             "endlinecolor": "#2a3f5f",
             "gridcolor": "white",
             "linecolor": "white",
             "minorgridcolor": "white",
             "startlinecolor": "#2a3f5f"
            },
            "baxis": {
             "endlinecolor": "#2a3f5f",
             "gridcolor": "white",
             "linecolor": "white",
             "minorgridcolor": "white",
             "startlinecolor": "#2a3f5f"
            },
            "type": "carpet"
           }
          ],
          "choropleth": [
           {
            "colorbar": {
             "outlinewidth": 0,
             "ticks": ""
            },
            "type": "choropleth"
           }
          ],
          "contour": [
           {
            "colorbar": {
             "outlinewidth": 0,
             "ticks": ""
            },
            "colorscale": [
             [
              0,
              "#0d0887"
             ],
             [
              0.1111111111111111,
              "#46039f"
             ],
             [
              0.2222222222222222,
              "#7201a8"
             ],
             [
              0.3333333333333333,
              "#9c179e"
             ],
             [
              0.4444444444444444,
              "#bd3786"
             ],
             [
              0.5555555555555556,
              "#d8576b"
             ],
             [
              0.6666666666666666,
              "#ed7953"
             ],
             [
              0.7777777777777778,
              "#fb9f3a"
             ],
             [
              0.8888888888888888,
              "#fdca26"
             ],
             [
              1,
              "#f0f921"
             ]
            ],
            "type": "contour"
           }
          ],
          "contourcarpet": [
           {
            "colorbar": {
             "outlinewidth": 0,
             "ticks": ""
            },
            "type": "contourcarpet"
           }
          ],
          "heatmap": [
           {
            "colorbar": {
             "outlinewidth": 0,
             "ticks": ""
            },
            "colorscale": [
             [
              0,
              "#0d0887"
             ],
             [
              0.1111111111111111,
              "#46039f"
             ],
             [
              0.2222222222222222,
              "#7201a8"
             ],
             [
              0.3333333333333333,
              "#9c179e"
             ],
             [
              0.4444444444444444,
              "#bd3786"
             ],
             [
              0.5555555555555556,
              "#d8576b"
             ],
             [
              0.6666666666666666,
              "#ed7953"
             ],
             [
              0.7777777777777778,
              "#fb9f3a"
             ],
             [
              0.8888888888888888,
              "#fdca26"
             ],
             [
              1,
              "#f0f921"
             ]
            ],
            "type": "heatmap"
           }
          ],
          "heatmapgl": [
           {
            "colorbar": {
             "outlinewidth": 0,
             "ticks": ""
            },
            "colorscale": [
             [
              0,
              "#0d0887"
             ],
             [
              0.1111111111111111,
              "#46039f"
             ],
             [
              0.2222222222222222,
              "#7201a8"
             ],
             [
              0.3333333333333333,
              "#9c179e"
             ],
             [
              0.4444444444444444,
              "#bd3786"
             ],
             [
              0.5555555555555556,
              "#d8576b"
             ],
             [
              0.6666666666666666,
              "#ed7953"
             ],
             [
              0.7777777777777778,
              "#fb9f3a"
             ],
             [
              0.8888888888888888,
              "#fdca26"
             ],
             [
              1,
              "#f0f921"
             ]
            ],
            "type": "heatmapgl"
           }
          ],
          "histogram": [
           {
            "marker": {
             "pattern": {
              "fillmode": "overlay",
              "size": 10,
              "solidity": 0.2
             }
            },
            "type": "histogram"
           }
          ],
          "histogram2d": [
           {
            "colorbar": {
             "outlinewidth": 0,
             "ticks": ""
            },
            "colorscale": [
             [
              0,
              "#0d0887"
             ],
             [
              0.1111111111111111,
              "#46039f"
             ],
             [
              0.2222222222222222,
              "#7201a8"
             ],
             [
              0.3333333333333333,
              "#9c179e"
             ],
             [
              0.4444444444444444,
              "#bd3786"
             ],
             [
              0.5555555555555556,
              "#d8576b"
             ],
             [
              0.6666666666666666,
              "#ed7953"
             ],
             [
              0.7777777777777778,
              "#fb9f3a"
             ],
             [
              0.8888888888888888,
              "#fdca26"
             ],
             [
              1,
              "#f0f921"
             ]
            ],
            "type": "histogram2d"
           }
          ],
          "histogram2dcontour": [
           {
            "colorbar": {
             "outlinewidth": 0,
             "ticks": ""
            },
            "colorscale": [
             [
              0,
              "#0d0887"
             ],
             [
              0.1111111111111111,
              "#46039f"
             ],
             [
              0.2222222222222222,
              "#7201a8"
             ],
             [
              0.3333333333333333,
              "#9c179e"
             ],
             [
              0.4444444444444444,
              "#bd3786"
             ],
             [
              0.5555555555555556,
              "#d8576b"
             ],
             [
              0.6666666666666666,
              "#ed7953"
             ],
             [
              0.7777777777777778,
              "#fb9f3a"
             ],
             [
              0.8888888888888888,
              "#fdca26"
             ],
             [
              1,
              "#f0f921"
             ]
            ],
            "type": "histogram2dcontour"
           }
          ],
          "mesh3d": [
           {
            "colorbar": {
             "outlinewidth": 0,
             "ticks": ""
            },
            "type": "mesh3d"
           }
          ],
          "parcoords": [
           {
            "line": {
             "colorbar": {
              "outlinewidth": 0,
              "ticks": ""
             }
            },
            "type": "parcoords"
           }
          ],
          "pie": [
           {
            "automargin": true,
            "type": "pie"
           }
          ],
          "scatter": [
           {
            "marker": {
             "colorbar": {
              "outlinewidth": 0,
              "ticks": ""
             }
            },
            "type": "scatter"
           }
          ],
          "scatter3d": [
           {
            "line": {
             "colorbar": {
              "outlinewidth": 0,
              "ticks": ""
             }
            },
            "marker": {
             "colorbar": {
              "outlinewidth": 0,
              "ticks": ""
             }
            },
            "type": "scatter3d"
           }
          ],
          "scattercarpet": [
           {
            "marker": {
             "colorbar": {
              "outlinewidth": 0,
              "ticks": ""
             }
            },
            "type": "scattercarpet"
           }
          ],
          "scattergeo": [
           {
            "marker": {
             "colorbar": {
              "outlinewidth": 0,
              "ticks": ""
             }
            },
            "type": "scattergeo"
           }
          ],
          "scattergl": [
           {
            "marker": {
             "colorbar": {
              "outlinewidth": 0,
              "ticks": ""
             }
            },
            "type": "scattergl"
           }
          ],
          "scattermapbox": [
           {
            "marker": {
             "colorbar": {
              "outlinewidth": 0,
              "ticks": ""
             }
            },
            "type": "scattermapbox"
           }
          ],
          "scatterpolar": [
           {
            "marker": {
             "colorbar": {
              "outlinewidth": 0,
              "ticks": ""
             }
            },
            "type": "scatterpolar"
           }
          ],
          "scatterpolargl": [
           {
            "marker": {
             "colorbar": {
              "outlinewidth": 0,
              "ticks": ""
             }
            },
            "type": "scatterpolargl"
           }
          ],
          "scatterternary": [
           {
            "marker": {
             "colorbar": {
              "outlinewidth": 0,
              "ticks": ""
             }
            },
            "type": "scatterternary"
           }
          ],
          "surface": [
           {
            "colorbar": {
             "outlinewidth": 0,
             "ticks": ""
            },
            "colorscale": [
             [
              0,
              "#0d0887"
             ],
             [
              0.1111111111111111,
              "#46039f"
             ],
             [
              0.2222222222222222,
              "#7201a8"
             ],
             [
              0.3333333333333333,
              "#9c179e"
             ],
             [
              0.4444444444444444,
              "#bd3786"
             ],
             [
              0.5555555555555556,
              "#d8576b"
             ],
             [
              0.6666666666666666,
              "#ed7953"
             ],
             [
              0.7777777777777778,
              "#fb9f3a"
             ],
             [
              0.8888888888888888,
              "#fdca26"
             ],
             [
              1,
              "#f0f921"
             ]
            ],
            "type": "surface"
           }
          ],
          "table": [
           {
            "cells": {
             "fill": {
              "color": "#EBF0F8"
             },
             "line": {
              "color": "white"
             }
            },
            "header": {
             "fill": {
              "color": "#C8D4E3"
             },
             "line": {
              "color": "white"
             }
            },
            "type": "table"
           }
          ]
         },
         "layout": {
          "annotationdefaults": {
           "arrowcolor": "#2a3f5f",
           "arrowhead": 0,
           "arrowwidth": 1
          },
          "autotypenumbers": "strict",
          "coloraxis": {
           "colorbar": {
            "outlinewidth": 0,
            "ticks": ""
           }
          },
          "colorscale": {
           "diverging": [
            [
             0,
             "#8e0152"
            ],
            [
             0.1,
             "#c51b7d"
            ],
            [
             0.2,
             "#de77ae"
            ],
            [
             0.3,
             "#f1b6da"
            ],
            [
             0.4,
             "#fde0ef"
            ],
            [
             0.5,
             "#f7f7f7"
            ],
            [
             0.6,
             "#e6f5d0"
            ],
            [
             0.7,
             "#b8e186"
            ],
            [
             0.8,
             "#7fbc41"
            ],
            [
             0.9,
             "#4d9221"
            ],
            [
             1,
             "#276419"
            ]
           ],
           "sequential": [
            [
             0,
             "#0d0887"
            ],
            [
             0.1111111111111111,
             "#46039f"
            ],
            [
             0.2222222222222222,
             "#7201a8"
            ],
            [
             0.3333333333333333,
             "#9c179e"
            ],
            [
             0.4444444444444444,
             "#bd3786"
            ],
            [
             0.5555555555555556,
             "#d8576b"
            ],
            [
             0.6666666666666666,
             "#ed7953"
            ],
            [
             0.7777777777777778,
             "#fb9f3a"
            ],
            [
             0.8888888888888888,
             "#fdca26"
            ],
            [
             1,
             "#f0f921"
            ]
           ],
           "sequentialminus": [
            [
             0,
             "#0d0887"
            ],
            [
             0.1111111111111111,
             "#46039f"
            ],
            [
             0.2222222222222222,
             "#7201a8"
            ],
            [
             0.3333333333333333,
             "#9c179e"
            ],
            [
             0.4444444444444444,
             "#bd3786"
            ],
            [
             0.5555555555555556,
             "#d8576b"
            ],
            [
             0.6666666666666666,
             "#ed7953"
            ],
            [
             0.7777777777777778,
             "#fb9f3a"
            ],
            [
             0.8888888888888888,
             "#fdca26"
            ],
            [
             1,
             "#f0f921"
            ]
           ]
          },
          "colorway": [
           "#636efa",
           "#EF553B",
           "#00cc96",
           "#ab63fa",
           "#FFA15A",
           "#19d3f3",
           "#FF6692",
           "#B6E880",
           "#FF97FF",
           "#FECB52"
          ],
          "font": {
           "color": "#2a3f5f"
          },
          "geo": {
           "bgcolor": "white",
           "lakecolor": "white",
           "landcolor": "#E5ECF6",
           "showlakes": true,
           "showland": true,
           "subunitcolor": "white"
          },
          "hoverlabel": {
           "align": "left"
          },
          "hovermode": "closest",
          "mapbox": {
           "style": "light"
          },
          "paper_bgcolor": "white",
          "plot_bgcolor": "#E5ECF6",
          "polar": {
           "angularaxis": {
            "gridcolor": "white",
            "linecolor": "white",
            "ticks": ""
           },
           "bgcolor": "#E5ECF6",
           "radialaxis": {
            "gridcolor": "white",
            "linecolor": "white",
            "ticks": ""
           }
          },
          "scene": {
           "xaxis": {
            "backgroundcolor": "#E5ECF6",
            "gridcolor": "white",
            "gridwidth": 2,
            "linecolor": "white",
            "showbackground": true,
            "ticks": "",
            "zerolinecolor": "white"
           },
           "yaxis": {
            "backgroundcolor": "#E5ECF6",
            "gridcolor": "white",
            "gridwidth": 2,
            "linecolor": "white",
            "showbackground": true,
            "ticks": "",
            "zerolinecolor": "white"
           },
           "zaxis": {
            "backgroundcolor": "#E5ECF6",
            "gridcolor": "white",
            "gridwidth": 2,
            "linecolor": "white",
            "showbackground": true,
            "ticks": "",
            "zerolinecolor": "white"
           }
          },
          "shapedefaults": {
           "line": {
            "color": "#2a3f5f"
           }
          },
          "ternary": {
           "aaxis": {
            "gridcolor": "white",
            "linecolor": "white",
            "ticks": ""
           },
           "baxis": {
            "gridcolor": "white",
            "linecolor": "white",
            "ticks": ""
           },
           "bgcolor": "#E5ECF6",
           "caxis": {
            "gridcolor": "white",
            "linecolor": "white",
            "ticks": ""
           }
          },
          "title": {
           "x": 0.05
          },
          "xaxis": {
           "automargin": true,
           "gridcolor": "white",
           "linecolor": "white",
           "ticks": "",
           "title": {
            "standoff": 15
           },
           "zerolinecolor": "white",
           "zerolinewidth": 2
          },
          "yaxis": {
           "automargin": true,
           "gridcolor": "white",
           "linecolor": "white",
           "ticks": "",
           "title": {
            "standoff": 15
           },
           "zerolinecolor": "white",
           "zerolinewidth": 2
          }
         }
        },
        "title": {
         "font": {
          "color": "#4D5663"
         }
        },
        "xaxis": {
         "gridcolor": "#E1E5ED",
         "showgrid": true,
         "tickfont": {
          "color": "#4D5663"
         },
         "title": {
          "font": {
           "color": "#4D5663"
          },
          "text": ""
         },
         "zerolinecolor": "#E1E5ED"
        },
        "yaxis": {
         "gridcolor": "#E1E5ED",
         "showgrid": true,
         "tickfont": {
          "color": "#4D5663"
         },
         "title": {
          "font": {
           "color": "#4D5663"
          },
          "text": ""
         },
         "zerolinecolor": "#E1E5ED"
        }
       }
      },
      "text/html": [
       "<div>                            <div id=\"8393a4d4-2dc7-4cd8-82dd-1bcd6743b91f\" class=\"plotly-graph-div\" style=\"height:525px; width:100%;\"></div>            <script type=\"text/javascript\">                require([\"plotly\"], function(Plotly) {                    window.PLOTLYENV=window.PLOTLYENV || {};\n",
       "                    window.PLOTLYENV.BASE_URL='https://plot.ly';                                    if (document.getElementById(\"8393a4d4-2dc7-4cd8-82dd-1bcd6743b91f\")) {                    Plotly.newPlot(                        \"8393a4d4-2dc7-4cd8-82dd-1bcd6743b91f\",                        [{\"histfunc\":\"count\",\"histnorm\":\"\",\"marker\":{\"color\":\"rgba(255, 153, 51, 1.0)\",\"line\":{\"color\":\"#4D5663\",\"width\":1.3}},\"name\":\"A\",\"nbinsx\":25,\"opacity\":0.8,\"orientation\":\"v\",\"type\":\"histogram\",\"x\":[-0.9059946344274774,-0.4228448892570872,0.32823669086437185,0.6558818756618977,-0.23279394393207223,0.6525595480366613,-1.6915425316219246,0.19774000582771878,0.2527613251803961,1.2212768041507416,-1.0510831617170036,-0.7793914985082284,0.806056944934075,-0.6311019866196699,0.934877974567317,0.16080341281909977,-0.26044787101587635,-1.1189492025341188,0.9314131210571004,1.637803872997042,0.6740388916031278,1.0131855330251243,1.0735801831928784,0.937155505884544,-0.9383642090609543,-1.4125546602473755,-1.3961261570716632,1.4624065012532907,1.5085679801507355,0.37384897602131767,0.14589136140687492,-0.23095768454721793,-2.3629173679389783,0.25331855988772656,-0.3115860491141523,-0.3030080296653969,0.8976458438423921,-0.22670266681646012,0.41600691876623586,0.44298800896287893,0.48238892353758295,2.8740147943888767,1.2137085672267414,-0.5078538839778108,0.2712852957322795,0.48451943108122075,0.7602644879314184,1.066266090804438,-0.7210114083722396,0.32916613351098817,0.21287846776990083,1.3120634164376894,1.4845215944923633,1.2118529866244876,-0.35062596725697137,1.4679054114460215,0.5946197808733853,0.7653928202932211,0.502620298066773,-0.4655955727577539,-0.7795213169381651,-0.5835420380031595,0.581868964354893,-0.8446734086931094,-0.6104474804218408,-0.49453527742225606,0.03616565350186925,1.677717127944498,-0.13111115072431645,0.35354551803517,-1.1395729739401037,1.087329072160173,1.9901243821040628,1.4587485333823857,0.5863304514720385,-1.72328053440473,-0.33482969209209335,-0.5675569496541126,-0.7552568197099411,0.984241478144492,0.5130936566082164,1.007047428091453,-0.25229733785962855,-1.0765534930300449,-1.0836901842430446,1.251316893181913,-0.061947611188396756,-1.5090608602782263,0.5407038713008661,-0.7598080181281253,-2.24033822867379,-1.025455849018686,-0.6449593030755074,-2.3407345468245557,1.9319811029535663,0.44323959373215516,-0.3715898916904119,0.7183414221195205,0.9328345702391438,0.7111546819960841]}],                        {\"barmode\":\"overlay\",\"legend\":{\"bgcolor\":\"#F5F6F9\",\"font\":{\"color\":\"#4D5663\"}},\"paper_bgcolor\":\"#F5F6F9\",\"plot_bgcolor\":\"#F5F6F9\",\"template\":{\"data\":{\"bar\":[{\"error_x\":{\"color\":\"#2a3f5f\"},\"error_y\":{\"color\":\"#2a3f5f\"},\"marker\":{\"line\":{\"color\":\"#E5ECF6\",\"width\":0.5},\"pattern\":{\"fillmode\":\"overlay\",\"size\":10,\"solidity\":0.2}},\"type\":\"bar\"}],\"barpolar\":[{\"marker\":{\"line\":{\"color\":\"#E5ECF6\",\"width\":0.5},\"pattern\":{\"fillmode\":\"overlay\",\"size\":10,\"solidity\":0.2}},\"type\":\"barpolar\"}],\"carpet\":[{\"aaxis\":{\"endlinecolor\":\"#2a3f5f\",\"gridcolor\":\"white\",\"linecolor\":\"white\",\"minorgridcolor\":\"white\",\"startlinecolor\":\"#2a3f5f\"},\"baxis\":{\"endlinecolor\":\"#2a3f5f\",\"gridcolor\":\"white\",\"linecolor\":\"white\",\"minorgridcolor\":\"white\",\"startlinecolor\":\"#2a3f5f\"},\"type\":\"carpet\"}],\"choropleth\":[{\"colorbar\":{\"outlinewidth\":0,\"ticks\":\"\"},\"type\":\"choropleth\"}],\"contour\":[{\"colorbar\":{\"outlinewidth\":0,\"ticks\":\"\"},\"colorscale\":[[0.0,\"#0d0887\"],[0.1111111111111111,\"#46039f\"],[0.2222222222222222,\"#7201a8\"],[0.3333333333333333,\"#9c179e\"],[0.4444444444444444,\"#bd3786\"],[0.5555555555555556,\"#d8576b\"],[0.6666666666666666,\"#ed7953\"],[0.7777777777777778,\"#fb9f3a\"],[0.8888888888888888,\"#fdca26\"],[1.0,\"#f0f921\"]],\"type\":\"contour\"}],\"contourcarpet\":[{\"colorbar\":{\"outlinewidth\":0,\"ticks\":\"\"},\"type\":\"contourcarpet\"}],\"heatmap\":[{\"colorbar\":{\"outlinewidth\":0,\"ticks\":\"\"},\"colorscale\":[[0.0,\"#0d0887\"],[0.1111111111111111,\"#46039f\"],[0.2222222222222222,\"#7201a8\"],[0.3333333333333333,\"#9c179e\"],[0.4444444444444444,\"#bd3786\"],[0.5555555555555556,\"#d8576b\"],[0.6666666666666666,\"#ed7953\"],[0.7777777777777778,\"#fb9f3a\"],[0.8888888888888888,\"#fdca26\"],[1.0,\"#f0f921\"]],\"type\":\"heatmap\"}],\"heatmapgl\":[{\"colorbar\":{\"outlinewidth\":0,\"ticks\":\"\"},\"colorscale\":[[0.0,\"#0d0887\"],[0.1111111111111111,\"#46039f\"],[0.2222222222222222,\"#7201a8\"],[0.3333333333333333,\"#9c179e\"],[0.4444444444444444,\"#bd3786\"],[0.5555555555555556,\"#d8576b\"],[0.6666666666666666,\"#ed7953\"],[0.7777777777777778,\"#fb9f3a\"],[0.8888888888888888,\"#fdca26\"],[1.0,\"#f0f921\"]],\"type\":\"heatmapgl\"}],\"histogram\":[{\"marker\":{\"pattern\":{\"fillmode\":\"overlay\",\"size\":10,\"solidity\":0.2}},\"type\":\"histogram\"}],\"histogram2d\":[{\"colorbar\":{\"outlinewidth\":0,\"ticks\":\"\"},\"colorscale\":[[0.0,\"#0d0887\"],[0.1111111111111111,\"#46039f\"],[0.2222222222222222,\"#7201a8\"],[0.3333333333333333,\"#9c179e\"],[0.4444444444444444,\"#bd3786\"],[0.5555555555555556,\"#d8576b\"],[0.6666666666666666,\"#ed7953\"],[0.7777777777777778,\"#fb9f3a\"],[0.8888888888888888,\"#fdca26\"],[1.0,\"#f0f921\"]],\"type\":\"histogram2d\"}],\"histogram2dcontour\":[{\"colorbar\":{\"outlinewidth\":0,\"ticks\":\"\"},\"colorscale\":[[0.0,\"#0d0887\"],[0.1111111111111111,\"#46039f\"],[0.2222222222222222,\"#7201a8\"],[0.3333333333333333,\"#9c179e\"],[0.4444444444444444,\"#bd3786\"],[0.5555555555555556,\"#d8576b\"],[0.6666666666666666,\"#ed7953\"],[0.7777777777777778,\"#fb9f3a\"],[0.8888888888888888,\"#fdca26\"],[1.0,\"#f0f921\"]],\"type\":\"histogram2dcontour\"}],\"mesh3d\":[{\"colorbar\":{\"outlinewidth\":0,\"ticks\":\"\"},\"type\":\"mesh3d\"}],\"parcoords\":[{\"line\":{\"colorbar\":{\"outlinewidth\":0,\"ticks\":\"\"}},\"type\":\"parcoords\"}],\"pie\":[{\"automargin\":true,\"type\":\"pie\"}],\"scatter\":[{\"marker\":{\"colorbar\":{\"outlinewidth\":0,\"ticks\":\"\"}},\"type\":\"scatter\"}],\"scatter3d\":[{\"line\":{\"colorbar\":{\"outlinewidth\":0,\"ticks\":\"\"}},\"marker\":{\"colorbar\":{\"outlinewidth\":0,\"ticks\":\"\"}},\"type\":\"scatter3d\"}],\"scattercarpet\":[{\"marker\":{\"colorbar\":{\"outlinewidth\":0,\"ticks\":\"\"}},\"type\":\"scattercarpet\"}],\"scattergeo\":[{\"marker\":{\"colorbar\":{\"outlinewidth\":0,\"ticks\":\"\"}},\"type\":\"scattergeo\"}],\"scattergl\":[{\"marker\":{\"colorbar\":{\"outlinewidth\":0,\"ticks\":\"\"}},\"type\":\"scattergl\"}],\"scattermapbox\":[{\"marker\":{\"colorbar\":{\"outlinewidth\":0,\"ticks\":\"\"}},\"type\":\"scattermapbox\"}],\"scatterpolar\":[{\"marker\":{\"colorbar\":{\"outlinewidth\":0,\"ticks\":\"\"}},\"type\":\"scatterpolar\"}],\"scatterpolargl\":[{\"marker\":{\"colorbar\":{\"outlinewidth\":0,\"ticks\":\"\"}},\"type\":\"scatterpolargl\"}],\"scatterternary\":[{\"marker\":{\"colorbar\":{\"outlinewidth\":0,\"ticks\":\"\"}},\"type\":\"scatterternary\"}],\"surface\":[{\"colorbar\":{\"outlinewidth\":0,\"ticks\":\"\"},\"colorscale\":[[0.0,\"#0d0887\"],[0.1111111111111111,\"#46039f\"],[0.2222222222222222,\"#7201a8\"],[0.3333333333333333,\"#9c179e\"],[0.4444444444444444,\"#bd3786\"],[0.5555555555555556,\"#d8576b\"],[0.6666666666666666,\"#ed7953\"],[0.7777777777777778,\"#fb9f3a\"],[0.8888888888888888,\"#fdca26\"],[1.0,\"#f0f921\"]],\"type\":\"surface\"}],\"table\":[{\"cells\":{\"fill\":{\"color\":\"#EBF0F8\"},\"line\":{\"color\":\"white\"}},\"header\":{\"fill\":{\"color\":\"#C8D4E3\"},\"line\":{\"color\":\"white\"}},\"type\":\"table\"}]},\"layout\":{\"annotationdefaults\":{\"arrowcolor\":\"#2a3f5f\",\"arrowhead\":0,\"arrowwidth\":1},\"autotypenumbers\":\"strict\",\"coloraxis\":{\"colorbar\":{\"outlinewidth\":0,\"ticks\":\"\"}},\"colorscale\":{\"diverging\":[[0,\"#8e0152\"],[0.1,\"#c51b7d\"],[0.2,\"#de77ae\"],[0.3,\"#f1b6da\"],[0.4,\"#fde0ef\"],[0.5,\"#f7f7f7\"],[0.6,\"#e6f5d0\"],[0.7,\"#b8e186\"],[0.8,\"#7fbc41\"],[0.9,\"#4d9221\"],[1,\"#276419\"]],\"sequential\":[[0.0,\"#0d0887\"],[0.1111111111111111,\"#46039f\"],[0.2222222222222222,\"#7201a8\"],[0.3333333333333333,\"#9c179e\"],[0.4444444444444444,\"#bd3786\"],[0.5555555555555556,\"#d8576b\"],[0.6666666666666666,\"#ed7953\"],[0.7777777777777778,\"#fb9f3a\"],[0.8888888888888888,\"#fdca26\"],[1.0,\"#f0f921\"]],\"sequentialminus\":[[0.0,\"#0d0887\"],[0.1111111111111111,\"#46039f\"],[0.2222222222222222,\"#7201a8\"],[0.3333333333333333,\"#9c179e\"],[0.4444444444444444,\"#bd3786\"],[0.5555555555555556,\"#d8576b\"],[0.6666666666666666,\"#ed7953\"],[0.7777777777777778,\"#fb9f3a\"],[0.8888888888888888,\"#fdca26\"],[1.0,\"#f0f921\"]]},\"colorway\":[\"#636efa\",\"#EF553B\",\"#00cc96\",\"#ab63fa\",\"#FFA15A\",\"#19d3f3\",\"#FF6692\",\"#B6E880\",\"#FF97FF\",\"#FECB52\"],\"font\":{\"color\":\"#2a3f5f\"},\"geo\":{\"bgcolor\":\"white\",\"lakecolor\":\"white\",\"landcolor\":\"#E5ECF6\",\"showlakes\":true,\"showland\":true,\"subunitcolor\":\"white\"},\"hoverlabel\":{\"align\":\"left\"},\"hovermode\":\"closest\",\"mapbox\":{\"style\":\"light\"},\"paper_bgcolor\":\"white\",\"plot_bgcolor\":\"#E5ECF6\",\"polar\":{\"angularaxis\":{\"gridcolor\":\"white\",\"linecolor\":\"white\",\"ticks\":\"\"},\"bgcolor\":\"#E5ECF6\",\"radialaxis\":{\"gridcolor\":\"white\",\"linecolor\":\"white\",\"ticks\":\"\"}},\"scene\":{\"xaxis\":{\"backgroundcolor\":\"#E5ECF6\",\"gridcolor\":\"white\",\"gridwidth\":2,\"linecolor\":\"white\",\"showbackground\":true,\"ticks\":\"\",\"zerolinecolor\":\"white\"},\"yaxis\":{\"backgroundcolor\":\"#E5ECF6\",\"gridcolor\":\"white\",\"gridwidth\":2,\"linecolor\":\"white\",\"showbackground\":true,\"ticks\":\"\",\"zerolinecolor\":\"white\"},\"zaxis\":{\"backgroundcolor\":\"#E5ECF6\",\"gridcolor\":\"white\",\"gridwidth\":2,\"linecolor\":\"white\",\"showbackground\":true,\"ticks\":\"\",\"zerolinecolor\":\"white\"}},\"shapedefaults\":{\"line\":{\"color\":\"#2a3f5f\"}},\"ternary\":{\"aaxis\":{\"gridcolor\":\"white\",\"linecolor\":\"white\",\"ticks\":\"\"},\"baxis\":{\"gridcolor\":\"white\",\"linecolor\":\"white\",\"ticks\":\"\"},\"bgcolor\":\"#E5ECF6\",\"caxis\":{\"gridcolor\":\"white\",\"linecolor\":\"white\",\"ticks\":\"\"}},\"title\":{\"x\":0.05},\"xaxis\":{\"automargin\":true,\"gridcolor\":\"white\",\"linecolor\":\"white\",\"ticks\":\"\",\"title\":{\"standoff\":15},\"zerolinecolor\":\"white\",\"zerolinewidth\":2},\"yaxis\":{\"automargin\":true,\"gridcolor\":\"white\",\"linecolor\":\"white\",\"ticks\":\"\",\"title\":{\"standoff\":15},\"zerolinecolor\":\"white\",\"zerolinewidth\":2}}},\"title\":{\"font\":{\"color\":\"#4D5663\"}},\"xaxis\":{\"gridcolor\":\"#E1E5ED\",\"showgrid\":true,\"tickfont\":{\"color\":\"#4D5663\"},\"title\":{\"font\":{\"color\":\"#4D5663\"},\"text\":\"\"},\"zerolinecolor\":\"#E1E5ED\"},\"yaxis\":{\"gridcolor\":\"#E1E5ED\",\"showgrid\":true,\"tickfont\":{\"color\":\"#4D5663\"},\"title\":{\"font\":{\"color\":\"#4D5663\"},\"text\":\"\"},\"zerolinecolor\":\"#E1E5ED\"}},                        {\"showLink\": true, \"linkText\": \"Export to plot.ly\", \"plotlyServerURL\": \"https://plot.ly\", \"responsive\": true}                    ).then(function(){\n",
       "                            \n",
       "var gd = document.getElementById('8393a4d4-2dc7-4cd8-82dd-1bcd6743b91f');\n",
       "var x = new MutationObserver(function (mutations, observer) {{\n",
       "        var display = window.getComputedStyle(gd).display;\n",
       "        if (!display || display === 'none') {{\n",
       "            console.log([gd, 'removed!']);\n",
       "            Plotly.purge(gd);\n",
       "            observer.disconnect();\n",
       "        }}\n",
       "}});\n",
       "\n",
       "// Listen for the removal of the full notebook cells\n",
       "var notebookContainer = gd.closest('#notebook-container');\n",
       "if (notebookContainer) {{\n",
       "    x.observe(notebookContainer, {childList: true});\n",
       "}}\n",
       "\n",
       "// Listen for the clearing of the current output cell\n",
       "var outputEl = gd.closest('.output');\n",
       "if (outputEl) {{\n",
       "    x.observe(outputEl, {childList: true});\n",
       "}}\n",
       "\n",
       "                        })                };                });            </script>        </div>"
      ]
     },
     "metadata": {},
     "output_type": "display_data"
    }
   ],
   "source": [
    "df['A'].iplot(kind='hist',bins=25)"
   ]
  },
  {
   "cell_type": "code",
   "execution_count": 29,
   "metadata": {},
   "outputs": [
    {
     "data": {
      "application/vnd.plotly.v1+json": {
       "config": {
        "linkText": "Export to plot.ly",
        "plotlyServerURL": "https://plot.ly",
        "showLink": true
       },
       "data": [
        {
         "histfunc": "count",
         "histnorm": "",
         "marker": {
          "color": "rgba(255, 153, 51, 1.0)",
          "line": {
           "color": "#4D5663",
           "width": 1.3
          }
         },
         "name": "A",
         "opacity": 0.8,
         "orientation": "v",
         "type": "histogram",
         "x": [
          -0.9059946344274774,
          -0.4228448892570872,
          0.32823669086437185,
          0.6558818756618977,
          -0.23279394393207223,
          0.6525595480366613,
          -1.6915425316219246,
          0.19774000582771878,
          0.2527613251803961,
          1.2212768041507416,
          -1.0510831617170036,
          -0.7793914985082284,
          0.806056944934075,
          -0.6311019866196699,
          0.934877974567317,
          0.16080341281909977,
          -0.26044787101587635,
          -1.1189492025341188,
          0.9314131210571004,
          1.637803872997042,
          0.6740388916031278,
          1.0131855330251243,
          1.0735801831928784,
          0.937155505884544,
          -0.9383642090609543,
          -1.4125546602473755,
          -1.3961261570716632,
          1.4624065012532907,
          1.5085679801507355,
          0.37384897602131767,
          0.14589136140687492,
          -0.23095768454721793,
          -2.3629173679389783,
          0.25331855988772656,
          -0.3115860491141523,
          -0.3030080296653969,
          0.8976458438423921,
          -0.22670266681646012,
          0.41600691876623586,
          0.44298800896287893,
          0.48238892353758295,
          2.8740147943888767,
          1.2137085672267414,
          -0.5078538839778108,
          0.2712852957322795,
          0.48451943108122075,
          0.7602644879314184,
          1.066266090804438,
          -0.7210114083722396,
          0.32916613351098817,
          0.21287846776990083,
          1.3120634164376894,
          1.4845215944923633,
          1.2118529866244876,
          -0.35062596725697137,
          1.4679054114460215,
          0.5946197808733853,
          0.7653928202932211,
          0.502620298066773,
          -0.4655955727577539,
          -0.7795213169381651,
          -0.5835420380031595,
          0.581868964354893,
          -0.8446734086931094,
          -0.6104474804218408,
          -0.49453527742225606,
          0.03616565350186925,
          1.677717127944498,
          -0.13111115072431645,
          0.35354551803517,
          -1.1395729739401037,
          1.087329072160173,
          1.9901243821040628,
          1.4587485333823857,
          0.5863304514720385,
          -1.72328053440473,
          -0.33482969209209335,
          -0.5675569496541126,
          -0.7552568197099411,
          0.984241478144492,
          0.5130936566082164,
          1.007047428091453,
          -0.25229733785962855,
          -1.0765534930300449,
          -1.0836901842430446,
          1.251316893181913,
          -0.061947611188396756,
          -1.5090608602782263,
          0.5407038713008661,
          -0.7598080181281253,
          -2.24033822867379,
          -1.025455849018686,
          -0.6449593030755074,
          -2.3407345468245557,
          1.9319811029535663,
          0.44323959373215516,
          -0.3715898916904119,
          0.7183414221195205,
          0.9328345702391438,
          0.7111546819960841
         ]
        },
        {
         "histfunc": "count",
         "histnorm": "",
         "marker": {
          "color": "rgba(55, 128, 191, 1.0)",
          "line": {
           "color": "#4D5663",
           "width": 1.3
          }
         },
         "name": "B",
         "opacity": 0.8,
         "orientation": "v",
         "type": "histogram",
         "x": [
          0.39809897088173535,
          -0.14652925480192855,
          0.9857309327643848,
          -0.8247877220344356,
          -0.7171326813869001,
          0.27152193419855913,
          -0.14087040880362503,
          -0.0890924278317126,
          1.3250570353670188,
          0.09866929384221915,
          -1.456511319329652,
          -1.6257292208567193,
          -0.6674107831292494,
          0.3811991927832541,
          -0.5464922895705291,
          -3.162439502735584,
          -0.658820338868281,
          0.7721719856870062,
          -0.3171154031995474,
          -1.0020734777415063,
          -0.02659884375709406,
          1.4254056731396323,
          0.6836421842787477,
          -0.9772538796145454,
          1.179589205909156,
          0.5452437251135169,
          0.9451720539792436,
          -0.5674693547604166,
          -1.9367879178372351,
          0.09939863026944817,
          0.3788358260021555,
          -0.12359656382636455,
          -0.38458928359784156,
          -0.13612423713165192,
          -0.20220123127288567,
          -0.057722094925038374,
          -0.4215960142227496,
          -1.1817887527339672,
          -0.6820955787736707,
          0.54268553457587,
          2.269274538955471,
          1.399616365283778,
          0.39919861740985063,
          -0.7429824032412617,
          -0.5579151083162384,
          0.49856107072948636,
          -0.6122498520456356,
          -0.5196819457867476,
          0.6580335477597211,
          -1.4453404736418463,
          -1.0683326326666698,
          1.7800123892054036,
          0.33842572157581263,
          1.084922008912415,
          0.710339271478755,
          0.12105239058331187,
          -0.8509752427452628,
          -1.3491238864126032,
          -1.8598394510153693,
          -1.0659054118800213,
          1.3236350429577803,
          0.5444277023592253,
          -0.6727411628076259,
          -0.018547264192752825,
          -0.8071229564449062,
          0.33751660203866807,
          0.1881745849663572,
          0.12260492122922247,
          0.30615558365396084,
          1.2458146238905483,
          1.7110470711557848,
          -0.4800976041892355,
          2.221328091101082,
          0.34503964151741096,
          1.3888534612108372,
          -0.6121543897912833,
          1.5135232133398413,
          0.3550466399495089,
          -0.5125535379885994,
          -0.8684090756031528,
          -0.0880389921588798,
          1.5107179811616,
          -0.07874484690047716,
          -0.5389501748212824,
          0.7535046636019881,
          -0.5600026707788827,
          -0.3110571605343825,
          0.6306288933906005,
          -0.12702949524031082,
          -0.5299579481574125,
          -0.2319476324342638,
          1.1584607557786735,
          -1.5686875302712062,
          0.06172482147957937,
          -0.6198455475019047,
          -2.0770439203968674,
          0.09306099403907173,
          -0.45720135238549225,
          -0.30414649191620025,
          0.03513373986031923
         ]
        },
        {
         "histfunc": "count",
         "histnorm": "",
         "marker": {
          "color": "rgba(50, 171, 96, 1.0)",
          "line": {
           "color": "#4D5663",
           "width": 1.3
          }
         },
         "name": "C",
         "opacity": 0.8,
         "orientation": "v",
         "type": "histogram",
         "x": [
          0.8899482647583795,
          -0.48741350404004985,
          0.12298514481001037,
          -1.774585791587798,
          0.25788794441048885,
          -0.06328921642114764,
          0.8651593131570227,
          1.7149994554523373,
          -1.1952944135921917,
          -0.8242523462338697,
          0.2429233089008537,
          1.6624596340506916,
          0.8588193266652456,
          0.9647459497483071,
          -0.23813580241704013,
          -0.6197192913072721,
          0.060568610242076756,
          -1.876027186517289,
          0.686258974074959,
          -0.25673459721631553,
          0.7736769228693611,
          1.3566267794463591,
          0.7542012540572304,
          -0.42162929129487087,
          0.9487015299143998,
          -0.5761302532372644,
          -1.9029464805710632,
          1.0374031915795034,
          -0.7292548442852299,
          0.03334141354571613,
          1.0829223482605501,
          -1.2026214155339074,
          -1.2142580079903607,
          -0.27454086358979896,
          -1.0506533899581663,
          2.1551201246294123,
          -0.7651680756510916,
          -0.4067694711485394,
          0.831261276156096,
          -1.0147510732655431,
          1.0063233197321864,
          0.42723830554873815,
          1.5299200980024585,
          1.2998999231806587,
          1.2912300594676989,
          -1.2458776828641627,
          1.4474451621128004,
          0.15701383133376268,
          0.6814892571980171,
          2.0411505739861866,
          0.9452241695206468,
          0.43338888339608833,
          -0.4394511787806944,
          -0.5067859564033861,
          0.005055738764854608,
          1.474591522563153,
          -0.8629191140490524,
          -1.1874700605179853,
          -0.09757250559983943,
          -0.36828724929648926,
          1.0283783282412238,
          -0.3883995820650151,
          -0.16426441703822522,
          1.4189273452155675,
          -0.11048245401354172,
          0.3940338401538025,
          0.8170583108124951,
          -0.8699307446545328,
          -0.05625756849411813,
          0.5502998160612507,
          -1.6593905590086808,
          -0.08164535796275711,
          -0.7840450616919273,
          -0.5841850807268515,
          1.8086013752422376,
          0.4074760772558162,
          -1.0259072552717319,
          -1.0879739342231223,
          -1.0467410679175666,
          0.8687746229923943,
          0.4870077060513073,
          -1.1891200717940589,
          -0.08436834921922547,
          -0.9195326383906376,
          -0.3415648548625693,
          -0.2794170119234371,
          0.01138761588792133,
          -0.9140522953517211,
          -0.16531178762007206,
          1.7946611443079783,
          -0.051732808917070806,
          0.7789357894976013,
          1.0688045621594884,
          0.11159693286318663,
          0.7512815794487576,
          -0.5802136776239283,
          0.8047680319434942,
          -1.0850259838757654,
          -0.6812093113350112,
          0.38254119848273516
         ]
        },
        {
         "histfunc": "count",
         "histnorm": "",
         "marker": {
          "color": "rgba(128, 0, 128, 1.0)",
          "line": {
           "color": "#4D5663",
           "width": 1.3
          }
         },
         "name": "D",
         "opacity": 0.8,
         "orientation": "v",
         "type": "histogram",
         "x": [
          -0.3618724048781142,
          -0.40687761489980623,
          0.5195626630568237,
          0.13912631703553005,
          0.32528591114126365,
          0.629820985303858,
          -0.17041115083404465,
          -0.23380726018029674,
          0.6930189819079416,
          0.4321523738209809,
          -0.06832956849261512,
          0.7054808326257046,
          0.3925765839568227,
          0.8414122179485375,
          2.7492266137991384,
          2.789035520870783,
          -0.49788911678712844,
          1.0306950917299138,
          -0.6252367154260806,
          -0.04499324689704075,
          -0.7098464166552086,
          1.0913140164808373,
          -0.14937672319567452,
          -0.027169954537775307,
          -0.33327178910759336,
          0.9782141349110773,
          -0.1659250766810504,
          -1.1907971669168738,
          2.4582023742263774,
          -0.19076034535752567,
          -0.263968439562819,
          -1.2131711833684555,
          0.6549835291202654,
          1.761118222522333,
          0.009168450583866327,
          0.27954336114813516,
          0.5133601348779316,
          -0.7185694932596692,
          -1.1793560729556487,
          1.6022489903898194,
          -1.091237147724573,
          1.9403277119055318,
          0.10413118292587473,
          0.14002107064947966,
          -0.5923516210365952,
          0.3798847137907724,
          1.4175155728259794,
          -0.16165530760120006,
          0.45483955058631537,
          -1.7591790350741123,
          -1.9401472052225492,
          -0.9747105857243566,
          0.2097433224401488,
          0.9428628417877921,
          -1.3460870937111664,
          0.3270291246531071,
          0.9388246148042848,
          -0.9354385562636851,
          0.7236083171803579,
          -0.7324644250452019,
          0.8144034408789959,
          -0.29984428088096304,
          -1.2708026061786377,
          0.7791969024999302,
          0.10634367954919603,
          0.8804390908267082,
          -1.3920998512600171,
          -0.7289623760466917,
          1.6324837909472627,
          -2.275718441810622,
          0.6996653927285276,
          1.9021999289395772,
          -0.22496156634148104,
          -1.236445754124931,
          -0.13670267087326995,
          -1.016315959147242,
          -0.39809020253168687,
          -1.9750991406903013,
          -0.6407360151401108,
          -0.4894767126128095,
          -1.0559998264889134,
          0.5287302277768998,
          -0.06599684649481262,
          0.15982134331091033,
          -0.21114957671805018,
          -0.10064997659060733,
          0.10968624643260116,
          0.4904529657311047,
          -1.1501791726685733,
          0.9470020914184902,
          -0.5453496522243801,
          -1.0544030950720638,
          -0.35195965450924055,
          0.6953243269099676,
          -0.7048377964351703,
          0.1343931435270347,
          0.008367024707526283,
          -0.8295441813327156,
          0.8504452543199488,
          0.294786501266867
         ]
        }
       ],
       "layout": {
        "barmode": "overlay",
        "legend": {
         "bgcolor": "#F5F6F9",
         "font": {
          "color": "#4D5663"
         }
        },
        "paper_bgcolor": "#F5F6F9",
        "plot_bgcolor": "#F5F6F9",
        "template": {
         "data": {
          "bar": [
           {
            "error_x": {
             "color": "#2a3f5f"
            },
            "error_y": {
             "color": "#2a3f5f"
            },
            "marker": {
             "line": {
              "color": "#E5ECF6",
              "width": 0.5
             },
             "pattern": {
              "fillmode": "overlay",
              "size": 10,
              "solidity": 0.2
             }
            },
            "type": "bar"
           }
          ],
          "barpolar": [
           {
            "marker": {
             "line": {
              "color": "#E5ECF6",
              "width": 0.5
             },
             "pattern": {
              "fillmode": "overlay",
              "size": 10,
              "solidity": 0.2
             }
            },
            "type": "barpolar"
           }
          ],
          "carpet": [
           {
            "aaxis": {
             "endlinecolor": "#2a3f5f",
             "gridcolor": "white",
             "linecolor": "white",
             "minorgridcolor": "white",
             "startlinecolor": "#2a3f5f"
            },
            "baxis": {
             "endlinecolor": "#2a3f5f",
             "gridcolor": "white",
             "linecolor": "white",
             "minorgridcolor": "white",
             "startlinecolor": "#2a3f5f"
            },
            "type": "carpet"
           }
          ],
          "choropleth": [
           {
            "colorbar": {
             "outlinewidth": 0,
             "ticks": ""
            },
            "type": "choropleth"
           }
          ],
          "contour": [
           {
            "colorbar": {
             "outlinewidth": 0,
             "ticks": ""
            },
            "colorscale": [
             [
              0,
              "#0d0887"
             ],
             [
              0.1111111111111111,
              "#46039f"
             ],
             [
              0.2222222222222222,
              "#7201a8"
             ],
             [
              0.3333333333333333,
              "#9c179e"
             ],
             [
              0.4444444444444444,
              "#bd3786"
             ],
             [
              0.5555555555555556,
              "#d8576b"
             ],
             [
              0.6666666666666666,
              "#ed7953"
             ],
             [
              0.7777777777777778,
              "#fb9f3a"
             ],
             [
              0.8888888888888888,
              "#fdca26"
             ],
             [
              1,
              "#f0f921"
             ]
            ],
            "type": "contour"
           }
          ],
          "contourcarpet": [
           {
            "colorbar": {
             "outlinewidth": 0,
             "ticks": ""
            },
            "type": "contourcarpet"
           }
          ],
          "heatmap": [
           {
            "colorbar": {
             "outlinewidth": 0,
             "ticks": ""
            },
            "colorscale": [
             [
              0,
              "#0d0887"
             ],
             [
              0.1111111111111111,
              "#46039f"
             ],
             [
              0.2222222222222222,
              "#7201a8"
             ],
             [
              0.3333333333333333,
              "#9c179e"
             ],
             [
              0.4444444444444444,
              "#bd3786"
             ],
             [
              0.5555555555555556,
              "#d8576b"
             ],
             [
              0.6666666666666666,
              "#ed7953"
             ],
             [
              0.7777777777777778,
              "#fb9f3a"
             ],
             [
              0.8888888888888888,
              "#fdca26"
             ],
             [
              1,
              "#f0f921"
             ]
            ],
            "type": "heatmap"
           }
          ],
          "heatmapgl": [
           {
            "colorbar": {
             "outlinewidth": 0,
             "ticks": ""
            },
            "colorscale": [
             [
              0,
              "#0d0887"
             ],
             [
              0.1111111111111111,
              "#46039f"
             ],
             [
              0.2222222222222222,
              "#7201a8"
             ],
             [
              0.3333333333333333,
              "#9c179e"
             ],
             [
              0.4444444444444444,
              "#bd3786"
             ],
             [
              0.5555555555555556,
              "#d8576b"
             ],
             [
              0.6666666666666666,
              "#ed7953"
             ],
             [
              0.7777777777777778,
              "#fb9f3a"
             ],
             [
              0.8888888888888888,
              "#fdca26"
             ],
             [
              1,
              "#f0f921"
             ]
            ],
            "type": "heatmapgl"
           }
          ],
          "histogram": [
           {
            "marker": {
             "pattern": {
              "fillmode": "overlay",
              "size": 10,
              "solidity": 0.2
             }
            },
            "type": "histogram"
           }
          ],
          "histogram2d": [
           {
            "colorbar": {
             "outlinewidth": 0,
             "ticks": ""
            },
            "colorscale": [
             [
              0,
              "#0d0887"
             ],
             [
              0.1111111111111111,
              "#46039f"
             ],
             [
              0.2222222222222222,
              "#7201a8"
             ],
             [
              0.3333333333333333,
              "#9c179e"
             ],
             [
              0.4444444444444444,
              "#bd3786"
             ],
             [
              0.5555555555555556,
              "#d8576b"
             ],
             [
              0.6666666666666666,
              "#ed7953"
             ],
             [
              0.7777777777777778,
              "#fb9f3a"
             ],
             [
              0.8888888888888888,
              "#fdca26"
             ],
             [
              1,
              "#f0f921"
             ]
            ],
            "type": "histogram2d"
           }
          ],
          "histogram2dcontour": [
           {
            "colorbar": {
             "outlinewidth": 0,
             "ticks": ""
            },
            "colorscale": [
             [
              0,
              "#0d0887"
             ],
             [
              0.1111111111111111,
              "#46039f"
             ],
             [
              0.2222222222222222,
              "#7201a8"
             ],
             [
              0.3333333333333333,
              "#9c179e"
             ],
             [
              0.4444444444444444,
              "#bd3786"
             ],
             [
              0.5555555555555556,
              "#d8576b"
             ],
             [
              0.6666666666666666,
              "#ed7953"
             ],
             [
              0.7777777777777778,
              "#fb9f3a"
             ],
             [
              0.8888888888888888,
              "#fdca26"
             ],
             [
              1,
              "#f0f921"
             ]
            ],
            "type": "histogram2dcontour"
           }
          ],
          "mesh3d": [
           {
            "colorbar": {
             "outlinewidth": 0,
             "ticks": ""
            },
            "type": "mesh3d"
           }
          ],
          "parcoords": [
           {
            "line": {
             "colorbar": {
              "outlinewidth": 0,
              "ticks": ""
             }
            },
            "type": "parcoords"
           }
          ],
          "pie": [
           {
            "automargin": true,
            "type": "pie"
           }
          ],
          "scatter": [
           {
            "marker": {
             "colorbar": {
              "outlinewidth": 0,
              "ticks": ""
             }
            },
            "type": "scatter"
           }
          ],
          "scatter3d": [
           {
            "line": {
             "colorbar": {
              "outlinewidth": 0,
              "ticks": ""
             }
            },
            "marker": {
             "colorbar": {
              "outlinewidth": 0,
              "ticks": ""
             }
            },
            "type": "scatter3d"
           }
          ],
          "scattercarpet": [
           {
            "marker": {
             "colorbar": {
              "outlinewidth": 0,
              "ticks": ""
             }
            },
            "type": "scattercarpet"
           }
          ],
          "scattergeo": [
           {
            "marker": {
             "colorbar": {
              "outlinewidth": 0,
              "ticks": ""
             }
            },
            "type": "scattergeo"
           }
          ],
          "scattergl": [
           {
            "marker": {
             "colorbar": {
              "outlinewidth": 0,
              "ticks": ""
             }
            },
            "type": "scattergl"
           }
          ],
          "scattermapbox": [
           {
            "marker": {
             "colorbar": {
              "outlinewidth": 0,
              "ticks": ""
             }
            },
            "type": "scattermapbox"
           }
          ],
          "scatterpolar": [
           {
            "marker": {
             "colorbar": {
              "outlinewidth": 0,
              "ticks": ""
             }
            },
            "type": "scatterpolar"
           }
          ],
          "scatterpolargl": [
           {
            "marker": {
             "colorbar": {
              "outlinewidth": 0,
              "ticks": ""
             }
            },
            "type": "scatterpolargl"
           }
          ],
          "scatterternary": [
           {
            "marker": {
             "colorbar": {
              "outlinewidth": 0,
              "ticks": ""
             }
            },
            "type": "scatterternary"
           }
          ],
          "surface": [
           {
            "colorbar": {
             "outlinewidth": 0,
             "ticks": ""
            },
            "colorscale": [
             [
              0,
              "#0d0887"
             ],
             [
              0.1111111111111111,
              "#46039f"
             ],
             [
              0.2222222222222222,
              "#7201a8"
             ],
             [
              0.3333333333333333,
              "#9c179e"
             ],
             [
              0.4444444444444444,
              "#bd3786"
             ],
             [
              0.5555555555555556,
              "#d8576b"
             ],
             [
              0.6666666666666666,
              "#ed7953"
             ],
             [
              0.7777777777777778,
              "#fb9f3a"
             ],
             [
              0.8888888888888888,
              "#fdca26"
             ],
             [
              1,
              "#f0f921"
             ]
            ],
            "type": "surface"
           }
          ],
          "table": [
           {
            "cells": {
             "fill": {
              "color": "#EBF0F8"
             },
             "line": {
              "color": "white"
             }
            },
            "header": {
             "fill": {
              "color": "#C8D4E3"
             },
             "line": {
              "color": "white"
             }
            },
            "type": "table"
           }
          ]
         },
         "layout": {
          "annotationdefaults": {
           "arrowcolor": "#2a3f5f",
           "arrowhead": 0,
           "arrowwidth": 1
          },
          "autotypenumbers": "strict",
          "coloraxis": {
           "colorbar": {
            "outlinewidth": 0,
            "ticks": ""
           }
          },
          "colorscale": {
           "diverging": [
            [
             0,
             "#8e0152"
            ],
            [
             0.1,
             "#c51b7d"
            ],
            [
             0.2,
             "#de77ae"
            ],
            [
             0.3,
             "#f1b6da"
            ],
            [
             0.4,
             "#fde0ef"
            ],
            [
             0.5,
             "#f7f7f7"
            ],
            [
             0.6,
             "#e6f5d0"
            ],
            [
             0.7,
             "#b8e186"
            ],
            [
             0.8,
             "#7fbc41"
            ],
            [
             0.9,
             "#4d9221"
            ],
            [
             1,
             "#276419"
            ]
           ],
           "sequential": [
            [
             0,
             "#0d0887"
            ],
            [
             0.1111111111111111,
             "#46039f"
            ],
            [
             0.2222222222222222,
             "#7201a8"
            ],
            [
             0.3333333333333333,
             "#9c179e"
            ],
            [
             0.4444444444444444,
             "#bd3786"
            ],
            [
             0.5555555555555556,
             "#d8576b"
            ],
            [
             0.6666666666666666,
             "#ed7953"
            ],
            [
             0.7777777777777778,
             "#fb9f3a"
            ],
            [
             0.8888888888888888,
             "#fdca26"
            ],
            [
             1,
             "#f0f921"
            ]
           ],
           "sequentialminus": [
            [
             0,
             "#0d0887"
            ],
            [
             0.1111111111111111,
             "#46039f"
            ],
            [
             0.2222222222222222,
             "#7201a8"
            ],
            [
             0.3333333333333333,
             "#9c179e"
            ],
            [
             0.4444444444444444,
             "#bd3786"
            ],
            [
             0.5555555555555556,
             "#d8576b"
            ],
            [
             0.6666666666666666,
             "#ed7953"
            ],
            [
             0.7777777777777778,
             "#fb9f3a"
            ],
            [
             0.8888888888888888,
             "#fdca26"
            ],
            [
             1,
             "#f0f921"
            ]
           ]
          },
          "colorway": [
           "#636efa",
           "#EF553B",
           "#00cc96",
           "#ab63fa",
           "#FFA15A",
           "#19d3f3",
           "#FF6692",
           "#B6E880",
           "#FF97FF",
           "#FECB52"
          ],
          "font": {
           "color": "#2a3f5f"
          },
          "geo": {
           "bgcolor": "white",
           "lakecolor": "white",
           "landcolor": "#E5ECF6",
           "showlakes": true,
           "showland": true,
           "subunitcolor": "white"
          },
          "hoverlabel": {
           "align": "left"
          },
          "hovermode": "closest",
          "mapbox": {
           "style": "light"
          },
          "paper_bgcolor": "white",
          "plot_bgcolor": "#E5ECF6",
          "polar": {
           "angularaxis": {
            "gridcolor": "white",
            "linecolor": "white",
            "ticks": ""
           },
           "bgcolor": "#E5ECF6",
           "radialaxis": {
            "gridcolor": "white",
            "linecolor": "white",
            "ticks": ""
           }
          },
          "scene": {
           "xaxis": {
            "backgroundcolor": "#E5ECF6",
            "gridcolor": "white",
            "gridwidth": 2,
            "linecolor": "white",
            "showbackground": true,
            "ticks": "",
            "zerolinecolor": "white"
           },
           "yaxis": {
            "backgroundcolor": "#E5ECF6",
            "gridcolor": "white",
            "gridwidth": 2,
            "linecolor": "white",
            "showbackground": true,
            "ticks": "",
            "zerolinecolor": "white"
           },
           "zaxis": {
            "backgroundcolor": "#E5ECF6",
            "gridcolor": "white",
            "gridwidth": 2,
            "linecolor": "white",
            "showbackground": true,
            "ticks": "",
            "zerolinecolor": "white"
           }
          },
          "shapedefaults": {
           "line": {
            "color": "#2a3f5f"
           }
          },
          "ternary": {
           "aaxis": {
            "gridcolor": "white",
            "linecolor": "white",
            "ticks": ""
           },
           "baxis": {
            "gridcolor": "white",
            "linecolor": "white",
            "ticks": ""
           },
           "bgcolor": "#E5ECF6",
           "caxis": {
            "gridcolor": "white",
            "linecolor": "white",
            "ticks": ""
           }
          },
          "title": {
           "x": 0.05
          },
          "xaxis": {
           "automargin": true,
           "gridcolor": "white",
           "linecolor": "white",
           "ticks": "",
           "title": {
            "standoff": 15
           },
           "zerolinecolor": "white",
           "zerolinewidth": 2
          },
          "yaxis": {
           "automargin": true,
           "gridcolor": "white",
           "linecolor": "white",
           "ticks": "",
           "title": {
            "standoff": 15
           },
           "zerolinecolor": "white",
           "zerolinewidth": 2
          }
         }
        },
        "title": {
         "font": {
          "color": "#4D5663"
         }
        },
        "xaxis": {
         "gridcolor": "#E1E5ED",
         "showgrid": true,
         "tickfont": {
          "color": "#4D5663"
         },
         "title": {
          "font": {
           "color": "#4D5663"
          },
          "text": ""
         },
         "zerolinecolor": "#E1E5ED"
        },
        "yaxis": {
         "gridcolor": "#E1E5ED",
         "showgrid": true,
         "tickfont": {
          "color": "#4D5663"
         },
         "title": {
          "font": {
           "color": "#4D5663"
          },
          "text": ""
         },
         "zerolinecolor": "#E1E5ED"
        }
       }
      },
      "text/html": [
       "<div>                            <div id=\"6d9315ba-1b6e-44a6-8ee2-badef3464f2f\" class=\"plotly-graph-div\" style=\"height:525px; width:100%;\"></div>            <script type=\"text/javascript\">                require([\"plotly\"], function(Plotly) {                    window.PLOTLYENV=window.PLOTLYENV || {};\n",
       "                    window.PLOTLYENV.BASE_URL='https://plot.ly';                                    if (document.getElementById(\"6d9315ba-1b6e-44a6-8ee2-badef3464f2f\")) {                    Plotly.newPlot(                        \"6d9315ba-1b6e-44a6-8ee2-badef3464f2f\",                        [{\"histfunc\":\"count\",\"histnorm\":\"\",\"marker\":{\"color\":\"rgba(255, 153, 51, 1.0)\",\"line\":{\"color\":\"#4D5663\",\"width\":1.3}},\"name\":\"A\",\"opacity\":0.8,\"orientation\":\"v\",\"type\":\"histogram\",\"x\":[-0.9059946344274774,-0.4228448892570872,0.32823669086437185,0.6558818756618977,-0.23279394393207223,0.6525595480366613,-1.6915425316219246,0.19774000582771878,0.2527613251803961,1.2212768041507416,-1.0510831617170036,-0.7793914985082284,0.806056944934075,-0.6311019866196699,0.934877974567317,0.16080341281909977,-0.26044787101587635,-1.1189492025341188,0.9314131210571004,1.637803872997042,0.6740388916031278,1.0131855330251243,1.0735801831928784,0.937155505884544,-0.9383642090609543,-1.4125546602473755,-1.3961261570716632,1.4624065012532907,1.5085679801507355,0.37384897602131767,0.14589136140687492,-0.23095768454721793,-2.3629173679389783,0.25331855988772656,-0.3115860491141523,-0.3030080296653969,0.8976458438423921,-0.22670266681646012,0.41600691876623586,0.44298800896287893,0.48238892353758295,2.8740147943888767,1.2137085672267414,-0.5078538839778108,0.2712852957322795,0.48451943108122075,0.7602644879314184,1.066266090804438,-0.7210114083722396,0.32916613351098817,0.21287846776990083,1.3120634164376894,1.4845215944923633,1.2118529866244876,-0.35062596725697137,1.4679054114460215,0.5946197808733853,0.7653928202932211,0.502620298066773,-0.4655955727577539,-0.7795213169381651,-0.5835420380031595,0.581868964354893,-0.8446734086931094,-0.6104474804218408,-0.49453527742225606,0.03616565350186925,1.677717127944498,-0.13111115072431645,0.35354551803517,-1.1395729739401037,1.087329072160173,1.9901243821040628,1.4587485333823857,0.5863304514720385,-1.72328053440473,-0.33482969209209335,-0.5675569496541126,-0.7552568197099411,0.984241478144492,0.5130936566082164,1.007047428091453,-0.25229733785962855,-1.0765534930300449,-1.0836901842430446,1.251316893181913,-0.061947611188396756,-1.5090608602782263,0.5407038713008661,-0.7598080181281253,-2.24033822867379,-1.025455849018686,-0.6449593030755074,-2.3407345468245557,1.9319811029535663,0.44323959373215516,-0.3715898916904119,0.7183414221195205,0.9328345702391438,0.7111546819960841]},{\"histfunc\":\"count\",\"histnorm\":\"\",\"marker\":{\"color\":\"rgba(55, 128, 191, 1.0)\",\"line\":{\"color\":\"#4D5663\",\"width\":1.3}},\"name\":\"B\",\"opacity\":0.8,\"orientation\":\"v\",\"type\":\"histogram\",\"x\":[0.39809897088173535,-0.14652925480192855,0.9857309327643848,-0.8247877220344356,-0.7171326813869001,0.27152193419855913,-0.14087040880362503,-0.0890924278317126,1.3250570353670188,0.09866929384221915,-1.456511319329652,-1.6257292208567193,-0.6674107831292494,0.3811991927832541,-0.5464922895705291,-3.162439502735584,-0.658820338868281,0.7721719856870062,-0.3171154031995474,-1.0020734777415063,-0.02659884375709406,1.4254056731396323,0.6836421842787477,-0.9772538796145454,1.179589205909156,0.5452437251135169,0.9451720539792436,-0.5674693547604166,-1.9367879178372351,0.09939863026944817,0.3788358260021555,-0.12359656382636455,-0.38458928359784156,-0.13612423713165192,-0.20220123127288567,-0.057722094925038374,-0.4215960142227496,-1.1817887527339672,-0.6820955787736707,0.54268553457587,2.269274538955471,1.399616365283778,0.39919861740985063,-0.7429824032412617,-0.5579151083162384,0.49856107072948636,-0.6122498520456356,-0.5196819457867476,0.6580335477597211,-1.4453404736418463,-1.0683326326666698,1.7800123892054036,0.33842572157581263,1.084922008912415,0.710339271478755,0.12105239058331187,-0.8509752427452628,-1.3491238864126032,-1.8598394510153693,-1.0659054118800213,1.3236350429577803,0.5444277023592253,-0.6727411628076259,-0.018547264192752825,-0.8071229564449062,0.33751660203866807,0.1881745849663572,0.12260492122922247,0.30615558365396084,1.2458146238905483,1.7110470711557848,-0.4800976041892355,2.221328091101082,0.34503964151741096,1.3888534612108372,-0.6121543897912833,1.5135232133398413,0.3550466399495089,-0.5125535379885994,-0.8684090756031528,-0.0880389921588798,1.5107179811616,-0.07874484690047716,-0.5389501748212824,0.7535046636019881,-0.5600026707788827,-0.3110571605343825,0.6306288933906005,-0.12702949524031082,-0.5299579481574125,-0.2319476324342638,1.1584607557786735,-1.5686875302712062,0.06172482147957937,-0.6198455475019047,-2.0770439203968674,0.09306099403907173,-0.45720135238549225,-0.30414649191620025,0.03513373986031923]},{\"histfunc\":\"count\",\"histnorm\":\"\",\"marker\":{\"color\":\"rgba(50, 171, 96, 1.0)\",\"line\":{\"color\":\"#4D5663\",\"width\":1.3}},\"name\":\"C\",\"opacity\":0.8,\"orientation\":\"v\",\"type\":\"histogram\",\"x\":[0.8899482647583795,-0.48741350404004985,0.12298514481001037,-1.774585791587798,0.25788794441048885,-0.06328921642114764,0.8651593131570227,1.7149994554523373,-1.1952944135921917,-0.8242523462338697,0.2429233089008537,1.6624596340506916,0.8588193266652456,0.9647459497483071,-0.23813580241704013,-0.6197192913072721,0.060568610242076756,-1.876027186517289,0.686258974074959,-0.25673459721631553,0.7736769228693611,1.3566267794463591,0.7542012540572304,-0.42162929129487087,0.9487015299143998,-0.5761302532372644,-1.9029464805710632,1.0374031915795034,-0.7292548442852299,0.03334141354571613,1.0829223482605501,-1.2026214155339074,-1.2142580079903607,-0.27454086358979896,-1.0506533899581663,2.1551201246294123,-0.7651680756510916,-0.4067694711485394,0.831261276156096,-1.0147510732655431,1.0063233197321864,0.42723830554873815,1.5299200980024585,1.2998999231806587,1.2912300594676989,-1.2458776828641627,1.4474451621128004,0.15701383133376268,0.6814892571980171,2.0411505739861866,0.9452241695206468,0.43338888339608833,-0.4394511787806944,-0.5067859564033861,0.005055738764854608,1.474591522563153,-0.8629191140490524,-1.1874700605179853,-0.09757250559983943,-0.36828724929648926,1.0283783282412238,-0.3883995820650151,-0.16426441703822522,1.4189273452155675,-0.11048245401354172,0.3940338401538025,0.8170583108124951,-0.8699307446545328,-0.05625756849411813,0.5502998160612507,-1.6593905590086808,-0.08164535796275711,-0.7840450616919273,-0.5841850807268515,1.8086013752422376,0.4074760772558162,-1.0259072552717319,-1.0879739342231223,-1.0467410679175666,0.8687746229923943,0.4870077060513073,-1.1891200717940589,-0.08436834921922547,-0.9195326383906376,-0.3415648548625693,-0.2794170119234371,0.01138761588792133,-0.9140522953517211,-0.16531178762007206,1.7946611443079783,-0.051732808917070806,0.7789357894976013,1.0688045621594884,0.11159693286318663,0.7512815794487576,-0.5802136776239283,0.8047680319434942,-1.0850259838757654,-0.6812093113350112,0.38254119848273516]},{\"histfunc\":\"count\",\"histnorm\":\"\",\"marker\":{\"color\":\"rgba(128, 0, 128, 1.0)\",\"line\":{\"color\":\"#4D5663\",\"width\":1.3}},\"name\":\"D\",\"opacity\":0.8,\"orientation\":\"v\",\"type\":\"histogram\",\"x\":[-0.3618724048781142,-0.40687761489980623,0.5195626630568237,0.13912631703553005,0.32528591114126365,0.629820985303858,-0.17041115083404465,-0.23380726018029674,0.6930189819079416,0.4321523738209809,-0.06832956849261512,0.7054808326257046,0.3925765839568227,0.8414122179485375,2.7492266137991384,2.789035520870783,-0.49788911678712844,1.0306950917299138,-0.6252367154260806,-0.04499324689704075,-0.7098464166552086,1.0913140164808373,-0.14937672319567452,-0.027169954537775307,-0.33327178910759336,0.9782141349110773,-0.1659250766810504,-1.1907971669168738,2.4582023742263774,-0.19076034535752567,-0.263968439562819,-1.2131711833684555,0.6549835291202654,1.761118222522333,0.009168450583866327,0.27954336114813516,0.5133601348779316,-0.7185694932596692,-1.1793560729556487,1.6022489903898194,-1.091237147724573,1.9403277119055318,0.10413118292587473,0.14002107064947966,-0.5923516210365952,0.3798847137907724,1.4175155728259794,-0.16165530760120006,0.45483955058631537,-1.7591790350741123,-1.9401472052225492,-0.9747105857243566,0.2097433224401488,0.9428628417877921,-1.3460870937111664,0.3270291246531071,0.9388246148042848,-0.9354385562636851,0.7236083171803579,-0.7324644250452019,0.8144034408789959,-0.29984428088096304,-1.2708026061786377,0.7791969024999302,0.10634367954919603,0.8804390908267082,-1.3920998512600171,-0.7289623760466917,1.6324837909472627,-2.275718441810622,0.6996653927285276,1.9021999289395772,-0.22496156634148104,-1.236445754124931,-0.13670267087326995,-1.016315959147242,-0.39809020253168687,-1.9750991406903013,-0.6407360151401108,-0.4894767126128095,-1.0559998264889134,0.5287302277768998,-0.06599684649481262,0.15982134331091033,-0.21114957671805018,-0.10064997659060733,0.10968624643260116,0.4904529657311047,-1.1501791726685733,0.9470020914184902,-0.5453496522243801,-1.0544030950720638,-0.35195965450924055,0.6953243269099676,-0.7048377964351703,0.1343931435270347,0.008367024707526283,-0.8295441813327156,0.8504452543199488,0.294786501266867]}],                        {\"barmode\":\"overlay\",\"legend\":{\"bgcolor\":\"#F5F6F9\",\"font\":{\"color\":\"#4D5663\"}},\"paper_bgcolor\":\"#F5F6F9\",\"plot_bgcolor\":\"#F5F6F9\",\"template\":{\"data\":{\"bar\":[{\"error_x\":{\"color\":\"#2a3f5f\"},\"error_y\":{\"color\":\"#2a3f5f\"},\"marker\":{\"line\":{\"color\":\"#E5ECF6\",\"width\":0.5},\"pattern\":{\"fillmode\":\"overlay\",\"size\":10,\"solidity\":0.2}},\"type\":\"bar\"}],\"barpolar\":[{\"marker\":{\"line\":{\"color\":\"#E5ECF6\",\"width\":0.5},\"pattern\":{\"fillmode\":\"overlay\",\"size\":10,\"solidity\":0.2}},\"type\":\"barpolar\"}],\"carpet\":[{\"aaxis\":{\"endlinecolor\":\"#2a3f5f\",\"gridcolor\":\"white\",\"linecolor\":\"white\",\"minorgridcolor\":\"white\",\"startlinecolor\":\"#2a3f5f\"},\"baxis\":{\"endlinecolor\":\"#2a3f5f\",\"gridcolor\":\"white\",\"linecolor\":\"white\",\"minorgridcolor\":\"white\",\"startlinecolor\":\"#2a3f5f\"},\"type\":\"carpet\"}],\"choropleth\":[{\"colorbar\":{\"outlinewidth\":0,\"ticks\":\"\"},\"type\":\"choropleth\"}],\"contour\":[{\"colorbar\":{\"outlinewidth\":0,\"ticks\":\"\"},\"colorscale\":[[0.0,\"#0d0887\"],[0.1111111111111111,\"#46039f\"],[0.2222222222222222,\"#7201a8\"],[0.3333333333333333,\"#9c179e\"],[0.4444444444444444,\"#bd3786\"],[0.5555555555555556,\"#d8576b\"],[0.6666666666666666,\"#ed7953\"],[0.7777777777777778,\"#fb9f3a\"],[0.8888888888888888,\"#fdca26\"],[1.0,\"#f0f921\"]],\"type\":\"contour\"}],\"contourcarpet\":[{\"colorbar\":{\"outlinewidth\":0,\"ticks\":\"\"},\"type\":\"contourcarpet\"}],\"heatmap\":[{\"colorbar\":{\"outlinewidth\":0,\"ticks\":\"\"},\"colorscale\":[[0.0,\"#0d0887\"],[0.1111111111111111,\"#46039f\"],[0.2222222222222222,\"#7201a8\"],[0.3333333333333333,\"#9c179e\"],[0.4444444444444444,\"#bd3786\"],[0.5555555555555556,\"#d8576b\"],[0.6666666666666666,\"#ed7953\"],[0.7777777777777778,\"#fb9f3a\"],[0.8888888888888888,\"#fdca26\"],[1.0,\"#f0f921\"]],\"type\":\"heatmap\"}],\"heatmapgl\":[{\"colorbar\":{\"outlinewidth\":0,\"ticks\":\"\"},\"colorscale\":[[0.0,\"#0d0887\"],[0.1111111111111111,\"#46039f\"],[0.2222222222222222,\"#7201a8\"],[0.3333333333333333,\"#9c179e\"],[0.4444444444444444,\"#bd3786\"],[0.5555555555555556,\"#d8576b\"],[0.6666666666666666,\"#ed7953\"],[0.7777777777777778,\"#fb9f3a\"],[0.8888888888888888,\"#fdca26\"],[1.0,\"#f0f921\"]],\"type\":\"heatmapgl\"}],\"histogram\":[{\"marker\":{\"pattern\":{\"fillmode\":\"overlay\",\"size\":10,\"solidity\":0.2}},\"type\":\"histogram\"}],\"histogram2d\":[{\"colorbar\":{\"outlinewidth\":0,\"ticks\":\"\"},\"colorscale\":[[0.0,\"#0d0887\"],[0.1111111111111111,\"#46039f\"],[0.2222222222222222,\"#7201a8\"],[0.3333333333333333,\"#9c179e\"],[0.4444444444444444,\"#bd3786\"],[0.5555555555555556,\"#d8576b\"],[0.6666666666666666,\"#ed7953\"],[0.7777777777777778,\"#fb9f3a\"],[0.8888888888888888,\"#fdca26\"],[1.0,\"#f0f921\"]],\"type\":\"histogram2d\"}],\"histogram2dcontour\":[{\"colorbar\":{\"outlinewidth\":0,\"ticks\":\"\"},\"colorscale\":[[0.0,\"#0d0887\"],[0.1111111111111111,\"#46039f\"],[0.2222222222222222,\"#7201a8\"],[0.3333333333333333,\"#9c179e\"],[0.4444444444444444,\"#bd3786\"],[0.5555555555555556,\"#d8576b\"],[0.6666666666666666,\"#ed7953\"],[0.7777777777777778,\"#fb9f3a\"],[0.8888888888888888,\"#fdca26\"],[1.0,\"#f0f921\"]],\"type\":\"histogram2dcontour\"}],\"mesh3d\":[{\"colorbar\":{\"outlinewidth\":0,\"ticks\":\"\"},\"type\":\"mesh3d\"}],\"parcoords\":[{\"line\":{\"colorbar\":{\"outlinewidth\":0,\"ticks\":\"\"}},\"type\":\"parcoords\"}],\"pie\":[{\"automargin\":true,\"type\":\"pie\"}],\"scatter\":[{\"marker\":{\"colorbar\":{\"outlinewidth\":0,\"ticks\":\"\"}},\"type\":\"scatter\"}],\"scatter3d\":[{\"line\":{\"colorbar\":{\"outlinewidth\":0,\"ticks\":\"\"}},\"marker\":{\"colorbar\":{\"outlinewidth\":0,\"ticks\":\"\"}},\"type\":\"scatter3d\"}],\"scattercarpet\":[{\"marker\":{\"colorbar\":{\"outlinewidth\":0,\"ticks\":\"\"}},\"type\":\"scattercarpet\"}],\"scattergeo\":[{\"marker\":{\"colorbar\":{\"outlinewidth\":0,\"ticks\":\"\"}},\"type\":\"scattergeo\"}],\"scattergl\":[{\"marker\":{\"colorbar\":{\"outlinewidth\":0,\"ticks\":\"\"}},\"type\":\"scattergl\"}],\"scattermapbox\":[{\"marker\":{\"colorbar\":{\"outlinewidth\":0,\"ticks\":\"\"}},\"type\":\"scattermapbox\"}],\"scatterpolar\":[{\"marker\":{\"colorbar\":{\"outlinewidth\":0,\"ticks\":\"\"}},\"type\":\"scatterpolar\"}],\"scatterpolargl\":[{\"marker\":{\"colorbar\":{\"outlinewidth\":0,\"ticks\":\"\"}},\"type\":\"scatterpolargl\"}],\"scatterternary\":[{\"marker\":{\"colorbar\":{\"outlinewidth\":0,\"ticks\":\"\"}},\"type\":\"scatterternary\"}],\"surface\":[{\"colorbar\":{\"outlinewidth\":0,\"ticks\":\"\"},\"colorscale\":[[0.0,\"#0d0887\"],[0.1111111111111111,\"#46039f\"],[0.2222222222222222,\"#7201a8\"],[0.3333333333333333,\"#9c179e\"],[0.4444444444444444,\"#bd3786\"],[0.5555555555555556,\"#d8576b\"],[0.6666666666666666,\"#ed7953\"],[0.7777777777777778,\"#fb9f3a\"],[0.8888888888888888,\"#fdca26\"],[1.0,\"#f0f921\"]],\"type\":\"surface\"}],\"table\":[{\"cells\":{\"fill\":{\"color\":\"#EBF0F8\"},\"line\":{\"color\":\"white\"}},\"header\":{\"fill\":{\"color\":\"#C8D4E3\"},\"line\":{\"color\":\"white\"}},\"type\":\"table\"}]},\"layout\":{\"annotationdefaults\":{\"arrowcolor\":\"#2a3f5f\",\"arrowhead\":0,\"arrowwidth\":1},\"autotypenumbers\":\"strict\",\"coloraxis\":{\"colorbar\":{\"outlinewidth\":0,\"ticks\":\"\"}},\"colorscale\":{\"diverging\":[[0,\"#8e0152\"],[0.1,\"#c51b7d\"],[0.2,\"#de77ae\"],[0.3,\"#f1b6da\"],[0.4,\"#fde0ef\"],[0.5,\"#f7f7f7\"],[0.6,\"#e6f5d0\"],[0.7,\"#b8e186\"],[0.8,\"#7fbc41\"],[0.9,\"#4d9221\"],[1,\"#276419\"]],\"sequential\":[[0.0,\"#0d0887\"],[0.1111111111111111,\"#46039f\"],[0.2222222222222222,\"#7201a8\"],[0.3333333333333333,\"#9c179e\"],[0.4444444444444444,\"#bd3786\"],[0.5555555555555556,\"#d8576b\"],[0.6666666666666666,\"#ed7953\"],[0.7777777777777778,\"#fb9f3a\"],[0.8888888888888888,\"#fdca26\"],[1.0,\"#f0f921\"]],\"sequentialminus\":[[0.0,\"#0d0887\"],[0.1111111111111111,\"#46039f\"],[0.2222222222222222,\"#7201a8\"],[0.3333333333333333,\"#9c179e\"],[0.4444444444444444,\"#bd3786\"],[0.5555555555555556,\"#d8576b\"],[0.6666666666666666,\"#ed7953\"],[0.7777777777777778,\"#fb9f3a\"],[0.8888888888888888,\"#fdca26\"],[1.0,\"#f0f921\"]]},\"colorway\":[\"#636efa\",\"#EF553B\",\"#00cc96\",\"#ab63fa\",\"#FFA15A\",\"#19d3f3\",\"#FF6692\",\"#B6E880\",\"#FF97FF\",\"#FECB52\"],\"font\":{\"color\":\"#2a3f5f\"},\"geo\":{\"bgcolor\":\"white\",\"lakecolor\":\"white\",\"landcolor\":\"#E5ECF6\",\"showlakes\":true,\"showland\":true,\"subunitcolor\":\"white\"},\"hoverlabel\":{\"align\":\"left\"},\"hovermode\":\"closest\",\"mapbox\":{\"style\":\"light\"},\"paper_bgcolor\":\"white\",\"plot_bgcolor\":\"#E5ECF6\",\"polar\":{\"angularaxis\":{\"gridcolor\":\"white\",\"linecolor\":\"white\",\"ticks\":\"\"},\"bgcolor\":\"#E5ECF6\",\"radialaxis\":{\"gridcolor\":\"white\",\"linecolor\":\"white\",\"ticks\":\"\"}},\"scene\":{\"xaxis\":{\"backgroundcolor\":\"#E5ECF6\",\"gridcolor\":\"white\",\"gridwidth\":2,\"linecolor\":\"white\",\"showbackground\":true,\"ticks\":\"\",\"zerolinecolor\":\"white\"},\"yaxis\":{\"backgroundcolor\":\"#E5ECF6\",\"gridcolor\":\"white\",\"gridwidth\":2,\"linecolor\":\"white\",\"showbackground\":true,\"ticks\":\"\",\"zerolinecolor\":\"white\"},\"zaxis\":{\"backgroundcolor\":\"#E5ECF6\",\"gridcolor\":\"white\",\"gridwidth\":2,\"linecolor\":\"white\",\"showbackground\":true,\"ticks\":\"\",\"zerolinecolor\":\"white\"}},\"shapedefaults\":{\"line\":{\"color\":\"#2a3f5f\"}},\"ternary\":{\"aaxis\":{\"gridcolor\":\"white\",\"linecolor\":\"white\",\"ticks\":\"\"},\"baxis\":{\"gridcolor\":\"white\",\"linecolor\":\"white\",\"ticks\":\"\"},\"bgcolor\":\"#E5ECF6\",\"caxis\":{\"gridcolor\":\"white\",\"linecolor\":\"white\",\"ticks\":\"\"}},\"title\":{\"x\":0.05},\"xaxis\":{\"automargin\":true,\"gridcolor\":\"white\",\"linecolor\":\"white\",\"ticks\":\"\",\"title\":{\"standoff\":15},\"zerolinecolor\":\"white\",\"zerolinewidth\":2},\"yaxis\":{\"automargin\":true,\"gridcolor\":\"white\",\"linecolor\":\"white\",\"ticks\":\"\",\"title\":{\"standoff\":15},\"zerolinecolor\":\"white\",\"zerolinewidth\":2}}},\"title\":{\"font\":{\"color\":\"#4D5663\"}},\"xaxis\":{\"gridcolor\":\"#E1E5ED\",\"showgrid\":true,\"tickfont\":{\"color\":\"#4D5663\"},\"title\":{\"font\":{\"color\":\"#4D5663\"},\"text\":\"\"},\"zerolinecolor\":\"#E1E5ED\"},\"yaxis\":{\"gridcolor\":\"#E1E5ED\",\"showgrid\":true,\"tickfont\":{\"color\":\"#4D5663\"},\"title\":{\"font\":{\"color\":\"#4D5663\"},\"text\":\"\"},\"zerolinecolor\":\"#E1E5ED\"}},                        {\"showLink\": true, \"linkText\": \"Export to plot.ly\", \"plotlyServerURL\": \"https://plot.ly\", \"responsive\": true}                    ).then(function(){\n",
       "                            \n",
       "var gd = document.getElementById('6d9315ba-1b6e-44a6-8ee2-badef3464f2f');\n",
       "var x = new MutationObserver(function (mutations, observer) {{\n",
       "        var display = window.getComputedStyle(gd).display;\n",
       "        if (!display || display === 'none') {{\n",
       "            console.log([gd, 'removed!']);\n",
       "            Plotly.purge(gd);\n",
       "            observer.disconnect();\n",
       "        }}\n",
       "}});\n",
       "\n",
       "// Listen for the removal of the full notebook cells\n",
       "var notebookContainer = gd.closest('#notebook-container');\n",
       "if (notebookContainer) {{\n",
       "    x.observe(notebookContainer, {childList: true});\n",
       "}}\n",
       "\n",
       "// Listen for the clearing of the current output cell\n",
       "var outputEl = gd.closest('.output');\n",
       "if (outputEl) {{\n",
       "    x.observe(outputEl, {childList: true});\n",
       "}}\n",
       "\n",
       "                        })                };                });            </script>        </div>"
      ]
     },
     "metadata": {},
     "output_type": "display_data"
    }
   ],
   "source": [
    "df.iplot(kind=\"hist\")"
   ]
  },
  {
   "cell_type": "code",
   "execution_count": 30,
   "metadata": {},
   "outputs": [
    {
     "data": {
      "application/vnd.plotly.v1+json": {
       "config": {
        "linkText": "Export to plot.ly",
        "plotlyServerURL": "https://plot.ly",
        "showLink": true
       },
       "data": [
        {
         "marker": {
          "color": [
           "rgb(255, 153, 51)",
           "rgb(55, 128, 191)",
           "rgb(50, 171, 96)",
           "rgb(128, 0, 128)",
           "rgb(219, 64, 82)",
           "rgb(0, 128, 128)",
           "rgb(255, 255, 51)",
           "rgb(128, 128, 0)",
           "rgb(251, 128, 114)",
           "rgb(128, 177, 211)"
          ],
          "line": {
           "width": 1.3
          },
          "size": [
           80,
           46,
           61,
           15,
           65,
           57,
           80,
           101,
           29,
           38,
           64,
           99,
           80,
           82,
           53,
           43,
           60,
           12,
           75,
           52,
           77,
           92,
           77,
           48,
           82,
           44,
           12,
           84,
           40,
           59,
           85,
           29,
           28,
           52,
           33,
           112,
           40,
           48,
           79,
           33,
           83,
           69,
           96,
           90,
           90,
           28,
           94,
           62,
           75,
           109,
           82,
           69,
           48,
           46,
           59,
           95,
           37,
           29,
           56,
           49,
           84,
           49,
           54,
           93,
           56,
           68,
           79,
           37,
           57,
           72,
           18,
           56,
           39,
           44,
           103,
           68,
           33,
           32,
           33,
           80,
           70,
           29,
           56,
           36,
           50,
           52,
           59,
           36,
           54,
           103,
           57,
           78,
           85,
           61,
           77,
           44,
           78,
           32,
           42,
           68
          ],
          "symbol": "circle"
         },
         "mode": "markers",
         "text": "",
         "type": "scatter",
         "x": [
          -0.9059946344274774,
          -0.4228448892570872,
          0.32823669086437185,
          0.6558818756618977,
          -0.23279394393207223,
          0.6525595480366613,
          -1.6915425316219246,
          0.19774000582771878,
          0.2527613251803961,
          1.2212768041507416,
          -1.0510831617170036,
          -0.7793914985082284,
          0.806056944934075,
          -0.6311019866196699,
          0.934877974567317,
          0.16080341281909977,
          -0.26044787101587635,
          -1.1189492025341188,
          0.9314131210571004,
          1.637803872997042,
          0.6740388916031278,
          1.0131855330251243,
          1.0735801831928784,
          0.937155505884544,
          -0.9383642090609543,
          -1.4125546602473755,
          -1.3961261570716632,
          1.4624065012532907,
          1.5085679801507355,
          0.37384897602131767,
          0.14589136140687492,
          -0.23095768454721793,
          -2.3629173679389783,
          0.25331855988772656,
          -0.3115860491141523,
          -0.3030080296653969,
          0.8976458438423921,
          -0.22670266681646012,
          0.41600691876623586,
          0.44298800896287893,
          0.48238892353758295,
          2.8740147943888767,
          1.2137085672267414,
          -0.5078538839778108,
          0.2712852957322795,
          0.48451943108122075,
          0.7602644879314184,
          1.066266090804438,
          -0.7210114083722396,
          0.32916613351098817,
          0.21287846776990083,
          1.3120634164376894,
          1.4845215944923633,
          1.2118529866244876,
          -0.35062596725697137,
          1.4679054114460215,
          0.5946197808733853,
          0.7653928202932211,
          0.502620298066773,
          -0.4655955727577539,
          -0.7795213169381651,
          -0.5835420380031595,
          0.581868964354893,
          -0.8446734086931094,
          -0.6104474804218408,
          -0.49453527742225606,
          0.03616565350186925,
          1.677717127944498,
          -0.13111115072431645,
          0.35354551803517,
          -1.1395729739401037,
          1.087329072160173,
          1.9901243821040628,
          1.4587485333823857,
          0.5863304514720385,
          -1.72328053440473,
          -0.33482969209209335,
          -0.5675569496541126,
          -0.7552568197099411,
          0.984241478144492,
          0.5130936566082164,
          1.007047428091453,
          -0.25229733785962855,
          -1.0765534930300449,
          -1.0836901842430446,
          1.251316893181913,
          -0.061947611188396756,
          -1.5090608602782263,
          0.5407038713008661,
          -0.7598080181281253,
          -2.24033822867379,
          -1.025455849018686,
          -0.6449593030755074,
          -2.3407345468245557,
          1.9319811029535663,
          0.44323959373215516,
          -0.3715898916904119,
          0.7183414221195205,
          0.9328345702391438,
          0.7111546819960841
         ],
         "y": [
          0.39809897088173535,
          -0.14652925480192855,
          0.9857309327643848,
          -0.8247877220344356,
          -0.7171326813869001,
          0.27152193419855913,
          -0.14087040880362503,
          -0.0890924278317126,
          1.3250570353670188,
          0.09866929384221915,
          -1.456511319329652,
          -1.6257292208567193,
          -0.6674107831292494,
          0.3811991927832541,
          -0.5464922895705291,
          -3.162439502735584,
          -0.658820338868281,
          0.7721719856870062,
          -0.3171154031995474,
          -1.0020734777415063,
          -0.02659884375709406,
          1.4254056731396323,
          0.6836421842787477,
          -0.9772538796145454,
          1.179589205909156,
          0.5452437251135169,
          0.9451720539792436,
          -0.5674693547604166,
          -1.9367879178372351,
          0.09939863026944817,
          0.3788358260021555,
          -0.12359656382636455,
          -0.38458928359784156,
          -0.13612423713165192,
          -0.20220123127288567,
          -0.057722094925038374,
          -0.4215960142227496,
          -1.1817887527339672,
          -0.6820955787736707,
          0.54268553457587,
          2.269274538955471,
          1.399616365283778,
          0.39919861740985063,
          -0.7429824032412617,
          -0.5579151083162384,
          0.49856107072948636,
          -0.6122498520456356,
          -0.5196819457867476,
          0.6580335477597211,
          -1.4453404736418463,
          -1.0683326326666698,
          1.7800123892054036,
          0.33842572157581263,
          1.084922008912415,
          0.710339271478755,
          0.12105239058331187,
          -0.8509752427452628,
          -1.3491238864126032,
          -1.8598394510153693,
          -1.0659054118800213,
          1.3236350429577803,
          0.5444277023592253,
          -0.6727411628076259,
          -0.018547264192752825,
          -0.8071229564449062,
          0.33751660203866807,
          0.1881745849663572,
          0.12260492122922247,
          0.30615558365396084,
          1.2458146238905483,
          1.7110470711557848,
          -0.4800976041892355,
          2.221328091101082,
          0.34503964151741096,
          1.3888534612108372,
          -0.6121543897912833,
          1.5135232133398413,
          0.3550466399495089,
          -0.5125535379885994,
          -0.8684090756031528,
          -0.0880389921588798,
          1.5107179811616,
          -0.07874484690047716,
          -0.5389501748212824,
          0.7535046636019881,
          -0.5600026707788827,
          -0.3110571605343825,
          0.6306288933906005,
          -0.12702949524031082,
          -0.5299579481574125,
          -0.2319476324342638,
          1.1584607557786735,
          -1.5686875302712062,
          0.06172482147957937,
          -0.6198455475019047,
          -2.0770439203968674,
          0.09306099403907173,
          -0.45720135238549225,
          -0.30414649191620025,
          0.03513373986031923
         ]
        }
       ],
       "layout": {
        "legend": {
         "bgcolor": "#F5F6F9",
         "font": {
          "color": "#4D5663"
         }
        },
        "paper_bgcolor": "#F5F6F9",
        "plot_bgcolor": "#F5F6F9",
        "template": {
         "data": {
          "bar": [
           {
            "error_x": {
             "color": "#2a3f5f"
            },
            "error_y": {
             "color": "#2a3f5f"
            },
            "marker": {
             "line": {
              "color": "#E5ECF6",
              "width": 0.5
             },
             "pattern": {
              "fillmode": "overlay",
              "size": 10,
              "solidity": 0.2
             }
            },
            "type": "bar"
           }
          ],
          "barpolar": [
           {
            "marker": {
             "line": {
              "color": "#E5ECF6",
              "width": 0.5
             },
             "pattern": {
              "fillmode": "overlay",
              "size": 10,
              "solidity": 0.2
             }
            },
            "type": "barpolar"
           }
          ],
          "carpet": [
           {
            "aaxis": {
             "endlinecolor": "#2a3f5f",
             "gridcolor": "white",
             "linecolor": "white",
             "minorgridcolor": "white",
             "startlinecolor": "#2a3f5f"
            },
            "baxis": {
             "endlinecolor": "#2a3f5f",
             "gridcolor": "white",
             "linecolor": "white",
             "minorgridcolor": "white",
             "startlinecolor": "#2a3f5f"
            },
            "type": "carpet"
           }
          ],
          "choropleth": [
           {
            "colorbar": {
             "outlinewidth": 0,
             "ticks": ""
            },
            "type": "choropleth"
           }
          ],
          "contour": [
           {
            "colorbar": {
             "outlinewidth": 0,
             "ticks": ""
            },
            "colorscale": [
             [
              0,
              "#0d0887"
             ],
             [
              0.1111111111111111,
              "#46039f"
             ],
             [
              0.2222222222222222,
              "#7201a8"
             ],
             [
              0.3333333333333333,
              "#9c179e"
             ],
             [
              0.4444444444444444,
              "#bd3786"
             ],
             [
              0.5555555555555556,
              "#d8576b"
             ],
             [
              0.6666666666666666,
              "#ed7953"
             ],
             [
              0.7777777777777778,
              "#fb9f3a"
             ],
             [
              0.8888888888888888,
              "#fdca26"
             ],
             [
              1,
              "#f0f921"
             ]
            ],
            "type": "contour"
           }
          ],
          "contourcarpet": [
           {
            "colorbar": {
             "outlinewidth": 0,
             "ticks": ""
            },
            "type": "contourcarpet"
           }
          ],
          "heatmap": [
           {
            "colorbar": {
             "outlinewidth": 0,
             "ticks": ""
            },
            "colorscale": [
             [
              0,
              "#0d0887"
             ],
             [
              0.1111111111111111,
              "#46039f"
             ],
             [
              0.2222222222222222,
              "#7201a8"
             ],
             [
              0.3333333333333333,
              "#9c179e"
             ],
             [
              0.4444444444444444,
              "#bd3786"
             ],
             [
              0.5555555555555556,
              "#d8576b"
             ],
             [
              0.6666666666666666,
              "#ed7953"
             ],
             [
              0.7777777777777778,
              "#fb9f3a"
             ],
             [
              0.8888888888888888,
              "#fdca26"
             ],
             [
              1,
              "#f0f921"
             ]
            ],
            "type": "heatmap"
           }
          ],
          "heatmapgl": [
           {
            "colorbar": {
             "outlinewidth": 0,
             "ticks": ""
            },
            "colorscale": [
             [
              0,
              "#0d0887"
             ],
             [
              0.1111111111111111,
              "#46039f"
             ],
             [
              0.2222222222222222,
              "#7201a8"
             ],
             [
              0.3333333333333333,
              "#9c179e"
             ],
             [
              0.4444444444444444,
              "#bd3786"
             ],
             [
              0.5555555555555556,
              "#d8576b"
             ],
             [
              0.6666666666666666,
              "#ed7953"
             ],
             [
              0.7777777777777778,
              "#fb9f3a"
             ],
             [
              0.8888888888888888,
              "#fdca26"
             ],
             [
              1,
              "#f0f921"
             ]
            ],
            "type": "heatmapgl"
           }
          ],
          "histogram": [
           {
            "marker": {
             "pattern": {
              "fillmode": "overlay",
              "size": 10,
              "solidity": 0.2
             }
            },
            "type": "histogram"
           }
          ],
          "histogram2d": [
           {
            "colorbar": {
             "outlinewidth": 0,
             "ticks": ""
            },
            "colorscale": [
             [
              0,
              "#0d0887"
             ],
             [
              0.1111111111111111,
              "#46039f"
             ],
             [
              0.2222222222222222,
              "#7201a8"
             ],
             [
              0.3333333333333333,
              "#9c179e"
             ],
             [
              0.4444444444444444,
              "#bd3786"
             ],
             [
              0.5555555555555556,
              "#d8576b"
             ],
             [
              0.6666666666666666,
              "#ed7953"
             ],
             [
              0.7777777777777778,
              "#fb9f3a"
             ],
             [
              0.8888888888888888,
              "#fdca26"
             ],
             [
              1,
              "#f0f921"
             ]
            ],
            "type": "histogram2d"
           }
          ],
          "histogram2dcontour": [
           {
            "colorbar": {
             "outlinewidth": 0,
             "ticks": ""
            },
            "colorscale": [
             [
              0,
              "#0d0887"
             ],
             [
              0.1111111111111111,
              "#46039f"
             ],
             [
              0.2222222222222222,
              "#7201a8"
             ],
             [
              0.3333333333333333,
              "#9c179e"
             ],
             [
              0.4444444444444444,
              "#bd3786"
             ],
             [
              0.5555555555555556,
              "#d8576b"
             ],
             [
              0.6666666666666666,
              "#ed7953"
             ],
             [
              0.7777777777777778,
              "#fb9f3a"
             ],
             [
              0.8888888888888888,
              "#fdca26"
             ],
             [
              1,
              "#f0f921"
             ]
            ],
            "type": "histogram2dcontour"
           }
          ],
          "mesh3d": [
           {
            "colorbar": {
             "outlinewidth": 0,
             "ticks": ""
            },
            "type": "mesh3d"
           }
          ],
          "parcoords": [
           {
            "line": {
             "colorbar": {
              "outlinewidth": 0,
              "ticks": ""
             }
            },
            "type": "parcoords"
           }
          ],
          "pie": [
           {
            "automargin": true,
            "type": "pie"
           }
          ],
          "scatter": [
           {
            "marker": {
             "colorbar": {
              "outlinewidth": 0,
              "ticks": ""
             }
            },
            "type": "scatter"
           }
          ],
          "scatter3d": [
           {
            "line": {
             "colorbar": {
              "outlinewidth": 0,
              "ticks": ""
             }
            },
            "marker": {
             "colorbar": {
              "outlinewidth": 0,
              "ticks": ""
             }
            },
            "type": "scatter3d"
           }
          ],
          "scattercarpet": [
           {
            "marker": {
             "colorbar": {
              "outlinewidth": 0,
              "ticks": ""
             }
            },
            "type": "scattercarpet"
           }
          ],
          "scattergeo": [
           {
            "marker": {
             "colorbar": {
              "outlinewidth": 0,
              "ticks": ""
             }
            },
            "type": "scattergeo"
           }
          ],
          "scattergl": [
           {
            "marker": {
             "colorbar": {
              "outlinewidth": 0,
              "ticks": ""
             }
            },
            "type": "scattergl"
           }
          ],
          "scattermapbox": [
           {
            "marker": {
             "colorbar": {
              "outlinewidth": 0,
              "ticks": ""
             }
            },
            "type": "scattermapbox"
           }
          ],
          "scatterpolar": [
           {
            "marker": {
             "colorbar": {
              "outlinewidth": 0,
              "ticks": ""
             }
            },
            "type": "scatterpolar"
           }
          ],
          "scatterpolargl": [
           {
            "marker": {
             "colorbar": {
              "outlinewidth": 0,
              "ticks": ""
             }
            },
            "type": "scatterpolargl"
           }
          ],
          "scatterternary": [
           {
            "marker": {
             "colorbar": {
              "outlinewidth": 0,
              "ticks": ""
             }
            },
            "type": "scatterternary"
           }
          ],
          "surface": [
           {
            "colorbar": {
             "outlinewidth": 0,
             "ticks": ""
            },
            "colorscale": [
             [
              0,
              "#0d0887"
             ],
             [
              0.1111111111111111,
              "#46039f"
             ],
             [
              0.2222222222222222,
              "#7201a8"
             ],
             [
              0.3333333333333333,
              "#9c179e"
             ],
             [
              0.4444444444444444,
              "#bd3786"
             ],
             [
              0.5555555555555556,
              "#d8576b"
             ],
             [
              0.6666666666666666,
              "#ed7953"
             ],
             [
              0.7777777777777778,
              "#fb9f3a"
             ],
             [
              0.8888888888888888,
              "#fdca26"
             ],
             [
              1,
              "#f0f921"
             ]
            ],
            "type": "surface"
           }
          ],
          "table": [
           {
            "cells": {
             "fill": {
              "color": "#EBF0F8"
             },
             "line": {
              "color": "white"
             }
            },
            "header": {
             "fill": {
              "color": "#C8D4E3"
             },
             "line": {
              "color": "white"
             }
            },
            "type": "table"
           }
          ]
         },
         "layout": {
          "annotationdefaults": {
           "arrowcolor": "#2a3f5f",
           "arrowhead": 0,
           "arrowwidth": 1
          },
          "autotypenumbers": "strict",
          "coloraxis": {
           "colorbar": {
            "outlinewidth": 0,
            "ticks": ""
           }
          },
          "colorscale": {
           "diverging": [
            [
             0,
             "#8e0152"
            ],
            [
             0.1,
             "#c51b7d"
            ],
            [
             0.2,
             "#de77ae"
            ],
            [
             0.3,
             "#f1b6da"
            ],
            [
             0.4,
             "#fde0ef"
            ],
            [
             0.5,
             "#f7f7f7"
            ],
            [
             0.6,
             "#e6f5d0"
            ],
            [
             0.7,
             "#b8e186"
            ],
            [
             0.8,
             "#7fbc41"
            ],
            [
             0.9,
             "#4d9221"
            ],
            [
             1,
             "#276419"
            ]
           ],
           "sequential": [
            [
             0,
             "#0d0887"
            ],
            [
             0.1111111111111111,
             "#46039f"
            ],
            [
             0.2222222222222222,
             "#7201a8"
            ],
            [
             0.3333333333333333,
             "#9c179e"
            ],
            [
             0.4444444444444444,
             "#bd3786"
            ],
            [
             0.5555555555555556,
             "#d8576b"
            ],
            [
             0.6666666666666666,
             "#ed7953"
            ],
            [
             0.7777777777777778,
             "#fb9f3a"
            ],
            [
             0.8888888888888888,
             "#fdca26"
            ],
            [
             1,
             "#f0f921"
            ]
           ],
           "sequentialminus": [
            [
             0,
             "#0d0887"
            ],
            [
             0.1111111111111111,
             "#46039f"
            ],
            [
             0.2222222222222222,
             "#7201a8"
            ],
            [
             0.3333333333333333,
             "#9c179e"
            ],
            [
             0.4444444444444444,
             "#bd3786"
            ],
            [
             0.5555555555555556,
             "#d8576b"
            ],
            [
             0.6666666666666666,
             "#ed7953"
            ],
            [
             0.7777777777777778,
             "#fb9f3a"
            ],
            [
             0.8888888888888888,
             "#fdca26"
            ],
            [
             1,
             "#f0f921"
            ]
           ]
          },
          "colorway": [
           "#636efa",
           "#EF553B",
           "#00cc96",
           "#ab63fa",
           "#FFA15A",
           "#19d3f3",
           "#FF6692",
           "#B6E880",
           "#FF97FF",
           "#FECB52"
          ],
          "font": {
           "color": "#2a3f5f"
          },
          "geo": {
           "bgcolor": "white",
           "lakecolor": "white",
           "landcolor": "#E5ECF6",
           "showlakes": true,
           "showland": true,
           "subunitcolor": "white"
          },
          "hoverlabel": {
           "align": "left"
          },
          "hovermode": "closest",
          "mapbox": {
           "style": "light"
          },
          "paper_bgcolor": "white",
          "plot_bgcolor": "#E5ECF6",
          "polar": {
           "angularaxis": {
            "gridcolor": "white",
            "linecolor": "white",
            "ticks": ""
           },
           "bgcolor": "#E5ECF6",
           "radialaxis": {
            "gridcolor": "white",
            "linecolor": "white",
            "ticks": ""
           }
          },
          "scene": {
           "xaxis": {
            "backgroundcolor": "#E5ECF6",
            "gridcolor": "white",
            "gridwidth": 2,
            "linecolor": "white",
            "showbackground": true,
            "ticks": "",
            "zerolinecolor": "white"
           },
           "yaxis": {
            "backgroundcolor": "#E5ECF6",
            "gridcolor": "white",
            "gridwidth": 2,
            "linecolor": "white",
            "showbackground": true,
            "ticks": "",
            "zerolinecolor": "white"
           },
           "zaxis": {
            "backgroundcolor": "#E5ECF6",
            "gridcolor": "white",
            "gridwidth": 2,
            "linecolor": "white",
            "showbackground": true,
            "ticks": "",
            "zerolinecolor": "white"
           }
          },
          "shapedefaults": {
           "line": {
            "color": "#2a3f5f"
           }
          },
          "ternary": {
           "aaxis": {
            "gridcolor": "white",
            "linecolor": "white",
            "ticks": ""
           },
           "baxis": {
            "gridcolor": "white",
            "linecolor": "white",
            "ticks": ""
           },
           "bgcolor": "#E5ECF6",
           "caxis": {
            "gridcolor": "white",
            "linecolor": "white",
            "ticks": ""
           }
          },
          "title": {
           "x": 0.05
          },
          "xaxis": {
           "automargin": true,
           "gridcolor": "white",
           "linecolor": "white",
           "ticks": "",
           "title": {
            "standoff": 15
           },
           "zerolinecolor": "white",
           "zerolinewidth": 2
          },
          "yaxis": {
           "automargin": true,
           "gridcolor": "white",
           "linecolor": "white",
           "ticks": "",
           "title": {
            "standoff": 15
           },
           "zerolinecolor": "white",
           "zerolinewidth": 2
          }
         }
        },
        "title": {
         "font": {
          "color": "#4D5663"
         }
        },
        "xaxis": {
         "gridcolor": "#E1E5ED",
         "showgrid": true,
         "tickfont": {
          "color": "#4D5663"
         },
         "title": {
          "font": {
           "color": "#4D5663"
          },
          "text": ""
         },
         "zerolinecolor": "#E1E5ED"
        },
        "yaxis": {
         "gridcolor": "#E1E5ED",
         "showgrid": true,
         "tickfont": {
          "color": "#4D5663"
         },
         "title": {
          "font": {
           "color": "#4D5663"
          },
          "text": ""
         },
         "zerolinecolor": "#E1E5ED"
        }
       }
      },
      "text/html": [
       "<div>                            <div id=\"cfa98933-adba-4d08-a7ee-a49b50b289fc\" class=\"plotly-graph-div\" style=\"height:525px; width:100%;\"></div>            <script type=\"text/javascript\">                require([\"plotly\"], function(Plotly) {                    window.PLOTLYENV=window.PLOTLYENV || {};\n",
       "                    window.PLOTLYENV.BASE_URL='https://plot.ly';                                    if (document.getElementById(\"cfa98933-adba-4d08-a7ee-a49b50b289fc\")) {                    Plotly.newPlot(                        \"cfa98933-adba-4d08-a7ee-a49b50b289fc\",                        [{\"marker\":{\"color\":[\"rgb(255, 153, 51)\",\"rgb(55, 128, 191)\",\"rgb(50, 171, 96)\",\"rgb(128, 0, 128)\",\"rgb(219, 64, 82)\",\"rgb(0, 128, 128)\",\"rgb(255, 255, 51)\",\"rgb(128, 128, 0)\",\"rgb(251, 128, 114)\",\"rgb(128, 177, 211)\"],\"line\":{\"width\":1.3},\"size\":[80,46,61,15,65,57,80,101,29,38,64,99,80,82,53,43,60,12,75,52,77,92,77,48,82,44,12,84,40,59,85,29,28,52,33,112,40,48,79,33,83,69,96,90,90,28,94,62,75,109,82,69,48,46,59,95,37,29,56,49,84,49,54,93,56,68,79,37,57,72,18,56,39,44,103,68,33,32,33,80,70,29,56,36,50,52,59,36,54,103,57,78,85,61,77,44,78,32,42,68],\"symbol\":\"circle\"},\"mode\":\"markers\",\"text\":\"\",\"type\":\"scatter\",\"x\":[-0.9059946344274774,-0.4228448892570872,0.32823669086437185,0.6558818756618977,-0.23279394393207223,0.6525595480366613,-1.6915425316219246,0.19774000582771878,0.2527613251803961,1.2212768041507416,-1.0510831617170036,-0.7793914985082284,0.806056944934075,-0.6311019866196699,0.934877974567317,0.16080341281909977,-0.26044787101587635,-1.1189492025341188,0.9314131210571004,1.637803872997042,0.6740388916031278,1.0131855330251243,1.0735801831928784,0.937155505884544,-0.9383642090609543,-1.4125546602473755,-1.3961261570716632,1.4624065012532907,1.5085679801507355,0.37384897602131767,0.14589136140687492,-0.23095768454721793,-2.3629173679389783,0.25331855988772656,-0.3115860491141523,-0.3030080296653969,0.8976458438423921,-0.22670266681646012,0.41600691876623586,0.44298800896287893,0.48238892353758295,2.8740147943888767,1.2137085672267414,-0.5078538839778108,0.2712852957322795,0.48451943108122075,0.7602644879314184,1.066266090804438,-0.7210114083722396,0.32916613351098817,0.21287846776990083,1.3120634164376894,1.4845215944923633,1.2118529866244876,-0.35062596725697137,1.4679054114460215,0.5946197808733853,0.7653928202932211,0.502620298066773,-0.4655955727577539,-0.7795213169381651,-0.5835420380031595,0.581868964354893,-0.8446734086931094,-0.6104474804218408,-0.49453527742225606,0.03616565350186925,1.677717127944498,-0.13111115072431645,0.35354551803517,-1.1395729739401037,1.087329072160173,1.9901243821040628,1.4587485333823857,0.5863304514720385,-1.72328053440473,-0.33482969209209335,-0.5675569496541126,-0.7552568197099411,0.984241478144492,0.5130936566082164,1.007047428091453,-0.25229733785962855,-1.0765534930300449,-1.0836901842430446,1.251316893181913,-0.061947611188396756,-1.5090608602782263,0.5407038713008661,-0.7598080181281253,-2.24033822867379,-1.025455849018686,-0.6449593030755074,-2.3407345468245557,1.9319811029535663,0.44323959373215516,-0.3715898916904119,0.7183414221195205,0.9328345702391438,0.7111546819960841],\"y\":[0.39809897088173535,-0.14652925480192855,0.9857309327643848,-0.8247877220344356,-0.7171326813869001,0.27152193419855913,-0.14087040880362503,-0.0890924278317126,1.3250570353670188,0.09866929384221915,-1.456511319329652,-1.6257292208567193,-0.6674107831292494,0.3811991927832541,-0.5464922895705291,-3.162439502735584,-0.658820338868281,0.7721719856870062,-0.3171154031995474,-1.0020734777415063,-0.02659884375709406,1.4254056731396323,0.6836421842787477,-0.9772538796145454,1.179589205909156,0.5452437251135169,0.9451720539792436,-0.5674693547604166,-1.9367879178372351,0.09939863026944817,0.3788358260021555,-0.12359656382636455,-0.38458928359784156,-0.13612423713165192,-0.20220123127288567,-0.057722094925038374,-0.4215960142227496,-1.1817887527339672,-0.6820955787736707,0.54268553457587,2.269274538955471,1.399616365283778,0.39919861740985063,-0.7429824032412617,-0.5579151083162384,0.49856107072948636,-0.6122498520456356,-0.5196819457867476,0.6580335477597211,-1.4453404736418463,-1.0683326326666698,1.7800123892054036,0.33842572157581263,1.084922008912415,0.710339271478755,0.12105239058331187,-0.8509752427452628,-1.3491238864126032,-1.8598394510153693,-1.0659054118800213,1.3236350429577803,0.5444277023592253,-0.6727411628076259,-0.018547264192752825,-0.8071229564449062,0.33751660203866807,0.1881745849663572,0.12260492122922247,0.30615558365396084,1.2458146238905483,1.7110470711557848,-0.4800976041892355,2.221328091101082,0.34503964151741096,1.3888534612108372,-0.6121543897912833,1.5135232133398413,0.3550466399495089,-0.5125535379885994,-0.8684090756031528,-0.0880389921588798,1.5107179811616,-0.07874484690047716,-0.5389501748212824,0.7535046636019881,-0.5600026707788827,-0.3110571605343825,0.6306288933906005,-0.12702949524031082,-0.5299579481574125,-0.2319476324342638,1.1584607557786735,-1.5686875302712062,0.06172482147957937,-0.6198455475019047,-2.0770439203968674,0.09306099403907173,-0.45720135238549225,-0.30414649191620025,0.03513373986031923]}],                        {\"legend\":{\"bgcolor\":\"#F5F6F9\",\"font\":{\"color\":\"#4D5663\"}},\"paper_bgcolor\":\"#F5F6F9\",\"plot_bgcolor\":\"#F5F6F9\",\"template\":{\"data\":{\"bar\":[{\"error_x\":{\"color\":\"#2a3f5f\"},\"error_y\":{\"color\":\"#2a3f5f\"},\"marker\":{\"line\":{\"color\":\"#E5ECF6\",\"width\":0.5},\"pattern\":{\"fillmode\":\"overlay\",\"size\":10,\"solidity\":0.2}},\"type\":\"bar\"}],\"barpolar\":[{\"marker\":{\"line\":{\"color\":\"#E5ECF6\",\"width\":0.5},\"pattern\":{\"fillmode\":\"overlay\",\"size\":10,\"solidity\":0.2}},\"type\":\"barpolar\"}],\"carpet\":[{\"aaxis\":{\"endlinecolor\":\"#2a3f5f\",\"gridcolor\":\"white\",\"linecolor\":\"white\",\"minorgridcolor\":\"white\",\"startlinecolor\":\"#2a3f5f\"},\"baxis\":{\"endlinecolor\":\"#2a3f5f\",\"gridcolor\":\"white\",\"linecolor\":\"white\",\"minorgridcolor\":\"white\",\"startlinecolor\":\"#2a3f5f\"},\"type\":\"carpet\"}],\"choropleth\":[{\"colorbar\":{\"outlinewidth\":0,\"ticks\":\"\"},\"type\":\"choropleth\"}],\"contour\":[{\"colorbar\":{\"outlinewidth\":0,\"ticks\":\"\"},\"colorscale\":[[0.0,\"#0d0887\"],[0.1111111111111111,\"#46039f\"],[0.2222222222222222,\"#7201a8\"],[0.3333333333333333,\"#9c179e\"],[0.4444444444444444,\"#bd3786\"],[0.5555555555555556,\"#d8576b\"],[0.6666666666666666,\"#ed7953\"],[0.7777777777777778,\"#fb9f3a\"],[0.8888888888888888,\"#fdca26\"],[1.0,\"#f0f921\"]],\"type\":\"contour\"}],\"contourcarpet\":[{\"colorbar\":{\"outlinewidth\":0,\"ticks\":\"\"},\"type\":\"contourcarpet\"}],\"heatmap\":[{\"colorbar\":{\"outlinewidth\":0,\"ticks\":\"\"},\"colorscale\":[[0.0,\"#0d0887\"],[0.1111111111111111,\"#46039f\"],[0.2222222222222222,\"#7201a8\"],[0.3333333333333333,\"#9c179e\"],[0.4444444444444444,\"#bd3786\"],[0.5555555555555556,\"#d8576b\"],[0.6666666666666666,\"#ed7953\"],[0.7777777777777778,\"#fb9f3a\"],[0.8888888888888888,\"#fdca26\"],[1.0,\"#f0f921\"]],\"type\":\"heatmap\"}],\"heatmapgl\":[{\"colorbar\":{\"outlinewidth\":0,\"ticks\":\"\"},\"colorscale\":[[0.0,\"#0d0887\"],[0.1111111111111111,\"#46039f\"],[0.2222222222222222,\"#7201a8\"],[0.3333333333333333,\"#9c179e\"],[0.4444444444444444,\"#bd3786\"],[0.5555555555555556,\"#d8576b\"],[0.6666666666666666,\"#ed7953\"],[0.7777777777777778,\"#fb9f3a\"],[0.8888888888888888,\"#fdca26\"],[1.0,\"#f0f921\"]],\"type\":\"heatmapgl\"}],\"histogram\":[{\"marker\":{\"pattern\":{\"fillmode\":\"overlay\",\"size\":10,\"solidity\":0.2}},\"type\":\"histogram\"}],\"histogram2d\":[{\"colorbar\":{\"outlinewidth\":0,\"ticks\":\"\"},\"colorscale\":[[0.0,\"#0d0887\"],[0.1111111111111111,\"#46039f\"],[0.2222222222222222,\"#7201a8\"],[0.3333333333333333,\"#9c179e\"],[0.4444444444444444,\"#bd3786\"],[0.5555555555555556,\"#d8576b\"],[0.6666666666666666,\"#ed7953\"],[0.7777777777777778,\"#fb9f3a\"],[0.8888888888888888,\"#fdca26\"],[1.0,\"#f0f921\"]],\"type\":\"histogram2d\"}],\"histogram2dcontour\":[{\"colorbar\":{\"outlinewidth\":0,\"ticks\":\"\"},\"colorscale\":[[0.0,\"#0d0887\"],[0.1111111111111111,\"#46039f\"],[0.2222222222222222,\"#7201a8\"],[0.3333333333333333,\"#9c179e\"],[0.4444444444444444,\"#bd3786\"],[0.5555555555555556,\"#d8576b\"],[0.6666666666666666,\"#ed7953\"],[0.7777777777777778,\"#fb9f3a\"],[0.8888888888888888,\"#fdca26\"],[1.0,\"#f0f921\"]],\"type\":\"histogram2dcontour\"}],\"mesh3d\":[{\"colorbar\":{\"outlinewidth\":0,\"ticks\":\"\"},\"type\":\"mesh3d\"}],\"parcoords\":[{\"line\":{\"colorbar\":{\"outlinewidth\":0,\"ticks\":\"\"}},\"type\":\"parcoords\"}],\"pie\":[{\"automargin\":true,\"type\":\"pie\"}],\"scatter\":[{\"marker\":{\"colorbar\":{\"outlinewidth\":0,\"ticks\":\"\"}},\"type\":\"scatter\"}],\"scatter3d\":[{\"line\":{\"colorbar\":{\"outlinewidth\":0,\"ticks\":\"\"}},\"marker\":{\"colorbar\":{\"outlinewidth\":0,\"ticks\":\"\"}},\"type\":\"scatter3d\"}],\"scattercarpet\":[{\"marker\":{\"colorbar\":{\"outlinewidth\":0,\"ticks\":\"\"}},\"type\":\"scattercarpet\"}],\"scattergeo\":[{\"marker\":{\"colorbar\":{\"outlinewidth\":0,\"ticks\":\"\"}},\"type\":\"scattergeo\"}],\"scattergl\":[{\"marker\":{\"colorbar\":{\"outlinewidth\":0,\"ticks\":\"\"}},\"type\":\"scattergl\"}],\"scattermapbox\":[{\"marker\":{\"colorbar\":{\"outlinewidth\":0,\"ticks\":\"\"}},\"type\":\"scattermapbox\"}],\"scatterpolar\":[{\"marker\":{\"colorbar\":{\"outlinewidth\":0,\"ticks\":\"\"}},\"type\":\"scatterpolar\"}],\"scatterpolargl\":[{\"marker\":{\"colorbar\":{\"outlinewidth\":0,\"ticks\":\"\"}},\"type\":\"scatterpolargl\"}],\"scatterternary\":[{\"marker\":{\"colorbar\":{\"outlinewidth\":0,\"ticks\":\"\"}},\"type\":\"scatterternary\"}],\"surface\":[{\"colorbar\":{\"outlinewidth\":0,\"ticks\":\"\"},\"colorscale\":[[0.0,\"#0d0887\"],[0.1111111111111111,\"#46039f\"],[0.2222222222222222,\"#7201a8\"],[0.3333333333333333,\"#9c179e\"],[0.4444444444444444,\"#bd3786\"],[0.5555555555555556,\"#d8576b\"],[0.6666666666666666,\"#ed7953\"],[0.7777777777777778,\"#fb9f3a\"],[0.8888888888888888,\"#fdca26\"],[1.0,\"#f0f921\"]],\"type\":\"surface\"}],\"table\":[{\"cells\":{\"fill\":{\"color\":\"#EBF0F8\"},\"line\":{\"color\":\"white\"}},\"header\":{\"fill\":{\"color\":\"#C8D4E3\"},\"line\":{\"color\":\"white\"}},\"type\":\"table\"}]},\"layout\":{\"annotationdefaults\":{\"arrowcolor\":\"#2a3f5f\",\"arrowhead\":0,\"arrowwidth\":1},\"autotypenumbers\":\"strict\",\"coloraxis\":{\"colorbar\":{\"outlinewidth\":0,\"ticks\":\"\"}},\"colorscale\":{\"diverging\":[[0,\"#8e0152\"],[0.1,\"#c51b7d\"],[0.2,\"#de77ae\"],[0.3,\"#f1b6da\"],[0.4,\"#fde0ef\"],[0.5,\"#f7f7f7\"],[0.6,\"#e6f5d0\"],[0.7,\"#b8e186\"],[0.8,\"#7fbc41\"],[0.9,\"#4d9221\"],[1,\"#276419\"]],\"sequential\":[[0.0,\"#0d0887\"],[0.1111111111111111,\"#46039f\"],[0.2222222222222222,\"#7201a8\"],[0.3333333333333333,\"#9c179e\"],[0.4444444444444444,\"#bd3786\"],[0.5555555555555556,\"#d8576b\"],[0.6666666666666666,\"#ed7953\"],[0.7777777777777778,\"#fb9f3a\"],[0.8888888888888888,\"#fdca26\"],[1.0,\"#f0f921\"]],\"sequentialminus\":[[0.0,\"#0d0887\"],[0.1111111111111111,\"#46039f\"],[0.2222222222222222,\"#7201a8\"],[0.3333333333333333,\"#9c179e\"],[0.4444444444444444,\"#bd3786\"],[0.5555555555555556,\"#d8576b\"],[0.6666666666666666,\"#ed7953\"],[0.7777777777777778,\"#fb9f3a\"],[0.8888888888888888,\"#fdca26\"],[1.0,\"#f0f921\"]]},\"colorway\":[\"#636efa\",\"#EF553B\",\"#00cc96\",\"#ab63fa\",\"#FFA15A\",\"#19d3f3\",\"#FF6692\",\"#B6E880\",\"#FF97FF\",\"#FECB52\"],\"font\":{\"color\":\"#2a3f5f\"},\"geo\":{\"bgcolor\":\"white\",\"lakecolor\":\"white\",\"landcolor\":\"#E5ECF6\",\"showlakes\":true,\"showland\":true,\"subunitcolor\":\"white\"},\"hoverlabel\":{\"align\":\"left\"},\"hovermode\":\"closest\",\"mapbox\":{\"style\":\"light\"},\"paper_bgcolor\":\"white\",\"plot_bgcolor\":\"#E5ECF6\",\"polar\":{\"angularaxis\":{\"gridcolor\":\"white\",\"linecolor\":\"white\",\"ticks\":\"\"},\"bgcolor\":\"#E5ECF6\",\"radialaxis\":{\"gridcolor\":\"white\",\"linecolor\":\"white\",\"ticks\":\"\"}},\"scene\":{\"xaxis\":{\"backgroundcolor\":\"#E5ECF6\",\"gridcolor\":\"white\",\"gridwidth\":2,\"linecolor\":\"white\",\"showbackground\":true,\"ticks\":\"\",\"zerolinecolor\":\"white\"},\"yaxis\":{\"backgroundcolor\":\"#E5ECF6\",\"gridcolor\":\"white\",\"gridwidth\":2,\"linecolor\":\"white\",\"showbackground\":true,\"ticks\":\"\",\"zerolinecolor\":\"white\"},\"zaxis\":{\"backgroundcolor\":\"#E5ECF6\",\"gridcolor\":\"white\",\"gridwidth\":2,\"linecolor\":\"white\",\"showbackground\":true,\"ticks\":\"\",\"zerolinecolor\":\"white\"}},\"shapedefaults\":{\"line\":{\"color\":\"#2a3f5f\"}},\"ternary\":{\"aaxis\":{\"gridcolor\":\"white\",\"linecolor\":\"white\",\"ticks\":\"\"},\"baxis\":{\"gridcolor\":\"white\",\"linecolor\":\"white\",\"ticks\":\"\"},\"bgcolor\":\"#E5ECF6\",\"caxis\":{\"gridcolor\":\"white\",\"linecolor\":\"white\",\"ticks\":\"\"}},\"title\":{\"x\":0.05},\"xaxis\":{\"automargin\":true,\"gridcolor\":\"white\",\"linecolor\":\"white\",\"ticks\":\"\",\"title\":{\"standoff\":15},\"zerolinecolor\":\"white\",\"zerolinewidth\":2},\"yaxis\":{\"automargin\":true,\"gridcolor\":\"white\",\"linecolor\":\"white\",\"ticks\":\"\",\"title\":{\"standoff\":15},\"zerolinecolor\":\"white\",\"zerolinewidth\":2}}},\"title\":{\"font\":{\"color\":\"#4D5663\"}},\"xaxis\":{\"gridcolor\":\"#E1E5ED\",\"showgrid\":true,\"tickfont\":{\"color\":\"#4D5663\"},\"title\":{\"font\":{\"color\":\"#4D5663\"},\"text\":\"\"},\"zerolinecolor\":\"#E1E5ED\"},\"yaxis\":{\"gridcolor\":\"#E1E5ED\",\"showgrid\":true,\"tickfont\":{\"color\":\"#4D5663\"},\"title\":{\"font\":{\"color\":\"#4D5663\"},\"text\":\"\"},\"zerolinecolor\":\"#E1E5ED\"}},                        {\"showLink\": true, \"linkText\": \"Export to plot.ly\", \"plotlyServerURL\": \"https://plot.ly\", \"responsive\": true}                    ).then(function(){\n",
       "                            \n",
       "var gd = document.getElementById('cfa98933-adba-4d08-a7ee-a49b50b289fc');\n",
       "var x = new MutationObserver(function (mutations, observer) {{\n",
       "        var display = window.getComputedStyle(gd).display;\n",
       "        if (!display || display === 'none') {{\n",
       "            console.log([gd, 'removed!']);\n",
       "            Plotly.purge(gd);\n",
       "            observer.disconnect();\n",
       "        }}\n",
       "}});\n",
       "\n",
       "// Listen for the removal of the full notebook cells\n",
       "var notebookContainer = gd.closest('#notebook-container');\n",
       "if (notebookContainer) {{\n",
       "    x.observe(notebookContainer, {childList: true});\n",
       "}}\n",
       "\n",
       "// Listen for the clearing of the current output cell\n",
       "var outputEl = gd.closest('.output');\n",
       "if (outputEl) {{\n",
       "    x.observe(outputEl, {childList: true});\n",
       "}}\n",
       "\n",
       "                        })                };                });            </script>        </div>"
      ]
     },
     "metadata": {},
     "output_type": "display_data"
    }
   ],
   "source": [
    "df.iplot(kind='bubble',x='A',y='B',size='C')"
   ]
  },
  {
   "cell_type": "markdown",
   "metadata": {},
   "source": [
    "## scatter_matrix()\n",
    "\n",
    "Similar to sns.pairplot()"
   ]
  },
  {
   "cell_type": "code",
   "execution_count": 31,
   "metadata": {},
   "outputs": [
    {
     "data": {
      "application/vnd.plotly.v1+json": {
       "config": {
        "linkText": "Export to plot.ly",
        "plotlyServerURL": "https://plot.ly",
        "showLink": true
       },
       "data": [
        {
         "histfunc": "count",
         "histnorm": "",
         "marker": {
          "color": "rgba(255, 153, 51, 1.0)",
          "line": {
           "color": "#4D5663",
           "width": 1.3
          }
         },
         "name": "A",
         "nbinsx": 10,
         "opacity": 0.8,
         "orientation": "v",
         "type": "histogram",
         "x": [
          -0.9059946344274774,
          -0.4228448892570872,
          0.32823669086437185,
          0.6558818756618977,
          -0.23279394393207223,
          0.6525595480366613,
          -1.6915425316219246,
          0.19774000582771878,
          0.2527613251803961,
          1.2212768041507416,
          -1.0510831617170036,
          -0.7793914985082284,
          0.806056944934075,
          -0.6311019866196699,
          0.934877974567317,
          0.16080341281909977,
          -0.26044787101587635,
          -1.1189492025341188,
          0.9314131210571004,
          1.637803872997042,
          0.6740388916031278,
          1.0131855330251243,
          1.0735801831928784,
          0.937155505884544,
          -0.9383642090609543,
          -1.4125546602473755,
          -1.3961261570716632,
          1.4624065012532907,
          1.5085679801507355,
          0.37384897602131767,
          0.14589136140687492,
          -0.23095768454721793,
          -2.3629173679389783,
          0.25331855988772656,
          -0.3115860491141523,
          -0.3030080296653969,
          0.8976458438423921,
          -0.22670266681646012,
          0.41600691876623586,
          0.44298800896287893,
          0.48238892353758295,
          2.8740147943888767,
          1.2137085672267414,
          -0.5078538839778108,
          0.2712852957322795,
          0.48451943108122075,
          0.7602644879314184,
          1.066266090804438,
          -0.7210114083722396,
          0.32916613351098817,
          0.21287846776990083,
          1.3120634164376894,
          1.4845215944923633,
          1.2118529866244876,
          -0.35062596725697137,
          1.4679054114460215,
          0.5946197808733853,
          0.7653928202932211,
          0.502620298066773,
          -0.4655955727577539,
          -0.7795213169381651,
          -0.5835420380031595,
          0.581868964354893,
          -0.8446734086931094,
          -0.6104474804218408,
          -0.49453527742225606,
          0.03616565350186925,
          1.677717127944498,
          -0.13111115072431645,
          0.35354551803517,
          -1.1395729739401037,
          1.087329072160173,
          1.9901243821040628,
          1.4587485333823857,
          0.5863304514720385,
          -1.72328053440473,
          -0.33482969209209335,
          -0.5675569496541126,
          -0.7552568197099411,
          0.984241478144492,
          0.5130936566082164,
          1.007047428091453,
          -0.25229733785962855,
          -1.0765534930300449,
          -1.0836901842430446,
          1.251316893181913,
          -0.061947611188396756,
          -1.5090608602782263,
          0.5407038713008661,
          -0.7598080181281253,
          -2.24033822867379,
          -1.025455849018686,
          -0.6449593030755074,
          -2.3407345468245557,
          1.9319811029535663,
          0.44323959373215516,
          -0.3715898916904119,
          0.7183414221195205,
          0.9328345702391438,
          0.7111546819960841
         ],
         "xaxis": "x",
         "yaxis": "y"
        },
        {
         "line": {
          "color": "rgba(128, 128, 128, 1.0)",
          "dash": "solid",
          "shape": "linear",
          "width": 1.3
         },
         "marker": {
          "size": 2,
          "symbol": "circle"
         },
         "mode": "markers",
         "name": "A",
         "text": "",
         "type": "scatter",
         "x": [
          0.39809897088173535,
          -0.14652925480192855,
          0.9857309327643848,
          -0.8247877220344356,
          -0.7171326813869001,
          0.27152193419855913,
          -0.14087040880362503,
          -0.0890924278317126,
          1.3250570353670188,
          0.09866929384221915,
          -1.456511319329652,
          -1.6257292208567193,
          -0.6674107831292494,
          0.3811991927832541,
          -0.5464922895705291,
          -3.162439502735584,
          -0.658820338868281,
          0.7721719856870062,
          -0.3171154031995474,
          -1.0020734777415063,
          -0.02659884375709406,
          1.4254056731396323,
          0.6836421842787477,
          -0.9772538796145454,
          1.179589205909156,
          0.5452437251135169,
          0.9451720539792436,
          -0.5674693547604166,
          -1.9367879178372351,
          0.09939863026944817,
          0.3788358260021555,
          -0.12359656382636455,
          -0.38458928359784156,
          -0.13612423713165192,
          -0.20220123127288567,
          -0.057722094925038374,
          -0.4215960142227496,
          -1.1817887527339672,
          -0.6820955787736707,
          0.54268553457587,
          2.269274538955471,
          1.399616365283778,
          0.39919861740985063,
          -0.7429824032412617,
          -0.5579151083162384,
          0.49856107072948636,
          -0.6122498520456356,
          -0.5196819457867476,
          0.6580335477597211,
          -1.4453404736418463,
          -1.0683326326666698,
          1.7800123892054036,
          0.33842572157581263,
          1.084922008912415,
          0.710339271478755,
          0.12105239058331187,
          -0.8509752427452628,
          -1.3491238864126032,
          -1.8598394510153693,
          -1.0659054118800213,
          1.3236350429577803,
          0.5444277023592253,
          -0.6727411628076259,
          -0.018547264192752825,
          -0.8071229564449062,
          0.33751660203866807,
          0.1881745849663572,
          0.12260492122922247,
          0.30615558365396084,
          1.2458146238905483,
          1.7110470711557848,
          -0.4800976041892355,
          2.221328091101082,
          0.34503964151741096,
          1.3888534612108372,
          -0.6121543897912833,
          1.5135232133398413,
          0.3550466399495089,
          -0.5125535379885994,
          -0.8684090756031528,
          -0.0880389921588798,
          1.5107179811616,
          -0.07874484690047716,
          -0.5389501748212824,
          0.7535046636019881,
          -0.5600026707788827,
          -0.3110571605343825,
          0.6306288933906005,
          -0.12702949524031082,
          -0.5299579481574125,
          -0.2319476324342638,
          1.1584607557786735,
          -1.5686875302712062,
          0.06172482147957937,
          -0.6198455475019047,
          -2.0770439203968674,
          0.09306099403907173,
          -0.45720135238549225,
          -0.30414649191620025,
          0.03513373986031923
         ],
         "xaxis": "x2",
         "y": [
          -0.9059946344274774,
          -0.4228448892570872,
          0.32823669086437185,
          0.6558818756618977,
          -0.23279394393207223,
          0.6525595480366613,
          -1.6915425316219246,
          0.19774000582771878,
          0.2527613251803961,
          1.2212768041507416,
          -1.0510831617170036,
          -0.7793914985082284,
          0.806056944934075,
          -0.6311019866196699,
          0.934877974567317,
          0.16080341281909977,
          -0.26044787101587635,
          -1.1189492025341188,
          0.9314131210571004,
          1.637803872997042,
          0.6740388916031278,
          1.0131855330251243,
          1.0735801831928784,
          0.937155505884544,
          -0.9383642090609543,
          -1.4125546602473755,
          -1.3961261570716632,
          1.4624065012532907,
          1.5085679801507355,
          0.37384897602131767,
          0.14589136140687492,
          -0.23095768454721793,
          -2.3629173679389783,
          0.25331855988772656,
          -0.3115860491141523,
          -0.3030080296653969,
          0.8976458438423921,
          -0.22670266681646012,
          0.41600691876623586,
          0.44298800896287893,
          0.48238892353758295,
          2.8740147943888767,
          1.2137085672267414,
          -0.5078538839778108,
          0.2712852957322795,
          0.48451943108122075,
          0.7602644879314184,
          1.066266090804438,
          -0.7210114083722396,
          0.32916613351098817,
          0.21287846776990083,
          1.3120634164376894,
          1.4845215944923633,
          1.2118529866244876,
          -0.35062596725697137,
          1.4679054114460215,
          0.5946197808733853,
          0.7653928202932211,
          0.502620298066773,
          -0.4655955727577539,
          -0.7795213169381651,
          -0.5835420380031595,
          0.581868964354893,
          -0.8446734086931094,
          -0.6104474804218408,
          -0.49453527742225606,
          0.03616565350186925,
          1.677717127944498,
          -0.13111115072431645,
          0.35354551803517,
          -1.1395729739401037,
          1.087329072160173,
          1.9901243821040628,
          1.4587485333823857,
          0.5863304514720385,
          -1.72328053440473,
          -0.33482969209209335,
          -0.5675569496541126,
          -0.7552568197099411,
          0.984241478144492,
          0.5130936566082164,
          1.007047428091453,
          -0.25229733785962855,
          -1.0765534930300449,
          -1.0836901842430446,
          1.251316893181913,
          -0.061947611188396756,
          -1.5090608602782263,
          0.5407038713008661,
          -0.7598080181281253,
          -2.24033822867379,
          -1.025455849018686,
          -0.6449593030755074,
          -2.3407345468245557,
          1.9319811029535663,
          0.44323959373215516,
          -0.3715898916904119,
          0.7183414221195205,
          0.9328345702391438,
          0.7111546819960841
         ],
         "yaxis": "y2"
        },
        {
         "line": {
          "color": "rgba(128, 128, 128, 1.0)",
          "dash": "solid",
          "shape": "linear",
          "width": 1.3
         },
         "marker": {
          "size": 2,
          "symbol": "circle"
         },
         "mode": "markers",
         "name": "A",
         "text": "",
         "type": "scatter",
         "x": [
          0.8899482647583795,
          -0.48741350404004985,
          0.12298514481001037,
          -1.774585791587798,
          0.25788794441048885,
          -0.06328921642114764,
          0.8651593131570227,
          1.7149994554523373,
          -1.1952944135921917,
          -0.8242523462338697,
          0.2429233089008537,
          1.6624596340506916,
          0.8588193266652456,
          0.9647459497483071,
          -0.23813580241704013,
          -0.6197192913072721,
          0.060568610242076756,
          -1.876027186517289,
          0.686258974074959,
          -0.25673459721631553,
          0.7736769228693611,
          1.3566267794463591,
          0.7542012540572304,
          -0.42162929129487087,
          0.9487015299143998,
          -0.5761302532372644,
          -1.9029464805710632,
          1.0374031915795034,
          -0.7292548442852299,
          0.03334141354571613,
          1.0829223482605501,
          -1.2026214155339074,
          -1.2142580079903607,
          -0.27454086358979896,
          -1.0506533899581663,
          2.1551201246294123,
          -0.7651680756510916,
          -0.4067694711485394,
          0.831261276156096,
          -1.0147510732655431,
          1.0063233197321864,
          0.42723830554873815,
          1.5299200980024585,
          1.2998999231806587,
          1.2912300594676989,
          -1.2458776828641627,
          1.4474451621128004,
          0.15701383133376268,
          0.6814892571980171,
          2.0411505739861866,
          0.9452241695206468,
          0.43338888339608833,
          -0.4394511787806944,
          -0.5067859564033861,
          0.005055738764854608,
          1.474591522563153,
          -0.8629191140490524,
          -1.1874700605179853,
          -0.09757250559983943,
          -0.36828724929648926,
          1.0283783282412238,
          -0.3883995820650151,
          -0.16426441703822522,
          1.4189273452155675,
          -0.11048245401354172,
          0.3940338401538025,
          0.8170583108124951,
          -0.8699307446545328,
          -0.05625756849411813,
          0.5502998160612507,
          -1.6593905590086808,
          -0.08164535796275711,
          -0.7840450616919273,
          -0.5841850807268515,
          1.8086013752422376,
          0.4074760772558162,
          -1.0259072552717319,
          -1.0879739342231223,
          -1.0467410679175666,
          0.8687746229923943,
          0.4870077060513073,
          -1.1891200717940589,
          -0.08436834921922547,
          -0.9195326383906376,
          -0.3415648548625693,
          -0.2794170119234371,
          0.01138761588792133,
          -0.9140522953517211,
          -0.16531178762007206,
          1.7946611443079783,
          -0.051732808917070806,
          0.7789357894976013,
          1.0688045621594884,
          0.11159693286318663,
          0.7512815794487576,
          -0.5802136776239283,
          0.8047680319434942,
          -1.0850259838757654,
          -0.6812093113350112,
          0.38254119848273516
         ],
         "xaxis": "x3",
         "y": [
          -0.9059946344274774,
          -0.4228448892570872,
          0.32823669086437185,
          0.6558818756618977,
          -0.23279394393207223,
          0.6525595480366613,
          -1.6915425316219246,
          0.19774000582771878,
          0.2527613251803961,
          1.2212768041507416,
          -1.0510831617170036,
          -0.7793914985082284,
          0.806056944934075,
          -0.6311019866196699,
          0.934877974567317,
          0.16080341281909977,
          -0.26044787101587635,
          -1.1189492025341188,
          0.9314131210571004,
          1.637803872997042,
          0.6740388916031278,
          1.0131855330251243,
          1.0735801831928784,
          0.937155505884544,
          -0.9383642090609543,
          -1.4125546602473755,
          -1.3961261570716632,
          1.4624065012532907,
          1.5085679801507355,
          0.37384897602131767,
          0.14589136140687492,
          -0.23095768454721793,
          -2.3629173679389783,
          0.25331855988772656,
          -0.3115860491141523,
          -0.3030080296653969,
          0.8976458438423921,
          -0.22670266681646012,
          0.41600691876623586,
          0.44298800896287893,
          0.48238892353758295,
          2.8740147943888767,
          1.2137085672267414,
          -0.5078538839778108,
          0.2712852957322795,
          0.48451943108122075,
          0.7602644879314184,
          1.066266090804438,
          -0.7210114083722396,
          0.32916613351098817,
          0.21287846776990083,
          1.3120634164376894,
          1.4845215944923633,
          1.2118529866244876,
          -0.35062596725697137,
          1.4679054114460215,
          0.5946197808733853,
          0.7653928202932211,
          0.502620298066773,
          -0.4655955727577539,
          -0.7795213169381651,
          -0.5835420380031595,
          0.581868964354893,
          -0.8446734086931094,
          -0.6104474804218408,
          -0.49453527742225606,
          0.03616565350186925,
          1.677717127944498,
          -0.13111115072431645,
          0.35354551803517,
          -1.1395729739401037,
          1.087329072160173,
          1.9901243821040628,
          1.4587485333823857,
          0.5863304514720385,
          -1.72328053440473,
          -0.33482969209209335,
          -0.5675569496541126,
          -0.7552568197099411,
          0.984241478144492,
          0.5130936566082164,
          1.007047428091453,
          -0.25229733785962855,
          -1.0765534930300449,
          -1.0836901842430446,
          1.251316893181913,
          -0.061947611188396756,
          -1.5090608602782263,
          0.5407038713008661,
          -0.7598080181281253,
          -2.24033822867379,
          -1.025455849018686,
          -0.6449593030755074,
          -2.3407345468245557,
          1.9319811029535663,
          0.44323959373215516,
          -0.3715898916904119,
          0.7183414221195205,
          0.9328345702391438,
          0.7111546819960841
         ],
         "yaxis": "y3"
        },
        {
         "line": {
          "color": "rgba(128, 128, 128, 1.0)",
          "dash": "solid",
          "shape": "linear",
          "width": 1.3
         },
         "marker": {
          "size": 2,
          "symbol": "circle"
         },
         "mode": "markers",
         "name": "A",
         "text": "",
         "type": "scatter",
         "x": [
          -0.3618724048781142,
          -0.40687761489980623,
          0.5195626630568237,
          0.13912631703553005,
          0.32528591114126365,
          0.629820985303858,
          -0.17041115083404465,
          -0.23380726018029674,
          0.6930189819079416,
          0.4321523738209809,
          -0.06832956849261512,
          0.7054808326257046,
          0.3925765839568227,
          0.8414122179485375,
          2.7492266137991384,
          2.789035520870783,
          -0.49788911678712844,
          1.0306950917299138,
          -0.6252367154260806,
          -0.04499324689704075,
          -0.7098464166552086,
          1.0913140164808373,
          -0.14937672319567452,
          -0.027169954537775307,
          -0.33327178910759336,
          0.9782141349110773,
          -0.1659250766810504,
          -1.1907971669168738,
          2.4582023742263774,
          -0.19076034535752567,
          -0.263968439562819,
          -1.2131711833684555,
          0.6549835291202654,
          1.761118222522333,
          0.009168450583866327,
          0.27954336114813516,
          0.5133601348779316,
          -0.7185694932596692,
          -1.1793560729556487,
          1.6022489903898194,
          -1.091237147724573,
          1.9403277119055318,
          0.10413118292587473,
          0.14002107064947966,
          -0.5923516210365952,
          0.3798847137907724,
          1.4175155728259794,
          -0.16165530760120006,
          0.45483955058631537,
          -1.7591790350741123,
          -1.9401472052225492,
          -0.9747105857243566,
          0.2097433224401488,
          0.9428628417877921,
          -1.3460870937111664,
          0.3270291246531071,
          0.9388246148042848,
          -0.9354385562636851,
          0.7236083171803579,
          -0.7324644250452019,
          0.8144034408789959,
          -0.29984428088096304,
          -1.2708026061786377,
          0.7791969024999302,
          0.10634367954919603,
          0.8804390908267082,
          -1.3920998512600171,
          -0.7289623760466917,
          1.6324837909472627,
          -2.275718441810622,
          0.6996653927285276,
          1.9021999289395772,
          -0.22496156634148104,
          -1.236445754124931,
          -0.13670267087326995,
          -1.016315959147242,
          -0.39809020253168687,
          -1.9750991406903013,
          -0.6407360151401108,
          -0.4894767126128095,
          -1.0559998264889134,
          0.5287302277768998,
          -0.06599684649481262,
          0.15982134331091033,
          -0.21114957671805018,
          -0.10064997659060733,
          0.10968624643260116,
          0.4904529657311047,
          -1.1501791726685733,
          0.9470020914184902,
          -0.5453496522243801,
          -1.0544030950720638,
          -0.35195965450924055,
          0.6953243269099676,
          -0.7048377964351703,
          0.1343931435270347,
          0.008367024707526283,
          -0.8295441813327156,
          0.8504452543199488,
          0.294786501266867
         ],
         "xaxis": "x4",
         "y": [
          -0.9059946344274774,
          -0.4228448892570872,
          0.32823669086437185,
          0.6558818756618977,
          -0.23279394393207223,
          0.6525595480366613,
          -1.6915425316219246,
          0.19774000582771878,
          0.2527613251803961,
          1.2212768041507416,
          -1.0510831617170036,
          -0.7793914985082284,
          0.806056944934075,
          -0.6311019866196699,
          0.934877974567317,
          0.16080341281909977,
          -0.26044787101587635,
          -1.1189492025341188,
          0.9314131210571004,
          1.637803872997042,
          0.6740388916031278,
          1.0131855330251243,
          1.0735801831928784,
          0.937155505884544,
          -0.9383642090609543,
          -1.4125546602473755,
          -1.3961261570716632,
          1.4624065012532907,
          1.5085679801507355,
          0.37384897602131767,
          0.14589136140687492,
          -0.23095768454721793,
          -2.3629173679389783,
          0.25331855988772656,
          -0.3115860491141523,
          -0.3030080296653969,
          0.8976458438423921,
          -0.22670266681646012,
          0.41600691876623586,
          0.44298800896287893,
          0.48238892353758295,
          2.8740147943888767,
          1.2137085672267414,
          -0.5078538839778108,
          0.2712852957322795,
          0.48451943108122075,
          0.7602644879314184,
          1.066266090804438,
          -0.7210114083722396,
          0.32916613351098817,
          0.21287846776990083,
          1.3120634164376894,
          1.4845215944923633,
          1.2118529866244876,
          -0.35062596725697137,
          1.4679054114460215,
          0.5946197808733853,
          0.7653928202932211,
          0.502620298066773,
          -0.4655955727577539,
          -0.7795213169381651,
          -0.5835420380031595,
          0.581868964354893,
          -0.8446734086931094,
          -0.6104474804218408,
          -0.49453527742225606,
          0.03616565350186925,
          1.677717127944498,
          -0.13111115072431645,
          0.35354551803517,
          -1.1395729739401037,
          1.087329072160173,
          1.9901243821040628,
          1.4587485333823857,
          0.5863304514720385,
          -1.72328053440473,
          -0.33482969209209335,
          -0.5675569496541126,
          -0.7552568197099411,
          0.984241478144492,
          0.5130936566082164,
          1.007047428091453,
          -0.25229733785962855,
          -1.0765534930300449,
          -1.0836901842430446,
          1.251316893181913,
          -0.061947611188396756,
          -1.5090608602782263,
          0.5407038713008661,
          -0.7598080181281253,
          -2.24033822867379,
          -1.025455849018686,
          -0.6449593030755074,
          -2.3407345468245557,
          1.9319811029535663,
          0.44323959373215516,
          -0.3715898916904119,
          0.7183414221195205,
          0.9328345702391438,
          0.7111546819960841
         ],
         "yaxis": "y4"
        },
        {
         "line": {
          "color": "rgba(128, 128, 128, 1.0)",
          "dash": "solid",
          "shape": "linear",
          "width": 1.3
         },
         "marker": {
          "size": 2,
          "symbol": "circle"
         },
         "mode": "markers",
         "name": "B",
         "text": "",
         "type": "scatter",
         "x": [
          -0.9059946344274774,
          -0.4228448892570872,
          0.32823669086437185,
          0.6558818756618977,
          -0.23279394393207223,
          0.6525595480366613,
          -1.6915425316219246,
          0.19774000582771878,
          0.2527613251803961,
          1.2212768041507416,
          -1.0510831617170036,
          -0.7793914985082284,
          0.806056944934075,
          -0.6311019866196699,
          0.934877974567317,
          0.16080341281909977,
          -0.26044787101587635,
          -1.1189492025341188,
          0.9314131210571004,
          1.637803872997042,
          0.6740388916031278,
          1.0131855330251243,
          1.0735801831928784,
          0.937155505884544,
          -0.9383642090609543,
          -1.4125546602473755,
          -1.3961261570716632,
          1.4624065012532907,
          1.5085679801507355,
          0.37384897602131767,
          0.14589136140687492,
          -0.23095768454721793,
          -2.3629173679389783,
          0.25331855988772656,
          -0.3115860491141523,
          -0.3030080296653969,
          0.8976458438423921,
          -0.22670266681646012,
          0.41600691876623586,
          0.44298800896287893,
          0.48238892353758295,
          2.8740147943888767,
          1.2137085672267414,
          -0.5078538839778108,
          0.2712852957322795,
          0.48451943108122075,
          0.7602644879314184,
          1.066266090804438,
          -0.7210114083722396,
          0.32916613351098817,
          0.21287846776990083,
          1.3120634164376894,
          1.4845215944923633,
          1.2118529866244876,
          -0.35062596725697137,
          1.4679054114460215,
          0.5946197808733853,
          0.7653928202932211,
          0.502620298066773,
          -0.4655955727577539,
          -0.7795213169381651,
          -0.5835420380031595,
          0.581868964354893,
          -0.8446734086931094,
          -0.6104474804218408,
          -0.49453527742225606,
          0.03616565350186925,
          1.677717127944498,
          -0.13111115072431645,
          0.35354551803517,
          -1.1395729739401037,
          1.087329072160173,
          1.9901243821040628,
          1.4587485333823857,
          0.5863304514720385,
          -1.72328053440473,
          -0.33482969209209335,
          -0.5675569496541126,
          -0.7552568197099411,
          0.984241478144492,
          0.5130936566082164,
          1.007047428091453,
          -0.25229733785962855,
          -1.0765534930300449,
          -1.0836901842430446,
          1.251316893181913,
          -0.061947611188396756,
          -1.5090608602782263,
          0.5407038713008661,
          -0.7598080181281253,
          -2.24033822867379,
          -1.025455849018686,
          -0.6449593030755074,
          -2.3407345468245557,
          1.9319811029535663,
          0.44323959373215516,
          -0.3715898916904119,
          0.7183414221195205,
          0.9328345702391438,
          0.7111546819960841
         ],
         "xaxis": "x5",
         "y": [
          0.39809897088173535,
          -0.14652925480192855,
          0.9857309327643848,
          -0.8247877220344356,
          -0.7171326813869001,
          0.27152193419855913,
          -0.14087040880362503,
          -0.0890924278317126,
          1.3250570353670188,
          0.09866929384221915,
          -1.456511319329652,
          -1.6257292208567193,
          -0.6674107831292494,
          0.3811991927832541,
          -0.5464922895705291,
          -3.162439502735584,
          -0.658820338868281,
          0.7721719856870062,
          -0.3171154031995474,
          -1.0020734777415063,
          -0.02659884375709406,
          1.4254056731396323,
          0.6836421842787477,
          -0.9772538796145454,
          1.179589205909156,
          0.5452437251135169,
          0.9451720539792436,
          -0.5674693547604166,
          -1.9367879178372351,
          0.09939863026944817,
          0.3788358260021555,
          -0.12359656382636455,
          -0.38458928359784156,
          -0.13612423713165192,
          -0.20220123127288567,
          -0.057722094925038374,
          -0.4215960142227496,
          -1.1817887527339672,
          -0.6820955787736707,
          0.54268553457587,
          2.269274538955471,
          1.399616365283778,
          0.39919861740985063,
          -0.7429824032412617,
          -0.5579151083162384,
          0.49856107072948636,
          -0.6122498520456356,
          -0.5196819457867476,
          0.6580335477597211,
          -1.4453404736418463,
          -1.0683326326666698,
          1.7800123892054036,
          0.33842572157581263,
          1.084922008912415,
          0.710339271478755,
          0.12105239058331187,
          -0.8509752427452628,
          -1.3491238864126032,
          -1.8598394510153693,
          -1.0659054118800213,
          1.3236350429577803,
          0.5444277023592253,
          -0.6727411628076259,
          -0.018547264192752825,
          -0.8071229564449062,
          0.33751660203866807,
          0.1881745849663572,
          0.12260492122922247,
          0.30615558365396084,
          1.2458146238905483,
          1.7110470711557848,
          -0.4800976041892355,
          2.221328091101082,
          0.34503964151741096,
          1.3888534612108372,
          -0.6121543897912833,
          1.5135232133398413,
          0.3550466399495089,
          -0.5125535379885994,
          -0.8684090756031528,
          -0.0880389921588798,
          1.5107179811616,
          -0.07874484690047716,
          -0.5389501748212824,
          0.7535046636019881,
          -0.5600026707788827,
          -0.3110571605343825,
          0.6306288933906005,
          -0.12702949524031082,
          -0.5299579481574125,
          -0.2319476324342638,
          1.1584607557786735,
          -1.5686875302712062,
          0.06172482147957937,
          -0.6198455475019047,
          -2.0770439203968674,
          0.09306099403907173,
          -0.45720135238549225,
          -0.30414649191620025,
          0.03513373986031923
         ],
         "yaxis": "y5"
        },
        {
         "histfunc": "count",
         "histnorm": "",
         "marker": {
          "color": "rgba(55, 128, 191, 1.0)",
          "line": {
           "color": "#4D5663",
           "width": 1.3
          }
         },
         "name": "B",
         "nbinsx": 10,
         "opacity": 0.8,
         "orientation": "v",
         "type": "histogram",
         "x": [
          0.39809897088173535,
          -0.14652925480192855,
          0.9857309327643848,
          -0.8247877220344356,
          -0.7171326813869001,
          0.27152193419855913,
          -0.14087040880362503,
          -0.0890924278317126,
          1.3250570353670188,
          0.09866929384221915,
          -1.456511319329652,
          -1.6257292208567193,
          -0.6674107831292494,
          0.3811991927832541,
          -0.5464922895705291,
          -3.162439502735584,
          -0.658820338868281,
          0.7721719856870062,
          -0.3171154031995474,
          -1.0020734777415063,
          -0.02659884375709406,
          1.4254056731396323,
          0.6836421842787477,
          -0.9772538796145454,
          1.179589205909156,
          0.5452437251135169,
          0.9451720539792436,
          -0.5674693547604166,
          -1.9367879178372351,
          0.09939863026944817,
          0.3788358260021555,
          -0.12359656382636455,
          -0.38458928359784156,
          -0.13612423713165192,
          -0.20220123127288567,
          -0.057722094925038374,
          -0.4215960142227496,
          -1.1817887527339672,
          -0.6820955787736707,
          0.54268553457587,
          2.269274538955471,
          1.399616365283778,
          0.39919861740985063,
          -0.7429824032412617,
          -0.5579151083162384,
          0.49856107072948636,
          -0.6122498520456356,
          -0.5196819457867476,
          0.6580335477597211,
          -1.4453404736418463,
          -1.0683326326666698,
          1.7800123892054036,
          0.33842572157581263,
          1.084922008912415,
          0.710339271478755,
          0.12105239058331187,
          -0.8509752427452628,
          -1.3491238864126032,
          -1.8598394510153693,
          -1.0659054118800213,
          1.3236350429577803,
          0.5444277023592253,
          -0.6727411628076259,
          -0.018547264192752825,
          -0.8071229564449062,
          0.33751660203866807,
          0.1881745849663572,
          0.12260492122922247,
          0.30615558365396084,
          1.2458146238905483,
          1.7110470711557848,
          -0.4800976041892355,
          2.221328091101082,
          0.34503964151741096,
          1.3888534612108372,
          -0.6121543897912833,
          1.5135232133398413,
          0.3550466399495089,
          -0.5125535379885994,
          -0.8684090756031528,
          -0.0880389921588798,
          1.5107179811616,
          -0.07874484690047716,
          -0.5389501748212824,
          0.7535046636019881,
          -0.5600026707788827,
          -0.3110571605343825,
          0.6306288933906005,
          -0.12702949524031082,
          -0.5299579481574125,
          -0.2319476324342638,
          1.1584607557786735,
          -1.5686875302712062,
          0.06172482147957937,
          -0.6198455475019047,
          -2.0770439203968674,
          0.09306099403907173,
          -0.45720135238549225,
          -0.30414649191620025,
          0.03513373986031923
         ],
         "xaxis": "x6",
         "yaxis": "y6"
        },
        {
         "line": {
          "color": "rgba(128, 128, 128, 1.0)",
          "dash": "solid",
          "shape": "linear",
          "width": 1.3
         },
         "marker": {
          "size": 2,
          "symbol": "circle"
         },
         "mode": "markers",
         "name": "B",
         "text": "",
         "type": "scatter",
         "x": [
          0.8899482647583795,
          -0.48741350404004985,
          0.12298514481001037,
          -1.774585791587798,
          0.25788794441048885,
          -0.06328921642114764,
          0.8651593131570227,
          1.7149994554523373,
          -1.1952944135921917,
          -0.8242523462338697,
          0.2429233089008537,
          1.6624596340506916,
          0.8588193266652456,
          0.9647459497483071,
          -0.23813580241704013,
          -0.6197192913072721,
          0.060568610242076756,
          -1.876027186517289,
          0.686258974074959,
          -0.25673459721631553,
          0.7736769228693611,
          1.3566267794463591,
          0.7542012540572304,
          -0.42162929129487087,
          0.9487015299143998,
          -0.5761302532372644,
          -1.9029464805710632,
          1.0374031915795034,
          -0.7292548442852299,
          0.03334141354571613,
          1.0829223482605501,
          -1.2026214155339074,
          -1.2142580079903607,
          -0.27454086358979896,
          -1.0506533899581663,
          2.1551201246294123,
          -0.7651680756510916,
          -0.4067694711485394,
          0.831261276156096,
          -1.0147510732655431,
          1.0063233197321864,
          0.42723830554873815,
          1.5299200980024585,
          1.2998999231806587,
          1.2912300594676989,
          -1.2458776828641627,
          1.4474451621128004,
          0.15701383133376268,
          0.6814892571980171,
          2.0411505739861866,
          0.9452241695206468,
          0.43338888339608833,
          -0.4394511787806944,
          -0.5067859564033861,
          0.005055738764854608,
          1.474591522563153,
          -0.8629191140490524,
          -1.1874700605179853,
          -0.09757250559983943,
          -0.36828724929648926,
          1.0283783282412238,
          -0.3883995820650151,
          -0.16426441703822522,
          1.4189273452155675,
          -0.11048245401354172,
          0.3940338401538025,
          0.8170583108124951,
          -0.8699307446545328,
          -0.05625756849411813,
          0.5502998160612507,
          -1.6593905590086808,
          -0.08164535796275711,
          -0.7840450616919273,
          -0.5841850807268515,
          1.8086013752422376,
          0.4074760772558162,
          -1.0259072552717319,
          -1.0879739342231223,
          -1.0467410679175666,
          0.8687746229923943,
          0.4870077060513073,
          -1.1891200717940589,
          -0.08436834921922547,
          -0.9195326383906376,
          -0.3415648548625693,
          -0.2794170119234371,
          0.01138761588792133,
          -0.9140522953517211,
          -0.16531178762007206,
          1.7946611443079783,
          -0.051732808917070806,
          0.7789357894976013,
          1.0688045621594884,
          0.11159693286318663,
          0.7512815794487576,
          -0.5802136776239283,
          0.8047680319434942,
          -1.0850259838757654,
          -0.6812093113350112,
          0.38254119848273516
         ],
         "xaxis": "x7",
         "y": [
          0.39809897088173535,
          -0.14652925480192855,
          0.9857309327643848,
          -0.8247877220344356,
          -0.7171326813869001,
          0.27152193419855913,
          -0.14087040880362503,
          -0.0890924278317126,
          1.3250570353670188,
          0.09866929384221915,
          -1.456511319329652,
          -1.6257292208567193,
          -0.6674107831292494,
          0.3811991927832541,
          -0.5464922895705291,
          -3.162439502735584,
          -0.658820338868281,
          0.7721719856870062,
          -0.3171154031995474,
          -1.0020734777415063,
          -0.02659884375709406,
          1.4254056731396323,
          0.6836421842787477,
          -0.9772538796145454,
          1.179589205909156,
          0.5452437251135169,
          0.9451720539792436,
          -0.5674693547604166,
          -1.9367879178372351,
          0.09939863026944817,
          0.3788358260021555,
          -0.12359656382636455,
          -0.38458928359784156,
          -0.13612423713165192,
          -0.20220123127288567,
          -0.057722094925038374,
          -0.4215960142227496,
          -1.1817887527339672,
          -0.6820955787736707,
          0.54268553457587,
          2.269274538955471,
          1.399616365283778,
          0.39919861740985063,
          -0.7429824032412617,
          -0.5579151083162384,
          0.49856107072948636,
          -0.6122498520456356,
          -0.5196819457867476,
          0.6580335477597211,
          -1.4453404736418463,
          -1.0683326326666698,
          1.7800123892054036,
          0.33842572157581263,
          1.084922008912415,
          0.710339271478755,
          0.12105239058331187,
          -0.8509752427452628,
          -1.3491238864126032,
          -1.8598394510153693,
          -1.0659054118800213,
          1.3236350429577803,
          0.5444277023592253,
          -0.6727411628076259,
          -0.018547264192752825,
          -0.8071229564449062,
          0.33751660203866807,
          0.1881745849663572,
          0.12260492122922247,
          0.30615558365396084,
          1.2458146238905483,
          1.7110470711557848,
          -0.4800976041892355,
          2.221328091101082,
          0.34503964151741096,
          1.3888534612108372,
          -0.6121543897912833,
          1.5135232133398413,
          0.3550466399495089,
          -0.5125535379885994,
          -0.8684090756031528,
          -0.0880389921588798,
          1.5107179811616,
          -0.07874484690047716,
          -0.5389501748212824,
          0.7535046636019881,
          -0.5600026707788827,
          -0.3110571605343825,
          0.6306288933906005,
          -0.12702949524031082,
          -0.5299579481574125,
          -0.2319476324342638,
          1.1584607557786735,
          -1.5686875302712062,
          0.06172482147957937,
          -0.6198455475019047,
          -2.0770439203968674,
          0.09306099403907173,
          -0.45720135238549225,
          -0.30414649191620025,
          0.03513373986031923
         ],
         "yaxis": "y7"
        },
        {
         "line": {
          "color": "rgba(128, 128, 128, 1.0)",
          "dash": "solid",
          "shape": "linear",
          "width": 1.3
         },
         "marker": {
          "size": 2,
          "symbol": "circle"
         },
         "mode": "markers",
         "name": "B",
         "text": "",
         "type": "scatter",
         "x": [
          -0.3618724048781142,
          -0.40687761489980623,
          0.5195626630568237,
          0.13912631703553005,
          0.32528591114126365,
          0.629820985303858,
          -0.17041115083404465,
          -0.23380726018029674,
          0.6930189819079416,
          0.4321523738209809,
          -0.06832956849261512,
          0.7054808326257046,
          0.3925765839568227,
          0.8414122179485375,
          2.7492266137991384,
          2.789035520870783,
          -0.49788911678712844,
          1.0306950917299138,
          -0.6252367154260806,
          -0.04499324689704075,
          -0.7098464166552086,
          1.0913140164808373,
          -0.14937672319567452,
          -0.027169954537775307,
          -0.33327178910759336,
          0.9782141349110773,
          -0.1659250766810504,
          -1.1907971669168738,
          2.4582023742263774,
          -0.19076034535752567,
          -0.263968439562819,
          -1.2131711833684555,
          0.6549835291202654,
          1.761118222522333,
          0.009168450583866327,
          0.27954336114813516,
          0.5133601348779316,
          -0.7185694932596692,
          -1.1793560729556487,
          1.6022489903898194,
          -1.091237147724573,
          1.9403277119055318,
          0.10413118292587473,
          0.14002107064947966,
          -0.5923516210365952,
          0.3798847137907724,
          1.4175155728259794,
          -0.16165530760120006,
          0.45483955058631537,
          -1.7591790350741123,
          -1.9401472052225492,
          -0.9747105857243566,
          0.2097433224401488,
          0.9428628417877921,
          -1.3460870937111664,
          0.3270291246531071,
          0.9388246148042848,
          -0.9354385562636851,
          0.7236083171803579,
          -0.7324644250452019,
          0.8144034408789959,
          -0.29984428088096304,
          -1.2708026061786377,
          0.7791969024999302,
          0.10634367954919603,
          0.8804390908267082,
          -1.3920998512600171,
          -0.7289623760466917,
          1.6324837909472627,
          -2.275718441810622,
          0.6996653927285276,
          1.9021999289395772,
          -0.22496156634148104,
          -1.236445754124931,
          -0.13670267087326995,
          -1.016315959147242,
          -0.39809020253168687,
          -1.9750991406903013,
          -0.6407360151401108,
          -0.4894767126128095,
          -1.0559998264889134,
          0.5287302277768998,
          -0.06599684649481262,
          0.15982134331091033,
          -0.21114957671805018,
          -0.10064997659060733,
          0.10968624643260116,
          0.4904529657311047,
          -1.1501791726685733,
          0.9470020914184902,
          -0.5453496522243801,
          -1.0544030950720638,
          -0.35195965450924055,
          0.6953243269099676,
          -0.7048377964351703,
          0.1343931435270347,
          0.008367024707526283,
          -0.8295441813327156,
          0.8504452543199488,
          0.294786501266867
         ],
         "xaxis": "x8",
         "y": [
          0.39809897088173535,
          -0.14652925480192855,
          0.9857309327643848,
          -0.8247877220344356,
          -0.7171326813869001,
          0.27152193419855913,
          -0.14087040880362503,
          -0.0890924278317126,
          1.3250570353670188,
          0.09866929384221915,
          -1.456511319329652,
          -1.6257292208567193,
          -0.6674107831292494,
          0.3811991927832541,
          -0.5464922895705291,
          -3.162439502735584,
          -0.658820338868281,
          0.7721719856870062,
          -0.3171154031995474,
          -1.0020734777415063,
          -0.02659884375709406,
          1.4254056731396323,
          0.6836421842787477,
          -0.9772538796145454,
          1.179589205909156,
          0.5452437251135169,
          0.9451720539792436,
          -0.5674693547604166,
          -1.9367879178372351,
          0.09939863026944817,
          0.3788358260021555,
          -0.12359656382636455,
          -0.38458928359784156,
          -0.13612423713165192,
          -0.20220123127288567,
          -0.057722094925038374,
          -0.4215960142227496,
          -1.1817887527339672,
          -0.6820955787736707,
          0.54268553457587,
          2.269274538955471,
          1.399616365283778,
          0.39919861740985063,
          -0.7429824032412617,
          -0.5579151083162384,
          0.49856107072948636,
          -0.6122498520456356,
          -0.5196819457867476,
          0.6580335477597211,
          -1.4453404736418463,
          -1.0683326326666698,
          1.7800123892054036,
          0.33842572157581263,
          1.084922008912415,
          0.710339271478755,
          0.12105239058331187,
          -0.8509752427452628,
          -1.3491238864126032,
          -1.8598394510153693,
          -1.0659054118800213,
          1.3236350429577803,
          0.5444277023592253,
          -0.6727411628076259,
          -0.018547264192752825,
          -0.8071229564449062,
          0.33751660203866807,
          0.1881745849663572,
          0.12260492122922247,
          0.30615558365396084,
          1.2458146238905483,
          1.7110470711557848,
          -0.4800976041892355,
          2.221328091101082,
          0.34503964151741096,
          1.3888534612108372,
          -0.6121543897912833,
          1.5135232133398413,
          0.3550466399495089,
          -0.5125535379885994,
          -0.8684090756031528,
          -0.0880389921588798,
          1.5107179811616,
          -0.07874484690047716,
          -0.5389501748212824,
          0.7535046636019881,
          -0.5600026707788827,
          -0.3110571605343825,
          0.6306288933906005,
          -0.12702949524031082,
          -0.5299579481574125,
          -0.2319476324342638,
          1.1584607557786735,
          -1.5686875302712062,
          0.06172482147957937,
          -0.6198455475019047,
          -2.0770439203968674,
          0.09306099403907173,
          -0.45720135238549225,
          -0.30414649191620025,
          0.03513373986031923
         ],
         "yaxis": "y8"
        },
        {
         "line": {
          "color": "rgba(128, 128, 128, 1.0)",
          "dash": "solid",
          "shape": "linear",
          "width": 1.3
         },
         "marker": {
          "size": 2,
          "symbol": "circle"
         },
         "mode": "markers",
         "name": "C",
         "text": "",
         "type": "scatter",
         "x": [
          -0.9059946344274774,
          -0.4228448892570872,
          0.32823669086437185,
          0.6558818756618977,
          -0.23279394393207223,
          0.6525595480366613,
          -1.6915425316219246,
          0.19774000582771878,
          0.2527613251803961,
          1.2212768041507416,
          -1.0510831617170036,
          -0.7793914985082284,
          0.806056944934075,
          -0.6311019866196699,
          0.934877974567317,
          0.16080341281909977,
          -0.26044787101587635,
          -1.1189492025341188,
          0.9314131210571004,
          1.637803872997042,
          0.6740388916031278,
          1.0131855330251243,
          1.0735801831928784,
          0.937155505884544,
          -0.9383642090609543,
          -1.4125546602473755,
          -1.3961261570716632,
          1.4624065012532907,
          1.5085679801507355,
          0.37384897602131767,
          0.14589136140687492,
          -0.23095768454721793,
          -2.3629173679389783,
          0.25331855988772656,
          -0.3115860491141523,
          -0.3030080296653969,
          0.8976458438423921,
          -0.22670266681646012,
          0.41600691876623586,
          0.44298800896287893,
          0.48238892353758295,
          2.8740147943888767,
          1.2137085672267414,
          -0.5078538839778108,
          0.2712852957322795,
          0.48451943108122075,
          0.7602644879314184,
          1.066266090804438,
          -0.7210114083722396,
          0.32916613351098817,
          0.21287846776990083,
          1.3120634164376894,
          1.4845215944923633,
          1.2118529866244876,
          -0.35062596725697137,
          1.4679054114460215,
          0.5946197808733853,
          0.7653928202932211,
          0.502620298066773,
          -0.4655955727577539,
          -0.7795213169381651,
          -0.5835420380031595,
          0.581868964354893,
          -0.8446734086931094,
          -0.6104474804218408,
          -0.49453527742225606,
          0.03616565350186925,
          1.677717127944498,
          -0.13111115072431645,
          0.35354551803517,
          -1.1395729739401037,
          1.087329072160173,
          1.9901243821040628,
          1.4587485333823857,
          0.5863304514720385,
          -1.72328053440473,
          -0.33482969209209335,
          -0.5675569496541126,
          -0.7552568197099411,
          0.984241478144492,
          0.5130936566082164,
          1.007047428091453,
          -0.25229733785962855,
          -1.0765534930300449,
          -1.0836901842430446,
          1.251316893181913,
          -0.061947611188396756,
          -1.5090608602782263,
          0.5407038713008661,
          -0.7598080181281253,
          -2.24033822867379,
          -1.025455849018686,
          -0.6449593030755074,
          -2.3407345468245557,
          1.9319811029535663,
          0.44323959373215516,
          -0.3715898916904119,
          0.7183414221195205,
          0.9328345702391438,
          0.7111546819960841
         ],
         "xaxis": "x9",
         "y": [
          0.8899482647583795,
          -0.48741350404004985,
          0.12298514481001037,
          -1.774585791587798,
          0.25788794441048885,
          -0.06328921642114764,
          0.8651593131570227,
          1.7149994554523373,
          -1.1952944135921917,
          -0.8242523462338697,
          0.2429233089008537,
          1.6624596340506916,
          0.8588193266652456,
          0.9647459497483071,
          -0.23813580241704013,
          -0.6197192913072721,
          0.060568610242076756,
          -1.876027186517289,
          0.686258974074959,
          -0.25673459721631553,
          0.7736769228693611,
          1.3566267794463591,
          0.7542012540572304,
          -0.42162929129487087,
          0.9487015299143998,
          -0.5761302532372644,
          -1.9029464805710632,
          1.0374031915795034,
          -0.7292548442852299,
          0.03334141354571613,
          1.0829223482605501,
          -1.2026214155339074,
          -1.2142580079903607,
          -0.27454086358979896,
          -1.0506533899581663,
          2.1551201246294123,
          -0.7651680756510916,
          -0.4067694711485394,
          0.831261276156096,
          -1.0147510732655431,
          1.0063233197321864,
          0.42723830554873815,
          1.5299200980024585,
          1.2998999231806587,
          1.2912300594676989,
          -1.2458776828641627,
          1.4474451621128004,
          0.15701383133376268,
          0.6814892571980171,
          2.0411505739861866,
          0.9452241695206468,
          0.43338888339608833,
          -0.4394511787806944,
          -0.5067859564033861,
          0.005055738764854608,
          1.474591522563153,
          -0.8629191140490524,
          -1.1874700605179853,
          -0.09757250559983943,
          -0.36828724929648926,
          1.0283783282412238,
          -0.3883995820650151,
          -0.16426441703822522,
          1.4189273452155675,
          -0.11048245401354172,
          0.3940338401538025,
          0.8170583108124951,
          -0.8699307446545328,
          -0.05625756849411813,
          0.5502998160612507,
          -1.6593905590086808,
          -0.08164535796275711,
          -0.7840450616919273,
          -0.5841850807268515,
          1.8086013752422376,
          0.4074760772558162,
          -1.0259072552717319,
          -1.0879739342231223,
          -1.0467410679175666,
          0.8687746229923943,
          0.4870077060513073,
          -1.1891200717940589,
          -0.08436834921922547,
          -0.9195326383906376,
          -0.3415648548625693,
          -0.2794170119234371,
          0.01138761588792133,
          -0.9140522953517211,
          -0.16531178762007206,
          1.7946611443079783,
          -0.051732808917070806,
          0.7789357894976013,
          1.0688045621594884,
          0.11159693286318663,
          0.7512815794487576,
          -0.5802136776239283,
          0.8047680319434942,
          -1.0850259838757654,
          -0.6812093113350112,
          0.38254119848273516
         ],
         "yaxis": "y9"
        },
        {
         "line": {
          "color": "rgba(128, 128, 128, 1.0)",
          "dash": "solid",
          "shape": "linear",
          "width": 1.3
         },
         "marker": {
          "size": 2,
          "symbol": "circle"
         },
         "mode": "markers",
         "name": "C",
         "text": "",
         "type": "scatter",
         "x": [
          0.39809897088173535,
          -0.14652925480192855,
          0.9857309327643848,
          -0.8247877220344356,
          -0.7171326813869001,
          0.27152193419855913,
          -0.14087040880362503,
          -0.0890924278317126,
          1.3250570353670188,
          0.09866929384221915,
          -1.456511319329652,
          -1.6257292208567193,
          -0.6674107831292494,
          0.3811991927832541,
          -0.5464922895705291,
          -3.162439502735584,
          -0.658820338868281,
          0.7721719856870062,
          -0.3171154031995474,
          -1.0020734777415063,
          -0.02659884375709406,
          1.4254056731396323,
          0.6836421842787477,
          -0.9772538796145454,
          1.179589205909156,
          0.5452437251135169,
          0.9451720539792436,
          -0.5674693547604166,
          -1.9367879178372351,
          0.09939863026944817,
          0.3788358260021555,
          -0.12359656382636455,
          -0.38458928359784156,
          -0.13612423713165192,
          -0.20220123127288567,
          -0.057722094925038374,
          -0.4215960142227496,
          -1.1817887527339672,
          -0.6820955787736707,
          0.54268553457587,
          2.269274538955471,
          1.399616365283778,
          0.39919861740985063,
          -0.7429824032412617,
          -0.5579151083162384,
          0.49856107072948636,
          -0.6122498520456356,
          -0.5196819457867476,
          0.6580335477597211,
          -1.4453404736418463,
          -1.0683326326666698,
          1.7800123892054036,
          0.33842572157581263,
          1.084922008912415,
          0.710339271478755,
          0.12105239058331187,
          -0.8509752427452628,
          -1.3491238864126032,
          -1.8598394510153693,
          -1.0659054118800213,
          1.3236350429577803,
          0.5444277023592253,
          -0.6727411628076259,
          -0.018547264192752825,
          -0.8071229564449062,
          0.33751660203866807,
          0.1881745849663572,
          0.12260492122922247,
          0.30615558365396084,
          1.2458146238905483,
          1.7110470711557848,
          -0.4800976041892355,
          2.221328091101082,
          0.34503964151741096,
          1.3888534612108372,
          -0.6121543897912833,
          1.5135232133398413,
          0.3550466399495089,
          -0.5125535379885994,
          -0.8684090756031528,
          -0.0880389921588798,
          1.5107179811616,
          -0.07874484690047716,
          -0.5389501748212824,
          0.7535046636019881,
          -0.5600026707788827,
          -0.3110571605343825,
          0.6306288933906005,
          -0.12702949524031082,
          -0.5299579481574125,
          -0.2319476324342638,
          1.1584607557786735,
          -1.5686875302712062,
          0.06172482147957937,
          -0.6198455475019047,
          -2.0770439203968674,
          0.09306099403907173,
          -0.45720135238549225,
          -0.30414649191620025,
          0.03513373986031923
         ],
         "xaxis": "x10",
         "y": [
          0.8899482647583795,
          -0.48741350404004985,
          0.12298514481001037,
          -1.774585791587798,
          0.25788794441048885,
          -0.06328921642114764,
          0.8651593131570227,
          1.7149994554523373,
          -1.1952944135921917,
          -0.8242523462338697,
          0.2429233089008537,
          1.6624596340506916,
          0.8588193266652456,
          0.9647459497483071,
          -0.23813580241704013,
          -0.6197192913072721,
          0.060568610242076756,
          -1.876027186517289,
          0.686258974074959,
          -0.25673459721631553,
          0.7736769228693611,
          1.3566267794463591,
          0.7542012540572304,
          -0.42162929129487087,
          0.9487015299143998,
          -0.5761302532372644,
          -1.9029464805710632,
          1.0374031915795034,
          -0.7292548442852299,
          0.03334141354571613,
          1.0829223482605501,
          -1.2026214155339074,
          -1.2142580079903607,
          -0.27454086358979896,
          -1.0506533899581663,
          2.1551201246294123,
          -0.7651680756510916,
          -0.4067694711485394,
          0.831261276156096,
          -1.0147510732655431,
          1.0063233197321864,
          0.42723830554873815,
          1.5299200980024585,
          1.2998999231806587,
          1.2912300594676989,
          -1.2458776828641627,
          1.4474451621128004,
          0.15701383133376268,
          0.6814892571980171,
          2.0411505739861866,
          0.9452241695206468,
          0.43338888339608833,
          -0.4394511787806944,
          -0.5067859564033861,
          0.005055738764854608,
          1.474591522563153,
          -0.8629191140490524,
          -1.1874700605179853,
          -0.09757250559983943,
          -0.36828724929648926,
          1.0283783282412238,
          -0.3883995820650151,
          -0.16426441703822522,
          1.4189273452155675,
          -0.11048245401354172,
          0.3940338401538025,
          0.8170583108124951,
          -0.8699307446545328,
          -0.05625756849411813,
          0.5502998160612507,
          -1.6593905590086808,
          -0.08164535796275711,
          -0.7840450616919273,
          -0.5841850807268515,
          1.8086013752422376,
          0.4074760772558162,
          -1.0259072552717319,
          -1.0879739342231223,
          -1.0467410679175666,
          0.8687746229923943,
          0.4870077060513073,
          -1.1891200717940589,
          -0.08436834921922547,
          -0.9195326383906376,
          -0.3415648548625693,
          -0.2794170119234371,
          0.01138761588792133,
          -0.9140522953517211,
          -0.16531178762007206,
          1.7946611443079783,
          -0.051732808917070806,
          0.7789357894976013,
          1.0688045621594884,
          0.11159693286318663,
          0.7512815794487576,
          -0.5802136776239283,
          0.8047680319434942,
          -1.0850259838757654,
          -0.6812093113350112,
          0.38254119848273516
         ],
         "yaxis": "y10"
        },
        {
         "histfunc": "count",
         "histnorm": "",
         "marker": {
          "color": "rgba(50, 171, 96, 1.0)",
          "line": {
           "color": "#4D5663",
           "width": 1.3
          }
         },
         "name": "C",
         "nbinsx": 10,
         "opacity": 0.8,
         "orientation": "v",
         "type": "histogram",
         "x": [
          0.8899482647583795,
          -0.48741350404004985,
          0.12298514481001037,
          -1.774585791587798,
          0.25788794441048885,
          -0.06328921642114764,
          0.8651593131570227,
          1.7149994554523373,
          -1.1952944135921917,
          -0.8242523462338697,
          0.2429233089008537,
          1.6624596340506916,
          0.8588193266652456,
          0.9647459497483071,
          -0.23813580241704013,
          -0.6197192913072721,
          0.060568610242076756,
          -1.876027186517289,
          0.686258974074959,
          -0.25673459721631553,
          0.7736769228693611,
          1.3566267794463591,
          0.7542012540572304,
          -0.42162929129487087,
          0.9487015299143998,
          -0.5761302532372644,
          -1.9029464805710632,
          1.0374031915795034,
          -0.7292548442852299,
          0.03334141354571613,
          1.0829223482605501,
          -1.2026214155339074,
          -1.2142580079903607,
          -0.27454086358979896,
          -1.0506533899581663,
          2.1551201246294123,
          -0.7651680756510916,
          -0.4067694711485394,
          0.831261276156096,
          -1.0147510732655431,
          1.0063233197321864,
          0.42723830554873815,
          1.5299200980024585,
          1.2998999231806587,
          1.2912300594676989,
          -1.2458776828641627,
          1.4474451621128004,
          0.15701383133376268,
          0.6814892571980171,
          2.0411505739861866,
          0.9452241695206468,
          0.43338888339608833,
          -0.4394511787806944,
          -0.5067859564033861,
          0.005055738764854608,
          1.474591522563153,
          -0.8629191140490524,
          -1.1874700605179853,
          -0.09757250559983943,
          -0.36828724929648926,
          1.0283783282412238,
          -0.3883995820650151,
          -0.16426441703822522,
          1.4189273452155675,
          -0.11048245401354172,
          0.3940338401538025,
          0.8170583108124951,
          -0.8699307446545328,
          -0.05625756849411813,
          0.5502998160612507,
          -1.6593905590086808,
          -0.08164535796275711,
          -0.7840450616919273,
          -0.5841850807268515,
          1.8086013752422376,
          0.4074760772558162,
          -1.0259072552717319,
          -1.0879739342231223,
          -1.0467410679175666,
          0.8687746229923943,
          0.4870077060513073,
          -1.1891200717940589,
          -0.08436834921922547,
          -0.9195326383906376,
          -0.3415648548625693,
          -0.2794170119234371,
          0.01138761588792133,
          -0.9140522953517211,
          -0.16531178762007206,
          1.7946611443079783,
          -0.051732808917070806,
          0.7789357894976013,
          1.0688045621594884,
          0.11159693286318663,
          0.7512815794487576,
          -0.5802136776239283,
          0.8047680319434942,
          -1.0850259838757654,
          -0.6812093113350112,
          0.38254119848273516
         ],
         "xaxis": "x11",
         "yaxis": "y11"
        },
        {
         "line": {
          "color": "rgba(128, 128, 128, 1.0)",
          "dash": "solid",
          "shape": "linear",
          "width": 1.3
         },
         "marker": {
          "size": 2,
          "symbol": "circle"
         },
         "mode": "markers",
         "name": "C",
         "text": "",
         "type": "scatter",
         "x": [
          -0.3618724048781142,
          -0.40687761489980623,
          0.5195626630568237,
          0.13912631703553005,
          0.32528591114126365,
          0.629820985303858,
          -0.17041115083404465,
          -0.23380726018029674,
          0.6930189819079416,
          0.4321523738209809,
          -0.06832956849261512,
          0.7054808326257046,
          0.3925765839568227,
          0.8414122179485375,
          2.7492266137991384,
          2.789035520870783,
          -0.49788911678712844,
          1.0306950917299138,
          -0.6252367154260806,
          -0.04499324689704075,
          -0.7098464166552086,
          1.0913140164808373,
          -0.14937672319567452,
          -0.027169954537775307,
          -0.33327178910759336,
          0.9782141349110773,
          -0.1659250766810504,
          -1.1907971669168738,
          2.4582023742263774,
          -0.19076034535752567,
          -0.263968439562819,
          -1.2131711833684555,
          0.6549835291202654,
          1.761118222522333,
          0.009168450583866327,
          0.27954336114813516,
          0.5133601348779316,
          -0.7185694932596692,
          -1.1793560729556487,
          1.6022489903898194,
          -1.091237147724573,
          1.9403277119055318,
          0.10413118292587473,
          0.14002107064947966,
          -0.5923516210365952,
          0.3798847137907724,
          1.4175155728259794,
          -0.16165530760120006,
          0.45483955058631537,
          -1.7591790350741123,
          -1.9401472052225492,
          -0.9747105857243566,
          0.2097433224401488,
          0.9428628417877921,
          -1.3460870937111664,
          0.3270291246531071,
          0.9388246148042848,
          -0.9354385562636851,
          0.7236083171803579,
          -0.7324644250452019,
          0.8144034408789959,
          -0.29984428088096304,
          -1.2708026061786377,
          0.7791969024999302,
          0.10634367954919603,
          0.8804390908267082,
          -1.3920998512600171,
          -0.7289623760466917,
          1.6324837909472627,
          -2.275718441810622,
          0.6996653927285276,
          1.9021999289395772,
          -0.22496156634148104,
          -1.236445754124931,
          -0.13670267087326995,
          -1.016315959147242,
          -0.39809020253168687,
          -1.9750991406903013,
          -0.6407360151401108,
          -0.4894767126128095,
          -1.0559998264889134,
          0.5287302277768998,
          -0.06599684649481262,
          0.15982134331091033,
          -0.21114957671805018,
          -0.10064997659060733,
          0.10968624643260116,
          0.4904529657311047,
          -1.1501791726685733,
          0.9470020914184902,
          -0.5453496522243801,
          -1.0544030950720638,
          -0.35195965450924055,
          0.6953243269099676,
          -0.7048377964351703,
          0.1343931435270347,
          0.008367024707526283,
          -0.8295441813327156,
          0.8504452543199488,
          0.294786501266867
         ],
         "xaxis": "x12",
         "y": [
          0.8899482647583795,
          -0.48741350404004985,
          0.12298514481001037,
          -1.774585791587798,
          0.25788794441048885,
          -0.06328921642114764,
          0.8651593131570227,
          1.7149994554523373,
          -1.1952944135921917,
          -0.8242523462338697,
          0.2429233089008537,
          1.6624596340506916,
          0.8588193266652456,
          0.9647459497483071,
          -0.23813580241704013,
          -0.6197192913072721,
          0.060568610242076756,
          -1.876027186517289,
          0.686258974074959,
          -0.25673459721631553,
          0.7736769228693611,
          1.3566267794463591,
          0.7542012540572304,
          -0.42162929129487087,
          0.9487015299143998,
          -0.5761302532372644,
          -1.9029464805710632,
          1.0374031915795034,
          -0.7292548442852299,
          0.03334141354571613,
          1.0829223482605501,
          -1.2026214155339074,
          -1.2142580079903607,
          -0.27454086358979896,
          -1.0506533899581663,
          2.1551201246294123,
          -0.7651680756510916,
          -0.4067694711485394,
          0.831261276156096,
          -1.0147510732655431,
          1.0063233197321864,
          0.42723830554873815,
          1.5299200980024585,
          1.2998999231806587,
          1.2912300594676989,
          -1.2458776828641627,
          1.4474451621128004,
          0.15701383133376268,
          0.6814892571980171,
          2.0411505739861866,
          0.9452241695206468,
          0.43338888339608833,
          -0.4394511787806944,
          -0.5067859564033861,
          0.005055738764854608,
          1.474591522563153,
          -0.8629191140490524,
          -1.1874700605179853,
          -0.09757250559983943,
          -0.36828724929648926,
          1.0283783282412238,
          -0.3883995820650151,
          -0.16426441703822522,
          1.4189273452155675,
          -0.11048245401354172,
          0.3940338401538025,
          0.8170583108124951,
          -0.8699307446545328,
          -0.05625756849411813,
          0.5502998160612507,
          -1.6593905590086808,
          -0.08164535796275711,
          -0.7840450616919273,
          -0.5841850807268515,
          1.8086013752422376,
          0.4074760772558162,
          -1.0259072552717319,
          -1.0879739342231223,
          -1.0467410679175666,
          0.8687746229923943,
          0.4870077060513073,
          -1.1891200717940589,
          -0.08436834921922547,
          -0.9195326383906376,
          -0.3415648548625693,
          -0.2794170119234371,
          0.01138761588792133,
          -0.9140522953517211,
          -0.16531178762007206,
          1.7946611443079783,
          -0.051732808917070806,
          0.7789357894976013,
          1.0688045621594884,
          0.11159693286318663,
          0.7512815794487576,
          -0.5802136776239283,
          0.8047680319434942,
          -1.0850259838757654,
          -0.6812093113350112,
          0.38254119848273516
         ],
         "yaxis": "y12"
        },
        {
         "line": {
          "color": "rgba(128, 128, 128, 1.0)",
          "dash": "solid",
          "shape": "linear",
          "width": 1.3
         },
         "marker": {
          "size": 2,
          "symbol": "circle"
         },
         "mode": "markers",
         "name": "D",
         "text": "",
         "type": "scatter",
         "x": [
          -0.9059946344274774,
          -0.4228448892570872,
          0.32823669086437185,
          0.6558818756618977,
          -0.23279394393207223,
          0.6525595480366613,
          -1.6915425316219246,
          0.19774000582771878,
          0.2527613251803961,
          1.2212768041507416,
          -1.0510831617170036,
          -0.7793914985082284,
          0.806056944934075,
          -0.6311019866196699,
          0.934877974567317,
          0.16080341281909977,
          -0.26044787101587635,
          -1.1189492025341188,
          0.9314131210571004,
          1.637803872997042,
          0.6740388916031278,
          1.0131855330251243,
          1.0735801831928784,
          0.937155505884544,
          -0.9383642090609543,
          -1.4125546602473755,
          -1.3961261570716632,
          1.4624065012532907,
          1.5085679801507355,
          0.37384897602131767,
          0.14589136140687492,
          -0.23095768454721793,
          -2.3629173679389783,
          0.25331855988772656,
          -0.3115860491141523,
          -0.3030080296653969,
          0.8976458438423921,
          -0.22670266681646012,
          0.41600691876623586,
          0.44298800896287893,
          0.48238892353758295,
          2.8740147943888767,
          1.2137085672267414,
          -0.5078538839778108,
          0.2712852957322795,
          0.48451943108122075,
          0.7602644879314184,
          1.066266090804438,
          -0.7210114083722396,
          0.32916613351098817,
          0.21287846776990083,
          1.3120634164376894,
          1.4845215944923633,
          1.2118529866244876,
          -0.35062596725697137,
          1.4679054114460215,
          0.5946197808733853,
          0.7653928202932211,
          0.502620298066773,
          -0.4655955727577539,
          -0.7795213169381651,
          -0.5835420380031595,
          0.581868964354893,
          -0.8446734086931094,
          -0.6104474804218408,
          -0.49453527742225606,
          0.03616565350186925,
          1.677717127944498,
          -0.13111115072431645,
          0.35354551803517,
          -1.1395729739401037,
          1.087329072160173,
          1.9901243821040628,
          1.4587485333823857,
          0.5863304514720385,
          -1.72328053440473,
          -0.33482969209209335,
          -0.5675569496541126,
          -0.7552568197099411,
          0.984241478144492,
          0.5130936566082164,
          1.007047428091453,
          -0.25229733785962855,
          -1.0765534930300449,
          -1.0836901842430446,
          1.251316893181913,
          -0.061947611188396756,
          -1.5090608602782263,
          0.5407038713008661,
          -0.7598080181281253,
          -2.24033822867379,
          -1.025455849018686,
          -0.6449593030755074,
          -2.3407345468245557,
          1.9319811029535663,
          0.44323959373215516,
          -0.3715898916904119,
          0.7183414221195205,
          0.9328345702391438,
          0.7111546819960841
         ],
         "xaxis": "x13",
         "y": [
          -0.3618724048781142,
          -0.40687761489980623,
          0.5195626630568237,
          0.13912631703553005,
          0.32528591114126365,
          0.629820985303858,
          -0.17041115083404465,
          -0.23380726018029674,
          0.6930189819079416,
          0.4321523738209809,
          -0.06832956849261512,
          0.7054808326257046,
          0.3925765839568227,
          0.8414122179485375,
          2.7492266137991384,
          2.789035520870783,
          -0.49788911678712844,
          1.0306950917299138,
          -0.6252367154260806,
          -0.04499324689704075,
          -0.7098464166552086,
          1.0913140164808373,
          -0.14937672319567452,
          -0.027169954537775307,
          -0.33327178910759336,
          0.9782141349110773,
          -0.1659250766810504,
          -1.1907971669168738,
          2.4582023742263774,
          -0.19076034535752567,
          -0.263968439562819,
          -1.2131711833684555,
          0.6549835291202654,
          1.761118222522333,
          0.009168450583866327,
          0.27954336114813516,
          0.5133601348779316,
          -0.7185694932596692,
          -1.1793560729556487,
          1.6022489903898194,
          -1.091237147724573,
          1.9403277119055318,
          0.10413118292587473,
          0.14002107064947966,
          -0.5923516210365952,
          0.3798847137907724,
          1.4175155728259794,
          -0.16165530760120006,
          0.45483955058631537,
          -1.7591790350741123,
          -1.9401472052225492,
          -0.9747105857243566,
          0.2097433224401488,
          0.9428628417877921,
          -1.3460870937111664,
          0.3270291246531071,
          0.9388246148042848,
          -0.9354385562636851,
          0.7236083171803579,
          -0.7324644250452019,
          0.8144034408789959,
          -0.29984428088096304,
          -1.2708026061786377,
          0.7791969024999302,
          0.10634367954919603,
          0.8804390908267082,
          -1.3920998512600171,
          -0.7289623760466917,
          1.6324837909472627,
          -2.275718441810622,
          0.6996653927285276,
          1.9021999289395772,
          -0.22496156634148104,
          -1.236445754124931,
          -0.13670267087326995,
          -1.016315959147242,
          -0.39809020253168687,
          -1.9750991406903013,
          -0.6407360151401108,
          -0.4894767126128095,
          -1.0559998264889134,
          0.5287302277768998,
          -0.06599684649481262,
          0.15982134331091033,
          -0.21114957671805018,
          -0.10064997659060733,
          0.10968624643260116,
          0.4904529657311047,
          -1.1501791726685733,
          0.9470020914184902,
          -0.5453496522243801,
          -1.0544030950720638,
          -0.35195965450924055,
          0.6953243269099676,
          -0.7048377964351703,
          0.1343931435270347,
          0.008367024707526283,
          -0.8295441813327156,
          0.8504452543199488,
          0.294786501266867
         ],
         "yaxis": "y13"
        },
        {
         "line": {
          "color": "rgba(128, 128, 128, 1.0)",
          "dash": "solid",
          "shape": "linear",
          "width": 1.3
         },
         "marker": {
          "size": 2,
          "symbol": "circle"
         },
         "mode": "markers",
         "name": "D",
         "text": "",
         "type": "scatter",
         "x": [
          0.39809897088173535,
          -0.14652925480192855,
          0.9857309327643848,
          -0.8247877220344356,
          -0.7171326813869001,
          0.27152193419855913,
          -0.14087040880362503,
          -0.0890924278317126,
          1.3250570353670188,
          0.09866929384221915,
          -1.456511319329652,
          -1.6257292208567193,
          -0.6674107831292494,
          0.3811991927832541,
          -0.5464922895705291,
          -3.162439502735584,
          -0.658820338868281,
          0.7721719856870062,
          -0.3171154031995474,
          -1.0020734777415063,
          -0.02659884375709406,
          1.4254056731396323,
          0.6836421842787477,
          -0.9772538796145454,
          1.179589205909156,
          0.5452437251135169,
          0.9451720539792436,
          -0.5674693547604166,
          -1.9367879178372351,
          0.09939863026944817,
          0.3788358260021555,
          -0.12359656382636455,
          -0.38458928359784156,
          -0.13612423713165192,
          -0.20220123127288567,
          -0.057722094925038374,
          -0.4215960142227496,
          -1.1817887527339672,
          -0.6820955787736707,
          0.54268553457587,
          2.269274538955471,
          1.399616365283778,
          0.39919861740985063,
          -0.7429824032412617,
          -0.5579151083162384,
          0.49856107072948636,
          -0.6122498520456356,
          -0.5196819457867476,
          0.6580335477597211,
          -1.4453404736418463,
          -1.0683326326666698,
          1.7800123892054036,
          0.33842572157581263,
          1.084922008912415,
          0.710339271478755,
          0.12105239058331187,
          -0.8509752427452628,
          -1.3491238864126032,
          -1.8598394510153693,
          -1.0659054118800213,
          1.3236350429577803,
          0.5444277023592253,
          -0.6727411628076259,
          -0.018547264192752825,
          -0.8071229564449062,
          0.33751660203866807,
          0.1881745849663572,
          0.12260492122922247,
          0.30615558365396084,
          1.2458146238905483,
          1.7110470711557848,
          -0.4800976041892355,
          2.221328091101082,
          0.34503964151741096,
          1.3888534612108372,
          -0.6121543897912833,
          1.5135232133398413,
          0.3550466399495089,
          -0.5125535379885994,
          -0.8684090756031528,
          -0.0880389921588798,
          1.5107179811616,
          -0.07874484690047716,
          -0.5389501748212824,
          0.7535046636019881,
          -0.5600026707788827,
          -0.3110571605343825,
          0.6306288933906005,
          -0.12702949524031082,
          -0.5299579481574125,
          -0.2319476324342638,
          1.1584607557786735,
          -1.5686875302712062,
          0.06172482147957937,
          -0.6198455475019047,
          -2.0770439203968674,
          0.09306099403907173,
          -0.45720135238549225,
          -0.30414649191620025,
          0.03513373986031923
         ],
         "xaxis": "x14",
         "y": [
          -0.3618724048781142,
          -0.40687761489980623,
          0.5195626630568237,
          0.13912631703553005,
          0.32528591114126365,
          0.629820985303858,
          -0.17041115083404465,
          -0.23380726018029674,
          0.6930189819079416,
          0.4321523738209809,
          -0.06832956849261512,
          0.7054808326257046,
          0.3925765839568227,
          0.8414122179485375,
          2.7492266137991384,
          2.789035520870783,
          -0.49788911678712844,
          1.0306950917299138,
          -0.6252367154260806,
          -0.04499324689704075,
          -0.7098464166552086,
          1.0913140164808373,
          -0.14937672319567452,
          -0.027169954537775307,
          -0.33327178910759336,
          0.9782141349110773,
          -0.1659250766810504,
          -1.1907971669168738,
          2.4582023742263774,
          -0.19076034535752567,
          -0.263968439562819,
          -1.2131711833684555,
          0.6549835291202654,
          1.761118222522333,
          0.009168450583866327,
          0.27954336114813516,
          0.5133601348779316,
          -0.7185694932596692,
          -1.1793560729556487,
          1.6022489903898194,
          -1.091237147724573,
          1.9403277119055318,
          0.10413118292587473,
          0.14002107064947966,
          -0.5923516210365952,
          0.3798847137907724,
          1.4175155728259794,
          -0.16165530760120006,
          0.45483955058631537,
          -1.7591790350741123,
          -1.9401472052225492,
          -0.9747105857243566,
          0.2097433224401488,
          0.9428628417877921,
          -1.3460870937111664,
          0.3270291246531071,
          0.9388246148042848,
          -0.9354385562636851,
          0.7236083171803579,
          -0.7324644250452019,
          0.8144034408789959,
          -0.29984428088096304,
          -1.2708026061786377,
          0.7791969024999302,
          0.10634367954919603,
          0.8804390908267082,
          -1.3920998512600171,
          -0.7289623760466917,
          1.6324837909472627,
          -2.275718441810622,
          0.6996653927285276,
          1.9021999289395772,
          -0.22496156634148104,
          -1.236445754124931,
          -0.13670267087326995,
          -1.016315959147242,
          -0.39809020253168687,
          -1.9750991406903013,
          -0.6407360151401108,
          -0.4894767126128095,
          -1.0559998264889134,
          0.5287302277768998,
          -0.06599684649481262,
          0.15982134331091033,
          -0.21114957671805018,
          -0.10064997659060733,
          0.10968624643260116,
          0.4904529657311047,
          -1.1501791726685733,
          0.9470020914184902,
          -0.5453496522243801,
          -1.0544030950720638,
          -0.35195965450924055,
          0.6953243269099676,
          -0.7048377964351703,
          0.1343931435270347,
          0.008367024707526283,
          -0.8295441813327156,
          0.8504452543199488,
          0.294786501266867
         ],
         "yaxis": "y14"
        },
        {
         "line": {
          "color": "rgba(128, 128, 128, 1.0)",
          "dash": "solid",
          "shape": "linear",
          "width": 1.3
         },
         "marker": {
          "size": 2,
          "symbol": "circle"
         },
         "mode": "markers",
         "name": "D",
         "text": "",
         "type": "scatter",
         "x": [
          0.8899482647583795,
          -0.48741350404004985,
          0.12298514481001037,
          -1.774585791587798,
          0.25788794441048885,
          -0.06328921642114764,
          0.8651593131570227,
          1.7149994554523373,
          -1.1952944135921917,
          -0.8242523462338697,
          0.2429233089008537,
          1.6624596340506916,
          0.8588193266652456,
          0.9647459497483071,
          -0.23813580241704013,
          -0.6197192913072721,
          0.060568610242076756,
          -1.876027186517289,
          0.686258974074959,
          -0.25673459721631553,
          0.7736769228693611,
          1.3566267794463591,
          0.7542012540572304,
          -0.42162929129487087,
          0.9487015299143998,
          -0.5761302532372644,
          -1.9029464805710632,
          1.0374031915795034,
          -0.7292548442852299,
          0.03334141354571613,
          1.0829223482605501,
          -1.2026214155339074,
          -1.2142580079903607,
          -0.27454086358979896,
          -1.0506533899581663,
          2.1551201246294123,
          -0.7651680756510916,
          -0.4067694711485394,
          0.831261276156096,
          -1.0147510732655431,
          1.0063233197321864,
          0.42723830554873815,
          1.5299200980024585,
          1.2998999231806587,
          1.2912300594676989,
          -1.2458776828641627,
          1.4474451621128004,
          0.15701383133376268,
          0.6814892571980171,
          2.0411505739861866,
          0.9452241695206468,
          0.43338888339608833,
          -0.4394511787806944,
          -0.5067859564033861,
          0.005055738764854608,
          1.474591522563153,
          -0.8629191140490524,
          -1.1874700605179853,
          -0.09757250559983943,
          -0.36828724929648926,
          1.0283783282412238,
          -0.3883995820650151,
          -0.16426441703822522,
          1.4189273452155675,
          -0.11048245401354172,
          0.3940338401538025,
          0.8170583108124951,
          -0.8699307446545328,
          -0.05625756849411813,
          0.5502998160612507,
          -1.6593905590086808,
          -0.08164535796275711,
          -0.7840450616919273,
          -0.5841850807268515,
          1.8086013752422376,
          0.4074760772558162,
          -1.0259072552717319,
          -1.0879739342231223,
          -1.0467410679175666,
          0.8687746229923943,
          0.4870077060513073,
          -1.1891200717940589,
          -0.08436834921922547,
          -0.9195326383906376,
          -0.3415648548625693,
          -0.2794170119234371,
          0.01138761588792133,
          -0.9140522953517211,
          -0.16531178762007206,
          1.7946611443079783,
          -0.051732808917070806,
          0.7789357894976013,
          1.0688045621594884,
          0.11159693286318663,
          0.7512815794487576,
          -0.5802136776239283,
          0.8047680319434942,
          -1.0850259838757654,
          -0.6812093113350112,
          0.38254119848273516
         ],
         "xaxis": "x15",
         "y": [
          -0.3618724048781142,
          -0.40687761489980623,
          0.5195626630568237,
          0.13912631703553005,
          0.32528591114126365,
          0.629820985303858,
          -0.17041115083404465,
          -0.23380726018029674,
          0.6930189819079416,
          0.4321523738209809,
          -0.06832956849261512,
          0.7054808326257046,
          0.3925765839568227,
          0.8414122179485375,
          2.7492266137991384,
          2.789035520870783,
          -0.49788911678712844,
          1.0306950917299138,
          -0.6252367154260806,
          -0.04499324689704075,
          -0.7098464166552086,
          1.0913140164808373,
          -0.14937672319567452,
          -0.027169954537775307,
          -0.33327178910759336,
          0.9782141349110773,
          -0.1659250766810504,
          -1.1907971669168738,
          2.4582023742263774,
          -0.19076034535752567,
          -0.263968439562819,
          -1.2131711833684555,
          0.6549835291202654,
          1.761118222522333,
          0.009168450583866327,
          0.27954336114813516,
          0.5133601348779316,
          -0.7185694932596692,
          -1.1793560729556487,
          1.6022489903898194,
          -1.091237147724573,
          1.9403277119055318,
          0.10413118292587473,
          0.14002107064947966,
          -0.5923516210365952,
          0.3798847137907724,
          1.4175155728259794,
          -0.16165530760120006,
          0.45483955058631537,
          -1.7591790350741123,
          -1.9401472052225492,
          -0.9747105857243566,
          0.2097433224401488,
          0.9428628417877921,
          -1.3460870937111664,
          0.3270291246531071,
          0.9388246148042848,
          -0.9354385562636851,
          0.7236083171803579,
          -0.7324644250452019,
          0.8144034408789959,
          -0.29984428088096304,
          -1.2708026061786377,
          0.7791969024999302,
          0.10634367954919603,
          0.8804390908267082,
          -1.3920998512600171,
          -0.7289623760466917,
          1.6324837909472627,
          -2.275718441810622,
          0.6996653927285276,
          1.9021999289395772,
          -0.22496156634148104,
          -1.236445754124931,
          -0.13670267087326995,
          -1.016315959147242,
          -0.39809020253168687,
          -1.9750991406903013,
          -0.6407360151401108,
          -0.4894767126128095,
          -1.0559998264889134,
          0.5287302277768998,
          -0.06599684649481262,
          0.15982134331091033,
          -0.21114957671805018,
          -0.10064997659060733,
          0.10968624643260116,
          0.4904529657311047,
          -1.1501791726685733,
          0.9470020914184902,
          -0.5453496522243801,
          -1.0544030950720638,
          -0.35195965450924055,
          0.6953243269099676,
          -0.7048377964351703,
          0.1343931435270347,
          0.008367024707526283,
          -0.8295441813327156,
          0.8504452543199488,
          0.294786501266867
         ],
         "yaxis": "y15"
        },
        {
         "histfunc": "count",
         "histnorm": "",
         "marker": {
          "color": "rgba(128, 0, 128, 1.0)",
          "line": {
           "color": "#4D5663",
           "width": 1.3
          }
         },
         "name": "D",
         "nbinsx": 10,
         "opacity": 0.8,
         "orientation": "v",
         "type": "histogram",
         "x": [
          -0.3618724048781142,
          -0.40687761489980623,
          0.5195626630568237,
          0.13912631703553005,
          0.32528591114126365,
          0.629820985303858,
          -0.17041115083404465,
          -0.23380726018029674,
          0.6930189819079416,
          0.4321523738209809,
          -0.06832956849261512,
          0.7054808326257046,
          0.3925765839568227,
          0.8414122179485375,
          2.7492266137991384,
          2.789035520870783,
          -0.49788911678712844,
          1.0306950917299138,
          -0.6252367154260806,
          -0.04499324689704075,
          -0.7098464166552086,
          1.0913140164808373,
          -0.14937672319567452,
          -0.027169954537775307,
          -0.33327178910759336,
          0.9782141349110773,
          -0.1659250766810504,
          -1.1907971669168738,
          2.4582023742263774,
          -0.19076034535752567,
          -0.263968439562819,
          -1.2131711833684555,
          0.6549835291202654,
          1.761118222522333,
          0.009168450583866327,
          0.27954336114813516,
          0.5133601348779316,
          -0.7185694932596692,
          -1.1793560729556487,
          1.6022489903898194,
          -1.091237147724573,
          1.9403277119055318,
          0.10413118292587473,
          0.14002107064947966,
          -0.5923516210365952,
          0.3798847137907724,
          1.4175155728259794,
          -0.16165530760120006,
          0.45483955058631537,
          -1.7591790350741123,
          -1.9401472052225492,
          -0.9747105857243566,
          0.2097433224401488,
          0.9428628417877921,
          -1.3460870937111664,
          0.3270291246531071,
          0.9388246148042848,
          -0.9354385562636851,
          0.7236083171803579,
          -0.7324644250452019,
          0.8144034408789959,
          -0.29984428088096304,
          -1.2708026061786377,
          0.7791969024999302,
          0.10634367954919603,
          0.8804390908267082,
          -1.3920998512600171,
          -0.7289623760466917,
          1.6324837909472627,
          -2.275718441810622,
          0.6996653927285276,
          1.9021999289395772,
          -0.22496156634148104,
          -1.236445754124931,
          -0.13670267087326995,
          -1.016315959147242,
          -0.39809020253168687,
          -1.9750991406903013,
          -0.6407360151401108,
          -0.4894767126128095,
          -1.0559998264889134,
          0.5287302277768998,
          -0.06599684649481262,
          0.15982134331091033,
          -0.21114957671805018,
          -0.10064997659060733,
          0.10968624643260116,
          0.4904529657311047,
          -1.1501791726685733,
          0.9470020914184902,
          -0.5453496522243801,
          -1.0544030950720638,
          -0.35195965450924055,
          0.6953243269099676,
          -0.7048377964351703,
          0.1343931435270347,
          0.008367024707526283,
          -0.8295441813327156,
          0.8504452543199488,
          0.294786501266867
         ],
         "xaxis": "x16",
         "yaxis": "y16"
        }
       ],
       "layout": {
        "bargap": 0.02,
        "legend": {
         "bgcolor": "#F5F6F9",
         "font": {
          "color": "#4D5663"
         }
        },
        "paper_bgcolor": "#F5F6F9",
        "plot_bgcolor": "#F5F6F9",
        "showlegend": false,
        "template": {
         "data": {
          "bar": [
           {
            "error_x": {
             "color": "#2a3f5f"
            },
            "error_y": {
             "color": "#2a3f5f"
            },
            "marker": {
             "line": {
              "color": "#E5ECF6",
              "width": 0.5
             },
             "pattern": {
              "fillmode": "overlay",
              "size": 10,
              "solidity": 0.2
             }
            },
            "type": "bar"
           }
          ],
          "barpolar": [
           {
            "marker": {
             "line": {
              "color": "#E5ECF6",
              "width": 0.5
             },
             "pattern": {
              "fillmode": "overlay",
              "size": 10,
              "solidity": 0.2
             }
            },
            "type": "barpolar"
           }
          ],
          "carpet": [
           {
            "aaxis": {
             "endlinecolor": "#2a3f5f",
             "gridcolor": "white",
             "linecolor": "white",
             "minorgridcolor": "white",
             "startlinecolor": "#2a3f5f"
            },
            "baxis": {
             "endlinecolor": "#2a3f5f",
             "gridcolor": "white",
             "linecolor": "white",
             "minorgridcolor": "white",
             "startlinecolor": "#2a3f5f"
            },
            "type": "carpet"
           }
          ],
          "choropleth": [
           {
            "colorbar": {
             "outlinewidth": 0,
             "ticks": ""
            },
            "type": "choropleth"
           }
          ],
          "contour": [
           {
            "colorbar": {
             "outlinewidth": 0,
             "ticks": ""
            },
            "colorscale": [
             [
              0,
              "#0d0887"
             ],
             [
              0.1111111111111111,
              "#46039f"
             ],
             [
              0.2222222222222222,
              "#7201a8"
             ],
             [
              0.3333333333333333,
              "#9c179e"
             ],
             [
              0.4444444444444444,
              "#bd3786"
             ],
             [
              0.5555555555555556,
              "#d8576b"
             ],
             [
              0.6666666666666666,
              "#ed7953"
             ],
             [
              0.7777777777777778,
              "#fb9f3a"
             ],
             [
              0.8888888888888888,
              "#fdca26"
             ],
             [
              1,
              "#f0f921"
             ]
            ],
            "type": "contour"
           }
          ],
          "contourcarpet": [
           {
            "colorbar": {
             "outlinewidth": 0,
             "ticks": ""
            },
            "type": "contourcarpet"
           }
          ],
          "heatmap": [
           {
            "colorbar": {
             "outlinewidth": 0,
             "ticks": ""
            },
            "colorscale": [
             [
              0,
              "#0d0887"
             ],
             [
              0.1111111111111111,
              "#46039f"
             ],
             [
              0.2222222222222222,
              "#7201a8"
             ],
             [
              0.3333333333333333,
              "#9c179e"
             ],
             [
              0.4444444444444444,
              "#bd3786"
             ],
             [
              0.5555555555555556,
              "#d8576b"
             ],
             [
              0.6666666666666666,
              "#ed7953"
             ],
             [
              0.7777777777777778,
              "#fb9f3a"
             ],
             [
              0.8888888888888888,
              "#fdca26"
             ],
             [
              1,
              "#f0f921"
             ]
            ],
            "type": "heatmap"
           }
          ],
          "heatmapgl": [
           {
            "colorbar": {
             "outlinewidth": 0,
             "ticks": ""
            },
            "colorscale": [
             [
              0,
              "#0d0887"
             ],
             [
              0.1111111111111111,
              "#46039f"
             ],
             [
              0.2222222222222222,
              "#7201a8"
             ],
             [
              0.3333333333333333,
              "#9c179e"
             ],
             [
              0.4444444444444444,
              "#bd3786"
             ],
             [
              0.5555555555555556,
              "#d8576b"
             ],
             [
              0.6666666666666666,
              "#ed7953"
             ],
             [
              0.7777777777777778,
              "#fb9f3a"
             ],
             [
              0.8888888888888888,
              "#fdca26"
             ],
             [
              1,
              "#f0f921"
             ]
            ],
            "type": "heatmapgl"
           }
          ],
          "histogram": [
           {
            "marker": {
             "pattern": {
              "fillmode": "overlay",
              "size": 10,
              "solidity": 0.2
             }
            },
            "type": "histogram"
           }
          ],
          "histogram2d": [
           {
            "colorbar": {
             "outlinewidth": 0,
             "ticks": ""
            },
            "colorscale": [
             [
              0,
              "#0d0887"
             ],
             [
              0.1111111111111111,
              "#46039f"
             ],
             [
              0.2222222222222222,
              "#7201a8"
             ],
             [
              0.3333333333333333,
              "#9c179e"
             ],
             [
              0.4444444444444444,
              "#bd3786"
             ],
             [
              0.5555555555555556,
              "#d8576b"
             ],
             [
              0.6666666666666666,
              "#ed7953"
             ],
             [
              0.7777777777777778,
              "#fb9f3a"
             ],
             [
              0.8888888888888888,
              "#fdca26"
             ],
             [
              1,
              "#f0f921"
             ]
            ],
            "type": "histogram2d"
           }
          ],
          "histogram2dcontour": [
           {
            "colorbar": {
             "outlinewidth": 0,
             "ticks": ""
            },
            "colorscale": [
             [
              0,
              "#0d0887"
             ],
             [
              0.1111111111111111,
              "#46039f"
             ],
             [
              0.2222222222222222,
              "#7201a8"
             ],
             [
              0.3333333333333333,
              "#9c179e"
             ],
             [
              0.4444444444444444,
              "#bd3786"
             ],
             [
              0.5555555555555556,
              "#d8576b"
             ],
             [
              0.6666666666666666,
              "#ed7953"
             ],
             [
              0.7777777777777778,
              "#fb9f3a"
             ],
             [
              0.8888888888888888,
              "#fdca26"
             ],
             [
              1,
              "#f0f921"
             ]
            ],
            "type": "histogram2dcontour"
           }
          ],
          "mesh3d": [
           {
            "colorbar": {
             "outlinewidth": 0,
             "ticks": ""
            },
            "type": "mesh3d"
           }
          ],
          "parcoords": [
           {
            "line": {
             "colorbar": {
              "outlinewidth": 0,
              "ticks": ""
             }
            },
            "type": "parcoords"
           }
          ],
          "pie": [
           {
            "automargin": true,
            "type": "pie"
           }
          ],
          "scatter": [
           {
            "marker": {
             "colorbar": {
              "outlinewidth": 0,
              "ticks": ""
             }
            },
            "type": "scatter"
           }
          ],
          "scatter3d": [
           {
            "line": {
             "colorbar": {
              "outlinewidth": 0,
              "ticks": ""
             }
            },
            "marker": {
             "colorbar": {
              "outlinewidth": 0,
              "ticks": ""
             }
            },
            "type": "scatter3d"
           }
          ],
          "scattercarpet": [
           {
            "marker": {
             "colorbar": {
              "outlinewidth": 0,
              "ticks": ""
             }
            },
            "type": "scattercarpet"
           }
          ],
          "scattergeo": [
           {
            "marker": {
             "colorbar": {
              "outlinewidth": 0,
              "ticks": ""
             }
            },
            "type": "scattergeo"
           }
          ],
          "scattergl": [
           {
            "marker": {
             "colorbar": {
              "outlinewidth": 0,
              "ticks": ""
             }
            },
            "type": "scattergl"
           }
          ],
          "scattermapbox": [
           {
            "marker": {
             "colorbar": {
              "outlinewidth": 0,
              "ticks": ""
             }
            },
            "type": "scattermapbox"
           }
          ],
          "scatterpolar": [
           {
            "marker": {
             "colorbar": {
              "outlinewidth": 0,
              "ticks": ""
             }
            },
            "type": "scatterpolar"
           }
          ],
          "scatterpolargl": [
           {
            "marker": {
             "colorbar": {
              "outlinewidth": 0,
              "ticks": ""
             }
            },
            "type": "scatterpolargl"
           }
          ],
          "scatterternary": [
           {
            "marker": {
             "colorbar": {
              "outlinewidth": 0,
              "ticks": ""
             }
            },
            "type": "scatterternary"
           }
          ],
          "surface": [
           {
            "colorbar": {
             "outlinewidth": 0,
             "ticks": ""
            },
            "colorscale": [
             [
              0,
              "#0d0887"
             ],
             [
              0.1111111111111111,
              "#46039f"
             ],
             [
              0.2222222222222222,
              "#7201a8"
             ],
             [
              0.3333333333333333,
              "#9c179e"
             ],
             [
              0.4444444444444444,
              "#bd3786"
             ],
             [
              0.5555555555555556,
              "#d8576b"
             ],
             [
              0.6666666666666666,
              "#ed7953"
             ],
             [
              0.7777777777777778,
              "#fb9f3a"
             ],
             [
              0.8888888888888888,
              "#fdca26"
             ],
             [
              1,
              "#f0f921"
             ]
            ],
            "type": "surface"
           }
          ],
          "table": [
           {
            "cells": {
             "fill": {
              "color": "#EBF0F8"
             },
             "line": {
              "color": "white"
             }
            },
            "header": {
             "fill": {
              "color": "#C8D4E3"
             },
             "line": {
              "color": "white"
             }
            },
            "type": "table"
           }
          ]
         },
         "layout": {
          "annotationdefaults": {
           "arrowcolor": "#2a3f5f",
           "arrowhead": 0,
           "arrowwidth": 1
          },
          "autotypenumbers": "strict",
          "coloraxis": {
           "colorbar": {
            "outlinewidth": 0,
            "ticks": ""
           }
          },
          "colorscale": {
           "diverging": [
            [
             0,
             "#8e0152"
            ],
            [
             0.1,
             "#c51b7d"
            ],
            [
             0.2,
             "#de77ae"
            ],
            [
             0.3,
             "#f1b6da"
            ],
            [
             0.4,
             "#fde0ef"
            ],
            [
             0.5,
             "#f7f7f7"
            ],
            [
             0.6,
             "#e6f5d0"
            ],
            [
             0.7,
             "#b8e186"
            ],
            [
             0.8,
             "#7fbc41"
            ],
            [
             0.9,
             "#4d9221"
            ],
            [
             1,
             "#276419"
            ]
           ],
           "sequential": [
            [
             0,
             "#0d0887"
            ],
            [
             0.1111111111111111,
             "#46039f"
            ],
            [
             0.2222222222222222,
             "#7201a8"
            ],
            [
             0.3333333333333333,
             "#9c179e"
            ],
            [
             0.4444444444444444,
             "#bd3786"
            ],
            [
             0.5555555555555556,
             "#d8576b"
            ],
            [
             0.6666666666666666,
             "#ed7953"
            ],
            [
             0.7777777777777778,
             "#fb9f3a"
            ],
            [
             0.8888888888888888,
             "#fdca26"
            ],
            [
             1,
             "#f0f921"
            ]
           ],
           "sequentialminus": [
            [
             0,
             "#0d0887"
            ],
            [
             0.1111111111111111,
             "#46039f"
            ],
            [
             0.2222222222222222,
             "#7201a8"
            ],
            [
             0.3333333333333333,
             "#9c179e"
            ],
            [
             0.4444444444444444,
             "#bd3786"
            ],
            [
             0.5555555555555556,
             "#d8576b"
            ],
            [
             0.6666666666666666,
             "#ed7953"
            ],
            [
             0.7777777777777778,
             "#fb9f3a"
            ],
            [
             0.8888888888888888,
             "#fdca26"
            ],
            [
             1,
             "#f0f921"
            ]
           ]
          },
          "colorway": [
           "#636efa",
           "#EF553B",
           "#00cc96",
           "#ab63fa",
           "#FFA15A",
           "#19d3f3",
           "#FF6692",
           "#B6E880",
           "#FF97FF",
           "#FECB52"
          ],
          "font": {
           "color": "#2a3f5f"
          },
          "geo": {
           "bgcolor": "white",
           "lakecolor": "white",
           "landcolor": "#E5ECF6",
           "showlakes": true,
           "showland": true,
           "subunitcolor": "white"
          },
          "hoverlabel": {
           "align": "left"
          },
          "hovermode": "closest",
          "mapbox": {
           "style": "light"
          },
          "paper_bgcolor": "white",
          "plot_bgcolor": "#E5ECF6",
          "polar": {
           "angularaxis": {
            "gridcolor": "white",
            "linecolor": "white",
            "ticks": ""
           },
           "bgcolor": "#E5ECF6",
           "radialaxis": {
            "gridcolor": "white",
            "linecolor": "white",
            "ticks": ""
           }
          },
          "scene": {
           "xaxis": {
            "backgroundcolor": "#E5ECF6",
            "gridcolor": "white",
            "gridwidth": 2,
            "linecolor": "white",
            "showbackground": true,
            "ticks": "",
            "zerolinecolor": "white"
           },
           "yaxis": {
            "backgroundcolor": "#E5ECF6",
            "gridcolor": "white",
            "gridwidth": 2,
            "linecolor": "white",
            "showbackground": true,
            "ticks": "",
            "zerolinecolor": "white"
           },
           "zaxis": {
            "backgroundcolor": "#E5ECF6",
            "gridcolor": "white",
            "gridwidth": 2,
            "linecolor": "white",
            "showbackground": true,
            "ticks": "",
            "zerolinecolor": "white"
           }
          },
          "shapedefaults": {
           "line": {
            "color": "#2a3f5f"
           }
          },
          "ternary": {
           "aaxis": {
            "gridcolor": "white",
            "linecolor": "white",
            "ticks": ""
           },
           "baxis": {
            "gridcolor": "white",
            "linecolor": "white",
            "ticks": ""
           },
           "bgcolor": "#E5ECF6",
           "caxis": {
            "gridcolor": "white",
            "linecolor": "white",
            "ticks": ""
           }
          },
          "title": {
           "x": 0.05
          },
          "xaxis": {
           "automargin": true,
           "gridcolor": "white",
           "linecolor": "white",
           "ticks": "",
           "title": {
            "standoff": 15
           },
           "zerolinecolor": "white",
           "zerolinewidth": 2
          },
          "yaxis": {
           "automargin": true,
           "gridcolor": "white",
           "linecolor": "white",
           "ticks": "",
           "title": {
            "standoff": 15
           },
           "zerolinecolor": "white",
           "zerolinewidth": 2
          }
         }
        },
        "title": {
         "font": {
          "color": "#4D5663"
         }
        },
        "xaxis": {
         "anchor": "y",
         "domain": [
          0,
          0.2125
         ],
         "gridcolor": "#E1E5ED",
         "showgrid": false,
         "tickfont": {
          "color": "#4D5663"
         },
         "title": {
          "font": {
           "color": "#4D5663"
          },
          "text": ""
         },
         "zerolinecolor": "#E1E5ED"
        },
        "xaxis10": {
         "anchor": "y10",
         "domain": [
          0.2625,
          0.475
         ],
         "gridcolor": "#E1E5ED",
         "showgrid": false,
         "tickfont": {
          "color": "#4D5663"
         },
         "title": {
          "font": {
           "color": "#4D5663"
          },
          "text": ""
         },
         "zerolinecolor": "#E1E5ED"
        },
        "xaxis11": {
         "anchor": "y11",
         "domain": [
          0.525,
          0.7375
         ],
         "gridcolor": "#E1E5ED",
         "showgrid": false,
         "tickfont": {
          "color": "#4D5663"
         },
         "title": {
          "font": {
           "color": "#4D5663"
          },
          "text": ""
         },
         "zerolinecolor": "#E1E5ED"
        },
        "xaxis12": {
         "anchor": "y12",
         "domain": [
          0.7875,
          1
         ],
         "gridcolor": "#E1E5ED",
         "showgrid": false,
         "tickfont": {
          "color": "#4D5663"
         },
         "title": {
          "font": {
           "color": "#4D5663"
          },
          "text": ""
         },
         "zerolinecolor": "#E1E5ED"
        },
        "xaxis13": {
         "anchor": "y13",
         "domain": [
          0,
          0.2125
         ],
         "gridcolor": "#E1E5ED",
         "showgrid": false,
         "tickfont": {
          "color": "#4D5663"
         },
         "title": {
          "font": {
           "color": "#4D5663"
          },
          "text": ""
         },
         "zerolinecolor": "#E1E5ED"
        },
        "xaxis14": {
         "anchor": "y14",
         "domain": [
          0.2625,
          0.475
         ],
         "gridcolor": "#E1E5ED",
         "showgrid": false,
         "tickfont": {
          "color": "#4D5663"
         },
         "title": {
          "font": {
           "color": "#4D5663"
          },
          "text": ""
         },
         "zerolinecolor": "#E1E5ED"
        },
        "xaxis15": {
         "anchor": "y15",
         "domain": [
          0.525,
          0.7375
         ],
         "gridcolor": "#E1E5ED",
         "showgrid": false,
         "tickfont": {
          "color": "#4D5663"
         },
         "title": {
          "font": {
           "color": "#4D5663"
          },
          "text": ""
         },
         "zerolinecolor": "#E1E5ED"
        },
        "xaxis16": {
         "anchor": "y16",
         "domain": [
          0.7875,
          1
         ],
         "gridcolor": "#E1E5ED",
         "showgrid": false,
         "tickfont": {
          "color": "#4D5663"
         },
         "title": {
          "font": {
           "color": "#4D5663"
          },
          "text": ""
         },
         "zerolinecolor": "#E1E5ED"
        },
        "xaxis2": {
         "anchor": "y2",
         "domain": [
          0.2625,
          0.475
         ],
         "gridcolor": "#E1E5ED",
         "showgrid": false,
         "tickfont": {
          "color": "#4D5663"
         },
         "title": {
          "font": {
           "color": "#4D5663"
          },
          "text": ""
         },
         "zerolinecolor": "#E1E5ED"
        },
        "xaxis3": {
         "anchor": "y3",
         "domain": [
          0.525,
          0.7375
         ],
         "gridcolor": "#E1E5ED",
         "showgrid": false,
         "tickfont": {
          "color": "#4D5663"
         },
         "title": {
          "font": {
           "color": "#4D5663"
          },
          "text": ""
         },
         "zerolinecolor": "#E1E5ED"
        },
        "xaxis4": {
         "anchor": "y4",
         "domain": [
          0.7875,
          1
         ],
         "gridcolor": "#E1E5ED",
         "showgrid": false,
         "tickfont": {
          "color": "#4D5663"
         },
         "title": {
          "font": {
           "color": "#4D5663"
          },
          "text": ""
         },
         "zerolinecolor": "#E1E5ED"
        },
        "xaxis5": {
         "anchor": "y5",
         "domain": [
          0,
          0.2125
         ],
         "gridcolor": "#E1E5ED",
         "showgrid": false,
         "tickfont": {
          "color": "#4D5663"
         },
         "title": {
          "font": {
           "color": "#4D5663"
          },
          "text": ""
         },
         "zerolinecolor": "#E1E5ED"
        },
        "xaxis6": {
         "anchor": "y6",
         "domain": [
          0.2625,
          0.475
         ],
         "gridcolor": "#E1E5ED",
         "showgrid": false,
         "tickfont": {
          "color": "#4D5663"
         },
         "title": {
          "font": {
           "color": "#4D5663"
          },
          "text": ""
         },
         "zerolinecolor": "#E1E5ED"
        },
        "xaxis7": {
         "anchor": "y7",
         "domain": [
          0.525,
          0.7375
         ],
         "gridcolor": "#E1E5ED",
         "showgrid": false,
         "tickfont": {
          "color": "#4D5663"
         },
         "title": {
          "font": {
           "color": "#4D5663"
          },
          "text": ""
         },
         "zerolinecolor": "#E1E5ED"
        },
        "xaxis8": {
         "anchor": "y8",
         "domain": [
          0.7875,
          1
         ],
         "gridcolor": "#E1E5ED",
         "showgrid": false,
         "tickfont": {
          "color": "#4D5663"
         },
         "title": {
          "font": {
           "color": "#4D5663"
          },
          "text": ""
         },
         "zerolinecolor": "#E1E5ED"
        },
        "xaxis9": {
         "anchor": "y9",
         "domain": [
          0,
          0.2125
         ],
         "gridcolor": "#E1E5ED",
         "showgrid": false,
         "tickfont": {
          "color": "#4D5663"
         },
         "title": {
          "font": {
           "color": "#4D5663"
          },
          "text": ""
         },
         "zerolinecolor": "#E1E5ED"
        },
        "yaxis": {
         "anchor": "x",
         "domain": [
          0.8025,
          1
         ],
         "gridcolor": "#E1E5ED",
         "showgrid": false,
         "tickfont": {
          "color": "#4D5663"
         },
         "title": {
          "font": {
           "color": "#4D5663"
          },
          "text": ""
         },
         "zerolinecolor": "#E1E5ED"
        },
        "yaxis10": {
         "anchor": "x10",
         "domain": [
          0.2675,
          0.465
         ],
         "gridcolor": "#E1E5ED",
         "showgrid": false,
         "tickfont": {
          "color": "#4D5663"
         },
         "title": {
          "font": {
           "color": "#4D5663"
          },
          "text": ""
         },
         "zerolinecolor": "#E1E5ED"
        },
        "yaxis11": {
         "anchor": "x11",
         "domain": [
          0.2675,
          0.465
         ],
         "gridcolor": "#E1E5ED",
         "showgrid": false,
         "tickfont": {
          "color": "#4D5663"
         },
         "title": {
          "font": {
           "color": "#4D5663"
          },
          "text": ""
         },
         "zerolinecolor": "#E1E5ED"
        },
        "yaxis12": {
         "anchor": "x12",
         "domain": [
          0.2675,
          0.465
         ],
         "gridcolor": "#E1E5ED",
         "showgrid": false,
         "tickfont": {
          "color": "#4D5663"
         },
         "title": {
          "font": {
           "color": "#4D5663"
          },
          "text": ""
         },
         "zerolinecolor": "#E1E5ED"
        },
        "yaxis13": {
         "anchor": "x13",
         "domain": [
          0,
          0.1975
         ],
         "gridcolor": "#E1E5ED",
         "showgrid": false,
         "tickfont": {
          "color": "#4D5663"
         },
         "title": {
          "font": {
           "color": "#4D5663"
          },
          "text": ""
         },
         "zerolinecolor": "#E1E5ED"
        },
        "yaxis14": {
         "anchor": "x14",
         "domain": [
          0,
          0.1975
         ],
         "gridcolor": "#E1E5ED",
         "showgrid": false,
         "tickfont": {
          "color": "#4D5663"
         },
         "title": {
          "font": {
           "color": "#4D5663"
          },
          "text": ""
         },
         "zerolinecolor": "#E1E5ED"
        },
        "yaxis15": {
         "anchor": "x15",
         "domain": [
          0,
          0.1975
         ],
         "gridcolor": "#E1E5ED",
         "showgrid": false,
         "tickfont": {
          "color": "#4D5663"
         },
         "title": {
          "font": {
           "color": "#4D5663"
          },
          "text": ""
         },
         "zerolinecolor": "#E1E5ED"
        },
        "yaxis16": {
         "anchor": "x16",
         "domain": [
          0,
          0.1975
         ],
         "gridcolor": "#E1E5ED",
         "showgrid": false,
         "tickfont": {
          "color": "#4D5663"
         },
         "title": {
          "font": {
           "color": "#4D5663"
          },
          "text": ""
         },
         "zerolinecolor": "#E1E5ED"
        },
        "yaxis2": {
         "anchor": "x2",
         "domain": [
          0.8025,
          1
         ],
         "gridcolor": "#E1E5ED",
         "showgrid": false,
         "tickfont": {
          "color": "#4D5663"
         },
         "title": {
          "font": {
           "color": "#4D5663"
          },
          "text": ""
         },
         "zerolinecolor": "#E1E5ED"
        },
        "yaxis3": {
         "anchor": "x3",
         "domain": [
          0.8025,
          1
         ],
         "gridcolor": "#E1E5ED",
         "showgrid": false,
         "tickfont": {
          "color": "#4D5663"
         },
         "title": {
          "font": {
           "color": "#4D5663"
          },
          "text": ""
         },
         "zerolinecolor": "#E1E5ED"
        },
        "yaxis4": {
         "anchor": "x4",
         "domain": [
          0.8025,
          1
         ],
         "gridcolor": "#E1E5ED",
         "showgrid": false,
         "tickfont": {
          "color": "#4D5663"
         },
         "title": {
          "font": {
           "color": "#4D5663"
          },
          "text": ""
         },
         "zerolinecolor": "#E1E5ED"
        },
        "yaxis5": {
         "anchor": "x5",
         "domain": [
          0.535,
          0.7325
         ],
         "gridcolor": "#E1E5ED",
         "showgrid": false,
         "tickfont": {
          "color": "#4D5663"
         },
         "title": {
          "font": {
           "color": "#4D5663"
          },
          "text": ""
         },
         "zerolinecolor": "#E1E5ED"
        },
        "yaxis6": {
         "anchor": "x6",
         "domain": [
          0.535,
          0.7325
         ],
         "gridcolor": "#E1E5ED",
         "showgrid": false,
         "tickfont": {
          "color": "#4D5663"
         },
         "title": {
          "font": {
           "color": "#4D5663"
          },
          "text": ""
         },
         "zerolinecolor": "#E1E5ED"
        },
        "yaxis7": {
         "anchor": "x7",
         "domain": [
          0.535,
          0.7325
         ],
         "gridcolor": "#E1E5ED",
         "showgrid": false,
         "tickfont": {
          "color": "#4D5663"
         },
         "title": {
          "font": {
           "color": "#4D5663"
          },
          "text": ""
         },
         "zerolinecolor": "#E1E5ED"
        },
        "yaxis8": {
         "anchor": "x8",
         "domain": [
          0.535,
          0.7325
         ],
         "gridcolor": "#E1E5ED",
         "showgrid": false,
         "tickfont": {
          "color": "#4D5663"
         },
         "title": {
          "font": {
           "color": "#4D5663"
          },
          "text": ""
         },
         "zerolinecolor": "#E1E5ED"
        },
        "yaxis9": {
         "anchor": "x9",
         "domain": [
          0.2675,
          0.465
         ],
         "gridcolor": "#E1E5ED",
         "showgrid": false,
         "tickfont": {
          "color": "#4D5663"
         },
         "title": {
          "font": {
           "color": "#4D5663"
          },
          "text": ""
         },
         "zerolinecolor": "#E1E5ED"
        }
       }
      },
      "text/html": [
       "<div>                            <div id=\"238a166e-769f-4cb6-a6e8-c0289b71b533\" class=\"plotly-graph-div\" style=\"height:525px; width:100%;\"></div>            <script type=\"text/javascript\">                require([\"plotly\"], function(Plotly) {                    window.PLOTLYENV=window.PLOTLYENV || {};\n",
       "                    window.PLOTLYENV.BASE_URL='https://plot.ly';                                    if (document.getElementById(\"238a166e-769f-4cb6-a6e8-c0289b71b533\")) {                    Plotly.newPlot(                        \"238a166e-769f-4cb6-a6e8-c0289b71b533\",                        [{\"histfunc\":\"count\",\"histnorm\":\"\",\"marker\":{\"color\":\"rgba(255, 153, 51, 1.0)\",\"line\":{\"color\":\"#4D5663\",\"width\":1.3}},\"name\":\"A\",\"nbinsx\":10,\"opacity\":0.8,\"orientation\":\"v\",\"type\":\"histogram\",\"x\":[-0.9059946344274774,-0.4228448892570872,0.32823669086437185,0.6558818756618977,-0.23279394393207223,0.6525595480366613,-1.6915425316219246,0.19774000582771878,0.2527613251803961,1.2212768041507416,-1.0510831617170036,-0.7793914985082284,0.806056944934075,-0.6311019866196699,0.934877974567317,0.16080341281909977,-0.26044787101587635,-1.1189492025341188,0.9314131210571004,1.637803872997042,0.6740388916031278,1.0131855330251243,1.0735801831928784,0.937155505884544,-0.9383642090609543,-1.4125546602473755,-1.3961261570716632,1.4624065012532907,1.5085679801507355,0.37384897602131767,0.14589136140687492,-0.23095768454721793,-2.3629173679389783,0.25331855988772656,-0.3115860491141523,-0.3030080296653969,0.8976458438423921,-0.22670266681646012,0.41600691876623586,0.44298800896287893,0.48238892353758295,2.8740147943888767,1.2137085672267414,-0.5078538839778108,0.2712852957322795,0.48451943108122075,0.7602644879314184,1.066266090804438,-0.7210114083722396,0.32916613351098817,0.21287846776990083,1.3120634164376894,1.4845215944923633,1.2118529866244876,-0.35062596725697137,1.4679054114460215,0.5946197808733853,0.7653928202932211,0.502620298066773,-0.4655955727577539,-0.7795213169381651,-0.5835420380031595,0.581868964354893,-0.8446734086931094,-0.6104474804218408,-0.49453527742225606,0.03616565350186925,1.677717127944498,-0.13111115072431645,0.35354551803517,-1.1395729739401037,1.087329072160173,1.9901243821040628,1.4587485333823857,0.5863304514720385,-1.72328053440473,-0.33482969209209335,-0.5675569496541126,-0.7552568197099411,0.984241478144492,0.5130936566082164,1.007047428091453,-0.25229733785962855,-1.0765534930300449,-1.0836901842430446,1.251316893181913,-0.061947611188396756,-1.5090608602782263,0.5407038713008661,-0.7598080181281253,-2.24033822867379,-1.025455849018686,-0.6449593030755074,-2.3407345468245557,1.9319811029535663,0.44323959373215516,-0.3715898916904119,0.7183414221195205,0.9328345702391438,0.7111546819960841],\"xaxis\":\"x\",\"yaxis\":\"y\"},{\"line\":{\"color\":\"rgba(128, 128, 128, 1.0)\",\"dash\":\"solid\",\"shape\":\"linear\",\"width\":1.3},\"marker\":{\"size\":2,\"symbol\":\"circle\"},\"mode\":\"markers\",\"name\":\"A\",\"text\":\"\",\"type\":\"scatter\",\"x\":[0.39809897088173535,-0.14652925480192855,0.9857309327643848,-0.8247877220344356,-0.7171326813869001,0.27152193419855913,-0.14087040880362503,-0.0890924278317126,1.3250570353670188,0.09866929384221915,-1.456511319329652,-1.6257292208567193,-0.6674107831292494,0.3811991927832541,-0.5464922895705291,-3.162439502735584,-0.658820338868281,0.7721719856870062,-0.3171154031995474,-1.0020734777415063,-0.02659884375709406,1.4254056731396323,0.6836421842787477,-0.9772538796145454,1.179589205909156,0.5452437251135169,0.9451720539792436,-0.5674693547604166,-1.9367879178372351,0.09939863026944817,0.3788358260021555,-0.12359656382636455,-0.38458928359784156,-0.13612423713165192,-0.20220123127288567,-0.057722094925038374,-0.4215960142227496,-1.1817887527339672,-0.6820955787736707,0.54268553457587,2.269274538955471,1.399616365283778,0.39919861740985063,-0.7429824032412617,-0.5579151083162384,0.49856107072948636,-0.6122498520456356,-0.5196819457867476,0.6580335477597211,-1.4453404736418463,-1.0683326326666698,1.7800123892054036,0.33842572157581263,1.084922008912415,0.710339271478755,0.12105239058331187,-0.8509752427452628,-1.3491238864126032,-1.8598394510153693,-1.0659054118800213,1.3236350429577803,0.5444277023592253,-0.6727411628076259,-0.018547264192752825,-0.8071229564449062,0.33751660203866807,0.1881745849663572,0.12260492122922247,0.30615558365396084,1.2458146238905483,1.7110470711557848,-0.4800976041892355,2.221328091101082,0.34503964151741096,1.3888534612108372,-0.6121543897912833,1.5135232133398413,0.3550466399495089,-0.5125535379885994,-0.8684090756031528,-0.0880389921588798,1.5107179811616,-0.07874484690047716,-0.5389501748212824,0.7535046636019881,-0.5600026707788827,-0.3110571605343825,0.6306288933906005,-0.12702949524031082,-0.5299579481574125,-0.2319476324342638,1.1584607557786735,-1.5686875302712062,0.06172482147957937,-0.6198455475019047,-2.0770439203968674,0.09306099403907173,-0.45720135238549225,-0.30414649191620025,0.03513373986031923],\"xaxis\":\"x2\",\"y\":[-0.9059946344274774,-0.4228448892570872,0.32823669086437185,0.6558818756618977,-0.23279394393207223,0.6525595480366613,-1.6915425316219246,0.19774000582771878,0.2527613251803961,1.2212768041507416,-1.0510831617170036,-0.7793914985082284,0.806056944934075,-0.6311019866196699,0.934877974567317,0.16080341281909977,-0.26044787101587635,-1.1189492025341188,0.9314131210571004,1.637803872997042,0.6740388916031278,1.0131855330251243,1.0735801831928784,0.937155505884544,-0.9383642090609543,-1.4125546602473755,-1.3961261570716632,1.4624065012532907,1.5085679801507355,0.37384897602131767,0.14589136140687492,-0.23095768454721793,-2.3629173679389783,0.25331855988772656,-0.3115860491141523,-0.3030080296653969,0.8976458438423921,-0.22670266681646012,0.41600691876623586,0.44298800896287893,0.48238892353758295,2.8740147943888767,1.2137085672267414,-0.5078538839778108,0.2712852957322795,0.48451943108122075,0.7602644879314184,1.066266090804438,-0.7210114083722396,0.32916613351098817,0.21287846776990083,1.3120634164376894,1.4845215944923633,1.2118529866244876,-0.35062596725697137,1.4679054114460215,0.5946197808733853,0.7653928202932211,0.502620298066773,-0.4655955727577539,-0.7795213169381651,-0.5835420380031595,0.581868964354893,-0.8446734086931094,-0.6104474804218408,-0.49453527742225606,0.03616565350186925,1.677717127944498,-0.13111115072431645,0.35354551803517,-1.1395729739401037,1.087329072160173,1.9901243821040628,1.4587485333823857,0.5863304514720385,-1.72328053440473,-0.33482969209209335,-0.5675569496541126,-0.7552568197099411,0.984241478144492,0.5130936566082164,1.007047428091453,-0.25229733785962855,-1.0765534930300449,-1.0836901842430446,1.251316893181913,-0.061947611188396756,-1.5090608602782263,0.5407038713008661,-0.7598080181281253,-2.24033822867379,-1.025455849018686,-0.6449593030755074,-2.3407345468245557,1.9319811029535663,0.44323959373215516,-0.3715898916904119,0.7183414221195205,0.9328345702391438,0.7111546819960841],\"yaxis\":\"y2\"},{\"line\":{\"color\":\"rgba(128, 128, 128, 1.0)\",\"dash\":\"solid\",\"shape\":\"linear\",\"width\":1.3},\"marker\":{\"size\":2,\"symbol\":\"circle\"},\"mode\":\"markers\",\"name\":\"A\",\"text\":\"\",\"type\":\"scatter\",\"x\":[0.8899482647583795,-0.48741350404004985,0.12298514481001037,-1.774585791587798,0.25788794441048885,-0.06328921642114764,0.8651593131570227,1.7149994554523373,-1.1952944135921917,-0.8242523462338697,0.2429233089008537,1.6624596340506916,0.8588193266652456,0.9647459497483071,-0.23813580241704013,-0.6197192913072721,0.060568610242076756,-1.876027186517289,0.686258974074959,-0.25673459721631553,0.7736769228693611,1.3566267794463591,0.7542012540572304,-0.42162929129487087,0.9487015299143998,-0.5761302532372644,-1.9029464805710632,1.0374031915795034,-0.7292548442852299,0.03334141354571613,1.0829223482605501,-1.2026214155339074,-1.2142580079903607,-0.27454086358979896,-1.0506533899581663,2.1551201246294123,-0.7651680756510916,-0.4067694711485394,0.831261276156096,-1.0147510732655431,1.0063233197321864,0.42723830554873815,1.5299200980024585,1.2998999231806587,1.2912300594676989,-1.2458776828641627,1.4474451621128004,0.15701383133376268,0.6814892571980171,2.0411505739861866,0.9452241695206468,0.43338888339608833,-0.4394511787806944,-0.5067859564033861,0.005055738764854608,1.474591522563153,-0.8629191140490524,-1.1874700605179853,-0.09757250559983943,-0.36828724929648926,1.0283783282412238,-0.3883995820650151,-0.16426441703822522,1.4189273452155675,-0.11048245401354172,0.3940338401538025,0.8170583108124951,-0.8699307446545328,-0.05625756849411813,0.5502998160612507,-1.6593905590086808,-0.08164535796275711,-0.7840450616919273,-0.5841850807268515,1.8086013752422376,0.4074760772558162,-1.0259072552717319,-1.0879739342231223,-1.0467410679175666,0.8687746229923943,0.4870077060513073,-1.1891200717940589,-0.08436834921922547,-0.9195326383906376,-0.3415648548625693,-0.2794170119234371,0.01138761588792133,-0.9140522953517211,-0.16531178762007206,1.7946611443079783,-0.051732808917070806,0.7789357894976013,1.0688045621594884,0.11159693286318663,0.7512815794487576,-0.5802136776239283,0.8047680319434942,-1.0850259838757654,-0.6812093113350112,0.38254119848273516],\"xaxis\":\"x3\",\"y\":[-0.9059946344274774,-0.4228448892570872,0.32823669086437185,0.6558818756618977,-0.23279394393207223,0.6525595480366613,-1.6915425316219246,0.19774000582771878,0.2527613251803961,1.2212768041507416,-1.0510831617170036,-0.7793914985082284,0.806056944934075,-0.6311019866196699,0.934877974567317,0.16080341281909977,-0.26044787101587635,-1.1189492025341188,0.9314131210571004,1.637803872997042,0.6740388916031278,1.0131855330251243,1.0735801831928784,0.937155505884544,-0.9383642090609543,-1.4125546602473755,-1.3961261570716632,1.4624065012532907,1.5085679801507355,0.37384897602131767,0.14589136140687492,-0.23095768454721793,-2.3629173679389783,0.25331855988772656,-0.3115860491141523,-0.3030080296653969,0.8976458438423921,-0.22670266681646012,0.41600691876623586,0.44298800896287893,0.48238892353758295,2.8740147943888767,1.2137085672267414,-0.5078538839778108,0.2712852957322795,0.48451943108122075,0.7602644879314184,1.066266090804438,-0.7210114083722396,0.32916613351098817,0.21287846776990083,1.3120634164376894,1.4845215944923633,1.2118529866244876,-0.35062596725697137,1.4679054114460215,0.5946197808733853,0.7653928202932211,0.502620298066773,-0.4655955727577539,-0.7795213169381651,-0.5835420380031595,0.581868964354893,-0.8446734086931094,-0.6104474804218408,-0.49453527742225606,0.03616565350186925,1.677717127944498,-0.13111115072431645,0.35354551803517,-1.1395729739401037,1.087329072160173,1.9901243821040628,1.4587485333823857,0.5863304514720385,-1.72328053440473,-0.33482969209209335,-0.5675569496541126,-0.7552568197099411,0.984241478144492,0.5130936566082164,1.007047428091453,-0.25229733785962855,-1.0765534930300449,-1.0836901842430446,1.251316893181913,-0.061947611188396756,-1.5090608602782263,0.5407038713008661,-0.7598080181281253,-2.24033822867379,-1.025455849018686,-0.6449593030755074,-2.3407345468245557,1.9319811029535663,0.44323959373215516,-0.3715898916904119,0.7183414221195205,0.9328345702391438,0.7111546819960841],\"yaxis\":\"y3\"},{\"line\":{\"color\":\"rgba(128, 128, 128, 1.0)\",\"dash\":\"solid\",\"shape\":\"linear\",\"width\":1.3},\"marker\":{\"size\":2,\"symbol\":\"circle\"},\"mode\":\"markers\",\"name\":\"A\",\"text\":\"\",\"type\":\"scatter\",\"x\":[-0.3618724048781142,-0.40687761489980623,0.5195626630568237,0.13912631703553005,0.32528591114126365,0.629820985303858,-0.17041115083404465,-0.23380726018029674,0.6930189819079416,0.4321523738209809,-0.06832956849261512,0.7054808326257046,0.3925765839568227,0.8414122179485375,2.7492266137991384,2.789035520870783,-0.49788911678712844,1.0306950917299138,-0.6252367154260806,-0.04499324689704075,-0.7098464166552086,1.0913140164808373,-0.14937672319567452,-0.027169954537775307,-0.33327178910759336,0.9782141349110773,-0.1659250766810504,-1.1907971669168738,2.4582023742263774,-0.19076034535752567,-0.263968439562819,-1.2131711833684555,0.6549835291202654,1.761118222522333,0.009168450583866327,0.27954336114813516,0.5133601348779316,-0.7185694932596692,-1.1793560729556487,1.6022489903898194,-1.091237147724573,1.9403277119055318,0.10413118292587473,0.14002107064947966,-0.5923516210365952,0.3798847137907724,1.4175155728259794,-0.16165530760120006,0.45483955058631537,-1.7591790350741123,-1.9401472052225492,-0.9747105857243566,0.2097433224401488,0.9428628417877921,-1.3460870937111664,0.3270291246531071,0.9388246148042848,-0.9354385562636851,0.7236083171803579,-0.7324644250452019,0.8144034408789959,-0.29984428088096304,-1.2708026061786377,0.7791969024999302,0.10634367954919603,0.8804390908267082,-1.3920998512600171,-0.7289623760466917,1.6324837909472627,-2.275718441810622,0.6996653927285276,1.9021999289395772,-0.22496156634148104,-1.236445754124931,-0.13670267087326995,-1.016315959147242,-0.39809020253168687,-1.9750991406903013,-0.6407360151401108,-0.4894767126128095,-1.0559998264889134,0.5287302277768998,-0.06599684649481262,0.15982134331091033,-0.21114957671805018,-0.10064997659060733,0.10968624643260116,0.4904529657311047,-1.1501791726685733,0.9470020914184902,-0.5453496522243801,-1.0544030950720638,-0.35195965450924055,0.6953243269099676,-0.7048377964351703,0.1343931435270347,0.008367024707526283,-0.8295441813327156,0.8504452543199488,0.294786501266867],\"xaxis\":\"x4\",\"y\":[-0.9059946344274774,-0.4228448892570872,0.32823669086437185,0.6558818756618977,-0.23279394393207223,0.6525595480366613,-1.6915425316219246,0.19774000582771878,0.2527613251803961,1.2212768041507416,-1.0510831617170036,-0.7793914985082284,0.806056944934075,-0.6311019866196699,0.934877974567317,0.16080341281909977,-0.26044787101587635,-1.1189492025341188,0.9314131210571004,1.637803872997042,0.6740388916031278,1.0131855330251243,1.0735801831928784,0.937155505884544,-0.9383642090609543,-1.4125546602473755,-1.3961261570716632,1.4624065012532907,1.5085679801507355,0.37384897602131767,0.14589136140687492,-0.23095768454721793,-2.3629173679389783,0.25331855988772656,-0.3115860491141523,-0.3030080296653969,0.8976458438423921,-0.22670266681646012,0.41600691876623586,0.44298800896287893,0.48238892353758295,2.8740147943888767,1.2137085672267414,-0.5078538839778108,0.2712852957322795,0.48451943108122075,0.7602644879314184,1.066266090804438,-0.7210114083722396,0.32916613351098817,0.21287846776990083,1.3120634164376894,1.4845215944923633,1.2118529866244876,-0.35062596725697137,1.4679054114460215,0.5946197808733853,0.7653928202932211,0.502620298066773,-0.4655955727577539,-0.7795213169381651,-0.5835420380031595,0.581868964354893,-0.8446734086931094,-0.6104474804218408,-0.49453527742225606,0.03616565350186925,1.677717127944498,-0.13111115072431645,0.35354551803517,-1.1395729739401037,1.087329072160173,1.9901243821040628,1.4587485333823857,0.5863304514720385,-1.72328053440473,-0.33482969209209335,-0.5675569496541126,-0.7552568197099411,0.984241478144492,0.5130936566082164,1.007047428091453,-0.25229733785962855,-1.0765534930300449,-1.0836901842430446,1.251316893181913,-0.061947611188396756,-1.5090608602782263,0.5407038713008661,-0.7598080181281253,-2.24033822867379,-1.025455849018686,-0.6449593030755074,-2.3407345468245557,1.9319811029535663,0.44323959373215516,-0.3715898916904119,0.7183414221195205,0.9328345702391438,0.7111546819960841],\"yaxis\":\"y4\"},{\"line\":{\"color\":\"rgba(128, 128, 128, 1.0)\",\"dash\":\"solid\",\"shape\":\"linear\",\"width\":1.3},\"marker\":{\"size\":2,\"symbol\":\"circle\"},\"mode\":\"markers\",\"name\":\"B\",\"text\":\"\",\"type\":\"scatter\",\"x\":[-0.9059946344274774,-0.4228448892570872,0.32823669086437185,0.6558818756618977,-0.23279394393207223,0.6525595480366613,-1.6915425316219246,0.19774000582771878,0.2527613251803961,1.2212768041507416,-1.0510831617170036,-0.7793914985082284,0.806056944934075,-0.6311019866196699,0.934877974567317,0.16080341281909977,-0.26044787101587635,-1.1189492025341188,0.9314131210571004,1.637803872997042,0.6740388916031278,1.0131855330251243,1.0735801831928784,0.937155505884544,-0.9383642090609543,-1.4125546602473755,-1.3961261570716632,1.4624065012532907,1.5085679801507355,0.37384897602131767,0.14589136140687492,-0.23095768454721793,-2.3629173679389783,0.25331855988772656,-0.3115860491141523,-0.3030080296653969,0.8976458438423921,-0.22670266681646012,0.41600691876623586,0.44298800896287893,0.48238892353758295,2.8740147943888767,1.2137085672267414,-0.5078538839778108,0.2712852957322795,0.48451943108122075,0.7602644879314184,1.066266090804438,-0.7210114083722396,0.32916613351098817,0.21287846776990083,1.3120634164376894,1.4845215944923633,1.2118529866244876,-0.35062596725697137,1.4679054114460215,0.5946197808733853,0.7653928202932211,0.502620298066773,-0.4655955727577539,-0.7795213169381651,-0.5835420380031595,0.581868964354893,-0.8446734086931094,-0.6104474804218408,-0.49453527742225606,0.03616565350186925,1.677717127944498,-0.13111115072431645,0.35354551803517,-1.1395729739401037,1.087329072160173,1.9901243821040628,1.4587485333823857,0.5863304514720385,-1.72328053440473,-0.33482969209209335,-0.5675569496541126,-0.7552568197099411,0.984241478144492,0.5130936566082164,1.007047428091453,-0.25229733785962855,-1.0765534930300449,-1.0836901842430446,1.251316893181913,-0.061947611188396756,-1.5090608602782263,0.5407038713008661,-0.7598080181281253,-2.24033822867379,-1.025455849018686,-0.6449593030755074,-2.3407345468245557,1.9319811029535663,0.44323959373215516,-0.3715898916904119,0.7183414221195205,0.9328345702391438,0.7111546819960841],\"xaxis\":\"x5\",\"y\":[0.39809897088173535,-0.14652925480192855,0.9857309327643848,-0.8247877220344356,-0.7171326813869001,0.27152193419855913,-0.14087040880362503,-0.0890924278317126,1.3250570353670188,0.09866929384221915,-1.456511319329652,-1.6257292208567193,-0.6674107831292494,0.3811991927832541,-0.5464922895705291,-3.162439502735584,-0.658820338868281,0.7721719856870062,-0.3171154031995474,-1.0020734777415063,-0.02659884375709406,1.4254056731396323,0.6836421842787477,-0.9772538796145454,1.179589205909156,0.5452437251135169,0.9451720539792436,-0.5674693547604166,-1.9367879178372351,0.09939863026944817,0.3788358260021555,-0.12359656382636455,-0.38458928359784156,-0.13612423713165192,-0.20220123127288567,-0.057722094925038374,-0.4215960142227496,-1.1817887527339672,-0.6820955787736707,0.54268553457587,2.269274538955471,1.399616365283778,0.39919861740985063,-0.7429824032412617,-0.5579151083162384,0.49856107072948636,-0.6122498520456356,-0.5196819457867476,0.6580335477597211,-1.4453404736418463,-1.0683326326666698,1.7800123892054036,0.33842572157581263,1.084922008912415,0.710339271478755,0.12105239058331187,-0.8509752427452628,-1.3491238864126032,-1.8598394510153693,-1.0659054118800213,1.3236350429577803,0.5444277023592253,-0.6727411628076259,-0.018547264192752825,-0.8071229564449062,0.33751660203866807,0.1881745849663572,0.12260492122922247,0.30615558365396084,1.2458146238905483,1.7110470711557848,-0.4800976041892355,2.221328091101082,0.34503964151741096,1.3888534612108372,-0.6121543897912833,1.5135232133398413,0.3550466399495089,-0.5125535379885994,-0.8684090756031528,-0.0880389921588798,1.5107179811616,-0.07874484690047716,-0.5389501748212824,0.7535046636019881,-0.5600026707788827,-0.3110571605343825,0.6306288933906005,-0.12702949524031082,-0.5299579481574125,-0.2319476324342638,1.1584607557786735,-1.5686875302712062,0.06172482147957937,-0.6198455475019047,-2.0770439203968674,0.09306099403907173,-0.45720135238549225,-0.30414649191620025,0.03513373986031923],\"yaxis\":\"y5\"},{\"histfunc\":\"count\",\"histnorm\":\"\",\"marker\":{\"color\":\"rgba(55, 128, 191, 1.0)\",\"line\":{\"color\":\"#4D5663\",\"width\":1.3}},\"name\":\"B\",\"nbinsx\":10,\"opacity\":0.8,\"orientation\":\"v\",\"type\":\"histogram\",\"x\":[0.39809897088173535,-0.14652925480192855,0.9857309327643848,-0.8247877220344356,-0.7171326813869001,0.27152193419855913,-0.14087040880362503,-0.0890924278317126,1.3250570353670188,0.09866929384221915,-1.456511319329652,-1.6257292208567193,-0.6674107831292494,0.3811991927832541,-0.5464922895705291,-3.162439502735584,-0.658820338868281,0.7721719856870062,-0.3171154031995474,-1.0020734777415063,-0.02659884375709406,1.4254056731396323,0.6836421842787477,-0.9772538796145454,1.179589205909156,0.5452437251135169,0.9451720539792436,-0.5674693547604166,-1.9367879178372351,0.09939863026944817,0.3788358260021555,-0.12359656382636455,-0.38458928359784156,-0.13612423713165192,-0.20220123127288567,-0.057722094925038374,-0.4215960142227496,-1.1817887527339672,-0.6820955787736707,0.54268553457587,2.269274538955471,1.399616365283778,0.39919861740985063,-0.7429824032412617,-0.5579151083162384,0.49856107072948636,-0.6122498520456356,-0.5196819457867476,0.6580335477597211,-1.4453404736418463,-1.0683326326666698,1.7800123892054036,0.33842572157581263,1.084922008912415,0.710339271478755,0.12105239058331187,-0.8509752427452628,-1.3491238864126032,-1.8598394510153693,-1.0659054118800213,1.3236350429577803,0.5444277023592253,-0.6727411628076259,-0.018547264192752825,-0.8071229564449062,0.33751660203866807,0.1881745849663572,0.12260492122922247,0.30615558365396084,1.2458146238905483,1.7110470711557848,-0.4800976041892355,2.221328091101082,0.34503964151741096,1.3888534612108372,-0.6121543897912833,1.5135232133398413,0.3550466399495089,-0.5125535379885994,-0.8684090756031528,-0.0880389921588798,1.5107179811616,-0.07874484690047716,-0.5389501748212824,0.7535046636019881,-0.5600026707788827,-0.3110571605343825,0.6306288933906005,-0.12702949524031082,-0.5299579481574125,-0.2319476324342638,1.1584607557786735,-1.5686875302712062,0.06172482147957937,-0.6198455475019047,-2.0770439203968674,0.09306099403907173,-0.45720135238549225,-0.30414649191620025,0.03513373986031923],\"xaxis\":\"x6\",\"yaxis\":\"y6\"},{\"line\":{\"color\":\"rgba(128, 128, 128, 1.0)\",\"dash\":\"solid\",\"shape\":\"linear\",\"width\":1.3},\"marker\":{\"size\":2,\"symbol\":\"circle\"},\"mode\":\"markers\",\"name\":\"B\",\"text\":\"\",\"type\":\"scatter\",\"x\":[0.8899482647583795,-0.48741350404004985,0.12298514481001037,-1.774585791587798,0.25788794441048885,-0.06328921642114764,0.8651593131570227,1.7149994554523373,-1.1952944135921917,-0.8242523462338697,0.2429233089008537,1.6624596340506916,0.8588193266652456,0.9647459497483071,-0.23813580241704013,-0.6197192913072721,0.060568610242076756,-1.876027186517289,0.686258974074959,-0.25673459721631553,0.7736769228693611,1.3566267794463591,0.7542012540572304,-0.42162929129487087,0.9487015299143998,-0.5761302532372644,-1.9029464805710632,1.0374031915795034,-0.7292548442852299,0.03334141354571613,1.0829223482605501,-1.2026214155339074,-1.2142580079903607,-0.27454086358979896,-1.0506533899581663,2.1551201246294123,-0.7651680756510916,-0.4067694711485394,0.831261276156096,-1.0147510732655431,1.0063233197321864,0.42723830554873815,1.5299200980024585,1.2998999231806587,1.2912300594676989,-1.2458776828641627,1.4474451621128004,0.15701383133376268,0.6814892571980171,2.0411505739861866,0.9452241695206468,0.43338888339608833,-0.4394511787806944,-0.5067859564033861,0.005055738764854608,1.474591522563153,-0.8629191140490524,-1.1874700605179853,-0.09757250559983943,-0.36828724929648926,1.0283783282412238,-0.3883995820650151,-0.16426441703822522,1.4189273452155675,-0.11048245401354172,0.3940338401538025,0.8170583108124951,-0.8699307446545328,-0.05625756849411813,0.5502998160612507,-1.6593905590086808,-0.08164535796275711,-0.7840450616919273,-0.5841850807268515,1.8086013752422376,0.4074760772558162,-1.0259072552717319,-1.0879739342231223,-1.0467410679175666,0.8687746229923943,0.4870077060513073,-1.1891200717940589,-0.08436834921922547,-0.9195326383906376,-0.3415648548625693,-0.2794170119234371,0.01138761588792133,-0.9140522953517211,-0.16531178762007206,1.7946611443079783,-0.051732808917070806,0.7789357894976013,1.0688045621594884,0.11159693286318663,0.7512815794487576,-0.5802136776239283,0.8047680319434942,-1.0850259838757654,-0.6812093113350112,0.38254119848273516],\"xaxis\":\"x7\",\"y\":[0.39809897088173535,-0.14652925480192855,0.9857309327643848,-0.8247877220344356,-0.7171326813869001,0.27152193419855913,-0.14087040880362503,-0.0890924278317126,1.3250570353670188,0.09866929384221915,-1.456511319329652,-1.6257292208567193,-0.6674107831292494,0.3811991927832541,-0.5464922895705291,-3.162439502735584,-0.658820338868281,0.7721719856870062,-0.3171154031995474,-1.0020734777415063,-0.02659884375709406,1.4254056731396323,0.6836421842787477,-0.9772538796145454,1.179589205909156,0.5452437251135169,0.9451720539792436,-0.5674693547604166,-1.9367879178372351,0.09939863026944817,0.3788358260021555,-0.12359656382636455,-0.38458928359784156,-0.13612423713165192,-0.20220123127288567,-0.057722094925038374,-0.4215960142227496,-1.1817887527339672,-0.6820955787736707,0.54268553457587,2.269274538955471,1.399616365283778,0.39919861740985063,-0.7429824032412617,-0.5579151083162384,0.49856107072948636,-0.6122498520456356,-0.5196819457867476,0.6580335477597211,-1.4453404736418463,-1.0683326326666698,1.7800123892054036,0.33842572157581263,1.084922008912415,0.710339271478755,0.12105239058331187,-0.8509752427452628,-1.3491238864126032,-1.8598394510153693,-1.0659054118800213,1.3236350429577803,0.5444277023592253,-0.6727411628076259,-0.018547264192752825,-0.8071229564449062,0.33751660203866807,0.1881745849663572,0.12260492122922247,0.30615558365396084,1.2458146238905483,1.7110470711557848,-0.4800976041892355,2.221328091101082,0.34503964151741096,1.3888534612108372,-0.6121543897912833,1.5135232133398413,0.3550466399495089,-0.5125535379885994,-0.8684090756031528,-0.0880389921588798,1.5107179811616,-0.07874484690047716,-0.5389501748212824,0.7535046636019881,-0.5600026707788827,-0.3110571605343825,0.6306288933906005,-0.12702949524031082,-0.5299579481574125,-0.2319476324342638,1.1584607557786735,-1.5686875302712062,0.06172482147957937,-0.6198455475019047,-2.0770439203968674,0.09306099403907173,-0.45720135238549225,-0.30414649191620025,0.03513373986031923],\"yaxis\":\"y7\"},{\"line\":{\"color\":\"rgba(128, 128, 128, 1.0)\",\"dash\":\"solid\",\"shape\":\"linear\",\"width\":1.3},\"marker\":{\"size\":2,\"symbol\":\"circle\"},\"mode\":\"markers\",\"name\":\"B\",\"text\":\"\",\"type\":\"scatter\",\"x\":[-0.3618724048781142,-0.40687761489980623,0.5195626630568237,0.13912631703553005,0.32528591114126365,0.629820985303858,-0.17041115083404465,-0.23380726018029674,0.6930189819079416,0.4321523738209809,-0.06832956849261512,0.7054808326257046,0.3925765839568227,0.8414122179485375,2.7492266137991384,2.789035520870783,-0.49788911678712844,1.0306950917299138,-0.6252367154260806,-0.04499324689704075,-0.7098464166552086,1.0913140164808373,-0.14937672319567452,-0.027169954537775307,-0.33327178910759336,0.9782141349110773,-0.1659250766810504,-1.1907971669168738,2.4582023742263774,-0.19076034535752567,-0.263968439562819,-1.2131711833684555,0.6549835291202654,1.761118222522333,0.009168450583866327,0.27954336114813516,0.5133601348779316,-0.7185694932596692,-1.1793560729556487,1.6022489903898194,-1.091237147724573,1.9403277119055318,0.10413118292587473,0.14002107064947966,-0.5923516210365952,0.3798847137907724,1.4175155728259794,-0.16165530760120006,0.45483955058631537,-1.7591790350741123,-1.9401472052225492,-0.9747105857243566,0.2097433224401488,0.9428628417877921,-1.3460870937111664,0.3270291246531071,0.9388246148042848,-0.9354385562636851,0.7236083171803579,-0.7324644250452019,0.8144034408789959,-0.29984428088096304,-1.2708026061786377,0.7791969024999302,0.10634367954919603,0.8804390908267082,-1.3920998512600171,-0.7289623760466917,1.6324837909472627,-2.275718441810622,0.6996653927285276,1.9021999289395772,-0.22496156634148104,-1.236445754124931,-0.13670267087326995,-1.016315959147242,-0.39809020253168687,-1.9750991406903013,-0.6407360151401108,-0.4894767126128095,-1.0559998264889134,0.5287302277768998,-0.06599684649481262,0.15982134331091033,-0.21114957671805018,-0.10064997659060733,0.10968624643260116,0.4904529657311047,-1.1501791726685733,0.9470020914184902,-0.5453496522243801,-1.0544030950720638,-0.35195965450924055,0.6953243269099676,-0.7048377964351703,0.1343931435270347,0.008367024707526283,-0.8295441813327156,0.8504452543199488,0.294786501266867],\"xaxis\":\"x8\",\"y\":[0.39809897088173535,-0.14652925480192855,0.9857309327643848,-0.8247877220344356,-0.7171326813869001,0.27152193419855913,-0.14087040880362503,-0.0890924278317126,1.3250570353670188,0.09866929384221915,-1.456511319329652,-1.6257292208567193,-0.6674107831292494,0.3811991927832541,-0.5464922895705291,-3.162439502735584,-0.658820338868281,0.7721719856870062,-0.3171154031995474,-1.0020734777415063,-0.02659884375709406,1.4254056731396323,0.6836421842787477,-0.9772538796145454,1.179589205909156,0.5452437251135169,0.9451720539792436,-0.5674693547604166,-1.9367879178372351,0.09939863026944817,0.3788358260021555,-0.12359656382636455,-0.38458928359784156,-0.13612423713165192,-0.20220123127288567,-0.057722094925038374,-0.4215960142227496,-1.1817887527339672,-0.6820955787736707,0.54268553457587,2.269274538955471,1.399616365283778,0.39919861740985063,-0.7429824032412617,-0.5579151083162384,0.49856107072948636,-0.6122498520456356,-0.5196819457867476,0.6580335477597211,-1.4453404736418463,-1.0683326326666698,1.7800123892054036,0.33842572157581263,1.084922008912415,0.710339271478755,0.12105239058331187,-0.8509752427452628,-1.3491238864126032,-1.8598394510153693,-1.0659054118800213,1.3236350429577803,0.5444277023592253,-0.6727411628076259,-0.018547264192752825,-0.8071229564449062,0.33751660203866807,0.1881745849663572,0.12260492122922247,0.30615558365396084,1.2458146238905483,1.7110470711557848,-0.4800976041892355,2.221328091101082,0.34503964151741096,1.3888534612108372,-0.6121543897912833,1.5135232133398413,0.3550466399495089,-0.5125535379885994,-0.8684090756031528,-0.0880389921588798,1.5107179811616,-0.07874484690047716,-0.5389501748212824,0.7535046636019881,-0.5600026707788827,-0.3110571605343825,0.6306288933906005,-0.12702949524031082,-0.5299579481574125,-0.2319476324342638,1.1584607557786735,-1.5686875302712062,0.06172482147957937,-0.6198455475019047,-2.0770439203968674,0.09306099403907173,-0.45720135238549225,-0.30414649191620025,0.03513373986031923],\"yaxis\":\"y8\"},{\"line\":{\"color\":\"rgba(128, 128, 128, 1.0)\",\"dash\":\"solid\",\"shape\":\"linear\",\"width\":1.3},\"marker\":{\"size\":2,\"symbol\":\"circle\"},\"mode\":\"markers\",\"name\":\"C\",\"text\":\"\",\"type\":\"scatter\",\"x\":[-0.9059946344274774,-0.4228448892570872,0.32823669086437185,0.6558818756618977,-0.23279394393207223,0.6525595480366613,-1.6915425316219246,0.19774000582771878,0.2527613251803961,1.2212768041507416,-1.0510831617170036,-0.7793914985082284,0.806056944934075,-0.6311019866196699,0.934877974567317,0.16080341281909977,-0.26044787101587635,-1.1189492025341188,0.9314131210571004,1.637803872997042,0.6740388916031278,1.0131855330251243,1.0735801831928784,0.937155505884544,-0.9383642090609543,-1.4125546602473755,-1.3961261570716632,1.4624065012532907,1.5085679801507355,0.37384897602131767,0.14589136140687492,-0.23095768454721793,-2.3629173679389783,0.25331855988772656,-0.3115860491141523,-0.3030080296653969,0.8976458438423921,-0.22670266681646012,0.41600691876623586,0.44298800896287893,0.48238892353758295,2.8740147943888767,1.2137085672267414,-0.5078538839778108,0.2712852957322795,0.48451943108122075,0.7602644879314184,1.066266090804438,-0.7210114083722396,0.32916613351098817,0.21287846776990083,1.3120634164376894,1.4845215944923633,1.2118529866244876,-0.35062596725697137,1.4679054114460215,0.5946197808733853,0.7653928202932211,0.502620298066773,-0.4655955727577539,-0.7795213169381651,-0.5835420380031595,0.581868964354893,-0.8446734086931094,-0.6104474804218408,-0.49453527742225606,0.03616565350186925,1.677717127944498,-0.13111115072431645,0.35354551803517,-1.1395729739401037,1.087329072160173,1.9901243821040628,1.4587485333823857,0.5863304514720385,-1.72328053440473,-0.33482969209209335,-0.5675569496541126,-0.7552568197099411,0.984241478144492,0.5130936566082164,1.007047428091453,-0.25229733785962855,-1.0765534930300449,-1.0836901842430446,1.251316893181913,-0.061947611188396756,-1.5090608602782263,0.5407038713008661,-0.7598080181281253,-2.24033822867379,-1.025455849018686,-0.6449593030755074,-2.3407345468245557,1.9319811029535663,0.44323959373215516,-0.3715898916904119,0.7183414221195205,0.9328345702391438,0.7111546819960841],\"xaxis\":\"x9\",\"y\":[0.8899482647583795,-0.48741350404004985,0.12298514481001037,-1.774585791587798,0.25788794441048885,-0.06328921642114764,0.8651593131570227,1.7149994554523373,-1.1952944135921917,-0.8242523462338697,0.2429233089008537,1.6624596340506916,0.8588193266652456,0.9647459497483071,-0.23813580241704013,-0.6197192913072721,0.060568610242076756,-1.876027186517289,0.686258974074959,-0.25673459721631553,0.7736769228693611,1.3566267794463591,0.7542012540572304,-0.42162929129487087,0.9487015299143998,-0.5761302532372644,-1.9029464805710632,1.0374031915795034,-0.7292548442852299,0.03334141354571613,1.0829223482605501,-1.2026214155339074,-1.2142580079903607,-0.27454086358979896,-1.0506533899581663,2.1551201246294123,-0.7651680756510916,-0.4067694711485394,0.831261276156096,-1.0147510732655431,1.0063233197321864,0.42723830554873815,1.5299200980024585,1.2998999231806587,1.2912300594676989,-1.2458776828641627,1.4474451621128004,0.15701383133376268,0.6814892571980171,2.0411505739861866,0.9452241695206468,0.43338888339608833,-0.4394511787806944,-0.5067859564033861,0.005055738764854608,1.474591522563153,-0.8629191140490524,-1.1874700605179853,-0.09757250559983943,-0.36828724929648926,1.0283783282412238,-0.3883995820650151,-0.16426441703822522,1.4189273452155675,-0.11048245401354172,0.3940338401538025,0.8170583108124951,-0.8699307446545328,-0.05625756849411813,0.5502998160612507,-1.6593905590086808,-0.08164535796275711,-0.7840450616919273,-0.5841850807268515,1.8086013752422376,0.4074760772558162,-1.0259072552717319,-1.0879739342231223,-1.0467410679175666,0.8687746229923943,0.4870077060513073,-1.1891200717940589,-0.08436834921922547,-0.9195326383906376,-0.3415648548625693,-0.2794170119234371,0.01138761588792133,-0.9140522953517211,-0.16531178762007206,1.7946611443079783,-0.051732808917070806,0.7789357894976013,1.0688045621594884,0.11159693286318663,0.7512815794487576,-0.5802136776239283,0.8047680319434942,-1.0850259838757654,-0.6812093113350112,0.38254119848273516],\"yaxis\":\"y9\"},{\"line\":{\"color\":\"rgba(128, 128, 128, 1.0)\",\"dash\":\"solid\",\"shape\":\"linear\",\"width\":1.3},\"marker\":{\"size\":2,\"symbol\":\"circle\"},\"mode\":\"markers\",\"name\":\"C\",\"text\":\"\",\"type\":\"scatter\",\"x\":[0.39809897088173535,-0.14652925480192855,0.9857309327643848,-0.8247877220344356,-0.7171326813869001,0.27152193419855913,-0.14087040880362503,-0.0890924278317126,1.3250570353670188,0.09866929384221915,-1.456511319329652,-1.6257292208567193,-0.6674107831292494,0.3811991927832541,-0.5464922895705291,-3.162439502735584,-0.658820338868281,0.7721719856870062,-0.3171154031995474,-1.0020734777415063,-0.02659884375709406,1.4254056731396323,0.6836421842787477,-0.9772538796145454,1.179589205909156,0.5452437251135169,0.9451720539792436,-0.5674693547604166,-1.9367879178372351,0.09939863026944817,0.3788358260021555,-0.12359656382636455,-0.38458928359784156,-0.13612423713165192,-0.20220123127288567,-0.057722094925038374,-0.4215960142227496,-1.1817887527339672,-0.6820955787736707,0.54268553457587,2.269274538955471,1.399616365283778,0.39919861740985063,-0.7429824032412617,-0.5579151083162384,0.49856107072948636,-0.6122498520456356,-0.5196819457867476,0.6580335477597211,-1.4453404736418463,-1.0683326326666698,1.7800123892054036,0.33842572157581263,1.084922008912415,0.710339271478755,0.12105239058331187,-0.8509752427452628,-1.3491238864126032,-1.8598394510153693,-1.0659054118800213,1.3236350429577803,0.5444277023592253,-0.6727411628076259,-0.018547264192752825,-0.8071229564449062,0.33751660203866807,0.1881745849663572,0.12260492122922247,0.30615558365396084,1.2458146238905483,1.7110470711557848,-0.4800976041892355,2.221328091101082,0.34503964151741096,1.3888534612108372,-0.6121543897912833,1.5135232133398413,0.3550466399495089,-0.5125535379885994,-0.8684090756031528,-0.0880389921588798,1.5107179811616,-0.07874484690047716,-0.5389501748212824,0.7535046636019881,-0.5600026707788827,-0.3110571605343825,0.6306288933906005,-0.12702949524031082,-0.5299579481574125,-0.2319476324342638,1.1584607557786735,-1.5686875302712062,0.06172482147957937,-0.6198455475019047,-2.0770439203968674,0.09306099403907173,-0.45720135238549225,-0.30414649191620025,0.03513373986031923],\"xaxis\":\"x10\",\"y\":[0.8899482647583795,-0.48741350404004985,0.12298514481001037,-1.774585791587798,0.25788794441048885,-0.06328921642114764,0.8651593131570227,1.7149994554523373,-1.1952944135921917,-0.8242523462338697,0.2429233089008537,1.6624596340506916,0.8588193266652456,0.9647459497483071,-0.23813580241704013,-0.6197192913072721,0.060568610242076756,-1.876027186517289,0.686258974074959,-0.25673459721631553,0.7736769228693611,1.3566267794463591,0.7542012540572304,-0.42162929129487087,0.9487015299143998,-0.5761302532372644,-1.9029464805710632,1.0374031915795034,-0.7292548442852299,0.03334141354571613,1.0829223482605501,-1.2026214155339074,-1.2142580079903607,-0.27454086358979896,-1.0506533899581663,2.1551201246294123,-0.7651680756510916,-0.4067694711485394,0.831261276156096,-1.0147510732655431,1.0063233197321864,0.42723830554873815,1.5299200980024585,1.2998999231806587,1.2912300594676989,-1.2458776828641627,1.4474451621128004,0.15701383133376268,0.6814892571980171,2.0411505739861866,0.9452241695206468,0.43338888339608833,-0.4394511787806944,-0.5067859564033861,0.005055738764854608,1.474591522563153,-0.8629191140490524,-1.1874700605179853,-0.09757250559983943,-0.36828724929648926,1.0283783282412238,-0.3883995820650151,-0.16426441703822522,1.4189273452155675,-0.11048245401354172,0.3940338401538025,0.8170583108124951,-0.8699307446545328,-0.05625756849411813,0.5502998160612507,-1.6593905590086808,-0.08164535796275711,-0.7840450616919273,-0.5841850807268515,1.8086013752422376,0.4074760772558162,-1.0259072552717319,-1.0879739342231223,-1.0467410679175666,0.8687746229923943,0.4870077060513073,-1.1891200717940589,-0.08436834921922547,-0.9195326383906376,-0.3415648548625693,-0.2794170119234371,0.01138761588792133,-0.9140522953517211,-0.16531178762007206,1.7946611443079783,-0.051732808917070806,0.7789357894976013,1.0688045621594884,0.11159693286318663,0.7512815794487576,-0.5802136776239283,0.8047680319434942,-1.0850259838757654,-0.6812093113350112,0.38254119848273516],\"yaxis\":\"y10\"},{\"histfunc\":\"count\",\"histnorm\":\"\",\"marker\":{\"color\":\"rgba(50, 171, 96, 1.0)\",\"line\":{\"color\":\"#4D5663\",\"width\":1.3}},\"name\":\"C\",\"nbinsx\":10,\"opacity\":0.8,\"orientation\":\"v\",\"type\":\"histogram\",\"x\":[0.8899482647583795,-0.48741350404004985,0.12298514481001037,-1.774585791587798,0.25788794441048885,-0.06328921642114764,0.8651593131570227,1.7149994554523373,-1.1952944135921917,-0.8242523462338697,0.2429233089008537,1.6624596340506916,0.8588193266652456,0.9647459497483071,-0.23813580241704013,-0.6197192913072721,0.060568610242076756,-1.876027186517289,0.686258974074959,-0.25673459721631553,0.7736769228693611,1.3566267794463591,0.7542012540572304,-0.42162929129487087,0.9487015299143998,-0.5761302532372644,-1.9029464805710632,1.0374031915795034,-0.7292548442852299,0.03334141354571613,1.0829223482605501,-1.2026214155339074,-1.2142580079903607,-0.27454086358979896,-1.0506533899581663,2.1551201246294123,-0.7651680756510916,-0.4067694711485394,0.831261276156096,-1.0147510732655431,1.0063233197321864,0.42723830554873815,1.5299200980024585,1.2998999231806587,1.2912300594676989,-1.2458776828641627,1.4474451621128004,0.15701383133376268,0.6814892571980171,2.0411505739861866,0.9452241695206468,0.43338888339608833,-0.4394511787806944,-0.5067859564033861,0.005055738764854608,1.474591522563153,-0.8629191140490524,-1.1874700605179853,-0.09757250559983943,-0.36828724929648926,1.0283783282412238,-0.3883995820650151,-0.16426441703822522,1.4189273452155675,-0.11048245401354172,0.3940338401538025,0.8170583108124951,-0.8699307446545328,-0.05625756849411813,0.5502998160612507,-1.6593905590086808,-0.08164535796275711,-0.7840450616919273,-0.5841850807268515,1.8086013752422376,0.4074760772558162,-1.0259072552717319,-1.0879739342231223,-1.0467410679175666,0.8687746229923943,0.4870077060513073,-1.1891200717940589,-0.08436834921922547,-0.9195326383906376,-0.3415648548625693,-0.2794170119234371,0.01138761588792133,-0.9140522953517211,-0.16531178762007206,1.7946611443079783,-0.051732808917070806,0.7789357894976013,1.0688045621594884,0.11159693286318663,0.7512815794487576,-0.5802136776239283,0.8047680319434942,-1.0850259838757654,-0.6812093113350112,0.38254119848273516],\"xaxis\":\"x11\",\"yaxis\":\"y11\"},{\"line\":{\"color\":\"rgba(128, 128, 128, 1.0)\",\"dash\":\"solid\",\"shape\":\"linear\",\"width\":1.3},\"marker\":{\"size\":2,\"symbol\":\"circle\"},\"mode\":\"markers\",\"name\":\"C\",\"text\":\"\",\"type\":\"scatter\",\"x\":[-0.3618724048781142,-0.40687761489980623,0.5195626630568237,0.13912631703553005,0.32528591114126365,0.629820985303858,-0.17041115083404465,-0.23380726018029674,0.6930189819079416,0.4321523738209809,-0.06832956849261512,0.7054808326257046,0.3925765839568227,0.8414122179485375,2.7492266137991384,2.789035520870783,-0.49788911678712844,1.0306950917299138,-0.6252367154260806,-0.04499324689704075,-0.7098464166552086,1.0913140164808373,-0.14937672319567452,-0.027169954537775307,-0.33327178910759336,0.9782141349110773,-0.1659250766810504,-1.1907971669168738,2.4582023742263774,-0.19076034535752567,-0.263968439562819,-1.2131711833684555,0.6549835291202654,1.761118222522333,0.009168450583866327,0.27954336114813516,0.5133601348779316,-0.7185694932596692,-1.1793560729556487,1.6022489903898194,-1.091237147724573,1.9403277119055318,0.10413118292587473,0.14002107064947966,-0.5923516210365952,0.3798847137907724,1.4175155728259794,-0.16165530760120006,0.45483955058631537,-1.7591790350741123,-1.9401472052225492,-0.9747105857243566,0.2097433224401488,0.9428628417877921,-1.3460870937111664,0.3270291246531071,0.9388246148042848,-0.9354385562636851,0.7236083171803579,-0.7324644250452019,0.8144034408789959,-0.29984428088096304,-1.2708026061786377,0.7791969024999302,0.10634367954919603,0.8804390908267082,-1.3920998512600171,-0.7289623760466917,1.6324837909472627,-2.275718441810622,0.6996653927285276,1.9021999289395772,-0.22496156634148104,-1.236445754124931,-0.13670267087326995,-1.016315959147242,-0.39809020253168687,-1.9750991406903013,-0.6407360151401108,-0.4894767126128095,-1.0559998264889134,0.5287302277768998,-0.06599684649481262,0.15982134331091033,-0.21114957671805018,-0.10064997659060733,0.10968624643260116,0.4904529657311047,-1.1501791726685733,0.9470020914184902,-0.5453496522243801,-1.0544030950720638,-0.35195965450924055,0.6953243269099676,-0.7048377964351703,0.1343931435270347,0.008367024707526283,-0.8295441813327156,0.8504452543199488,0.294786501266867],\"xaxis\":\"x12\",\"y\":[0.8899482647583795,-0.48741350404004985,0.12298514481001037,-1.774585791587798,0.25788794441048885,-0.06328921642114764,0.8651593131570227,1.7149994554523373,-1.1952944135921917,-0.8242523462338697,0.2429233089008537,1.6624596340506916,0.8588193266652456,0.9647459497483071,-0.23813580241704013,-0.6197192913072721,0.060568610242076756,-1.876027186517289,0.686258974074959,-0.25673459721631553,0.7736769228693611,1.3566267794463591,0.7542012540572304,-0.42162929129487087,0.9487015299143998,-0.5761302532372644,-1.9029464805710632,1.0374031915795034,-0.7292548442852299,0.03334141354571613,1.0829223482605501,-1.2026214155339074,-1.2142580079903607,-0.27454086358979896,-1.0506533899581663,2.1551201246294123,-0.7651680756510916,-0.4067694711485394,0.831261276156096,-1.0147510732655431,1.0063233197321864,0.42723830554873815,1.5299200980024585,1.2998999231806587,1.2912300594676989,-1.2458776828641627,1.4474451621128004,0.15701383133376268,0.6814892571980171,2.0411505739861866,0.9452241695206468,0.43338888339608833,-0.4394511787806944,-0.5067859564033861,0.005055738764854608,1.474591522563153,-0.8629191140490524,-1.1874700605179853,-0.09757250559983943,-0.36828724929648926,1.0283783282412238,-0.3883995820650151,-0.16426441703822522,1.4189273452155675,-0.11048245401354172,0.3940338401538025,0.8170583108124951,-0.8699307446545328,-0.05625756849411813,0.5502998160612507,-1.6593905590086808,-0.08164535796275711,-0.7840450616919273,-0.5841850807268515,1.8086013752422376,0.4074760772558162,-1.0259072552717319,-1.0879739342231223,-1.0467410679175666,0.8687746229923943,0.4870077060513073,-1.1891200717940589,-0.08436834921922547,-0.9195326383906376,-0.3415648548625693,-0.2794170119234371,0.01138761588792133,-0.9140522953517211,-0.16531178762007206,1.7946611443079783,-0.051732808917070806,0.7789357894976013,1.0688045621594884,0.11159693286318663,0.7512815794487576,-0.5802136776239283,0.8047680319434942,-1.0850259838757654,-0.6812093113350112,0.38254119848273516],\"yaxis\":\"y12\"},{\"line\":{\"color\":\"rgba(128, 128, 128, 1.0)\",\"dash\":\"solid\",\"shape\":\"linear\",\"width\":1.3},\"marker\":{\"size\":2,\"symbol\":\"circle\"},\"mode\":\"markers\",\"name\":\"D\",\"text\":\"\",\"type\":\"scatter\",\"x\":[-0.9059946344274774,-0.4228448892570872,0.32823669086437185,0.6558818756618977,-0.23279394393207223,0.6525595480366613,-1.6915425316219246,0.19774000582771878,0.2527613251803961,1.2212768041507416,-1.0510831617170036,-0.7793914985082284,0.806056944934075,-0.6311019866196699,0.934877974567317,0.16080341281909977,-0.26044787101587635,-1.1189492025341188,0.9314131210571004,1.637803872997042,0.6740388916031278,1.0131855330251243,1.0735801831928784,0.937155505884544,-0.9383642090609543,-1.4125546602473755,-1.3961261570716632,1.4624065012532907,1.5085679801507355,0.37384897602131767,0.14589136140687492,-0.23095768454721793,-2.3629173679389783,0.25331855988772656,-0.3115860491141523,-0.3030080296653969,0.8976458438423921,-0.22670266681646012,0.41600691876623586,0.44298800896287893,0.48238892353758295,2.8740147943888767,1.2137085672267414,-0.5078538839778108,0.2712852957322795,0.48451943108122075,0.7602644879314184,1.066266090804438,-0.7210114083722396,0.32916613351098817,0.21287846776990083,1.3120634164376894,1.4845215944923633,1.2118529866244876,-0.35062596725697137,1.4679054114460215,0.5946197808733853,0.7653928202932211,0.502620298066773,-0.4655955727577539,-0.7795213169381651,-0.5835420380031595,0.581868964354893,-0.8446734086931094,-0.6104474804218408,-0.49453527742225606,0.03616565350186925,1.677717127944498,-0.13111115072431645,0.35354551803517,-1.1395729739401037,1.087329072160173,1.9901243821040628,1.4587485333823857,0.5863304514720385,-1.72328053440473,-0.33482969209209335,-0.5675569496541126,-0.7552568197099411,0.984241478144492,0.5130936566082164,1.007047428091453,-0.25229733785962855,-1.0765534930300449,-1.0836901842430446,1.251316893181913,-0.061947611188396756,-1.5090608602782263,0.5407038713008661,-0.7598080181281253,-2.24033822867379,-1.025455849018686,-0.6449593030755074,-2.3407345468245557,1.9319811029535663,0.44323959373215516,-0.3715898916904119,0.7183414221195205,0.9328345702391438,0.7111546819960841],\"xaxis\":\"x13\",\"y\":[-0.3618724048781142,-0.40687761489980623,0.5195626630568237,0.13912631703553005,0.32528591114126365,0.629820985303858,-0.17041115083404465,-0.23380726018029674,0.6930189819079416,0.4321523738209809,-0.06832956849261512,0.7054808326257046,0.3925765839568227,0.8414122179485375,2.7492266137991384,2.789035520870783,-0.49788911678712844,1.0306950917299138,-0.6252367154260806,-0.04499324689704075,-0.7098464166552086,1.0913140164808373,-0.14937672319567452,-0.027169954537775307,-0.33327178910759336,0.9782141349110773,-0.1659250766810504,-1.1907971669168738,2.4582023742263774,-0.19076034535752567,-0.263968439562819,-1.2131711833684555,0.6549835291202654,1.761118222522333,0.009168450583866327,0.27954336114813516,0.5133601348779316,-0.7185694932596692,-1.1793560729556487,1.6022489903898194,-1.091237147724573,1.9403277119055318,0.10413118292587473,0.14002107064947966,-0.5923516210365952,0.3798847137907724,1.4175155728259794,-0.16165530760120006,0.45483955058631537,-1.7591790350741123,-1.9401472052225492,-0.9747105857243566,0.2097433224401488,0.9428628417877921,-1.3460870937111664,0.3270291246531071,0.9388246148042848,-0.9354385562636851,0.7236083171803579,-0.7324644250452019,0.8144034408789959,-0.29984428088096304,-1.2708026061786377,0.7791969024999302,0.10634367954919603,0.8804390908267082,-1.3920998512600171,-0.7289623760466917,1.6324837909472627,-2.275718441810622,0.6996653927285276,1.9021999289395772,-0.22496156634148104,-1.236445754124931,-0.13670267087326995,-1.016315959147242,-0.39809020253168687,-1.9750991406903013,-0.6407360151401108,-0.4894767126128095,-1.0559998264889134,0.5287302277768998,-0.06599684649481262,0.15982134331091033,-0.21114957671805018,-0.10064997659060733,0.10968624643260116,0.4904529657311047,-1.1501791726685733,0.9470020914184902,-0.5453496522243801,-1.0544030950720638,-0.35195965450924055,0.6953243269099676,-0.7048377964351703,0.1343931435270347,0.008367024707526283,-0.8295441813327156,0.8504452543199488,0.294786501266867],\"yaxis\":\"y13\"},{\"line\":{\"color\":\"rgba(128, 128, 128, 1.0)\",\"dash\":\"solid\",\"shape\":\"linear\",\"width\":1.3},\"marker\":{\"size\":2,\"symbol\":\"circle\"},\"mode\":\"markers\",\"name\":\"D\",\"text\":\"\",\"type\":\"scatter\",\"x\":[0.39809897088173535,-0.14652925480192855,0.9857309327643848,-0.8247877220344356,-0.7171326813869001,0.27152193419855913,-0.14087040880362503,-0.0890924278317126,1.3250570353670188,0.09866929384221915,-1.456511319329652,-1.6257292208567193,-0.6674107831292494,0.3811991927832541,-0.5464922895705291,-3.162439502735584,-0.658820338868281,0.7721719856870062,-0.3171154031995474,-1.0020734777415063,-0.02659884375709406,1.4254056731396323,0.6836421842787477,-0.9772538796145454,1.179589205909156,0.5452437251135169,0.9451720539792436,-0.5674693547604166,-1.9367879178372351,0.09939863026944817,0.3788358260021555,-0.12359656382636455,-0.38458928359784156,-0.13612423713165192,-0.20220123127288567,-0.057722094925038374,-0.4215960142227496,-1.1817887527339672,-0.6820955787736707,0.54268553457587,2.269274538955471,1.399616365283778,0.39919861740985063,-0.7429824032412617,-0.5579151083162384,0.49856107072948636,-0.6122498520456356,-0.5196819457867476,0.6580335477597211,-1.4453404736418463,-1.0683326326666698,1.7800123892054036,0.33842572157581263,1.084922008912415,0.710339271478755,0.12105239058331187,-0.8509752427452628,-1.3491238864126032,-1.8598394510153693,-1.0659054118800213,1.3236350429577803,0.5444277023592253,-0.6727411628076259,-0.018547264192752825,-0.8071229564449062,0.33751660203866807,0.1881745849663572,0.12260492122922247,0.30615558365396084,1.2458146238905483,1.7110470711557848,-0.4800976041892355,2.221328091101082,0.34503964151741096,1.3888534612108372,-0.6121543897912833,1.5135232133398413,0.3550466399495089,-0.5125535379885994,-0.8684090756031528,-0.0880389921588798,1.5107179811616,-0.07874484690047716,-0.5389501748212824,0.7535046636019881,-0.5600026707788827,-0.3110571605343825,0.6306288933906005,-0.12702949524031082,-0.5299579481574125,-0.2319476324342638,1.1584607557786735,-1.5686875302712062,0.06172482147957937,-0.6198455475019047,-2.0770439203968674,0.09306099403907173,-0.45720135238549225,-0.30414649191620025,0.03513373986031923],\"xaxis\":\"x14\",\"y\":[-0.3618724048781142,-0.40687761489980623,0.5195626630568237,0.13912631703553005,0.32528591114126365,0.629820985303858,-0.17041115083404465,-0.23380726018029674,0.6930189819079416,0.4321523738209809,-0.06832956849261512,0.7054808326257046,0.3925765839568227,0.8414122179485375,2.7492266137991384,2.789035520870783,-0.49788911678712844,1.0306950917299138,-0.6252367154260806,-0.04499324689704075,-0.7098464166552086,1.0913140164808373,-0.14937672319567452,-0.027169954537775307,-0.33327178910759336,0.9782141349110773,-0.1659250766810504,-1.1907971669168738,2.4582023742263774,-0.19076034535752567,-0.263968439562819,-1.2131711833684555,0.6549835291202654,1.761118222522333,0.009168450583866327,0.27954336114813516,0.5133601348779316,-0.7185694932596692,-1.1793560729556487,1.6022489903898194,-1.091237147724573,1.9403277119055318,0.10413118292587473,0.14002107064947966,-0.5923516210365952,0.3798847137907724,1.4175155728259794,-0.16165530760120006,0.45483955058631537,-1.7591790350741123,-1.9401472052225492,-0.9747105857243566,0.2097433224401488,0.9428628417877921,-1.3460870937111664,0.3270291246531071,0.9388246148042848,-0.9354385562636851,0.7236083171803579,-0.7324644250452019,0.8144034408789959,-0.29984428088096304,-1.2708026061786377,0.7791969024999302,0.10634367954919603,0.8804390908267082,-1.3920998512600171,-0.7289623760466917,1.6324837909472627,-2.275718441810622,0.6996653927285276,1.9021999289395772,-0.22496156634148104,-1.236445754124931,-0.13670267087326995,-1.016315959147242,-0.39809020253168687,-1.9750991406903013,-0.6407360151401108,-0.4894767126128095,-1.0559998264889134,0.5287302277768998,-0.06599684649481262,0.15982134331091033,-0.21114957671805018,-0.10064997659060733,0.10968624643260116,0.4904529657311047,-1.1501791726685733,0.9470020914184902,-0.5453496522243801,-1.0544030950720638,-0.35195965450924055,0.6953243269099676,-0.7048377964351703,0.1343931435270347,0.008367024707526283,-0.8295441813327156,0.8504452543199488,0.294786501266867],\"yaxis\":\"y14\"},{\"line\":{\"color\":\"rgba(128, 128, 128, 1.0)\",\"dash\":\"solid\",\"shape\":\"linear\",\"width\":1.3},\"marker\":{\"size\":2,\"symbol\":\"circle\"},\"mode\":\"markers\",\"name\":\"D\",\"text\":\"\",\"type\":\"scatter\",\"x\":[0.8899482647583795,-0.48741350404004985,0.12298514481001037,-1.774585791587798,0.25788794441048885,-0.06328921642114764,0.8651593131570227,1.7149994554523373,-1.1952944135921917,-0.8242523462338697,0.2429233089008537,1.6624596340506916,0.8588193266652456,0.9647459497483071,-0.23813580241704013,-0.6197192913072721,0.060568610242076756,-1.876027186517289,0.686258974074959,-0.25673459721631553,0.7736769228693611,1.3566267794463591,0.7542012540572304,-0.42162929129487087,0.9487015299143998,-0.5761302532372644,-1.9029464805710632,1.0374031915795034,-0.7292548442852299,0.03334141354571613,1.0829223482605501,-1.2026214155339074,-1.2142580079903607,-0.27454086358979896,-1.0506533899581663,2.1551201246294123,-0.7651680756510916,-0.4067694711485394,0.831261276156096,-1.0147510732655431,1.0063233197321864,0.42723830554873815,1.5299200980024585,1.2998999231806587,1.2912300594676989,-1.2458776828641627,1.4474451621128004,0.15701383133376268,0.6814892571980171,2.0411505739861866,0.9452241695206468,0.43338888339608833,-0.4394511787806944,-0.5067859564033861,0.005055738764854608,1.474591522563153,-0.8629191140490524,-1.1874700605179853,-0.09757250559983943,-0.36828724929648926,1.0283783282412238,-0.3883995820650151,-0.16426441703822522,1.4189273452155675,-0.11048245401354172,0.3940338401538025,0.8170583108124951,-0.8699307446545328,-0.05625756849411813,0.5502998160612507,-1.6593905590086808,-0.08164535796275711,-0.7840450616919273,-0.5841850807268515,1.8086013752422376,0.4074760772558162,-1.0259072552717319,-1.0879739342231223,-1.0467410679175666,0.8687746229923943,0.4870077060513073,-1.1891200717940589,-0.08436834921922547,-0.9195326383906376,-0.3415648548625693,-0.2794170119234371,0.01138761588792133,-0.9140522953517211,-0.16531178762007206,1.7946611443079783,-0.051732808917070806,0.7789357894976013,1.0688045621594884,0.11159693286318663,0.7512815794487576,-0.5802136776239283,0.8047680319434942,-1.0850259838757654,-0.6812093113350112,0.38254119848273516],\"xaxis\":\"x15\",\"y\":[-0.3618724048781142,-0.40687761489980623,0.5195626630568237,0.13912631703553005,0.32528591114126365,0.629820985303858,-0.17041115083404465,-0.23380726018029674,0.6930189819079416,0.4321523738209809,-0.06832956849261512,0.7054808326257046,0.3925765839568227,0.8414122179485375,2.7492266137991384,2.789035520870783,-0.49788911678712844,1.0306950917299138,-0.6252367154260806,-0.04499324689704075,-0.7098464166552086,1.0913140164808373,-0.14937672319567452,-0.027169954537775307,-0.33327178910759336,0.9782141349110773,-0.1659250766810504,-1.1907971669168738,2.4582023742263774,-0.19076034535752567,-0.263968439562819,-1.2131711833684555,0.6549835291202654,1.761118222522333,0.009168450583866327,0.27954336114813516,0.5133601348779316,-0.7185694932596692,-1.1793560729556487,1.6022489903898194,-1.091237147724573,1.9403277119055318,0.10413118292587473,0.14002107064947966,-0.5923516210365952,0.3798847137907724,1.4175155728259794,-0.16165530760120006,0.45483955058631537,-1.7591790350741123,-1.9401472052225492,-0.9747105857243566,0.2097433224401488,0.9428628417877921,-1.3460870937111664,0.3270291246531071,0.9388246148042848,-0.9354385562636851,0.7236083171803579,-0.7324644250452019,0.8144034408789959,-0.29984428088096304,-1.2708026061786377,0.7791969024999302,0.10634367954919603,0.8804390908267082,-1.3920998512600171,-0.7289623760466917,1.6324837909472627,-2.275718441810622,0.6996653927285276,1.9021999289395772,-0.22496156634148104,-1.236445754124931,-0.13670267087326995,-1.016315959147242,-0.39809020253168687,-1.9750991406903013,-0.6407360151401108,-0.4894767126128095,-1.0559998264889134,0.5287302277768998,-0.06599684649481262,0.15982134331091033,-0.21114957671805018,-0.10064997659060733,0.10968624643260116,0.4904529657311047,-1.1501791726685733,0.9470020914184902,-0.5453496522243801,-1.0544030950720638,-0.35195965450924055,0.6953243269099676,-0.7048377964351703,0.1343931435270347,0.008367024707526283,-0.8295441813327156,0.8504452543199488,0.294786501266867],\"yaxis\":\"y15\"},{\"histfunc\":\"count\",\"histnorm\":\"\",\"marker\":{\"color\":\"rgba(128, 0, 128, 1.0)\",\"line\":{\"color\":\"#4D5663\",\"width\":1.3}},\"name\":\"D\",\"nbinsx\":10,\"opacity\":0.8,\"orientation\":\"v\",\"type\":\"histogram\",\"x\":[-0.3618724048781142,-0.40687761489980623,0.5195626630568237,0.13912631703553005,0.32528591114126365,0.629820985303858,-0.17041115083404465,-0.23380726018029674,0.6930189819079416,0.4321523738209809,-0.06832956849261512,0.7054808326257046,0.3925765839568227,0.8414122179485375,2.7492266137991384,2.789035520870783,-0.49788911678712844,1.0306950917299138,-0.6252367154260806,-0.04499324689704075,-0.7098464166552086,1.0913140164808373,-0.14937672319567452,-0.027169954537775307,-0.33327178910759336,0.9782141349110773,-0.1659250766810504,-1.1907971669168738,2.4582023742263774,-0.19076034535752567,-0.263968439562819,-1.2131711833684555,0.6549835291202654,1.761118222522333,0.009168450583866327,0.27954336114813516,0.5133601348779316,-0.7185694932596692,-1.1793560729556487,1.6022489903898194,-1.091237147724573,1.9403277119055318,0.10413118292587473,0.14002107064947966,-0.5923516210365952,0.3798847137907724,1.4175155728259794,-0.16165530760120006,0.45483955058631537,-1.7591790350741123,-1.9401472052225492,-0.9747105857243566,0.2097433224401488,0.9428628417877921,-1.3460870937111664,0.3270291246531071,0.9388246148042848,-0.9354385562636851,0.7236083171803579,-0.7324644250452019,0.8144034408789959,-0.29984428088096304,-1.2708026061786377,0.7791969024999302,0.10634367954919603,0.8804390908267082,-1.3920998512600171,-0.7289623760466917,1.6324837909472627,-2.275718441810622,0.6996653927285276,1.9021999289395772,-0.22496156634148104,-1.236445754124931,-0.13670267087326995,-1.016315959147242,-0.39809020253168687,-1.9750991406903013,-0.6407360151401108,-0.4894767126128095,-1.0559998264889134,0.5287302277768998,-0.06599684649481262,0.15982134331091033,-0.21114957671805018,-0.10064997659060733,0.10968624643260116,0.4904529657311047,-1.1501791726685733,0.9470020914184902,-0.5453496522243801,-1.0544030950720638,-0.35195965450924055,0.6953243269099676,-0.7048377964351703,0.1343931435270347,0.008367024707526283,-0.8295441813327156,0.8504452543199488,0.294786501266867],\"xaxis\":\"x16\",\"yaxis\":\"y16\"}],                        {\"bargap\":0.02,\"legend\":{\"bgcolor\":\"#F5F6F9\",\"font\":{\"color\":\"#4D5663\"}},\"paper_bgcolor\":\"#F5F6F9\",\"plot_bgcolor\":\"#F5F6F9\",\"showlegend\":false,\"template\":{\"data\":{\"bar\":[{\"error_x\":{\"color\":\"#2a3f5f\"},\"error_y\":{\"color\":\"#2a3f5f\"},\"marker\":{\"line\":{\"color\":\"#E5ECF6\",\"width\":0.5},\"pattern\":{\"fillmode\":\"overlay\",\"size\":10,\"solidity\":0.2}},\"type\":\"bar\"}],\"barpolar\":[{\"marker\":{\"line\":{\"color\":\"#E5ECF6\",\"width\":0.5},\"pattern\":{\"fillmode\":\"overlay\",\"size\":10,\"solidity\":0.2}},\"type\":\"barpolar\"}],\"carpet\":[{\"aaxis\":{\"endlinecolor\":\"#2a3f5f\",\"gridcolor\":\"white\",\"linecolor\":\"white\",\"minorgridcolor\":\"white\",\"startlinecolor\":\"#2a3f5f\"},\"baxis\":{\"endlinecolor\":\"#2a3f5f\",\"gridcolor\":\"white\",\"linecolor\":\"white\",\"minorgridcolor\":\"white\",\"startlinecolor\":\"#2a3f5f\"},\"type\":\"carpet\"}],\"choropleth\":[{\"colorbar\":{\"outlinewidth\":0,\"ticks\":\"\"},\"type\":\"choropleth\"}],\"contour\":[{\"colorbar\":{\"outlinewidth\":0,\"ticks\":\"\"},\"colorscale\":[[0.0,\"#0d0887\"],[0.1111111111111111,\"#46039f\"],[0.2222222222222222,\"#7201a8\"],[0.3333333333333333,\"#9c179e\"],[0.4444444444444444,\"#bd3786\"],[0.5555555555555556,\"#d8576b\"],[0.6666666666666666,\"#ed7953\"],[0.7777777777777778,\"#fb9f3a\"],[0.8888888888888888,\"#fdca26\"],[1.0,\"#f0f921\"]],\"type\":\"contour\"}],\"contourcarpet\":[{\"colorbar\":{\"outlinewidth\":0,\"ticks\":\"\"},\"type\":\"contourcarpet\"}],\"heatmap\":[{\"colorbar\":{\"outlinewidth\":0,\"ticks\":\"\"},\"colorscale\":[[0.0,\"#0d0887\"],[0.1111111111111111,\"#46039f\"],[0.2222222222222222,\"#7201a8\"],[0.3333333333333333,\"#9c179e\"],[0.4444444444444444,\"#bd3786\"],[0.5555555555555556,\"#d8576b\"],[0.6666666666666666,\"#ed7953\"],[0.7777777777777778,\"#fb9f3a\"],[0.8888888888888888,\"#fdca26\"],[1.0,\"#f0f921\"]],\"type\":\"heatmap\"}],\"heatmapgl\":[{\"colorbar\":{\"outlinewidth\":0,\"ticks\":\"\"},\"colorscale\":[[0.0,\"#0d0887\"],[0.1111111111111111,\"#46039f\"],[0.2222222222222222,\"#7201a8\"],[0.3333333333333333,\"#9c179e\"],[0.4444444444444444,\"#bd3786\"],[0.5555555555555556,\"#d8576b\"],[0.6666666666666666,\"#ed7953\"],[0.7777777777777778,\"#fb9f3a\"],[0.8888888888888888,\"#fdca26\"],[1.0,\"#f0f921\"]],\"type\":\"heatmapgl\"}],\"histogram\":[{\"marker\":{\"pattern\":{\"fillmode\":\"overlay\",\"size\":10,\"solidity\":0.2}},\"type\":\"histogram\"}],\"histogram2d\":[{\"colorbar\":{\"outlinewidth\":0,\"ticks\":\"\"},\"colorscale\":[[0.0,\"#0d0887\"],[0.1111111111111111,\"#46039f\"],[0.2222222222222222,\"#7201a8\"],[0.3333333333333333,\"#9c179e\"],[0.4444444444444444,\"#bd3786\"],[0.5555555555555556,\"#d8576b\"],[0.6666666666666666,\"#ed7953\"],[0.7777777777777778,\"#fb9f3a\"],[0.8888888888888888,\"#fdca26\"],[1.0,\"#f0f921\"]],\"type\":\"histogram2d\"}],\"histogram2dcontour\":[{\"colorbar\":{\"outlinewidth\":0,\"ticks\":\"\"},\"colorscale\":[[0.0,\"#0d0887\"],[0.1111111111111111,\"#46039f\"],[0.2222222222222222,\"#7201a8\"],[0.3333333333333333,\"#9c179e\"],[0.4444444444444444,\"#bd3786\"],[0.5555555555555556,\"#d8576b\"],[0.6666666666666666,\"#ed7953\"],[0.7777777777777778,\"#fb9f3a\"],[0.8888888888888888,\"#fdca26\"],[1.0,\"#f0f921\"]],\"type\":\"histogram2dcontour\"}],\"mesh3d\":[{\"colorbar\":{\"outlinewidth\":0,\"ticks\":\"\"},\"type\":\"mesh3d\"}],\"parcoords\":[{\"line\":{\"colorbar\":{\"outlinewidth\":0,\"ticks\":\"\"}},\"type\":\"parcoords\"}],\"pie\":[{\"automargin\":true,\"type\":\"pie\"}],\"scatter\":[{\"marker\":{\"colorbar\":{\"outlinewidth\":0,\"ticks\":\"\"}},\"type\":\"scatter\"}],\"scatter3d\":[{\"line\":{\"colorbar\":{\"outlinewidth\":0,\"ticks\":\"\"}},\"marker\":{\"colorbar\":{\"outlinewidth\":0,\"ticks\":\"\"}},\"type\":\"scatter3d\"}],\"scattercarpet\":[{\"marker\":{\"colorbar\":{\"outlinewidth\":0,\"ticks\":\"\"}},\"type\":\"scattercarpet\"}],\"scattergeo\":[{\"marker\":{\"colorbar\":{\"outlinewidth\":0,\"ticks\":\"\"}},\"type\":\"scattergeo\"}],\"scattergl\":[{\"marker\":{\"colorbar\":{\"outlinewidth\":0,\"ticks\":\"\"}},\"type\":\"scattergl\"}],\"scattermapbox\":[{\"marker\":{\"colorbar\":{\"outlinewidth\":0,\"ticks\":\"\"}},\"type\":\"scattermapbox\"}],\"scatterpolar\":[{\"marker\":{\"colorbar\":{\"outlinewidth\":0,\"ticks\":\"\"}},\"type\":\"scatterpolar\"}],\"scatterpolargl\":[{\"marker\":{\"colorbar\":{\"outlinewidth\":0,\"ticks\":\"\"}},\"type\":\"scatterpolargl\"}],\"scatterternary\":[{\"marker\":{\"colorbar\":{\"outlinewidth\":0,\"ticks\":\"\"}},\"type\":\"scatterternary\"}],\"surface\":[{\"colorbar\":{\"outlinewidth\":0,\"ticks\":\"\"},\"colorscale\":[[0.0,\"#0d0887\"],[0.1111111111111111,\"#46039f\"],[0.2222222222222222,\"#7201a8\"],[0.3333333333333333,\"#9c179e\"],[0.4444444444444444,\"#bd3786\"],[0.5555555555555556,\"#d8576b\"],[0.6666666666666666,\"#ed7953\"],[0.7777777777777778,\"#fb9f3a\"],[0.8888888888888888,\"#fdca26\"],[1.0,\"#f0f921\"]],\"type\":\"surface\"}],\"table\":[{\"cells\":{\"fill\":{\"color\":\"#EBF0F8\"},\"line\":{\"color\":\"white\"}},\"header\":{\"fill\":{\"color\":\"#C8D4E3\"},\"line\":{\"color\":\"white\"}},\"type\":\"table\"}]},\"layout\":{\"annotationdefaults\":{\"arrowcolor\":\"#2a3f5f\",\"arrowhead\":0,\"arrowwidth\":1},\"autotypenumbers\":\"strict\",\"coloraxis\":{\"colorbar\":{\"outlinewidth\":0,\"ticks\":\"\"}},\"colorscale\":{\"diverging\":[[0,\"#8e0152\"],[0.1,\"#c51b7d\"],[0.2,\"#de77ae\"],[0.3,\"#f1b6da\"],[0.4,\"#fde0ef\"],[0.5,\"#f7f7f7\"],[0.6,\"#e6f5d0\"],[0.7,\"#b8e186\"],[0.8,\"#7fbc41\"],[0.9,\"#4d9221\"],[1,\"#276419\"]],\"sequential\":[[0.0,\"#0d0887\"],[0.1111111111111111,\"#46039f\"],[0.2222222222222222,\"#7201a8\"],[0.3333333333333333,\"#9c179e\"],[0.4444444444444444,\"#bd3786\"],[0.5555555555555556,\"#d8576b\"],[0.6666666666666666,\"#ed7953\"],[0.7777777777777778,\"#fb9f3a\"],[0.8888888888888888,\"#fdca26\"],[1.0,\"#f0f921\"]],\"sequentialminus\":[[0.0,\"#0d0887\"],[0.1111111111111111,\"#46039f\"],[0.2222222222222222,\"#7201a8\"],[0.3333333333333333,\"#9c179e\"],[0.4444444444444444,\"#bd3786\"],[0.5555555555555556,\"#d8576b\"],[0.6666666666666666,\"#ed7953\"],[0.7777777777777778,\"#fb9f3a\"],[0.8888888888888888,\"#fdca26\"],[1.0,\"#f0f921\"]]},\"colorway\":[\"#636efa\",\"#EF553B\",\"#00cc96\",\"#ab63fa\",\"#FFA15A\",\"#19d3f3\",\"#FF6692\",\"#B6E880\",\"#FF97FF\",\"#FECB52\"],\"font\":{\"color\":\"#2a3f5f\"},\"geo\":{\"bgcolor\":\"white\",\"lakecolor\":\"white\",\"landcolor\":\"#E5ECF6\",\"showlakes\":true,\"showland\":true,\"subunitcolor\":\"white\"},\"hoverlabel\":{\"align\":\"left\"},\"hovermode\":\"closest\",\"mapbox\":{\"style\":\"light\"},\"paper_bgcolor\":\"white\",\"plot_bgcolor\":\"#E5ECF6\",\"polar\":{\"angularaxis\":{\"gridcolor\":\"white\",\"linecolor\":\"white\",\"ticks\":\"\"},\"bgcolor\":\"#E5ECF6\",\"radialaxis\":{\"gridcolor\":\"white\",\"linecolor\":\"white\",\"ticks\":\"\"}},\"scene\":{\"xaxis\":{\"backgroundcolor\":\"#E5ECF6\",\"gridcolor\":\"white\",\"gridwidth\":2,\"linecolor\":\"white\",\"showbackground\":true,\"ticks\":\"\",\"zerolinecolor\":\"white\"},\"yaxis\":{\"backgroundcolor\":\"#E5ECF6\",\"gridcolor\":\"white\",\"gridwidth\":2,\"linecolor\":\"white\",\"showbackground\":true,\"ticks\":\"\",\"zerolinecolor\":\"white\"},\"zaxis\":{\"backgroundcolor\":\"#E5ECF6\",\"gridcolor\":\"white\",\"gridwidth\":2,\"linecolor\":\"white\",\"showbackground\":true,\"ticks\":\"\",\"zerolinecolor\":\"white\"}},\"shapedefaults\":{\"line\":{\"color\":\"#2a3f5f\"}},\"ternary\":{\"aaxis\":{\"gridcolor\":\"white\",\"linecolor\":\"white\",\"ticks\":\"\"},\"baxis\":{\"gridcolor\":\"white\",\"linecolor\":\"white\",\"ticks\":\"\"},\"bgcolor\":\"#E5ECF6\",\"caxis\":{\"gridcolor\":\"white\",\"linecolor\":\"white\",\"ticks\":\"\"}},\"title\":{\"x\":0.05},\"xaxis\":{\"automargin\":true,\"gridcolor\":\"white\",\"linecolor\":\"white\",\"ticks\":\"\",\"title\":{\"standoff\":15},\"zerolinecolor\":\"white\",\"zerolinewidth\":2},\"yaxis\":{\"automargin\":true,\"gridcolor\":\"white\",\"linecolor\":\"white\",\"ticks\":\"\",\"title\":{\"standoff\":15},\"zerolinecolor\":\"white\",\"zerolinewidth\":2}}},\"title\":{\"font\":{\"color\":\"#4D5663\"}},\"xaxis\":{\"anchor\":\"y\",\"domain\":[0.0,0.2125],\"gridcolor\":\"#E1E5ED\",\"showgrid\":false,\"tickfont\":{\"color\":\"#4D5663\"},\"title\":{\"font\":{\"color\":\"#4D5663\"},\"text\":\"\"},\"zerolinecolor\":\"#E1E5ED\"},\"xaxis10\":{\"anchor\":\"y10\",\"domain\":[0.2625,0.475],\"gridcolor\":\"#E1E5ED\",\"showgrid\":false,\"tickfont\":{\"color\":\"#4D5663\"},\"title\":{\"font\":{\"color\":\"#4D5663\"},\"text\":\"\"},\"zerolinecolor\":\"#E1E5ED\"},\"xaxis11\":{\"anchor\":\"y11\",\"domain\":[0.525,0.7375],\"gridcolor\":\"#E1E5ED\",\"showgrid\":false,\"tickfont\":{\"color\":\"#4D5663\"},\"title\":{\"font\":{\"color\":\"#4D5663\"},\"text\":\"\"},\"zerolinecolor\":\"#E1E5ED\"},\"xaxis12\":{\"anchor\":\"y12\",\"domain\":[0.7875,1.0],\"gridcolor\":\"#E1E5ED\",\"showgrid\":false,\"tickfont\":{\"color\":\"#4D5663\"},\"title\":{\"font\":{\"color\":\"#4D5663\"},\"text\":\"\"},\"zerolinecolor\":\"#E1E5ED\"},\"xaxis13\":{\"anchor\":\"y13\",\"domain\":[0.0,0.2125],\"gridcolor\":\"#E1E5ED\",\"showgrid\":false,\"tickfont\":{\"color\":\"#4D5663\"},\"title\":{\"font\":{\"color\":\"#4D5663\"},\"text\":\"\"},\"zerolinecolor\":\"#E1E5ED\"},\"xaxis14\":{\"anchor\":\"y14\",\"domain\":[0.2625,0.475],\"gridcolor\":\"#E1E5ED\",\"showgrid\":false,\"tickfont\":{\"color\":\"#4D5663\"},\"title\":{\"font\":{\"color\":\"#4D5663\"},\"text\":\"\"},\"zerolinecolor\":\"#E1E5ED\"},\"xaxis15\":{\"anchor\":\"y15\",\"domain\":[0.525,0.7375],\"gridcolor\":\"#E1E5ED\",\"showgrid\":false,\"tickfont\":{\"color\":\"#4D5663\"},\"title\":{\"font\":{\"color\":\"#4D5663\"},\"text\":\"\"},\"zerolinecolor\":\"#E1E5ED\"},\"xaxis16\":{\"anchor\":\"y16\",\"domain\":[0.7875,1.0],\"gridcolor\":\"#E1E5ED\",\"showgrid\":false,\"tickfont\":{\"color\":\"#4D5663\"},\"title\":{\"font\":{\"color\":\"#4D5663\"},\"text\":\"\"},\"zerolinecolor\":\"#E1E5ED\"},\"xaxis2\":{\"anchor\":\"y2\",\"domain\":[0.2625,0.475],\"gridcolor\":\"#E1E5ED\",\"showgrid\":false,\"tickfont\":{\"color\":\"#4D5663\"},\"title\":{\"font\":{\"color\":\"#4D5663\"},\"text\":\"\"},\"zerolinecolor\":\"#E1E5ED\"},\"xaxis3\":{\"anchor\":\"y3\",\"domain\":[0.525,0.7375],\"gridcolor\":\"#E1E5ED\",\"showgrid\":false,\"tickfont\":{\"color\":\"#4D5663\"},\"title\":{\"font\":{\"color\":\"#4D5663\"},\"text\":\"\"},\"zerolinecolor\":\"#E1E5ED\"},\"xaxis4\":{\"anchor\":\"y4\",\"domain\":[0.7875,1.0],\"gridcolor\":\"#E1E5ED\",\"showgrid\":false,\"tickfont\":{\"color\":\"#4D5663\"},\"title\":{\"font\":{\"color\":\"#4D5663\"},\"text\":\"\"},\"zerolinecolor\":\"#E1E5ED\"},\"xaxis5\":{\"anchor\":\"y5\",\"domain\":[0.0,0.2125],\"gridcolor\":\"#E1E5ED\",\"showgrid\":false,\"tickfont\":{\"color\":\"#4D5663\"},\"title\":{\"font\":{\"color\":\"#4D5663\"},\"text\":\"\"},\"zerolinecolor\":\"#E1E5ED\"},\"xaxis6\":{\"anchor\":\"y6\",\"domain\":[0.2625,0.475],\"gridcolor\":\"#E1E5ED\",\"showgrid\":false,\"tickfont\":{\"color\":\"#4D5663\"},\"title\":{\"font\":{\"color\":\"#4D5663\"},\"text\":\"\"},\"zerolinecolor\":\"#E1E5ED\"},\"xaxis7\":{\"anchor\":\"y7\",\"domain\":[0.525,0.7375],\"gridcolor\":\"#E1E5ED\",\"showgrid\":false,\"tickfont\":{\"color\":\"#4D5663\"},\"title\":{\"font\":{\"color\":\"#4D5663\"},\"text\":\"\"},\"zerolinecolor\":\"#E1E5ED\"},\"xaxis8\":{\"anchor\":\"y8\",\"domain\":[0.7875,1.0],\"gridcolor\":\"#E1E5ED\",\"showgrid\":false,\"tickfont\":{\"color\":\"#4D5663\"},\"title\":{\"font\":{\"color\":\"#4D5663\"},\"text\":\"\"},\"zerolinecolor\":\"#E1E5ED\"},\"xaxis9\":{\"anchor\":\"y9\",\"domain\":[0.0,0.2125],\"gridcolor\":\"#E1E5ED\",\"showgrid\":false,\"tickfont\":{\"color\":\"#4D5663\"},\"title\":{\"font\":{\"color\":\"#4D5663\"},\"text\":\"\"},\"zerolinecolor\":\"#E1E5ED\"},\"yaxis\":{\"anchor\":\"x\",\"domain\":[0.8025,1.0],\"gridcolor\":\"#E1E5ED\",\"showgrid\":false,\"tickfont\":{\"color\":\"#4D5663\"},\"title\":{\"font\":{\"color\":\"#4D5663\"},\"text\":\"\"},\"zerolinecolor\":\"#E1E5ED\"},\"yaxis10\":{\"anchor\":\"x10\",\"domain\":[0.2675,0.465],\"gridcolor\":\"#E1E5ED\",\"showgrid\":false,\"tickfont\":{\"color\":\"#4D5663\"},\"title\":{\"font\":{\"color\":\"#4D5663\"},\"text\":\"\"},\"zerolinecolor\":\"#E1E5ED\"},\"yaxis11\":{\"anchor\":\"x11\",\"domain\":[0.2675,0.465],\"gridcolor\":\"#E1E5ED\",\"showgrid\":false,\"tickfont\":{\"color\":\"#4D5663\"},\"title\":{\"font\":{\"color\":\"#4D5663\"},\"text\":\"\"},\"zerolinecolor\":\"#E1E5ED\"},\"yaxis12\":{\"anchor\":\"x12\",\"domain\":[0.2675,0.465],\"gridcolor\":\"#E1E5ED\",\"showgrid\":false,\"tickfont\":{\"color\":\"#4D5663\"},\"title\":{\"font\":{\"color\":\"#4D5663\"},\"text\":\"\"},\"zerolinecolor\":\"#E1E5ED\"},\"yaxis13\":{\"anchor\":\"x13\",\"domain\":[0.0,0.1975],\"gridcolor\":\"#E1E5ED\",\"showgrid\":false,\"tickfont\":{\"color\":\"#4D5663\"},\"title\":{\"font\":{\"color\":\"#4D5663\"},\"text\":\"\"},\"zerolinecolor\":\"#E1E5ED\"},\"yaxis14\":{\"anchor\":\"x14\",\"domain\":[0.0,0.1975],\"gridcolor\":\"#E1E5ED\",\"showgrid\":false,\"tickfont\":{\"color\":\"#4D5663\"},\"title\":{\"font\":{\"color\":\"#4D5663\"},\"text\":\"\"},\"zerolinecolor\":\"#E1E5ED\"},\"yaxis15\":{\"anchor\":\"x15\",\"domain\":[0.0,0.1975],\"gridcolor\":\"#E1E5ED\",\"showgrid\":false,\"tickfont\":{\"color\":\"#4D5663\"},\"title\":{\"font\":{\"color\":\"#4D5663\"},\"text\":\"\"},\"zerolinecolor\":\"#E1E5ED\"},\"yaxis16\":{\"anchor\":\"x16\",\"domain\":[0.0,0.1975],\"gridcolor\":\"#E1E5ED\",\"showgrid\":false,\"tickfont\":{\"color\":\"#4D5663\"},\"title\":{\"font\":{\"color\":\"#4D5663\"},\"text\":\"\"},\"zerolinecolor\":\"#E1E5ED\"},\"yaxis2\":{\"anchor\":\"x2\",\"domain\":[0.8025,1.0],\"gridcolor\":\"#E1E5ED\",\"showgrid\":false,\"tickfont\":{\"color\":\"#4D5663\"},\"title\":{\"font\":{\"color\":\"#4D5663\"},\"text\":\"\"},\"zerolinecolor\":\"#E1E5ED\"},\"yaxis3\":{\"anchor\":\"x3\",\"domain\":[0.8025,1.0],\"gridcolor\":\"#E1E5ED\",\"showgrid\":false,\"tickfont\":{\"color\":\"#4D5663\"},\"title\":{\"font\":{\"color\":\"#4D5663\"},\"text\":\"\"},\"zerolinecolor\":\"#E1E5ED\"},\"yaxis4\":{\"anchor\":\"x4\",\"domain\":[0.8025,1.0],\"gridcolor\":\"#E1E5ED\",\"showgrid\":false,\"tickfont\":{\"color\":\"#4D5663\"},\"title\":{\"font\":{\"color\":\"#4D5663\"},\"text\":\"\"},\"zerolinecolor\":\"#E1E5ED\"},\"yaxis5\":{\"anchor\":\"x5\",\"domain\":[0.535,0.7325],\"gridcolor\":\"#E1E5ED\",\"showgrid\":false,\"tickfont\":{\"color\":\"#4D5663\"},\"title\":{\"font\":{\"color\":\"#4D5663\"},\"text\":\"\"},\"zerolinecolor\":\"#E1E5ED\"},\"yaxis6\":{\"anchor\":\"x6\",\"domain\":[0.535,0.7325],\"gridcolor\":\"#E1E5ED\",\"showgrid\":false,\"tickfont\":{\"color\":\"#4D5663\"},\"title\":{\"font\":{\"color\":\"#4D5663\"},\"text\":\"\"},\"zerolinecolor\":\"#E1E5ED\"},\"yaxis7\":{\"anchor\":\"x7\",\"domain\":[0.535,0.7325],\"gridcolor\":\"#E1E5ED\",\"showgrid\":false,\"tickfont\":{\"color\":\"#4D5663\"},\"title\":{\"font\":{\"color\":\"#4D5663\"},\"text\":\"\"},\"zerolinecolor\":\"#E1E5ED\"},\"yaxis8\":{\"anchor\":\"x8\",\"domain\":[0.535,0.7325],\"gridcolor\":\"#E1E5ED\",\"showgrid\":false,\"tickfont\":{\"color\":\"#4D5663\"},\"title\":{\"font\":{\"color\":\"#4D5663\"},\"text\":\"\"},\"zerolinecolor\":\"#E1E5ED\"},\"yaxis9\":{\"anchor\":\"x9\",\"domain\":[0.2675,0.465],\"gridcolor\":\"#E1E5ED\",\"showgrid\":false,\"tickfont\":{\"color\":\"#4D5663\"},\"title\":{\"font\":{\"color\":\"#4D5663\"},\"text\":\"\"},\"zerolinecolor\":\"#E1E5ED\"}},                        {\"showLink\": true, \"linkText\": \"Export to plot.ly\", \"plotlyServerURL\": \"https://plot.ly\", \"responsive\": true}                    ).then(function(){\n",
       "                            \n",
       "var gd = document.getElementById('238a166e-769f-4cb6-a6e8-c0289b71b533');\n",
       "var x = new MutationObserver(function (mutations, observer) {{\n",
       "        var display = window.getComputedStyle(gd).display;\n",
       "        if (!display || display === 'none') {{\n",
       "            console.log([gd, 'removed!']);\n",
       "            Plotly.purge(gd);\n",
       "            observer.disconnect();\n",
       "        }}\n",
       "}});\n",
       "\n",
       "// Listen for the removal of the full notebook cells\n",
       "var notebookContainer = gd.closest('#notebook-container');\n",
       "if (notebookContainer) {{\n",
       "    x.observe(notebookContainer, {childList: true});\n",
       "}}\n",
       "\n",
       "// Listen for the clearing of the current output cell\n",
       "var outputEl = gd.closest('.output');\n",
       "if (outputEl) {{\n",
       "    x.observe(outputEl, {childList: true});\n",
       "}}\n",
       "\n",
       "                        })                };                });            </script>        </div>"
      ]
     },
     "metadata": {},
     "output_type": "display_data"
    }
   ],
   "source": [
    "df.scatter_matrix()"
   ]
  },
  {
   "cell_type": "markdown",
   "metadata": {
    "collapsed": true
   },
   "source": [
    "# Great Job!"
   ]
  }
 ],
 "metadata": {
  "kernelspec": {
   "display_name": "Python 3",
   "language": "python",
   "name": "python3"
  },
  "language_info": {
   "codemirror_mode": {
    "name": "ipython",
    "version": 3
   },
   "file_extension": ".py",
   "mimetype": "text/x-python",
   "name": "python",
   "nbconvert_exporter": "python",
   "pygments_lexer": "ipython3",
   "version": "3.9.5"
  }
 },
 "nbformat": 4,
 "nbformat_minor": 1
}
